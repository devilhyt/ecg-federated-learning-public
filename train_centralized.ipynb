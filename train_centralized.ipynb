{
 "cells": [
  {
   "cell_type": "markdown",
   "metadata": {},
   "source": [
    "# Centralized learning for ECG Arrhythmia detection\n"
   ]
  },
  {
   "cell_type": "code",
   "execution_count": 1,
   "metadata": {},
   "outputs": [
    {
     "name": "stderr",
     "output_type": "stream",
     "text": [
      "/home/g113056077/.pyenv/versions/awin-ecg/lib/python3.11/site-packages/tqdm/auto.py:21: TqdmWarning: IProgress not found. Please update jupyter and ipywidgets. See https://ipywidgets.readthedocs.io/en/stable/user_install.html\n",
      "  from .autonotebook import tqdm as notebook_tqdm\n"
     ]
    }
   ],
   "source": [
    "import configparser\n",
    "import os\n",
    "from pathlib import Path\n",
    "\n",
    "import lightning as L\n",
    "import matplotlib.pyplot as plt\n",
    "import wandb\n",
    "from dotenv import load_dotenv\n",
    "from lightning.pytorch.callbacks import EarlyStopping, ModelCheckpoint, TQDMProgressBar\n",
    "from lightning.pytorch.loggers import TensorBoardLogger, WandbLogger\n",
    "\n",
    "from dataset_utils import Cinc2017DataModule\n",
    "from model import DenseNetEcgModule"
   ]
  },
  {
   "cell_type": "markdown",
   "metadata": {},
   "source": [
    "## Config\n"
   ]
  },
  {
   "cell_type": "code",
   "execution_count": 2,
   "metadata": {},
   "outputs": [],
   "source": [
    "load_dotenv()\n",
    "wandb_mode = os.getenv(\"WANDB_MODE\")\n",
    "\n",
    "config = configparser.ConfigParser()\n",
    "config.read(\"config.ini\")\n",
    "dst_freq = config.getint(\"data_preprocessing\", \"dst_freq\")\n",
    "dst_time = config.getint(\"data_preprocessing\", \"dst_time\")\n",
    "dst_length = dst_freq * dst_time\n",
    "\n",
    "MAX_EPOCHS = 50"
   ]
  },
  {
   "cell_type": "markdown",
   "metadata": {},
   "source": [
    "## Prepare the Dataset\n"
   ]
  },
  {
   "cell_type": "code",
   "execution_count": 3,
   "metadata": {},
   "outputs": [],
   "source": [
    "BATCH_SIZE = 64\n",
    "dm = Cinc2017DataModule(batch_size=BATCH_SIZE)"
   ]
  },
  {
   "cell_type": "markdown",
   "metadata": {},
   "source": [
    "## Create the Model\n"
   ]
  },
  {
   "cell_type": "code",
   "execution_count": 4,
   "metadata": {},
   "outputs": [],
   "source": [
    "model = DenseNetEcgModule(\n",
    "    max_epochs=MAX_EPOCHS,\n",
    "    num_classes=dm.num_classes,\n",
    "    input_length=dst_length,\n",
    "    lr_scheduler_mode=\"multi_step\",\n",
    "    lr=1e-3,\n",
    "    # min_lr = 1e-4,\n",
    "    show_valid_cm=True,\n",
    "    growth_rate=32,\n",
    "    block_config=(6, 4, 4, 12, 8, 8, 24),\n",
    "    num_init_features=64,\n",
    "    bn_size=2,\n",
    "    db_drop_rate=0.2,\n",
    "    memory_efficient=False,\n",
    "    compression_factor=0.5,\n",
    ")\n",
    "\n",
    "# the number of features per denseblock:\n",
    "# (64 + 4 * 16) // 2 = 64\n",
    "# (64 + 4 * 16) // 2 = 64\n",
    "# (64 + 12 * 16) // 2 = 128\n",
    "# (128 + 8 * 16) // 2 = 128\n",
    "# (128 + 8 * 16) // 2 = 128\n",
    "# (256 + 8 * 16) // 2 = 128"
   ]
  },
  {
   "cell_type": "markdown",
   "metadata": {},
   "source": [
    "## Create the Trainer\n"
   ]
  },
  {
   "cell_type": "code",
   "execution_count": 5,
   "metadata": {},
   "outputs": [
    {
     "name": "stderr",
     "output_type": "stream",
     "text": [
      "GPU available: True (cuda), used: True\n",
      "TPU available: False, using: 0 TPU cores\n",
      "HPU available: False, using: 0 HPUs\n"
     ]
    }
   ],
   "source": [
    "checkpoint_callback = ModelCheckpoint(\n",
    "    monitor=\"valid_auprc\",\n",
    "    verbose=True,\n",
    "    mode=\"max\",\n",
    "    save_top_k=1,\n",
    "    save_last=True,\n",
    ")\n",
    "\n",
    "# early_stopping_callback = EarlyStopping(\n",
    "#     monitor=\"valid_loss\", patience=8, verbose=True, mode=\"min\"\n",
    "# )\n",
    "\n",
    "progress_bar_callback = TQDMProgressBar(leave=True)\n",
    "\n",
    "project_name = \"awin-densenet-ecg-centralized\"\n",
    "if wandb_mode == \"disabled\":\n",
    "    logger = TensorBoardLogger(save_dir=Path(\"tb_logs\"), name=project_name)\n",
    "else:\n",
    "    logger = WandbLogger(\n",
    "        project=project_name, save_dir=Path(\"wandb_logs\"), log_model=True, name=project_name\n",
    "    )\n",
    "\n",
    "trainer = L.Trainer(\n",
    "    max_epochs=MAX_EPOCHS,\n",
    "    callbacks=[checkpoint_callback, progress_bar_callback],\n",
    "    logger=logger,\n",
    ")"
   ]
  },
  {
   "cell_type": "code",
   "execution_count": 6,
   "metadata": {},
   "outputs": [
    {
     "data": {
      "text/plain": [
       "===============================================================================================\n",
       "Layer (type:depth-idx)                        Output Shape              Param #\n",
       "===============================================================================================\n",
       "DenseNetEcgModule                             [64, 3]                   --\n",
       "├─DenseNetEcg: 1-1                            [64, 3]                   --\n",
       "│    └─Sequential: 2-1                        [64, 512, 11]             --\n",
       "│    │    └─Conv1d: 3-1                       [64, 64, 2900]            448\n",
       "│    │    └─BatchNorm1d: 3-2                  [64, 64, 2900]            128\n",
       "│    │    └─ReLU: 3-3                         [64, 64, 2900]            --\n",
       "│    │    └─MaxPool1d: 3-4                    [64, 64, 1450]            --\n",
       "│    │    └─_DenseBlock: 3-5                  [64, 256, 1450]           94,656\n",
       "│    │    └─_Transition: 3-6                  [64, 128, 725]            33,280\n",
       "│    │    └─_DenseBlock: 3-7                  [64, 256, 725]            71,552\n",
       "│    │    └─_Transition: 3-8                  [64, 128, 362]            33,280\n",
       "│    │    └─_DenseBlock: 3-9                  [64, 256, 362]            71,552\n",
       "│    │    └─_Transition: 3-10                 [64, 128, 181]            33,280\n",
       "│    │    └─_DenseBlock: 3-11                 [64, 512, 181]            316,032\n",
       "│    │    └─_Transition: 3-12                 [64, 256, 90]             132,096\n",
       "│    │    └─_DenseBlock: 3-13                 [64, 512, 90]             244,480\n",
       "│    │    └─_Transition: 3-14                 [64, 256, 45]             132,096\n",
       "│    │    └─_DenseBlock: 3-15                 [64, 512, 45]             244,480\n",
       "│    │    └─_Transition: 3-16                 [64, 256, 22]             132,096\n",
       "│    │    └─_DenseBlock: 3-17                 [64, 1024, 22]            1,138,944\n",
       "│    │    └─_Transition: 3-18                 [64, 512, 11]             526,336\n",
       "│    │    └─BatchNorm1d: 3-19                 [64, 512, 11]             1,024\n",
       "│    │    └─LeakyReLU: 3-20                   [64, 512, 11]             --\n",
       "│    └─Sequential: 2-2                        [64, 3]                   --\n",
       "│    │    └─AdaptiveAvgPool1d: 3-21           [64, 512, 1]              --\n",
       "│    │    └─Flatten: 3-22                     [64, 512]                 --\n",
       "│    │    └─Linear: 3-23                      [64, 3]                   1,539\n",
       "===============================================================================================\n",
       "Total params: 3,207,299\n",
       "Trainable params: 3,207,299\n",
       "Non-trainable params: 0\n",
       "Total mult-adds (Units.GIGABYTES): 29.36\n",
       "===============================================================================================\n",
       "Input size (MB): 1.48\n",
       "Forward/backward pass size (MB): 3955.33\n",
       "Params size (MB): 12.83\n",
       "Estimated Total Size (MB): 3969.64\n",
       "==============================================================================================="
      ]
     },
     "execution_count": 6,
     "metadata": {},
     "output_type": "execute_result"
    }
   ],
   "source": [
    "from torchinfo import summary\n",
    "summary(model, input_size=(BATCH_SIZE, 1, dst_length))"
   ]
  },
  {
   "cell_type": "markdown",
   "metadata": {},
   "source": [
    "## Train the Model\n"
   ]
  },
  {
   "cell_type": "code",
   "execution_count": 7,
   "metadata": {},
   "outputs": [
    {
     "name": "stderr",
     "output_type": "stream",
     "text": [
      "\u001b[34m\u001b[1mwandb\u001b[0m: Using wandb-core as the SDK backend.  Please refer to https://wandb.me/wandb-core for more information.\n",
      "\u001b[34m\u001b[1mwandb\u001b[0m: Currently logged in as: \u001b[33mdevilhyt\u001b[0m to \u001b[32mhttps://api.wandb.ai\u001b[0m. Use \u001b[1m`wandb login --relogin`\u001b[0m to force relogin\n"
     ]
    },
    {
     "data": {
      "text/html": [
       "Tracking run with wandb version 0.19.7"
      ],
      "text/plain": [
       "<IPython.core.display.HTML object>"
      ]
     },
     "metadata": {},
     "output_type": "display_data"
    },
    {
     "data": {
      "text/html": [
       "Run data is saved locally in <code>wandb_logs/wandb/run-20250307_081700-xhpuzs1k</code>"
      ],
      "text/plain": [
       "<IPython.core.display.HTML object>"
      ]
     },
     "metadata": {},
     "output_type": "display_data"
    },
    {
     "data": {
      "text/html": [
       "Syncing run <strong><a href='https://wandb.ai/devilhyt/awin-densenet-ecg-centralized/runs/xhpuzs1k' target=\"_blank\">awin-densenet-ecg-centralized</a></strong> to <a href='https://wandb.ai/devilhyt/awin-densenet-ecg-centralized' target=\"_blank\">Weights & Biases</a> (<a href='https://wandb.me/developer-guide' target=\"_blank\">docs</a>)<br>"
      ],
      "text/plain": [
       "<IPython.core.display.HTML object>"
      ]
     },
     "metadata": {},
     "output_type": "display_data"
    },
    {
     "data": {
      "text/html": [
       " View project at <a href='https://wandb.ai/devilhyt/awin-densenet-ecg-centralized' target=\"_blank\">https://wandb.ai/devilhyt/awin-densenet-ecg-centralized</a>"
      ],
      "text/plain": [
       "<IPython.core.display.HTML object>"
      ]
     },
     "metadata": {},
     "output_type": "display_data"
    },
    {
     "data": {
      "text/html": [
       " View run at <a href='https://wandb.ai/devilhyt/awin-densenet-ecg-centralized/runs/xhpuzs1k' target=\"_blank\">https://wandb.ai/devilhyt/awin-densenet-ecg-centralized/runs/xhpuzs1k</a>"
      ],
      "text/plain": [
       "<IPython.core.display.HTML object>"
      ]
     },
     "metadata": {},
     "output_type": "display_data"
    },
    {
     "name": "stderr",
     "output_type": "stream",
     "text": [
      "LOCAL_RANK: 0 - CUDA_VISIBLE_DEVICES: [0]\n",
      "\n",
      "  | Name          | Type                      | Params | Mode  | In sizes     | Out sizes\n",
      "-----------------------------------------------------------------------------------------------\n",
      "0 | model         | DenseNetEcg               | 3.2 M  | train | [1, 1, 5800] | [1, 3]   \n",
      "1 | loss_fn       | CrossEntropyLoss          | 0      | train | ?            | ?        \n",
      "2 | train_metrics | MetricCollection          | 0      | train | ?            | ?        \n",
      "3 | valid_metrics | MetricCollection          | 0      | train | ?            | ?        \n",
      "4 | test_metrics  | MetricCollection          | 0      | train | ?            | ?        \n",
      "5 | valid_cm      | MulticlassConfusionMatrix | 0      | train | ?            | ?        \n",
      "6 | test_cm       | MulticlassConfusionMatrix | 0      | train | ?            | ?        \n",
      "-----------------------------------------------------------------------------------------------\n",
      "3.2 M     Trainable params\n",
      "0         Non-trainable params\n",
      "3.2 M     Total params\n",
      "12.829    Total estimated model params size (MB)\n",
      "600       Modules in train mode\n",
      "0         Modules in eval mode\n"
     ]
    },
    {
     "name": "stdout",
     "output_type": "stream",
     "text": [
      "Training: |          | 0/? [00:00<?, ?it/s]                                \n",
      "Epoch 0: 100%|██████████| 91/91 [00:09<00:00,  9.81it/s, v_num=zs1k, lr=0.001, valid_loss=1.110, valid_acc=0.506, valid_auprc=0.443, valid_auroc=0.653, valid_f1=0.408, train_loss=1.080, train_acc=0.427, train_auprc=0.425, train_auroc=0.603, train_f1=0.416]"
     ]
    },
    {
     "name": "stderr",
     "output_type": "stream",
     "text": [
      "Epoch 0, global step 91: 'valid_auprc' reached 0.44278 (best 0.44278), saving model to 'wandb_logs/awin-densenet-ecg-centralized/xhpuzs1k/checkpoints/epoch=0-step=91.ckpt' as top 1\n"
     ]
    },
    {
     "name": "stdout",
     "output_type": "stream",
     "text": [
      "\n",
      "Valid Confusion Matrix:\n",
      "tensor([[485, 176, 101],\n",
      "        [ 24,  76,  14],\n",
      "        [152, 144,  66]], device='cuda:0')\n",
      "Epoch 1: 100%|██████████| 91/91 [00:09<00:00,  9.91it/s, v_num=zs1k, lr=0.001, valid_loss=0.741, valid_acc=0.691, valid_auprc=0.637, valid_auroc=0.803, valid_f1=0.517, train_loss=0.972, train_acc=0.514, train_auprc=0.537, train_auroc=0.700, train_f1=0.506]"
     ]
    },
    {
     "name": "stderr",
     "output_type": "stream",
     "text": [
      "Epoch 1, global step 182: 'valid_auprc' reached 0.63716 (best 0.63716), saving model to 'wandb_logs/awin-densenet-ecg-centralized/xhpuzs1k/checkpoints/epoch=1-step=182.ckpt' as top 1\n"
     ]
    },
    {
     "name": "stdout",
     "output_type": "stream",
     "text": [
      "\n",
      "Valid Confusion Matrix:\n",
      "tensor([[740,  19,   3],\n",
      "        [ 37,  73,   4],\n",
      "        [238,  81,  43]], device='cuda:0')\n",
      "Epoch 2: 100%|██████████| 91/91 [00:09<00:00,  9.87it/s, v_num=zs1k, lr=0.001, valid_loss=0.628, valid_acc=0.756, valid_auprc=0.713, valid_auroc=0.861, valid_f1=0.662, train_loss=0.785, train_acc=0.640, train_auprc=0.690, train_auroc=0.816, train_f1=0.630]"
     ]
    },
    {
     "name": "stderr",
     "output_type": "stream",
     "text": [
      "Epoch 2, global step 273: 'valid_auprc' reached 0.71340 (best 0.71340), saving model to 'wandb_logs/awin-densenet-ecg-centralized/xhpuzs1k/checkpoints/epoch=2-step=273.ckpt' as top 1\n"
     ]
    },
    {
     "name": "stdout",
     "output_type": "stream",
     "text": [
      "\n",
      "Valid Confusion Matrix:\n",
      "tensor([[705,  18,  39],\n",
      "        [ 13,  88,  13],\n",
      "        [149,  70, 143]], device='cuda:0')\n",
      "Epoch 3: 100%|██████████| 91/91 [00:09<00:00,  9.84it/s, v_num=zs1k, lr=0.001, valid_loss=0.566, valid_acc=0.782, valid_auprc=0.789, valid_auroc=0.884, valid_f1=0.726, train_loss=0.644, train_acc=0.731, train_auprc=0.790, train_auroc=0.881, train_f1=0.727]"
     ]
    },
    {
     "name": "stderr",
     "output_type": "stream",
     "text": [
      "Epoch 3, global step 364: 'valid_auprc' reached 0.78875 (best 0.78875), saving model to 'wandb_logs/awin-densenet-ecg-centralized/xhpuzs1k/checkpoints/epoch=3-step=364.ckpt' as top 1\n"
     ]
    },
    {
     "name": "stdout",
     "output_type": "stream",
     "text": [
      "\n",
      "Valid Confusion Matrix:\n",
      "tensor([[655,  17,  90],\n",
      "        [  9,  81,  24],\n",
      "        [ 98,  32, 232]], device='cuda:0')\n",
      "Epoch 4: 100%|██████████| 91/91 [00:09<00:00,  9.84it/s, v_num=zs1k, lr=0.001, valid_loss=0.510, valid_acc=0.796, valid_auprc=0.810, valid_auroc=0.896, valid_f1=0.729, train_loss=0.573, train_acc=0.762, train_auprc=0.813, train_auroc=0.901, train_f1=0.757]"
     ]
    },
    {
     "name": "stderr",
     "output_type": "stream",
     "text": [
      "Epoch 4, global step 455: 'valid_auprc' reached 0.80955 (best 0.80955), saving model to 'wandb_logs/awin-densenet-ecg-centralized/xhpuzs1k/checkpoints/epoch=4-step=455.ckpt' as top 1\n"
     ]
    },
    {
     "name": "stdout",
     "output_type": "stream",
     "text": [
      "\n",
      "Valid Confusion Matrix:\n",
      "tensor([[720,  11,  31],\n",
      "        [  6, 102,   6],\n",
      "        [144,  55, 163]], device='cuda:0')\n",
      "Epoch 5: 100%|██████████| 91/91 [00:09<00:00,  9.82it/s, v_num=zs1k, lr=0.001, valid_loss=0.607, valid_acc=0.758, valid_auprc=0.806, valid_auroc=0.894, valid_f1=0.704, train_loss=0.537, train_acc=0.781, train_auprc=0.843, train_auroc=0.914, train_f1=0.778]"
     ]
    },
    {
     "name": "stderr",
     "output_type": "stream",
     "text": [
      "Epoch 5, global step 546: 'valid_auprc' was not in top 1\n"
     ]
    },
    {
     "name": "stdout",
     "output_type": "stream",
     "text": [
      "\n",
      "Valid Confusion Matrix:\n",
      "tensor([[640,  21, 101],\n",
      "        [  4, 102,   8],\n",
      "        [100,  66, 196]], device='cuda:0')\n",
      "Epoch 6: 100%|██████████| 91/91 [00:09<00:00,  9.83it/s, v_num=zs1k, lr=0.001, valid_loss=0.494, valid_acc=0.805, valid_auprc=0.831, valid_auroc=0.908, valid_f1=0.735, train_loss=0.510, train_acc=0.799, train_auprc=0.855, train_auroc=0.922, train_f1=0.796]"
     ]
    },
    {
     "name": "stderr",
     "output_type": "stream",
     "text": [
      "Epoch 6, global step 637: 'valid_auprc' reached 0.83101 (best 0.83101), saving model to 'wandb_logs/awin-densenet-ecg-centralized/xhpuzs1k/checkpoints/epoch=6-step=637.ckpt' as top 1\n"
     ]
    },
    {
     "name": "stdout",
     "output_type": "stream",
     "text": [
      "\n",
      "Valid Confusion Matrix:\n",
      "tensor([[724,  14,  24],\n",
      "        [  9,  95,  10],\n",
      "        [137,  48, 177]], device='cuda:0')\n",
      "Epoch 7: 100%|██████████| 91/91 [00:09<00:00,  9.83it/s, v_num=zs1k, lr=0.001, valid_loss=0.479, valid_acc=0.821, valid_auprc=0.839, valid_auroc=0.918, valid_f1=0.767, train_loss=0.487, train_acc=0.800, train_auprc=0.859, train_auroc=0.925, train_f1=0.796]"
     ]
    },
    {
     "name": "stderr",
     "output_type": "stream",
     "text": [
      "Epoch 7, global step 728: 'valid_auprc' reached 0.83914 (best 0.83914), saving model to 'wandb_logs/awin-densenet-ecg-centralized/xhpuzs1k/checkpoints/epoch=7-step=728.ckpt' as top 1\n"
     ]
    },
    {
     "name": "stdout",
     "output_type": "stream",
     "text": [
      "\n",
      "Valid Confusion Matrix:\n",
      "tensor([[707,  19,  36],\n",
      "        [  4,  96,  14],\n",
      "        [112,  36, 214]], device='cuda:0')\n",
      "Epoch 8: 100%|██████████| 91/91 [00:09<00:00,  9.79it/s, v_num=zs1k, lr=0.001, valid_loss=0.542, valid_acc=0.800, valid_auprc=0.827, valid_auroc=0.907, valid_f1=0.720, train_loss=0.475, train_acc=0.805, train_auprc=0.871, train_auroc=0.930, train_f1=0.803]"
     ]
    },
    {
     "name": "stderr",
     "output_type": "stream",
     "text": [
      "Epoch 8, global step 819: 'valid_auprc' was not in top 1\n"
     ]
    },
    {
     "name": "stdout",
     "output_type": "stream",
     "text": [
      "\n",
      "Valid Confusion Matrix:\n",
      "tensor([[719,  26,  17],\n",
      "        [  3, 101,  10],\n",
      "        [127,  65, 170]], device='cuda:0')\n",
      "Epoch 9: 100%|██████████| 91/91 [00:09<00:00,  9.75it/s, v_num=zs1k, lr=0.001, valid_loss=0.635, valid_acc=0.765, valid_auprc=0.818, valid_auroc=0.898, valid_f1=0.723, train_loss=0.450, train_acc=0.815, train_auprc=0.881, train_auroc=0.936, train_f1=0.814]"
     ]
    },
    {
     "name": "stderr",
     "output_type": "stream",
     "text": [
      "Epoch 9, global step 910: 'valid_auprc' was not in top 1\n"
     ]
    },
    {
     "name": "stdout",
     "output_type": "stream",
     "text": [
      "\n",
      "Valid Confusion Matrix:\n",
      "tensor([[598,  29, 135],\n",
      "        [  1, 106,   7],\n",
      "        [ 53,  66, 243]], device='cuda:0')\n",
      "Epoch 10: 100%|██████████| 91/91 [00:09<00:00,  9.76it/s, v_num=zs1k, lr=0.001, valid_loss=0.486, valid_acc=0.821, valid_auprc=0.848, valid_auroc=0.923, valid_f1=0.776, train_loss=0.426, train_acc=0.836, train_auprc=0.894, train_auroc=0.943, train_f1=0.834]"
     ]
    },
    {
     "name": "stderr",
     "output_type": "stream",
     "text": [
      "Epoch 10, global step 1001: 'valid_auprc' reached 0.84816 (best 0.84816), saving model to 'wandb_logs/awin-densenet-ecg-centralized/xhpuzs1k/checkpoints/epoch=10-step=1001.ckpt' as top 1\n"
     ]
    },
    {
     "name": "stdout",
     "output_type": "stream",
     "text": [
      "\n",
      "Valid Confusion Matrix:\n",
      "tensor([[705,  14,  43],\n",
      "        [  3, 100,  11],\n",
      "        [116,  34, 212]], device='cuda:0')\n",
      "Epoch 11: 100%|██████████| 91/91 [00:09<00:00,  9.76it/s, v_num=zs1k, lr=0.001, valid_loss=0.489, valid_acc=0.812, valid_auprc=0.855, valid_auroc=0.923, valid_f1=0.761, train_loss=0.421, train_acc=0.832, train_auprc=0.896, train_auroc=0.944, train_f1=0.831]"
     ]
    },
    {
     "name": "stderr",
     "output_type": "stream",
     "text": [
      "Epoch 11, global step 1092: 'valid_auprc' reached 0.85520 (best 0.85520), saving model to 'wandb_logs/awin-densenet-ecg-centralized/xhpuzs1k/checkpoints/epoch=11-step=1092.ckpt' as top 1\n"
     ]
    },
    {
     "name": "stdout",
     "output_type": "stream",
     "text": [
      "\n",
      "Valid Confusion Matrix:\n",
      "tensor([[686,  13,  63],\n",
      "        [  2, 106,   6],\n",
      "        [ 92,  57, 213]], device='cuda:0')\n",
      "Epoch 12: 100%|██████████| 91/91 [00:09<00:00,  9.70it/s, v_num=zs1k, lr=0.001, valid_loss=0.538, valid_acc=0.807, valid_auprc=0.852, valid_auroc=0.918, valid_f1=0.747, train_loss=0.392, train_acc=0.846, train_auprc=0.904, train_auroc=0.950, train_f1=0.843]"
     ]
    },
    {
     "name": "stderr",
     "output_type": "stream",
     "text": [
      "Epoch 12, global step 1183: 'valid_auprc' was not in top 1\n"
     ]
    },
    {
     "name": "stdout",
     "output_type": "stream",
     "text": [
      "\n",
      "Valid Confusion Matrix:\n",
      "tensor([[689,  19,  54],\n",
      "        [  2, 107,   5],\n",
      "        [ 93,  66, 203]], device='cuda:0')\n",
      "Epoch 13: 100%|██████████| 91/91 [00:09<00:00,  9.73it/s, v_num=zs1k, lr=0.001, valid_loss=0.460, valid_acc=0.832, valid_auprc=0.870, valid_auroc=0.931, valid_f1=0.779, train_loss=0.417, train_acc=0.831, train_auprc=0.898, train_auroc=0.944, train_f1=0.829]"
     ]
    },
    {
     "name": "stderr",
     "output_type": "stream",
     "text": [
      "Epoch 13, global step 1274: 'valid_auprc' reached 0.87035 (best 0.87035), saving model to 'wandb_logs/awin-densenet-ecg-centralized/xhpuzs1k/checkpoints/epoch=13-step=1274.ckpt' as top 1\n"
     ]
    },
    {
     "name": "stdout",
     "output_type": "stream",
     "text": [
      "\n",
      "Valid Confusion Matrix:\n",
      "tensor([[706,  17,  39],\n",
      "        [  2, 107,   5],\n",
      "        [ 92,  53, 217]], device='cuda:0')\n",
      "Epoch 14: 100%|██████████| 91/91 [00:09<00:00,  9.70it/s, v_num=zs1k, lr=0.001, valid_loss=0.457, valid_acc=0.821, valid_auprc=0.873, valid_auroc=0.927, valid_f1=0.781, train_loss=0.368, train_acc=0.856, train_auprc=0.915, train_auroc=0.955, train_f1=0.854]"
     ]
    },
    {
     "name": "stderr",
     "output_type": "stream",
     "text": [
      "Epoch 14, global step 1365: 'valid_auprc' reached 0.87283 (best 0.87283), saving model to 'wandb_logs/awin-densenet-ecg-centralized/xhpuzs1k/checkpoints/epoch=14-step=1365.ckpt' as top 1\n"
     ]
    },
    {
     "name": "stdout",
     "output_type": "stream",
     "text": [
      "\n",
      "Valid Confusion Matrix:\n",
      "tensor([[672,  17,  73],\n",
      "        [  2, 106,   6],\n",
      "        [ 80,  44, 238]], device='cuda:0')\n",
      "Epoch 15: 100%|██████████| 91/91 [00:09<00:00,  9.72it/s, v_num=zs1k, lr=0.001, valid_loss=0.527, valid_acc=0.820, valid_auprc=0.860, valid_auroc=0.925, valid_f1=0.767, train_loss=0.368, train_acc=0.855, train_auprc=0.917, train_auroc=0.957, train_f1=0.855]"
     ]
    },
    {
     "name": "stderr",
     "output_type": "stream",
     "text": [
      "Epoch 15, global step 1456: 'valid_auprc' was not in top 1\n"
     ]
    },
    {
     "name": "stdout",
     "output_type": "stream",
     "text": [
      "\n",
      "Valid Confusion Matrix:\n",
      "tensor([[718,  16,  28],\n",
      "        [  4, 106,   4],\n",
      "        [127,  44, 191]], device='cuda:0')\n",
      "Epoch 16: 100%|██████████| 91/91 [00:09<00:00,  9.74it/s, v_num=zs1k, lr=0.001, valid_loss=0.476, valid_acc=0.826, valid_auprc=0.853, valid_auroc=0.926, valid_f1=0.779, train_loss=0.383, train_acc=0.848, train_auprc=0.912, train_auroc=0.953, train_f1=0.847]"
     ]
    },
    {
     "name": "stderr",
     "output_type": "stream",
     "text": [
      "Epoch 16, global step 1547: 'valid_auprc' was not in top 1\n"
     ]
    },
    {
     "name": "stdout",
     "output_type": "stream",
     "text": [
      "\n",
      "Valid Confusion Matrix:\n",
      "tensor([[695,  13,  54],\n",
      "        [  5, 102,   7],\n",
      "        [ 93,  44, 225]], device='cuda:0')\n",
      "Epoch 17: 100%|██████████| 91/91 [00:09<00:00,  9.74it/s, v_num=zs1k, lr=0.001, valid_loss=0.414, valid_acc=0.851, valid_auprc=0.884, valid_auroc=0.940, valid_f1=0.818, train_loss=0.359, train_acc=0.861, train_auprc=0.926, train_auroc=0.960, train_f1=0.860]"
     ]
    },
    {
     "name": "stderr",
     "output_type": "stream",
     "text": [
      "Epoch 17, global step 1638: 'valid_auprc' reached 0.88375 (best 0.88375), saving model to 'wandb_logs/awin-densenet-ecg-centralized/xhpuzs1k/checkpoints/epoch=17-step=1638.ckpt' as top 1\n"
     ]
    },
    {
     "name": "stdout",
     "output_type": "stream",
     "text": [
      "\n",
      "Valid Confusion Matrix:\n",
      "tensor([[713,   6,  43],\n",
      "        [  3,  96,  15],\n",
      "        [ 96,  21, 245]], device='cuda:0')\n",
      "Epoch 18: 100%|██████████| 91/91 [00:09<00:00,  9.73it/s, v_num=zs1k, lr=0.001, valid_loss=0.441, valid_acc=0.839, valid_auprc=0.866, valid_auroc=0.938, valid_f1=0.801, train_loss=0.323, train_acc=0.878, train_auprc=0.931, train_auroc=0.964, train_f1=0.876]"
     ]
    },
    {
     "name": "stderr",
     "output_type": "stream",
     "text": [
      "Epoch 18, global step 1729: 'valid_auprc' was not in top 1\n"
     ]
    },
    {
     "name": "stdout",
     "output_type": "stream",
     "text": [
      "\n",
      "Valid Confusion Matrix:\n",
      "tensor([[670,   6,  86],\n",
      "        [  6,  83,  25],\n",
      "        [ 59,  17, 286]], device='cuda:0')\n",
      "Epoch 19: 100%|██████████| 91/91 [00:09<00:00,  9.75it/s, v_num=zs1k, lr=0.001, valid_loss=0.475, valid_acc=0.815, valid_auprc=0.864, valid_auroc=0.930, valid_f1=0.768, train_loss=0.342, train_acc=0.862, train_auprc=0.927, train_auroc=0.961, train_f1=0.863]"
     ]
    },
    {
     "name": "stderr",
     "output_type": "stream",
     "text": [
      "Epoch 19, global step 1820: 'valid_auprc' was not in top 1\n"
     ]
    },
    {
     "name": "stdout",
     "output_type": "stream",
     "text": [
      "\n",
      "Valid Confusion Matrix:\n",
      "tensor([[668,  18,  76],\n",
      "        [  2, 103,   9],\n",
      "        [ 73,  51, 238]], device='cuda:0')\n",
      "Epoch 20: 100%|██████████| 91/91 [00:09<00:00,  9.74it/s, v_num=zs1k, lr=0.001, valid_loss=0.462, valid_acc=0.845, valid_auprc=0.880, valid_auroc=0.932, valid_f1=0.800, train_loss=0.346, train_acc=0.865, train_auprc=0.925, train_auroc=0.961, train_f1=0.864]"
     ]
    },
    {
     "name": "stderr",
     "output_type": "stream",
     "text": [
      "Epoch 20, global step 1911: 'valid_auprc' was not in top 1\n"
     ]
    },
    {
     "name": "stdout",
     "output_type": "stream",
     "text": [
      "\n",
      "Valid Confusion Matrix:\n",
      "tensor([[697,  17,  48],\n",
      "        [  3, 105,   6],\n",
      "        [ 76,  42, 244]], device='cuda:0')\n",
      "Epoch 21: 100%|██████████| 91/91 [00:09<00:00,  9.73it/s, v_num=zs1k, lr=0.001, valid_loss=0.442, valid_acc=0.842, valid_auprc=0.859, valid_auroc=0.932, valid_f1=0.798, train_loss=0.343, train_acc=0.866, train_auprc=0.930, train_auroc=0.962, train_f1=0.866]"
     ]
    },
    {
     "name": "stderr",
     "output_type": "stream",
     "text": [
      "Epoch 21, global step 2002: 'valid_auprc' was not in top 1\n"
     ]
    },
    {
     "name": "stdout",
     "output_type": "stream",
     "text": [
      "\n",
      "Valid Confusion Matrix:\n",
      "tensor([[721,   6,  35],\n",
      "        [  4,  96,  14],\n",
      "        [108,  29, 225]], device='cuda:0')\n",
      "Epoch 22: 100%|██████████| 91/91 [00:09<00:00,  9.54it/s, v_num=zs1k, lr=0.001, valid_loss=0.483, valid_acc=0.812, valid_auprc=0.860, valid_auroc=0.927, valid_f1=0.771, train_loss=0.308, train_acc=0.876, train_auprc=0.940, train_auroc=0.968, train_f1=0.875]"
     ]
    },
    {
     "name": "stderr",
     "output_type": "stream",
     "text": [
      "Epoch 22, global step 2093: 'valid_auprc' was not in top 1\n"
     ]
    },
    {
     "name": "stdout",
     "output_type": "stream",
     "text": [
      "\n",
      "Valid Confusion Matrix:\n",
      "tensor([[660,  12,  90],\n",
      "        [  2,  98,  14],\n",
      "        [ 74,  41, 247]], device='cuda:0')\n",
      "Epoch 23: 100%|██████████| 91/91 [00:09<00:00,  9.73it/s, v_num=zs1k, lr=0.001, valid_loss=0.436, valid_acc=0.848, valid_auprc=0.867, valid_auroc=0.938, valid_f1=0.817, train_loss=0.315, train_acc=0.876, train_auprc=0.937, train_auroc=0.967, train_f1=0.876]"
     ]
    },
    {
     "name": "stderr",
     "output_type": "stream",
     "text": [
      "Epoch 23, global step 2184: 'valid_auprc' was not in top 1\n"
     ]
    },
    {
     "name": "stdout",
     "output_type": "stream",
     "text": [
      "\n",
      "Valid Confusion Matrix:\n",
      "tensor([[696,   9,  57],\n",
      "        [  3, 100,  11],\n",
      "        [ 83,  25, 254]], device='cuda:0')\n",
      "Epoch 24: 100%|██████████| 91/91 [00:09<00:00,  9.74it/s, v_num=zs1k, lr=0.001, valid_loss=0.454, valid_acc=0.846, valid_auprc=0.881, valid_auroc=0.942, valid_f1=0.810, train_loss=0.320, train_acc=0.881, train_auprc=0.935, train_auroc=0.966, train_f1=0.879]"
     ]
    },
    {
     "name": "stderr",
     "output_type": "stream",
     "text": [
      "Epoch 24, global step 2275: 'valid_auprc' was not in top 1\n"
     ]
    },
    {
     "name": "stdout",
     "output_type": "stream",
     "text": [
      "\n",
      "Valid Confusion Matrix:\n",
      "tensor([[724,   7,  31],\n",
      "        [  3,  94,  17],\n",
      "        [116,  17, 229]], device='cuda:0')\n",
      "Epoch 25: 100%|██████████| 91/91 [00:09<00:00,  9.73it/s, v_num=zs1k, lr=0.0005, valid_loss=0.421, valid_acc=0.851, valid_auprc=0.886, valid_auroc=0.942, valid_f1=0.819, train_loss=0.287, train_acc=0.893, train_auprc=0.947, train_auroc=0.972, train_f1=0.892]"
     ]
    },
    {
     "name": "stderr",
     "output_type": "stream",
     "text": [
      "Epoch 25, global step 2366: 'valid_auprc' reached 0.88591 (best 0.88591), saving model to 'wandb_logs/awin-densenet-ecg-centralized/xhpuzs1k/checkpoints/epoch=25-step=2366.ckpt' as top 1\n"
     ]
    },
    {
     "name": "stdout",
     "output_type": "stream",
     "text": [
      "\n",
      "Valid Confusion Matrix:\n",
      "tensor([[707,   8,  47],\n",
      "        [  5,  99,  10],\n",
      "        [ 90,  24, 248]], device='cuda:0')\n",
      "Epoch 26: 100%|██████████| 91/91 [00:09<00:00,  9.73it/s, v_num=zs1k, lr=0.0005, valid_loss=0.448, valid_acc=0.837, valid_auprc=0.877, valid_auroc=0.936, valid_f1=0.803, train_loss=0.289, train_acc=0.886, train_auprc=0.944, train_auroc=0.971, train_f1=0.886]"
     ]
    },
    {
     "name": "stderr",
     "output_type": "stream",
     "text": [
      "Epoch 26, global step 2457: 'valid_auprc' was not in top 1\n"
     ]
    },
    {
     "name": "stdout",
     "output_type": "stream",
     "text": [
      "\n",
      "Valid Confusion Matrix:\n",
      "tensor([[710,   6,  46],\n",
      "        [  4,  95,  15],\n",
      "        [111,  20, 231]], device='cuda:0')\n",
      "Epoch 27: 100%|██████████| 91/91 [00:09<00:00,  9.71it/s, v_num=zs1k, lr=0.0005, valid_loss=0.422, valid_acc=0.849, valid_auprc=0.891, valid_auroc=0.945, valid_f1=0.825, train_loss=0.268, train_acc=0.895, train_auprc=0.952, train_auroc=0.975, train_f1=0.895]"
     ]
    },
    {
     "name": "stderr",
     "output_type": "stream",
     "text": [
      "Epoch 27, global step 2548: 'valid_auprc' reached 0.89069 (best 0.89069), saving model to 'wandb_logs/awin-densenet-ecg-centralized/xhpuzs1k/checkpoints/epoch=27-step=2548.ckpt' as top 1\n"
     ]
    },
    {
     "name": "stdout",
     "output_type": "stream",
     "text": [
      "\n",
      "Valid Confusion Matrix:\n",
      "tensor([[680,   8,  74],\n",
      "        [  3,  97,  14],\n",
      "        [ 71,  17, 274]], device='cuda:0')\n",
      "Epoch 28: 100%|██████████| 91/91 [00:09<00:00,  9.71it/s, v_num=zs1k, lr=0.0005, valid_loss=0.407, valid_acc=0.863, valid_auprc=0.890, valid_auroc=0.942, valid_f1=0.831, train_loss=0.261, train_acc=0.897, train_auprc=0.954, train_auroc=0.976, train_f1=0.896]"
     ]
    },
    {
     "name": "stderr",
     "output_type": "stream",
     "text": [
      "Epoch 28, global step 2639: 'valid_auprc' was not in top 1\n"
     ]
    },
    {
     "name": "stdout",
     "output_type": "stream",
     "text": [
      "\n",
      "Valid Confusion Matrix:\n",
      "tensor([[717,   4,  41],\n",
      "        [  3,  92,  19],\n",
      "        [ 87,  15, 260]], device='cuda:0')\n",
      "Epoch 29: 100%|██████████| 91/91 [00:09<00:00,  9.59it/s, v_num=zs1k, lr=0.0005, valid_loss=0.428, valid_acc=0.854, valid_auprc=0.893, valid_auroc=0.944, valid_f1=0.830, train_loss=0.251, train_acc=0.903, train_auprc=0.959, train_auroc=0.978, train_f1=0.902]"
     ]
    },
    {
     "name": "stderr",
     "output_type": "stream",
     "text": [
      "Epoch 29, global step 2730: 'valid_auprc' reached 0.89296 (best 0.89296), saving model to 'wandb_logs/awin-densenet-ecg-centralized/xhpuzs1k/checkpoints/epoch=29-step=2730.ckpt' as top 1\n"
     ]
    },
    {
     "name": "stdout",
     "output_type": "stream",
     "text": [
      "\n",
      "Valid Confusion Matrix:\n",
      "tensor([[696,   6,  60],\n",
      "        [  3,  99,  12],\n",
      "        [ 82,  18, 262]], device='cuda:0')\n",
      "Epoch 30: 100%|██████████| 91/91 [00:09<00:00,  9.71it/s, v_num=zs1k, lr=0.0005, valid_loss=0.455, valid_acc=0.853, valid_auprc=0.878, valid_auroc=0.939, valid_f1=0.828, train_loss=0.245, train_acc=0.906, train_auprc=0.960, train_auroc=0.979, train_f1=0.906]"
     ]
    },
    {
     "name": "stderr",
     "output_type": "stream",
     "text": [
      "Epoch 30, global step 2821: 'valid_auprc' was not in top 1\n"
     ]
    },
    {
     "name": "stdout",
     "output_type": "stream",
     "text": [
      "\n",
      "Valid Confusion Matrix:\n",
      "tensor([[694,   6,  62],\n",
      "        [  4,  97,  13],\n",
      "        [ 80,  17, 265]], device='cuda:0')\n",
      "Epoch 31: 100%|██████████| 91/91 [00:09<00:00,  9.64it/s, v_num=zs1k, lr=0.0005, valid_loss=0.455, valid_acc=0.851, valid_auprc=0.881, valid_auroc=0.941, valid_f1=0.817, train_loss=0.257, train_acc=0.904, train_auprc=0.957, train_auroc=0.977, train_f1=0.905]"
     ]
    },
    {
     "name": "stderr",
     "output_type": "stream",
     "text": [
      "Epoch 31, global step 2912: 'valid_auprc' was not in top 1\n"
     ]
    },
    {
     "name": "stdout",
     "output_type": "stream",
     "text": [
      "\n",
      "Valid Confusion Matrix:\n",
      "tensor([[704,   5,  53],\n",
      "        [  7,  89,  18],\n",
      "        [ 85,  16, 261]], device='cuda:0')\n",
      "Epoch 32: 100%|██████████| 91/91 [00:09<00:00,  9.71it/s, v_num=zs1k, lr=0.0005, valid_loss=0.463, valid_acc=0.848, valid_auprc=0.877, valid_auroc=0.938, valid_f1=0.813, train_loss=0.259, train_acc=0.899, train_auprc=0.952, train_auroc=0.976, train_f1=0.899]"
     ]
    },
    {
     "name": "stderr",
     "output_type": "stream",
     "text": [
      "Epoch 32, global step 3003: 'valid_auprc' was not in top 1\n"
     ]
    },
    {
     "name": "stdout",
     "output_type": "stream",
     "text": [
      "\n",
      "Valid Confusion Matrix:\n",
      "tensor([[696,   7,  59],\n",
      "        [  3,  93,  18],\n",
      "        [ 79,  22, 261]], device='cuda:0')\n",
      "Epoch 33: 100%|██████████| 91/91 [00:09<00:00,  9.54it/s, v_num=zs1k, lr=0.0005, valid_loss=0.456, valid_acc=0.847, valid_auprc=0.876, valid_auroc=0.938, valid_f1=0.816, train_loss=0.252, train_acc=0.903, train_auprc=0.958, train_auroc=0.978, train_f1=0.902]"
     ]
    },
    {
     "name": "stderr",
     "output_type": "stream",
     "text": [
      "Epoch 33, global step 3094: 'valid_auprc' was not in top 1\n"
     ]
    },
    {
     "name": "stdout",
     "output_type": "stream",
     "text": [
      "\n",
      "Valid Confusion Matrix:\n",
      "tensor([[691,   7,  64],\n",
      "        [  4,  98,  12],\n",
      "        [ 77,  25, 260]], device='cuda:0')\n",
      "Epoch 34: 100%|██████████| 91/91 [00:09<00:00,  9.71it/s, v_num=zs1k, lr=0.0005, valid_loss=0.470, valid_acc=0.855, valid_auprc=0.881, valid_auroc=0.941, valid_f1=0.823, train_loss=0.230, train_acc=0.913, train_auprc=0.962, train_auroc=0.981, train_f1=0.913]"
     ]
    },
    {
     "name": "stderr",
     "output_type": "stream",
     "text": [
      "Epoch 34, global step 3185: 'valid_auprc' was not in top 1\n"
     ]
    },
    {
     "name": "stdout",
     "output_type": "stream",
     "text": [
      "\n",
      "Valid Confusion Matrix:\n",
      "tensor([[710,   7,  45],\n",
      "        [  3,  99,  12],\n",
      "        [ 89,  23, 250]], device='cuda:0')\n",
      "Epoch 35: 100%|██████████| 91/91 [00:09<00:00,  9.70it/s, v_num=zs1k, lr=0.0005, valid_loss=0.418, valid_acc=0.857, valid_auprc=0.899, valid_auroc=0.946, valid_f1=0.834, train_loss=0.263, train_acc=0.899, train_auprc=0.955, train_auroc=0.976, train_f1=0.898]"
     ]
    },
    {
     "name": "stderr",
     "output_type": "stream",
     "text": [
      "Epoch 35, global step 3276: 'valid_auprc' reached 0.89942 (best 0.89942), saving model to 'wandb_logs/awin-densenet-ecg-centralized/xhpuzs1k/checkpoints/epoch=35-step=3276.ckpt' as top 1\n"
     ]
    },
    {
     "name": "stdout",
     "output_type": "stream",
     "text": [
      "\n",
      "Valid Confusion Matrix:\n",
      "tensor([[708,   8,  46],\n",
      "        [  2, 104,   8],\n",
      "        [ 94,  19, 249]], device='cuda:0')\n",
      "Epoch 36: 100%|██████████| 91/91 [00:09<00:00,  9.71it/s, v_num=zs1k, lr=0.0005, valid_loss=0.430, valid_acc=0.856, valid_auprc=0.896, valid_auroc=0.947, valid_f1=0.824, train_loss=0.240, train_acc=0.907, train_auprc=0.958, train_auroc=0.979, train_f1=0.904]"
     ]
    },
    {
     "name": "stderr",
     "output_type": "stream",
     "text": [
      "Epoch 36, global step 3367: 'valid_auprc' was not in top 1\n"
     ]
    },
    {
     "name": "stdout",
     "output_type": "stream",
     "text": [
      "\n",
      "Valid Confusion Matrix:\n",
      "tensor([[706,   6,  50],\n",
      "        [  5,  96,  13],\n",
      "        [ 83,  21, 258]], device='cuda:0')\n",
      "Epoch 37: 100%|██████████| 91/91 [00:09<00:00,  9.72it/s, v_num=zs1k, lr=0.00025, valid_loss=0.453, valid_acc=0.855, valid_auprc=0.885, valid_auroc=0.940, valid_f1=0.824, train_loss=0.216, train_acc=0.918, train_auprc=0.966, train_auroc=0.983, train_f1=0.919]"
     ]
    },
    {
     "name": "stderr",
     "output_type": "stream",
     "text": [
      "Epoch 37, global step 3458: 'valid_auprc' was not in top 1\n"
     ]
    },
    {
     "name": "stdout",
     "output_type": "stream",
     "text": [
      "\n",
      "Valid Confusion Matrix:\n",
      "tensor([[698,   8,  56],\n",
      "        [  2,  98,  14],\n",
      "        [ 78,  22, 262]], device='cuda:0')\n",
      "Epoch 38: 100%|██████████| 91/91 [00:09<00:00,  9.71it/s, v_num=zs1k, lr=0.00025, valid_loss=0.442, valid_acc=0.862, valid_auprc=0.885, valid_auroc=0.944, valid_f1=0.830, train_loss=0.197, train_acc=0.926, train_auprc=0.972, train_auroc=0.986, train_f1=0.926]"
     ]
    },
    {
     "name": "stderr",
     "output_type": "stream",
     "text": [
      "Epoch 38, global step 3549: 'valid_auprc' was not in top 1\n"
     ]
    },
    {
     "name": "stdout",
     "output_type": "stream",
     "text": [
      "\n",
      "Valid Confusion Matrix:\n",
      "tensor([[711,   5,  46],\n",
      "        [  4,  93,  17],\n",
      "        [ 82,  17, 263]], device='cuda:0')\n",
      "Epoch 39: 100%|██████████| 91/91 [00:09<00:00,  9.68it/s, v_num=zs1k, lr=0.00025, valid_loss=0.458, valid_acc=0.850, valid_auprc=0.885, valid_auroc=0.941, valid_f1=0.820, train_loss=0.197, train_acc=0.923, train_auprc=0.973, train_auroc=0.986, train_f1=0.923]"
     ]
    },
    {
     "name": "stderr",
     "output_type": "stream",
     "text": [
      "Epoch 39, global step 3640: 'valid_auprc' was not in top 1\n"
     ]
    },
    {
     "name": "stdout",
     "output_type": "stream",
     "text": [
      "\n",
      "Valid Confusion Matrix:\n",
      "tensor([[693,   6,  63],\n",
      "        [  5,  97,  12],\n",
      "        [ 77,  23, 262]], device='cuda:0')\n",
      "Epoch 40: 100%|██████████| 91/91 [00:09<00:00,  9.70it/s, v_num=zs1k, lr=0.00025, valid_loss=0.454, valid_acc=0.852, valid_auprc=0.884, valid_auroc=0.941, valid_f1=0.823, train_loss=0.193, train_acc=0.927, train_auprc=0.971, train_auroc=0.986, train_f1=0.926]"
     ]
    },
    {
     "name": "stderr",
     "output_type": "stream",
     "text": [
      "Epoch 40, global step 3731: 'valid_auprc' was not in top 1\n"
     ]
    },
    {
     "name": "stdout",
     "output_type": "stream",
     "text": [
      "\n",
      "Valid Confusion Matrix:\n",
      "tensor([[693,   7,  62],\n",
      "        [  6,  98,  10],\n",
      "        [ 75,  23, 264]], device='cuda:0')\n",
      "Epoch 41: 100%|██████████| 91/91 [00:09<00:00,  9.62it/s, v_num=zs1k, lr=0.00025, valid_loss=0.492, valid_acc=0.837, valid_auprc=0.887, valid_auroc=0.944, valid_f1=0.813, train_loss=0.177, train_acc=0.934, train_auprc=0.976, train_auroc=0.988, train_f1=0.933]"
     ]
    },
    {
     "name": "stderr",
     "output_type": "stream",
     "text": [
      "Epoch 41, global step 3822: 'valid_auprc' was not in top 1\n"
     ]
    },
    {
     "name": "stdout",
     "output_type": "stream",
     "text": [
      "\n",
      "Valid Confusion Matrix:\n",
      "tensor([[661,   8,  93],\n",
      "        [  3,  94,  17],\n",
      "        [ 64,  17, 281]], device='cuda:0')\n",
      "Epoch 42: 100%|██████████| 91/91 [00:09<00:00,  9.71it/s, v_num=zs1k, lr=0.00025, valid_loss=0.475, valid_acc=0.849, valid_auprc=0.885, valid_auroc=0.943, valid_f1=0.822, train_loss=0.196, train_acc=0.922, train_auprc=0.972, train_auroc=0.985, train_f1=0.922]"
     ]
    },
    {
     "name": "stderr",
     "output_type": "stream",
     "text": [
      "Epoch 42, global step 3913: 'valid_auprc' was not in top 1\n"
     ]
    },
    {
     "name": "stdout",
     "output_type": "stream",
     "text": [
      "\n",
      "Valid Confusion Matrix:\n",
      "tensor([[687,   5,  70],\n",
      "        [  5,  90,  19],\n",
      "        [ 75,  13, 274]], device='cuda:0')\n",
      "Epoch 43: 100%|██████████| 91/91 [00:09<00:00,  9.71it/s, v_num=zs1k, lr=0.00025, valid_loss=0.454, valid_acc=0.852, valid_auprc=0.887, valid_auroc=0.942, valid_f1=0.830, train_loss=0.191, train_acc=0.928, train_auprc=0.974, train_auroc=0.986, train_f1=0.929]"
     ]
    },
    {
     "name": "stderr",
     "output_type": "stream",
     "text": [
      "Epoch 43, global step 4004: 'valid_auprc' was not in top 1\n"
     ]
    },
    {
     "name": "stdout",
     "output_type": "stream",
     "text": [
      "\n",
      "Valid Confusion Matrix:\n",
      "tensor([[688,   4,  70],\n",
      "        [  5, 100,   9],\n",
      "        [ 74,  21, 267]], device='cuda:0')\n",
      "Epoch 44: 100%|██████████| 91/91 [00:09<00:00,  9.70it/s, v_num=zs1k, lr=0.00025, valid_loss=0.473, valid_acc=0.852, valid_auprc=0.882, valid_auroc=0.942, valid_f1=0.825, train_loss=0.190, train_acc=0.928, train_auprc=0.973, train_auroc=0.987, train_f1=0.927]"
     ]
    },
    {
     "name": "stderr",
     "output_type": "stream",
     "text": [
      "Epoch 44, global step 4095: 'valid_auprc' was not in top 1\n"
     ]
    },
    {
     "name": "stdout",
     "output_type": "stream",
     "text": [
      "\n",
      "Valid Confusion Matrix:\n",
      "tensor([[697,   6,  59],\n",
      "        [  4,  99,  11],\n",
      "        [ 81,  22, 259]], device='cuda:0')\n",
      "Epoch 45: 100%|██████████| 91/91 [00:09<00:00,  9.61it/s, v_num=zs1k, lr=0.00025, valid_loss=0.509, valid_acc=0.853, valid_auprc=0.877, valid_auroc=0.940, valid_f1=0.828, train_loss=0.185, train_acc=0.931, train_auprc=0.976, train_auroc=0.987, train_f1=0.931]"
     ]
    },
    {
     "name": "stderr",
     "output_type": "stream",
     "text": [
      "Epoch 45, global step 4186: 'valid_auprc' was not in top 1\n"
     ]
    },
    {
     "name": "stdout",
     "output_type": "stream",
     "text": [
      "\n",
      "Valid Confusion Matrix:\n",
      "tensor([[688,   7,  67],\n",
      "        [  4,  96,  14],\n",
      "        [ 74,  16, 272]], device='cuda:0')\n",
      "Epoch 46: 100%|██████████| 91/91 [00:09<00:00,  9.68it/s, v_num=zs1k, lr=0.00025, valid_loss=0.483, valid_acc=0.859, valid_auprc=0.878, valid_auroc=0.938, valid_f1=0.834, train_loss=0.184, train_acc=0.932, train_auprc=0.976, train_auroc=0.987, train_f1=0.931]"
     ]
    },
    {
     "name": "stderr",
     "output_type": "stream",
     "text": [
      "Epoch 46, global step 4277: 'valid_auprc' was not in top 1\n"
     ]
    },
    {
     "name": "stdout",
     "output_type": "stream",
     "text": [
      "\n",
      "Valid Confusion Matrix:\n",
      "tensor([[698,   5,  59],\n",
      "        [  5,  99,  10],\n",
      "        [ 74,  21, 267]], device='cuda:0')\n",
      "Epoch 47: 100%|██████████| 91/91 [00:09<00:00,  9.69it/s, v_num=zs1k, lr=0.00025, valid_loss=0.483, valid_acc=0.859, valid_auprc=0.885, valid_auroc=0.942, valid_f1=0.830, train_loss=0.171, train_acc=0.936, train_auprc=0.978, train_auroc=0.989, train_f1=0.936]"
     ]
    },
    {
     "name": "stderr",
     "output_type": "stream",
     "text": [
      "Epoch 47, global step 4368: 'valid_auprc' was not in top 1\n"
     ]
    },
    {
     "name": "stdout",
     "output_type": "stream",
     "text": [
      "\n",
      "Valid Confusion Matrix:\n",
      "tensor([[695,   5,  62],\n",
      "        [  5,  94,  15],\n",
      "        [ 68,  19, 275]], device='cuda:0')\n",
      "Epoch 48: 100%|██████████| 91/91 [00:09<00:00,  9.68it/s, v_num=zs1k, lr=0.00025, valid_loss=0.481, valid_acc=0.861, valid_auprc=0.887, valid_auroc=0.944, valid_f1=0.832, train_loss=0.181, train_acc=0.932, train_auprc=0.977, train_auroc=0.988, train_f1=0.932]"
     ]
    },
    {
     "name": "stderr",
     "output_type": "stream",
     "text": [
      "Epoch 48, global step 4459: 'valid_auprc' was not in top 1\n"
     ]
    },
    {
     "name": "stdout",
     "output_type": "stream",
     "text": [
      "\n",
      "Valid Confusion Matrix:\n",
      "tensor([[710,   3,  49],\n",
      "        [  7, 100,   7],\n",
      "        [ 81,  25, 256]], device='cuda:0')\n",
      "Epoch 49: 100%|██████████| 91/91 [00:09<00:00,  9.64it/s, v_num=zs1k, lr=0.00025, valid_loss=0.496, valid_acc=0.859, valid_auprc=0.882, valid_auroc=0.942, valid_f1=0.838, train_loss=0.175, train_acc=0.933, train_auprc=0.977, train_auroc=0.988, train_f1=0.933]"
     ]
    },
    {
     "name": "stderr",
     "output_type": "stream",
     "text": [
      "Epoch 49, global step 4550: 'valid_auprc' was not in top 1\n"
     ]
    },
    {
     "name": "stdout",
     "output_type": "stream",
     "text": [
      "\n",
      "Valid Confusion Matrix:\n",
      "tensor([[701,   4,  57],\n",
      "        [  5, 101,   8],\n",
      "        [ 83,  18, 261]], device='cuda:0')\n"
     ]
    },
    {
     "name": "stderr",
     "output_type": "stream",
     "text": [
      "`Trainer.fit` stopped: `max_epochs=50` reached.\n"
     ]
    }
   ],
   "source": [
    "trainer.fit(model, datamodule=dm)"
   ]
  },
  {
   "cell_type": "markdown",
   "metadata": {},
   "source": [
    "## Evaluate on the Test Set\n"
   ]
  },
  {
   "cell_type": "code",
   "execution_count": 8,
   "metadata": {},
   "outputs": [],
   "source": [
    "import torch\n",
    "from sklearn.metrics import (\n",
    "    ConfusionMatrixDisplay,\n",
    "    accuracy_score,\n",
    "    classification_report,\n",
    "    confusion_matrix,\n",
    "    f1_score,\n",
    ")\n",
    "from torchmetrics.aggregation import CatMetric, MeanMetric\n",
    "from torchmetrics.functional.classification import (\n",
    "    multiclass_auroc,\n",
    "    multiclass_average_precision,\n",
    ")\n",
    "\n",
    "\n",
    "def aggregate_metrics(results):\n",
    "    loss_metric = MeanMetric()\n",
    "    y_pred_metric = CatMetric()\n",
    "    y_metric = CatMetric()\n",
    "\n",
    "    for result in results:\n",
    "        loss_metric.update(result[\"loss\"])\n",
    "        y_pred_metric.update(result[\"y_pred\"])\n",
    "        y_metric.update(result[\"y\"])\n",
    "    loss = loss_metric.compute()\n",
    "    y_pred = y_pred_metric.compute()\n",
    "    y = y_metric.compute().to(torch.long)\n",
    "    y_hat = y_pred.argmax(dim=1).to(torch.long)\n",
    "\n",
    "    return loss, y_pred, y, y_hat"
   ]
  },
  {
   "cell_type": "markdown",
   "metadata": {},
   "source": [
    "### Last model"
   ]
  },
  {
   "cell_type": "code",
   "execution_count": 9,
   "metadata": {},
   "outputs": [
    {
     "name": "stderr",
     "output_type": "stream",
     "text": [
      "LOCAL_RANK: 0 - CUDA_VISIBLE_DEVICES: [0]\n"
     ]
    },
    {
     "name": "stdout",
     "output_type": "stream",
     "text": [
      "Predicting DataLoader 0: 100%|██████████| 20/20 [00:00<00:00, 38.52it/s]\n",
      "test_loss: 0.49588996171951294\n",
      "test_auprc: 0.8843801617622375\n",
      "test_auroc: 0.9354351162910461\n",
      "              precision    recall  f1-score   support\n",
      "\n",
      "           N       0.90      0.92      0.91       762\n",
      "           A       0.82      0.86      0.84       114\n",
      "           O       0.81      0.75      0.78       362\n",
      "\n",
      "    accuracy                           0.87      1238\n",
      "   macro avg       0.84      0.84      0.84      1238\n",
      "weighted avg       0.87      0.87      0.87      1238\n",
      "\n"
     ]
    },
    {
     "data": {
      "image/png": "[encoded data removed]",
      "text/plain": [
       "<Figure size 640x480 with 2 Axes>"
      ]
     },
     "metadata": {},
     "output_type": "display_data"
    }
   ],
   "source": [
    "model = DenseNetEcgModule.load_from_checkpoint(checkpoint_callback.last_model_path)\n",
    "results = trainer.predict(model, dataloaders=dm)\n",
    "test_loss, test_y_pred, test_y, test_y_hat = aggregate_metrics(results)\n",
    "\n",
    "# loss\n",
    "print(f\"test_loss: {test_loss}\")\n",
    "\n",
    "# auprc\n",
    "test_auprc = multiclass_average_precision(test_y_pred, test_y, num_classes=dm.num_classes)\n",
    "print(f\"test_auprc: {test_auprc}\")\n",
    "\n",
    "# auroc\n",
    "test_auroc = multiclass_auroc(test_y_pred, test_y, num_classes=dm.num_classes)\n",
    "print(f\"test_auroc: {test_auroc}\")\n",
    "\n",
    "# classification report\n",
    "print(classification_report(test_y, test_y_hat, target_names=dm.test_set.classes))\n",
    "\n",
    "# confusion matrix\n",
    "test_cm = confusion_matrix(test_y, test_y_hat)\n",
    "test_cm_disp = ConfusionMatrixDisplay(\n",
    "    confusion_matrix=test_cm, display_labels=dm.test_set.classes\n",
    ")\n",
    "test_cm_disp.plot(cmap=\"Blues\")\n",
    "plt.show()\n",
    "\n",
    "# logger\n",
    "if wandb_mode != \"disabled\":\n",
    "    wandb.log({\"last_test_loss\": test_loss.item()})\n",
    "    wandb.log({\"last_test_auprc\": test_auprc.item()})\n",
    "    wandb.log({\"last_test_auroc\": test_auroc.item()})\n",
    "    wandb.log({\"last_test_f1\": f1_score(test_y, test_y_hat, average=\"macro\")})\n",
    "    wandb.log({\"last_test_accuracy\": accuracy_score(test_y, test_y_hat)})\n",
    "    wandb.log({\"last_test_cm\": test_cm_disp.figure_})"
   ]
  },
  {
   "cell_type": "markdown",
   "metadata": {},
   "source": [
    "### Best model"
   ]
  },
  {
   "cell_type": "code",
   "execution_count": 10,
   "metadata": {},
   "outputs": [
    {
     "name": "stderr",
     "output_type": "stream",
     "text": [
      "LOCAL_RANK: 0 - CUDA_VISIBLE_DEVICES: [0]\n"
     ]
    },
    {
     "name": "stdout",
     "output_type": "stream",
     "text": [
      "Predicting DataLoader 0: 100%|██████████| 20/20 [00:00<00:00, 39.66it/s]\n",
      "test_loss: 0.45592769980430603\n",
      "test_auprc: 0.8757624626159668\n",
      "test_auroc: 0.9282587170600891\n",
      "              precision    recall  f1-score   support\n",
      "\n",
      "           N       0.89      0.92      0.91       762\n",
      "           A       0.79      0.87      0.83       114\n",
      "           O       0.81      0.72      0.76       362\n",
      "\n",
      "    accuracy                           0.86      1238\n",
      "   macro avg       0.83      0.84      0.83      1238\n",
      "weighted avg       0.86      0.86      0.86      1238\n",
      "\n"
     ]
    },
    {
     "data": {
      "image/png": "[encoded data removed]",
      "text/plain": [
       "<Figure size 640x480 with 2 Axes>"
      ]
     },
     "metadata": {},
     "output_type": "display_data"
    }
   ],
   "source": [
    "model = DenseNetEcgModule.load_from_checkpoint(checkpoint_callback.best_model_path)\n",
    "results = trainer.predict(model, dataloaders=dm)\n",
    "test_loss, test_y_pred, test_y, test_y_hat = aggregate_metrics(results)\n",
    "\n",
    "# loss\n",
    "print(f\"test_loss: {test_loss}\")\n",
    "\n",
    "# auprc\n",
    "test_auprc = multiclass_average_precision(test_y_pred, test_y, num_classes=dm.num_classes)\n",
    "print(f\"test_auprc: {test_auprc}\")\n",
    "\n",
    "# auroc\n",
    "test_auroc = multiclass_auroc(test_y_pred, test_y, num_classes=dm.num_classes)\n",
    "print(f\"test_auroc: {test_auroc}\")\n",
    "\n",
    "# classification report\n",
    "print(classification_report(test_y, test_y_hat, target_names=dm.test_set.classes))\n",
    "\n",
    "# confusion matrix\n",
    "test_cm = confusion_matrix(test_y, test_y_hat)\n",
    "test_cm_disp = ConfusionMatrixDisplay(\n",
    "    confusion_matrix=test_cm, display_labels=dm.test_set.classes\n",
    ")\n",
    "test_cm_disp.plot(cmap=\"Blues\")\n",
    "plt.show()\n",
    "\n",
    "# logger\n",
    "if wandb_mode != \"disabled\":\n",
    "    wandb.log({\"best_test_loss\": test_loss.item()})\n",
    "    wandb.log({\"best_test_auprc\": test_auprc.item()})\n",
    "    wandb.log({\"best_test_auroc\": test_auroc.item()})\n",
    "    wandb.log({\"best_test_f1\": f1_score(test_y, test_y_hat, average=\"macro\")})\n",
    "    wandb.log({\"best_test_accuracy\": accuracy_score(test_y, test_y_hat)})\n",
    "    wandb.log({\"best_test_cm\": test_cm_disp.figure_})"
   ]
  },
  {
   "cell_type": "code",
   "execution_count": 11,
   "metadata": {},
   "outputs": [
    {
     "data": {
      "text/html": [],
      "text/plain": [
       "<IPython.core.display.HTML object>"
      ]
     },
     "metadata": {},
     "output_type": "display_data"
    },
    {
     "data": {
      "text/html": [
       "<br>    <style><br>        .wandb-row {<br>            display: flex;<br>            flex-direction: row;<br>            flex-wrap: wrap;<br>            justify-content: flex-start;<br>            width: 100%;<br>        }<br>        .wandb-col {<br>            display: flex;<br>            flex-direction: column;<br>            flex-basis: 100%;<br>            flex: 1;<br>            padding: 10px;<br>        }<br>    </style><br><div class=\"wandb-row\"><div class=\"wandb-col\"><h3>Run history:</h3><br/><table class=\"wandb\"><tr><td>best_test_accuracy</td><td>▁</td></tr><tr><td>best_test_auprc</td><td>▁</td></tr><tr><td>best_test_auroc</td><td>▁</td></tr><tr><td>best_test_f1</td><td>▁</td></tr><tr><td>best_test_loss</td><td>▁</td></tr><tr><td>epoch</td><td>▁▁▁▁▁▂▂▂▂▂▂▂▃▃▃▃▄▄▄▄▅▅▅▅▅▅▅▅▆▆▆▆▆▇▇▇▇▇▇█</td></tr><tr><td>last_test_accuracy</td><td>▁</td></tr><tr><td>last_test_auprc</td><td>▁</td></tr><tr><td>last_test_auroc</td><td>▁</td></tr><tr><td>last_test_f1</td><td>▁</td></tr><tr><td>last_test_loss</td><td>▁</td></tr><tr><td>lr</td><td>████████████████████▃▃▃▃▃▃▃▃▃▃▃▁▁▁▁▁▁▁▁▁</td></tr><tr><td>train_acc</td><td>▁▂▄▅▆▆▆▆▇▇▇▇▇▇▇▇▇▇▇▇▇▇▇▇██▇██▇██████████</td></tr><tr><td>train_auprc</td><td>▁▂▄▆▆▆▆▇▇▇▇▇▇▇▇▇▇█▇▇████████████████████</td></tr><tr><td>train_auroc</td><td>▁▃▅▆▇▇▇▇▇▇▇▇▇▇▇▇████████████████████████</td></tr><tr><td>train_f1</td><td>▁▂▄▅▆▆▆▆▆▇▇▇▇▇▇▇▇▇▇▇▇▇▇▇██▇██▇██████████</td></tr><tr><td>train_loss</td><td>█▇▅▄▄▃▃▃▃▃▃▃▃▃▂▂▂▂▂▂▂▂▂▂▂▂▂▁▂▂▁▁▁▁▁▁▁▁▁▁</td></tr><tr><td>trainer/global_step</td><td>▁▁▁▂▂▂▂▂▂▃▃▃▃▃▃▃▄▄▄▄▄▅▅▅▅▅▅▅▅▆▆▇▇▇██████</td></tr><tr><td>valid_acc</td><td>▁▄▅▅▄▆▅▄▆▆▇▆▆▆█▆▇▇▆▇█▇▇██▇▇████▇█▇▇█████</td></tr><tr><td>valid_auprc</td><td>▁▄▅▆▇▇▇▇▇▇▇██▇▇▇▇█▇█████████████████████</td></tr><tr><td>valid_auroc</td><td>▁▅▆▇▇▇▇▇▇▇▇█████████████████████████████</td></tr><tr><td>valid_f1</td><td>▁▃▅▆▆▆▆▆▇▇▇▇▇▇▇▇▇▇██▇███████████████████</td></tr><tr><td>valid_loss</td><td>█▄▃▃▂▂▃▂▂▂▁▂▂▁▁▂▁▂▁▁▁▁▁▁▁▂▁▂▁▁▁▂▁▂▂▂▂▂▂▂</td></tr></table><br/></div><div class=\"wandb-col\"><h3>Run summary:</h3><br/><table class=\"wandb\"><tr><td>best_test_accuracy</td><td>0.85784</td></tr><tr><td>best_test_auprc</td><td>0.87576</td></tr><tr><td>best_test_auroc</td><td>0.92826</td></tr><tr><td>best_test_f1</td><td>0.83097</td></tr><tr><td>best_test_loss</td><td>0.45593</td></tr><tr><td>epoch</td><td>49</td></tr><tr><td>last_test_accuracy</td><td>0.86672</td></tr><tr><td>last_test_auprc</td><td>0.88438</td></tr><tr><td>last_test_auroc</td><td>0.93544</td></tr><tr><td>last_test_f1</td><td>0.84218</td></tr><tr><td>last_test_loss</td><td>0.49589</td></tr><tr><td>lr</td><td>0.00025</td></tr><tr><td>train_acc</td><td>0.93348</td></tr><tr><td>train_auprc</td><td>0.97707</td></tr><tr><td>train_auroc</td><td>0.98804</td></tr><tr><td>train_f1</td><td>0.93326</td></tr><tr><td>train_loss</td><td>0.17519</td></tr><tr><td>trainer/global_step</td><td>4549</td></tr><tr><td>valid_acc</td><td>0.85864</td></tr><tr><td>valid_auprc</td><td>0.88163</td></tr><tr><td>valid_auroc</td><td>0.94204</td></tr><tr><td>valid_f1</td><td>0.83832</td></tr><tr><td>valid_loss</td><td>0.49607</td></tr></table><br/></div></div>"
      ],
      "text/plain": [
       "<IPython.core.display.HTML object>"
      ]
     },
     "metadata": {},
     "output_type": "display_data"
    },
    {
     "data": {
      "text/html": [
       " View run <strong style=\"color:#cdcd00\">awin-densenet-ecg-centralized</strong> at: <a href='https://wandb.ai/devilhyt/awin-densenet-ecg-centralized/runs/xhpuzs1k' target=\"_blank\">https://wandb.ai/devilhyt/awin-densenet-ecg-centralized/runs/xhpuzs1k</a><br> View project at: <a href='https://wandb.ai/devilhyt/awin-densenet-ecg-centralized' target=\"_blank\">https://wandb.ai/devilhyt/awin-densenet-ecg-centralized</a><br>Synced 5 W&B file(s), 2 media file(s), 4 artifact file(s) and 0 other file(s)"
      ],
      "text/plain": [
       "<IPython.core.display.HTML object>"
      ]
     },
     "metadata": {},
     "output_type": "display_data"
    },
    {
     "data": {
      "text/html": [
       "Find logs at: <code>wandb_logs/wandb/run-20250307_081700-xhpuzs1k/logs</code>"
      ],
      "text/plain": [
       "<IPython.core.display.HTML object>"
      ]
     },
     "metadata": {},
     "output_type": "display_data"
    }
   ],
   "source": [
    "wandb.finish()"
   ]
  }
 ],
 "metadata": {
  "kernelspec": {
   "display_name": "awin-ecg",
   "language": "python",
   "name": "python3"
  },
  "language_info": {
   "codemirror_mode": {
    "name": "ipython",
    "version": 3
   },
   "file_extension": ".py",
   "mimetype": "text/x-python",
   "name": "python",
   "nbconvert_exporter": "python",
   "pygments_lexer": "ipython3",
   "version": "3.11.11"
  }
 },
 "nbformat": 4,
 "nbformat_minor": 2
}
