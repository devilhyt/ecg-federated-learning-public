{
 "cells": [
  {
   "cell_type": "markdown",
   "metadata": {},
   "source": [
    "# Centralized learning for ECG Arrhythmia detection\n"
   ]
  },
  {
   "cell_type": "code",
   "execution_count": 1,
   "metadata": {},
   "outputs": [
    {
     "name": "stderr",
     "output_type": "stream",
     "text": [
      "/home/g113056077/.pyenv/versions/awin-ecg/lib/python3.11/site-packages/tqdm/auto.py:21: TqdmWarning: IProgress not found. Please update jupyter and ipywidgets. See https://ipywidgets.readthedocs.io/en/stable/user_install.html\n",
      "  from .autonotebook import tqdm as notebook_tqdm\n"
     ]
    }
   ],
   "source": [
    "import configparser\n",
    "import os\n",
    "from pathlib import Path\n",
    "\n",
    "import lightning as L\n",
    "import matplotlib.pyplot as plt\n",
    "import wandb\n",
    "from dotenv import load_dotenv\n",
    "from lightning.pytorch.callbacks import EarlyStopping, ModelCheckpoint, TQDMProgressBar\n",
    "from lightning.pytorch.loggers import TensorBoardLogger, WandbLogger\n",
    "from sklearn.metrics import classification_report\n",
    "\n",
    "from dataset_utils import Cinc2017DataModule\n",
    "from model import DenseNetGruEcgModule"
   ]
  },
  {
   "cell_type": "markdown",
   "metadata": {},
   "source": [
    "## Config\n"
   ]
  },
  {
   "cell_type": "code",
   "execution_count": 2,
   "metadata": {},
   "outputs": [],
   "source": [
    "load_dotenv()\n",
    "wandb_mode = os.getenv(\"WANDB_MODE\")\n",
    "\n",
    "config = configparser.ConfigParser()\n",
    "config.read(\"config.ini\")\n",
    "dst_freq = config.getint(\"data_preprocessing\", \"dst_freq\")\n",
    "dst_time = config.getint(\"data_preprocessing\", \"dst_time\")\n",
    "dst_length = dst_freq * dst_time\n",
    "\n",
    "MAX_EPOCHS = 50"
   ]
  },
  {
   "cell_type": "markdown",
   "metadata": {},
   "source": [
    "## Prepare the Dataset\n"
   ]
  },
  {
   "cell_type": "code",
   "execution_count": 3,
   "metadata": {},
   "outputs": [],
   "source": [
    "dm = Cinc2017DataModule(batch_size=64)"
   ]
  },
  {
   "cell_type": "markdown",
   "metadata": {},
   "source": [
    "## Create the Model\n"
   ]
  },
  {
   "cell_type": "code",
   "execution_count": 4,
   "metadata": {},
   "outputs": [],
   "source": [
    "model = DenseNetGruEcgModule(\n",
    "    max_epochs=MAX_EPOCHS,\n",
    "    num_classes=dm.num_classes,\n",
    "    input_length=dst_length,\n",
    "    lr=1e-3,\n",
    "    min_lr = 1e-5,\n",
    "    show_valid_cm=True,\n",
    "    growth_rate=16,\n",
    "    block_config=(4, 4, 12, 8, 8, 8),\n",
    "    num_init_features=64,\n",
    "    bn_size=4,\n",
    "    db_drop_rate=0.2,\n",
    "    gru_drop_rate=0.2,\n",
    "    fc_drop_rate=0.5,\n",
    "    memory_efficient=False,\n",
    "    compression_factor=0.5,\n",
    ")\n",
    "\n",
    "# the number of features per denseblock:\n",
    "# (32 + 6 * 16) // 2 = 64\n",
    "# (64 + 4 * 16) // 2 = 64\n",
    "# (64 + 12 * 16) // 2 = 128\n",
    "# (128 + 8 * 16) // 2 = 128\n",
    "# (128 + 8 * 16) // 2 = 128\n",
    "# (256 + 8 * 16) // 2 = 128"
   ]
  },
  {
   "cell_type": "markdown",
   "metadata": {},
   "source": [
    "## Create the Trainer\n"
   ]
  },
  {
   "cell_type": "code",
   "execution_count": 5,
   "metadata": {},
   "outputs": [
    {
     "name": "stderr",
     "output_type": "stream",
     "text": [
      "GPU available: True (cuda), used: True\n",
      "TPU available: False, using: 0 TPU cores\n",
      "HPU available: False, using: 0 HPUs\n"
     ]
    }
   ],
   "source": [
    "checkpoint_callback = ModelCheckpoint(\n",
    "    monitor=\"valid_auroc\",\n",
    "    verbose=True,\n",
    "    mode=\"max\",\n",
    "    save_top_k=1,\n",
    "    save_last=True,\n",
    ")\n",
    "\n",
    "# early_stopping_callback = EarlyStopping(\n",
    "#     monitor=\"valid_loss\", patience=8, verbose=True, mode=\"min\"\n",
    "# )\n",
    "\n",
    "progress_bar_callback = TQDMProgressBar(leave=True)\n",
    "\n",
    "project_name = \"awin-ecg-centralized\"\n",
    "if wandb_mode == \"disabled\":\n",
    "    logger = TensorBoardLogger(save_dir=Path(\"tb_logs\"), name=project_name)\n",
    "else:\n",
    "    logger = WandbLogger(\n",
    "        project=project_name, save_dir=Path(\"wandb_logs\"), log_model=True, name=project_name\n",
    "    )\n",
    "\n",
    "trainer = L.Trainer(\n",
    "    max_epochs=MAX_EPOCHS,\n",
    "    callbacks=[checkpoint_callback, progress_bar_callback],\n",
    "    logger=logger,\n",
    ")"
   ]
  },
  {
   "cell_type": "markdown",
   "metadata": {},
   "source": [
    "## Train the Model\n"
   ]
  },
  {
   "cell_type": "code",
   "execution_count": 6,
   "metadata": {},
   "outputs": [
    {
     "name": "stderr",
     "output_type": "stream",
     "text": [
      "\u001b[34m\u001b[1mwandb\u001b[0m: Using wandb-core as the SDK backend.  Please refer to https://wandb.me/wandb-core for more information.\n",
      "\u001b[34m\u001b[1mwandb\u001b[0m: Currently logged in as: \u001b[33mdevilhyt\u001b[0m to \u001b[32mhttps://api.wandb.ai\u001b[0m. Use \u001b[1m`wandb login --relogin`\u001b[0m to force relogin\n"
     ]
    },
    {
     "data": {
      "text/html": [
       "Tracking run with wandb version 0.19.7"
      ],
      "text/plain": [
       "<IPython.core.display.HTML object>"
      ]
     },
     "metadata": {},
     "output_type": "display_data"
    },
    {
     "data": {
      "text/html": [
       "Run data is saved locally in <code>wandb_logs/wandb/run-20250223_015028-lwtoy6yj</code>"
      ],
      "text/plain": [
       "<IPython.core.display.HTML object>"
      ]
     },
     "metadata": {},
     "output_type": "display_data"
    },
    {
     "data": {
      "text/html": [
       "Syncing run <strong><a href='https://wandb.ai/devilhyt/awin-ecg-centralized/runs/lwtoy6yj' target=\"_blank\">awin-ecg-centralized</a></strong> to <a href='https://wandb.ai/devilhyt/awin-ecg-centralized' target=\"_blank\">Weights & Biases</a> (<a href='https://wandb.me/developer-guide' target=\"_blank\">docs</a>)<br>"
      ],
      "text/plain": [
       "<IPython.core.display.HTML object>"
      ]
     },
     "metadata": {},
     "output_type": "display_data"
    },
    {
     "data": {
      "text/html": [
       " View project at <a href='https://wandb.ai/devilhyt/awin-ecg-centralized' target=\"_blank\">https://wandb.ai/devilhyt/awin-ecg-centralized</a>"
      ],
      "text/plain": [
       "<IPython.core.display.HTML object>"
      ]
     },
     "metadata": {},
     "output_type": "display_data"
    },
    {
     "data": {
      "text/html": [
       " View run at <a href='https://wandb.ai/devilhyt/awin-ecg-centralized/runs/lwtoy6yj' target=\"_blank\">https://wandb.ai/devilhyt/awin-ecg-centralized/runs/lwtoy6yj</a>"
      ],
      "text/plain": [
       "<IPython.core.display.HTML object>"
      ]
     },
     "metadata": {},
     "output_type": "display_data"
    },
    {
     "name": "stderr",
     "output_type": "stream",
     "text": [
      "LOCAL_RANK: 0 - CUDA_VISIBLE_DEVICES: [0]\n",
      "\n",
      "  | Name          | Type                      | Params | Mode  | In sizes     | Out sizes\n",
      "-----------------------------------------------------------------------------------------------\n",
      "0 | model         | DenseNetGruEcg            | 1.3 M  | train | [1, 1, 6000] | [1, 3]   \n",
      "1 | loss_fn       | CrossEntropyLoss          | 0      | train | ?            | ?        \n",
      "2 | train_metrics | MetricCollection          | 0      | train | ?            | ?        \n",
      "3 | valid_metrics | MetricCollection          | 0      | train | ?            | ?        \n",
      "4 | test_metrics  | MetricCollection          | 0      | train | ?            | ?        \n",
      "5 | valid_cm      | MulticlassConfusionMatrix | 0      | train | ?            | ?        \n",
      "6 | test_cm       | MulticlassConfusionMatrix | 0      | train | ?            | ?        \n",
      "-----------------------------------------------------------------------------------------------\n",
      "1.3 M     Trainable params\n",
      "0         Non-trainable params\n",
      "1.3 M     Total params\n",
      "5.243     Total estimated model params size (MB)\n",
      "414       Modules in train mode\n",
      "0         Modules in eval mode\n"
     ]
    },
    {
     "name": "stdout",
     "output_type": "stream",
     "text": [
      "Training: |          | 0/? [00:00<?, ?it/s]                                \n",
      "Epoch 0: 100%|██████████| 91/91 [00:17<00:00,  5.19it/s, v_num=y6yj, lr=0.001, valid_loss=1.060, valid_acc=0.439, valid_auroc=0.529, valid_f1=0.333, train_loss=1.100, train_acc=0.342, train_auroc=0.512, train_f1=0.340]"
     ]
    },
    {
     "name": "stderr",
     "output_type": "stream",
     "text": [
      "Epoch 0, global step 91: 'valid_auroc' reached 0.52917 (best 0.52917), saving model to 'wandb_logs/awin-ecg-centralized/lwtoy6yj/checkpoints/epoch=0-step=91.ckpt' as top 1\n"
     ]
    },
    {
     "name": "stdout",
     "output_type": "stream",
     "text": [
      "\n",
      "Valid Confusion Matrix:\n",
      "tensor([[441, 173, 148],\n",
      "        [ 56,  34,  24],\n",
      "        [205,  88,  69]], device='cuda:0')\n",
      "Epoch 1: 100%|██████████| 91/91 [00:17<00:00,  5.18it/s, v_num=y6yj, lr=0.001, valid_loss=0.987, valid_acc=0.539, valid_auroc=0.766, valid_f1=0.445, train_loss=1.030, train_acc=0.451, train_auroc=0.632, train_f1=0.437]"
     ]
    },
    {
     "name": "stderr",
     "output_type": "stream",
     "text": [
      "Epoch 1, global step 182: 'valid_auroc' reached 0.76596 (best 0.76596), saving model to 'wandb_logs/awin-ecg-centralized/lwtoy6yj/checkpoints/epoch=1-step=182.ckpt' as top 1\n"
     ]
    },
    {
     "name": "stdout",
     "output_type": "stream",
     "text": [
      "\n",
      "Valid Confusion Matrix:\n",
      "tensor([[502, 129, 131],\n",
      "        [ 12,  86,  16],\n",
      "        [ 98, 185,  79]], device='cuda:0')\n",
      "Epoch 2: 100%|██████████| 91/91 [00:17<00:00,  5.17it/s, v_num=y6yj, lr=0.001, valid_loss=0.717, valid_acc=0.674, valid_auroc=0.838, valid_f1=0.591, train_loss=0.861, train_acc=0.585, train_auroc=0.761, train_f1=0.572]"
     ]
    },
    {
     "name": "stderr",
     "output_type": "stream",
     "text": [
      "Epoch 2, global step 273: 'valid_auroc' reached 0.83802 (best 0.83802), saving model to 'wandb_logs/awin-ecg-centralized/lwtoy6yj/checkpoints/epoch=2-step=273.ckpt' as top 1\n"
     ]
    },
    {
     "name": "stdout",
     "output_type": "stream",
     "text": [
      "\n",
      "Valid Confusion Matrix:\n",
      "tensor([[599,  37, 126],\n",
      "        [  4,  96,  14],\n",
      "        [ 99, 123, 140]], device='cuda:0')\n",
      "Epoch 3: 100%|██████████| 91/91 [00:17<00:00,  5.16it/s, v_num=y6yj, lr=0.001, valid_loss=0.577, valid_acc=0.755, valid_auroc=0.870, valid_f1=0.676, train_loss=0.734, train_acc=0.676, train_auroc=0.830, train_f1=0.672]"
     ]
    },
    {
     "name": "stderr",
     "output_type": "stream",
     "text": [
      "Epoch 3, global step 364: 'valid_auroc' reached 0.87022 (best 0.87022), saving model to 'wandb_logs/awin-ecg-centralized/lwtoy6yj/checkpoints/epoch=3-step=364.ckpt' as top 1\n"
     ]
    },
    {
     "name": "stdout",
     "output_type": "stream",
     "text": [
      "\n",
      "Valid Confusion Matrix:\n",
      "tensor([[701,  10,  51],\n",
      "        [  8,  96,  10],\n",
      "        [160,  64, 138]], device='cuda:0')\n",
      "Epoch 4: 100%|██████████| 91/91 [00:17<00:00,  5.14it/s, v_num=y6yj, lr=0.001, valid_loss=0.544, valid_acc=0.780, valid_auroc=0.899, valid_f1=0.725, train_loss=0.629, train_acc=0.728, train_auroc=0.875, train_f1=0.722]"
     ]
    },
    {
     "name": "stderr",
     "output_type": "stream",
     "text": [
      "Epoch 4, global step 455: 'valid_auroc' reached 0.89927 (best 0.89927), saving model to 'wandb_logs/awin-ecg-centralized/lwtoy6yj/checkpoints/epoch=4-step=455.ckpt' as top 1\n"
     ]
    },
    {
     "name": "stdout",
     "output_type": "stream",
     "text": [
      "\n",
      "Valid Confusion Matrix:\n",
      "tensor([[647,  16,  99],\n",
      "        [  3, 101,  10],\n",
      "        [ 75,  69, 218]], device='cuda:0')\n",
      "Epoch 5: 100%|██████████| 91/91 [00:17<00:00,  5.13it/s, v_num=y6yj, lr=0.001, valid_loss=0.450, valid_acc=0.821, valid_auroc=0.919, valid_f1=0.778, train_loss=0.569, train_acc=0.764, train_auroc=0.898, train_f1=0.758]"
     ]
    },
    {
     "name": "stderr",
     "output_type": "stream",
     "text": [
      "Epoch 5, global step 546: 'valid_auroc' reached 0.91937 (best 0.91937), saving model to 'wandb_logs/awin-ecg-centralized/lwtoy6yj/checkpoints/epoch=5-step=546.ckpt' as top 1\n"
     ]
    },
    {
     "name": "stdout",
     "output_type": "stream",
     "text": [
      "\n",
      "Valid Confusion Matrix:\n",
      "tensor([[684,   4,  74],\n",
      "        [  3,  86,  25],\n",
      "        [ 89,  26, 247]], device='cuda:0')\n",
      "Epoch 6: 100%|██████████| 91/91 [00:17<00:00,  5.14it/s, v_num=y6yj, lr=0.001, valid_loss=0.550, valid_acc=0.783, valid_auroc=0.885, valid_f1=0.709, train_loss=0.524, train_acc=0.786, train_auroc=0.915, train_f1=0.784]"
     ]
    },
    {
     "name": "stderr",
     "output_type": "stream",
     "text": [
      "Epoch 6, global step 637: 'valid_auroc' was not in top 1\n"
     ]
    },
    {
     "name": "stdout",
     "output_type": "stream",
     "text": [
      "\n",
      "Valid Confusion Matrix:\n",
      "tensor([[688,   7,  67],\n",
      "        [  6,  69,  39],\n",
      "        [121,  29, 212]], device='cuda:0')\n",
      "Epoch 7: 100%|██████████| 91/91 [00:17<00:00,  5.13it/s, v_num=y6yj, lr=0.001, valid_loss=0.528, valid_acc=0.792, valid_auroc=0.911, valid_f1=0.743, train_loss=0.485, train_acc=0.802, train_auroc=0.927, train_f1=0.801]"
     ]
    },
    {
     "name": "stderr",
     "output_type": "stream",
     "text": [
      "Epoch 7, global step 728: 'valid_auroc' was not in top 1\n"
     ]
    },
    {
     "name": "stdout",
     "output_type": "stream",
     "text": [
      "\n",
      "Valid Confusion Matrix:\n",
      "tensor([[643,  21,  98],\n",
      "        [  1, 110,   3],\n",
      "        [ 62,  72, 228]], device='cuda:0')\n",
      "Epoch 8: 100%|██████████| 91/91 [00:17<00:00,  5.12it/s, v_num=y6yj, lr=0.001, valid_loss=0.422, valid_acc=0.831, valid_auroc=0.934, valid_f1=0.780, train_loss=0.458, train_acc=0.815, train_auroc=0.935, train_f1=0.814]"
     ]
    },
    {
     "name": "stderr",
     "output_type": "stream",
     "text": [
      "Epoch 8, global step 819: 'valid_auroc' reached 0.93423 (best 0.93423), saving model to 'wandb_logs/awin-ecg-centralized/lwtoy6yj/checkpoints/epoch=8-step=819.ckpt' as top 1\n"
     ]
    },
    {
     "name": "stdout",
     "output_type": "stream",
     "text": [
      "\n",
      "Valid Confusion Matrix:\n",
      "tensor([[689,  20,  53],\n",
      "        [  0, 106,   8],\n",
      "        [ 76,  52, 234]], device='cuda:0')\n",
      "Epoch 9: 100%|██████████| 91/91 [00:17<00:00,  5.11it/s, v_num=y6yj, lr=0.001, valid_loss=0.448, valid_acc=0.831, valid_auroc=0.931, valid_f1=0.788, train_loss=0.424, train_acc=0.831, train_auroc=0.943, train_f1=0.828]"
     ]
    },
    {
     "name": "stderr",
     "output_type": "stream",
     "text": [
      "Epoch 9, global step 910: 'valid_auroc' was not in top 1\n"
     ]
    },
    {
     "name": "stdout",
     "output_type": "stream",
     "text": [
      "\n",
      "Valid Confusion Matrix:\n",
      "tensor([[679,  19,  64],\n",
      "        [  0, 100,  14],\n",
      "        [ 76,  36, 250]], device='cuda:0')\n",
      "Epoch 10: 100%|██████████| 91/91 [00:17<00:00,  5.11it/s, v_num=y6yj, lr=0.001, valid_loss=0.409, valid_acc=0.852, valid_auroc=0.942, valid_f1=0.826, train_loss=0.409, train_acc=0.840, train_auroc=0.947, train_f1=0.839]"
     ]
    },
    {
     "name": "stderr",
     "output_type": "stream",
     "text": [
      "Epoch 10, global step 1001: 'valid_auroc' reached 0.94159 (best 0.94159), saving model to 'wandb_logs/awin-ecg-centralized/lwtoy6yj/checkpoints/epoch=10-step=1001.ckpt' as top 1\n"
     ]
    },
    {
     "name": "stdout",
     "output_type": "stream",
     "text": [
      "\n",
      "Valid Confusion Matrix:\n",
      "tensor([[684,   8,  70],\n",
      "        [  0, 103,  11],\n",
      "        [ 68,  26, 268]], device='cuda:0')\n",
      "Epoch 11: 100%|██████████| 91/91 [00:17<00:00,  5.11it/s, v_num=y6yj, lr=0.001, valid_loss=0.395, valid_acc=0.848, valid_auroc=0.940, valid_f1=0.817, train_loss=0.397, train_acc=0.841, train_auroc=0.950, train_f1=0.840]"
     ]
    },
    {
     "name": "stderr",
     "output_type": "stream",
     "text": [
      "Epoch 11, global step 1092: 'valid_auroc' was not in top 1\n"
     ]
    },
    {
     "name": "stdout",
     "output_type": "stream",
     "text": [
      "\n",
      "Valid Confusion Matrix:\n",
      "tensor([[698,   3,  61],\n",
      "        [  3,  94,  17],\n",
      "        [ 82,  22, 258]], device='cuda:0')\n",
      "Epoch 12: 100%|██████████| 91/91 [00:17<00:00,  5.07it/s, v_num=y6yj, lr=0.001, valid_loss=0.450, valid_acc=0.824, valid_auroc=0.930, valid_f1=0.791, train_loss=0.401, train_acc=0.842, train_auroc=0.947, train_f1=0.840]"
     ]
    },
    {
     "name": "stderr",
     "output_type": "stream",
     "text": [
      "Epoch 12, global step 1183: 'valid_auroc' was not in top 1\n"
     ]
    },
    {
     "name": "stdout",
     "output_type": "stream",
     "text": [
      "\n",
      "Valid Confusion Matrix:\n",
      "tensor([[671,  17,  74],\n",
      "        [  2, 108,   4],\n",
      "        [ 84,  37, 241]], device='cuda:0')\n",
      "Epoch 13: 100%|██████████| 91/91 [00:17<00:00,  5.09it/s, v_num=y6yj, lr=0.001, valid_loss=0.507, valid_acc=0.819, valid_auroc=0.928, valid_f1=0.783, train_loss=0.378, train_acc=0.851, train_auroc=0.953, train_f1=0.848]"
     ]
    },
    {
     "name": "stderr",
     "output_type": "stream",
     "text": [
      "Epoch 13, global step 1274: 'valid_auroc' was not in top 1\n"
     ]
    },
    {
     "name": "stdout",
     "output_type": "stream",
     "text": [
      "\n",
      "Valid Confusion Matrix:\n",
      "tensor([[644,  22,  96],\n",
      "        [  0, 111,   3],\n",
      "        [ 53,  50, 259]], device='cuda:0')\n",
      "Epoch 14: 100%|██████████| 91/91 [00:17<00:00,  5.10it/s, v_num=y6yj, lr=0.001, valid_loss=0.439, valid_acc=0.815, valid_auroc=0.932, valid_f1=0.779, train_loss=0.377, train_acc=0.849, train_auroc=0.952, train_f1=0.848]"
     ]
    },
    {
     "name": "stderr",
     "output_type": "stream",
     "text": [
      "Epoch 14, global step 1365: 'valid_auroc' was not in top 1\n"
     ]
    },
    {
     "name": "stdout",
     "output_type": "stream",
     "text": [
      "\n",
      "Valid Confusion Matrix:\n",
      "tensor([[669,  15,  78],\n",
      "        [  0, 106,   8],\n",
      "        [ 87,  41, 234]], device='cuda:0')\n",
      "Epoch 15: 100%|██████████| 91/91 [00:17<00:00,  5.09it/s, v_num=y6yj, lr=0.001, valid_loss=0.505, valid_acc=0.817, valid_auroc=0.927, valid_f1=0.777, train_loss=0.361, train_acc=0.859, train_auroc=0.955, train_f1=0.857]"
     ]
    },
    {
     "name": "stderr",
     "output_type": "stream",
     "text": [
      "Epoch 15, global step 1456: 'valid_auroc' was not in top 1\n"
     ]
    },
    {
     "name": "stdout",
     "output_type": "stream",
     "text": [
      "\n",
      "Valid Confusion Matrix:\n",
      "tensor([[658,  23,  81],\n",
      "        [  0, 105,   9],\n",
      "        [ 70,  43, 249]], device='cuda:0')\n",
      "Epoch 16: 100%|██████████| 91/91 [00:17<00:00,  5.09it/s, v_num=y6yj, lr=0.001, valid_loss=0.443, valid_acc=0.828, valid_auroc=0.935, valid_f1=0.789, train_loss=0.369, train_acc=0.855, train_auroc=0.955, train_f1=0.854]"
     ]
    },
    {
     "name": "stderr",
     "output_type": "stream",
     "text": [
      "Epoch 16, global step 1547: 'valid_auroc' was not in top 1\n"
     ]
    },
    {
     "name": "stdout",
     "output_type": "stream",
     "text": [
      "\n",
      "Valid Confusion Matrix:\n",
      "tensor([[661,  18,  83],\n",
      "        [  0, 111,   3],\n",
      "        [ 57,  52, 253]], device='cuda:0')\n",
      "Epoch 17: 100%|██████████| 91/91 [00:17<00:00,  5.08it/s, v_num=y6yj, lr=0.001, valid_loss=0.414, valid_acc=0.847, valid_auroc=0.937, valid_f1=0.812, train_loss=0.325, train_acc=0.879, train_auroc=0.963, train_f1=0.877]"
     ]
    },
    {
     "name": "stderr",
     "output_type": "stream",
     "text": [
      "Epoch 17, global step 1638: 'valid_auroc' was not in top 1\n"
     ]
    },
    {
     "name": "stdout",
     "output_type": "stream",
     "text": [
      "\n",
      "Valid Confusion Matrix:\n",
      "tensor([[712,   4,  46],\n",
      "        [  1,  99,  14],\n",
      "        [ 96,  28, 238]], device='cuda:0')\n",
      "Epoch 18: 100%|██████████| 91/91 [00:17<00:00,  5.08it/s, v_num=y6yj, lr=0.001, valid_loss=0.401, valid_acc=0.855, valid_auroc=0.940, valid_f1=0.821, train_loss=0.331, train_acc=0.870, train_auroc=0.963, train_f1=0.868]"
     ]
    },
    {
     "name": "stderr",
     "output_type": "stream",
     "text": [
      "Epoch 18, global step 1729: 'valid_auroc' was not in top 1\n"
     ]
    },
    {
     "name": "stdout",
     "output_type": "stream",
     "text": [
      "\n",
      "Valid Confusion Matrix:\n",
      "tensor([[697,  12,  53],\n",
      "        [  1, 107,   6],\n",
      "        [ 74,  34, 254]], device='cuda:0')\n",
      "Epoch 19: 100%|██████████| 91/91 [00:17<00:00,  5.08it/s, v_num=y6yj, lr=0.001, valid_loss=0.431, valid_acc=0.842, valid_auroc=0.937, valid_f1=0.802, train_loss=0.312, train_acc=0.879, train_auroc=0.966, train_f1=0.878]\n",
      "Valid Confusion Matrix:\n",
      "tensor([[708,   3,  51],\n",
      "        [  2,  82,  30],\n",
      "        [ 99,  11, 252]], device='cuda:0')\n"
     ]
    },
    {
     "name": "stderr",
     "output_type": "stream",
     "text": [
      "Epoch 19, global step 1820: 'valid_auroc' was not in top 1\n"
     ]
    },
    {
     "name": "stdout",
     "output_type": "stream",
     "text": [
      "Epoch 20: 100%|██████████| 91/91 [00:17<00:00,  5.08it/s, v_num=y6yj, lr=0.001, valid_loss=0.420, valid_acc=0.854, valid_auroc=0.940, valid_f1=0.827, train_loss=0.329, train_acc=0.875, train_auroc=0.963, train_f1=0.874]\n",
      "Valid Confusion Matrix:\n",
      "tensor([[673,  10,  79],\n",
      "        [  0, 107,   7],\n",
      "        [ 52,  33, 277]], device='cuda:0')\n"
     ]
    },
    {
     "name": "stderr",
     "output_type": "stream",
     "text": [
      "Epoch 20, global step 1911: 'valid_auroc' was not in top 1\n"
     ]
    },
    {
     "name": "stdout",
     "output_type": "stream",
     "text": [
      "Epoch 21: 100%|██████████| 91/91 [00:17<00:00,  5.08it/s, v_num=y6yj, lr=0.001, valid_loss=0.422, valid_acc=0.860, valid_auroc=0.939, valid_f1=0.830, train_loss=0.294, train_acc=0.887, train_auroc=0.970, train_f1=0.886]"
     ]
    },
    {
     "name": "stderr",
     "output_type": "stream",
     "text": [
      "Epoch 21, global step 2002: 'valid_auroc' was not in top 1\n"
     ]
    },
    {
     "name": "stdout",
     "output_type": "stream",
     "text": [
      "\n",
      "Valid Confusion Matrix:\n",
      "tensor([[690,  10,  62],\n",
      "        [  0, 108,   6],\n",
      "        [ 61,  34, 267]], device='cuda:0')\n",
      "Epoch 22: 100%|██████████| 91/91 [00:17<00:00,  5.08it/s, v_num=y6yj, lr=0.001, valid_loss=0.424, valid_acc=0.845, valid_auroc=0.936, valid_f1=0.816, train_loss=0.325, train_acc=0.875, train_auroc=0.964, train_f1=0.875]"
     ]
    },
    {
     "name": "stderr",
     "output_type": "stream",
     "text": [
      "Epoch 22, global step 2093: 'valid_auroc' was not in top 1\n"
     ]
    },
    {
     "name": "stdout",
     "output_type": "stream",
     "text": [
      "\n",
      "Valid Confusion Matrix:\n",
      "tensor([[698,   7,  57],\n",
      "        [  2,  98,  14],\n",
      "        [ 91,  21, 250]], device='cuda:0')\n",
      "Epoch 23: 100%|██████████| 91/91 [00:17<00:00,  5.08it/s, v_num=y6yj, lr=0.001, valid_loss=0.425, valid_acc=0.862, valid_auroc=0.947, valid_f1=0.828, train_loss=0.300, train_acc=0.891, train_auroc=0.968, train_f1=0.891]"
     ]
    },
    {
     "name": "stderr",
     "output_type": "stream",
     "text": [
      "Epoch 23, global step 2184: 'valid_auroc' reached 0.94679 (best 0.94679), saving model to 'wandb_logs/awin-ecg-centralized/lwtoy6yj/checkpoints/epoch=23-step=2184.ckpt' as top 1\n"
     ]
    },
    {
     "name": "stdout",
     "output_type": "stream",
     "text": [
      "\n",
      "Valid Confusion Matrix:\n",
      "tensor([[731,   6,  25],\n",
      "        [  1, 100,  13],\n",
      "        [104,  22, 236]], device='cuda:0')\n",
      "Epoch 24: 100%|██████████| 91/91 [00:17<00:00,  5.08it/s, v_num=y6yj, lr=0.001, valid_loss=0.416, valid_acc=0.856, valid_auroc=0.944, valid_f1=0.822, train_loss=0.296, train_acc=0.894, train_auroc=0.970, train_f1=0.894]"
     ]
    },
    {
     "name": "stderr",
     "output_type": "stream",
     "text": [
      "Epoch 24, global step 2275: 'valid_auroc' was not in top 1\n"
     ]
    },
    {
     "name": "stdout",
     "output_type": "stream",
     "text": [
      "\n",
      "Valid Confusion Matrix:\n",
      "tensor([[700,   4,  58],\n",
      "        [  1,  91,  22],\n",
      "        [ 74,  19, 269]], device='cuda:0')\n",
      "Epoch 25: 100%|██████████| 91/91 [00:17<00:00,  5.08it/s, v_num=y6yj, lr=0.0005, valid_loss=0.397, valid_acc=0.870, valid_auroc=0.946, valid_f1=0.843, train_loss=0.257, train_acc=0.905, train_auroc=0.976, train_f1=0.904]"
     ]
    },
    {
     "name": "stderr",
     "output_type": "stream",
     "text": [
      "Epoch 25, global step 2366: 'valid_auroc' was not in top 1\n"
     ]
    },
    {
     "name": "stdout",
     "output_type": "stream",
     "text": [
      "\n",
      "Valid Confusion Matrix:\n",
      "tensor([[699,   4,  59],\n",
      "        [  1, 105,   8],\n",
      "        [ 60,  29, 273]], device='cuda:0')\n",
      "Epoch 26: 100%|██████████| 91/91 [00:17<00:00,  5.08it/s, v_num=y6yj, lr=0.0005, valid_loss=0.465, valid_acc=0.838, valid_auroc=0.942, valid_f1=0.820, train_loss=0.240, train_acc=0.908, train_auroc=0.978, train_f1=0.907]"
     ]
    },
    {
     "name": "stderr",
     "output_type": "stream",
     "text": [
      "Epoch 26, global step 2457: 'valid_auroc' was not in top 1\n"
     ]
    },
    {
     "name": "stdout",
     "output_type": "stream",
     "text": [
      "\n",
      "Valid Confusion Matrix:\n",
      "tensor([[635,  10, 117],\n",
      "        [  0, 104,  10],\n",
      "        [ 36,  27, 299]], device='cuda:0')\n",
      "Epoch 27: 100%|██████████| 91/91 [00:17<00:00,  5.08it/s, v_num=y6yj, lr=0.0005, valid_loss=0.472, valid_acc=0.843, valid_auroc=0.937, valid_f1=0.820, train_loss=0.246, train_acc=0.907, train_auroc=0.978, train_f1=0.907]"
     ]
    },
    {
     "name": "stderr",
     "output_type": "stream",
     "text": [
      "Epoch 27, global step 2548: 'valid_auroc' was not in top 1\n"
     ]
    },
    {
     "name": "stdout",
     "output_type": "stream",
     "text": [
      "\n",
      "Valid Confusion Matrix:\n",
      "tensor([[654,  11,  97],\n",
      "        [  0, 105,   9],\n",
      "        [ 48,  29, 285]], device='cuda:0')\n",
      "Epoch 28: 100%|██████████| 91/91 [00:17<00:00,  5.08it/s, v_num=y6yj, lr=0.0005, valid_loss=0.431, valid_acc=0.875, valid_auroc=0.942, valid_f1=0.848, train_loss=0.226, train_acc=0.913, train_auroc=0.981, train_f1=0.912]"
     ]
    },
    {
     "name": "stderr",
     "output_type": "stream",
     "text": [
      "Epoch 28, global step 2639: 'valid_auroc' was not in top 1\n"
     ]
    },
    {
     "name": "stdout",
     "output_type": "stream",
     "text": [
      "\n",
      "Valid Confusion Matrix:\n",
      "tensor([[703,   7,  52],\n",
      "        [  1, 103,  10],\n",
      "        [ 62,  23, 277]], device='cuda:0')\n",
      "Epoch 29: 100%|██████████| 91/91 [00:17<00:00,  5.08it/s, v_num=y6yj, lr=0.0005, valid_loss=0.419, valid_acc=0.859, valid_auroc=0.946, valid_f1=0.837, train_loss=0.232, train_acc=0.910, train_auroc=0.980, train_f1=0.911]\n",
      "Valid Confusion Matrix:\n",
      "tensor([[671,   6,  85],\n",
      "        [  0, 105,   9],\n",
      "        [ 48,  27, 287]], device='cuda:0')\n"
     ]
    },
    {
     "name": "stderr",
     "output_type": "stream",
     "text": [
      "Epoch 29, global step 2730: 'valid_auroc' was not in top 1\n"
     ]
    },
    {
     "name": "stdout",
     "output_type": "stream",
     "text": [
      "Epoch 30: 100%|██████████| 91/91 [00:17<00:00,  5.08it/s, v_num=y6yj, lr=0.0005, valid_loss=0.425, valid_acc=0.857, valid_auroc=0.946, valid_f1=0.833, train_loss=0.216, train_acc=0.919, train_auroc=0.983, train_f1=0.919]"
     ]
    },
    {
     "name": "stderr",
     "output_type": "stream",
     "text": [
      "Epoch 30, global step 2821: 'valid_auroc' was not in top 1\n"
     ]
    },
    {
     "name": "stdout",
     "output_type": "stream",
     "text": [
      "\n",
      "Valid Confusion Matrix:\n",
      "tensor([[678,   8,  76],\n",
      "        [  1, 102,  11],\n",
      "        [ 57,  24, 281]], device='cuda:0')\n",
      "Epoch 31: 100%|██████████| 91/91 [00:17<00:00,  5.08it/s, v_num=y6yj, lr=0.0005, valid_loss=0.408, valid_acc=0.872, valid_auroc=0.948, valid_f1=0.844, train_loss=0.213, train_acc=0.921, train_auroc=0.983, train_f1=0.921]"
     ]
    },
    {
     "name": "stderr",
     "output_type": "stream",
     "text": [
      "Epoch 31, global step 2912: 'valid_auroc' reached 0.94786 (best 0.94786), saving model to 'wandb_logs/awin-ecg-centralized/lwtoy6yj/checkpoints/epoch=31-step=2912.ckpt' as top 1\n"
     ]
    },
    {
     "name": "stdout",
     "output_type": "stream",
     "text": [
      "\n",
      "Valid Confusion Matrix:\n",
      "tensor([[690,   5,  67],\n",
      "        [  1, 101,  12],\n",
      "        [ 48,  26, 288]], device='cuda:0')\n",
      "Epoch 32: 100%|██████████| 91/91 [00:17<00:00,  5.07it/s, v_num=y6yj, lr=0.0005, valid_loss=0.497, valid_acc=0.841, valid_auroc=0.937, valid_f1=0.814, train_loss=0.219, train_acc=0.919, train_auroc=0.982, train_f1=0.919]"
     ]
    },
    {
     "name": "stderr",
     "output_type": "stream",
     "text": [
      "Epoch 32, global step 3003: 'valid_auroc' was not in top 1\n"
     ]
    },
    {
     "name": "stdout",
     "output_type": "stream",
     "text": [
      "\n",
      "Valid Confusion Matrix:\n",
      "tensor([[655,  10,  97],\n",
      "        [  1, 103,  10],\n",
      "        [ 47,  32, 283]], device='cuda:0')\n",
      "Epoch 33: 100%|██████████| 91/91 [00:17<00:00,  5.08it/s, v_num=y6yj, lr=0.0005, valid_loss=0.460, valid_acc=0.863, valid_auroc=0.944, valid_f1=0.840, train_loss=0.211, train_acc=0.920, train_auroc=0.982, train_f1=0.920]"
     ]
    },
    {
     "name": "stderr",
     "output_type": "stream",
     "text": [
      "Epoch 33, global step 3094: 'valid_auroc' was not in top 1\n"
     ]
    },
    {
     "name": "stdout",
     "output_type": "stream",
     "text": [
      "\n",
      "Valid Confusion Matrix:\n",
      "tensor([[679,   5,  78],\n",
      "        [  0, 102,  12],\n",
      "        [ 49,  25, 288]], device='cuda:0')\n",
      "Epoch 34: 100%|██████████| 91/91 [00:17<00:00,  5.08it/s, v_num=y6yj, lr=0.0005, valid_loss=0.433, valid_acc=0.872, valid_auroc=0.946, valid_f1=0.847, train_loss=0.203, train_acc=0.921, train_auroc=0.985, train_f1=0.920]"
     ]
    },
    {
     "name": "stderr",
     "output_type": "stream",
     "text": [
      "Epoch 34, global step 3185: 'valid_auroc' was not in top 1\n"
     ]
    },
    {
     "name": "stdout",
     "output_type": "stream",
     "text": [
      "\n",
      "Valid Confusion Matrix:\n",
      "tensor([[692,   5,  65],\n",
      "        [  1, 100,  13],\n",
      "        [ 53,  21, 288]], device='cuda:0')\n",
      "Epoch 35: 100%|██████████| 91/91 [00:17<00:00,  5.08it/s, v_num=y6yj, lr=0.0005, valid_loss=0.475, valid_acc=0.863, valid_auroc=0.944, valid_f1=0.842, train_loss=0.193, train_acc=0.930, train_auroc=0.986, train_f1=0.930]"
     ]
    },
    {
     "name": "stderr",
     "output_type": "stream",
     "text": [
      "Epoch 35, global step 3276: 'valid_auroc' was not in top 1\n"
     ]
    },
    {
     "name": "stdout",
     "output_type": "stream",
     "text": [
      "\n",
      "Valid Confusion Matrix:\n",
      "tensor([[669,   7,  86],\n",
      "        [  0, 105,   9],\n",
      "        [ 42,  26, 294]], device='cuda:0')\n",
      "Epoch 36: 100%|██████████| 91/91 [00:17<00:00,  5.08it/s, v_num=y6yj, lr=0.0005, valid_loss=0.422, valid_acc=0.869, valid_auroc=0.948, valid_f1=0.841, train_loss=0.194, train_acc=0.927, train_auroc=0.986, train_f1=0.927]"
     ]
    },
    {
     "name": "stderr",
     "output_type": "stream",
     "text": [
      "Epoch 36, global step 3367: 'valid_auroc' was not in top 1\n"
     ]
    },
    {
     "name": "stdout",
     "output_type": "stream",
     "text": [
      "\n",
      "Valid Confusion Matrix:\n",
      "tensor([[688,   9,  65],\n",
      "        [  0, 102,  12],\n",
      "        [ 51,  25, 286]], device='cuda:0')\n",
      "Epoch 37: 100%|██████████| 91/91 [00:17<00:00,  5.08it/s, v_num=y6yj, lr=0.00025, valid_loss=0.428, valid_acc=0.868, valid_auroc=0.947, valid_f1=0.842, train_loss=0.182, train_acc=0.929, train_auroc=0.988, train_f1=0.928]"
     ]
    },
    {
     "name": "stderr",
     "output_type": "stream",
     "text": [
      "Epoch 37, global step 3458: 'valid_auroc' was not in top 1\n"
     ]
    },
    {
     "name": "stdout",
     "output_type": "stream",
     "text": [
      "\n",
      "Valid Confusion Matrix:\n",
      "tensor([[688,   7,  67],\n",
      "        [  1, 102,  11],\n",
      "        [ 54,  24, 284]], device='cuda:0')\n",
      "Epoch 38: 100%|██████████| 91/91 [00:17<00:00,  5.08it/s, v_num=y6yj, lr=0.00025, valid_loss=0.462, valid_acc=0.862, valid_auroc=0.946, valid_f1=0.838, train_loss=0.181, train_acc=0.935, train_auroc=0.987, train_f1=0.935]"
     ]
    },
    {
     "name": "stderr",
     "output_type": "stream",
     "text": [
      "Epoch 38, global step 3549: 'valid_auroc' was not in top 1\n"
     ]
    },
    {
     "name": "stdout",
     "output_type": "stream",
     "text": [
      "\n",
      "Valid Confusion Matrix:\n",
      "tensor([[673,   9,  80],\n",
      "        [  0, 103,  11],\n",
      "        [ 47,  24, 291]], device='cuda:0')\n",
      "Epoch 39: 100%|██████████| 91/91 [00:17<00:00,  5.08it/s, v_num=y6yj, lr=0.00025, valid_loss=0.428, valid_acc=0.882, valid_auroc=0.948, valid_f1=0.860, train_loss=0.178, train_acc=0.933, train_auroc=0.988, train_f1=0.934]"
     ]
    },
    {
     "name": "stderr",
     "output_type": "stream",
     "text": [
      "Epoch 39, global step 3640: 'valid_auroc' reached 0.94810 (best 0.94810), saving model to 'wandb_logs/awin-ecg-centralized/lwtoy6yj/checkpoints/epoch=39-step=3640.ckpt' as top 1\n"
     ]
    },
    {
     "name": "stdout",
     "output_type": "stream",
     "text": [
      "\n",
      "Valid Confusion Matrix:\n",
      "tensor([[691,   6,  65],\n",
      "        [  0, 106,   8],\n",
      "        [ 43,  24, 295]], device='cuda:0')\n",
      "Epoch 40: 100%|██████████| 91/91 [00:17<00:00,  5.07it/s, v_num=y6yj, lr=0.00025, valid_loss=0.417, valid_acc=0.874, valid_auroc=0.948, valid_f1=0.849, train_loss=0.188, train_acc=0.931, train_auroc=0.987, train_f1=0.932]"
     ]
    },
    {
     "name": "stderr",
     "output_type": "stream",
     "text": [
      "Epoch 40, global step 3731: 'valid_auroc' was not in top 1\n"
     ]
    },
    {
     "name": "stdout",
     "output_type": "stream",
     "text": [
      "\n",
      "Valid Confusion Matrix:\n",
      "tensor([[689,   7,  66],\n",
      "        [  0, 102,  12],\n",
      "        [ 49,  22, 291]], device='cuda:0')\n",
      "Epoch 41: 100%|██████████| 91/91 [00:17<00:00,  5.07it/s, v_num=y6yj, lr=0.00025, valid_loss=0.441, valid_acc=0.875, valid_auroc=0.948, valid_f1=0.848, train_loss=0.162, train_acc=0.941, train_auroc=0.990, train_f1=0.941]"
     ]
    },
    {
     "name": "stderr",
     "output_type": "stream",
     "text": [
      "Epoch 41, global step 3822: 'valid_auroc' was not in top 1\n"
     ]
    },
    {
     "name": "stdout",
     "output_type": "stream",
     "text": [
      "\n",
      "Valid Confusion Matrix:\n",
      "tensor([[695,   3,  64],\n",
      "        [  1,  95,  18],\n",
      "        [ 52,  17, 293]], device='cuda:0')\n",
      "Epoch 42: 100%|██████████| 91/91 [00:17<00:00,  5.07it/s, v_num=y6yj, lr=0.00025, valid_loss=0.465, valid_acc=0.872, valid_auroc=0.944, valid_f1=0.847, train_loss=0.175, train_acc=0.937, train_auroc=0.988, train_f1=0.936]"
     ]
    },
    {
     "name": "stderr",
     "output_type": "stream",
     "text": [
      "Epoch 42, global step 3913: 'valid_auroc' was not in top 1\n"
     ]
    },
    {
     "name": "stdout",
     "output_type": "stream",
     "text": [
      "\n",
      "Valid Confusion Matrix:\n",
      "tensor([[690,   6,  66],\n",
      "        [  1, 101,  12],\n",
      "        [ 51,  22, 289]], device='cuda:0')\n",
      "Epoch 43: 100%|██████████| 91/91 [00:17<00:00,  5.07it/s, v_num=y6yj, lr=0.00025, valid_loss=0.458, valid_acc=0.876, valid_auroc=0.946, valid_f1=0.852, train_loss=0.155, train_acc=0.941, train_auroc=0.990, train_f1=0.941]\n",
      "Valid Confusion Matrix:\n",
      "tensor([[683,   8,  71],\n",
      "        [  0, 104,  10],\n",
      "        [ 42,  23, 297]], device='cuda:0')\n"
     ]
    },
    {
     "name": "stderr",
     "output_type": "stream",
     "text": [
      "Epoch 43, global step 4004: 'valid_auroc' was not in top 1\n"
     ]
    },
    {
     "name": "stdout",
     "output_type": "stream",
     "text": [
      "Epoch 44: 100%|██████████| 91/91 [00:17<00:00,  5.08it/s, v_num=y6yj, lr=0.00025, valid_loss=0.435, valid_acc=0.880, valid_auroc=0.946, valid_f1=0.855, train_loss=0.163, train_acc=0.938, train_auroc=0.990, train_f1=0.937]"
     ]
    },
    {
     "name": "stderr",
     "output_type": "stream",
     "text": [
      "Epoch 44, global step 4095: 'valid_auroc' was not in top 1\n"
     ]
    },
    {
     "name": "stdout",
     "output_type": "stream",
     "text": [
      "\n",
      "Valid Confusion Matrix:\n",
      "tensor([[698,   6,  58],\n",
      "        [  0, 102,  12],\n",
      "        [ 50,  22, 290]], device='cuda:0')\n",
      "Epoch 45: 100%|██████████| 91/91 [00:17<00:00,  5.08it/s, v_num=y6yj, lr=0.00025, valid_loss=0.467, valid_acc=0.868, valid_auroc=0.944, valid_f1=0.841, train_loss=0.146, train_acc=0.944, train_auroc=0.992, train_f1=0.944]"
     ]
    },
    {
     "name": "stderr",
     "output_type": "stream",
     "text": [
      "Epoch 45, global step 4186: 'valid_auroc' was not in top 1\n"
     ]
    },
    {
     "name": "stdout",
     "output_type": "stream",
     "text": [
      "\n",
      "Valid Confusion Matrix:\n",
      "tensor([[690,   6,  66],\n",
      "        [  1,  99,  14],\n",
      "        [ 56,  21, 285]], device='cuda:0')\n",
      "Epoch 46: 100%|██████████| 91/91 [00:17<00:00,  5.08it/s, v_num=y6yj, lr=0.00025, valid_loss=0.473, valid_acc=0.872, valid_auroc=0.944, valid_f1=0.847, train_loss=0.161, train_acc=0.940, train_auroc=0.990, train_f1=0.939]"
     ]
    },
    {
     "name": "stderr",
     "output_type": "stream",
     "text": [
      "Epoch 46, global step 4277: 'valid_auroc' was not in top 1\n"
     ]
    },
    {
     "name": "stdout",
     "output_type": "stream",
     "text": [
      "\n",
      "Valid Confusion Matrix:\n",
      "tensor([[690,   7,  65],\n",
      "        [  0, 105,   9],\n",
      "        [ 53,  25, 284]], device='cuda:0')\n",
      "Epoch 47: 100%|██████████| 91/91 [00:17<00:00,  5.07it/s, v_num=y6yj, lr=0.00025, valid_loss=0.511, valid_acc=0.870, valid_auroc=0.940, valid_f1=0.852, train_loss=0.163, train_acc=0.938, train_auroc=0.989, train_f1=0.938]"
     ]
    },
    {
     "name": "stderr",
     "output_type": "stream",
     "text": [
      "Epoch 47, global step 4368: 'valid_auroc' was not in top 1\n"
     ]
    },
    {
     "name": "stdout",
     "output_type": "stream",
     "text": [
      "\n",
      "Valid Confusion Matrix:\n",
      "tensor([[678,   7,  77],\n",
      "        [  0, 107,   7],\n",
      "        [ 47,  23, 292]], device='cuda:0')\n",
      "Epoch 48: 100%|██████████| 91/91 [00:17<00:00,  5.07it/s, v_num=y6yj, lr=0.00025, valid_loss=0.456, valid_acc=0.874, valid_auroc=0.947, valid_f1=0.849, train_loss=0.158, train_acc=0.942, train_auroc=0.990, train_f1=0.943]"
     ]
    },
    {
     "name": "stderr",
     "output_type": "stream",
     "text": [
      "Epoch 48, global step 4459: 'valid_auroc' was not in top 1\n"
     ]
    },
    {
     "name": "stdout",
     "output_type": "stream",
     "text": [
      "\n",
      "Valid Confusion Matrix:\n",
      "tensor([[694,   4,  64],\n",
      "        [  1,  99,  14],\n",
      "        [ 53,  20, 289]], device='cuda:0')\n",
      "Epoch 49: 100%|██████████| 91/91 [00:17<00:00,  5.07it/s, v_num=y6yj, lr=0.00025, valid_loss=0.477, valid_acc=0.863, valid_auroc=0.946, valid_f1=0.840, train_loss=0.147, train_acc=0.944, train_auroc=0.992, train_f1=0.944]"
     ]
    },
    {
     "name": "stderr",
     "output_type": "stream",
     "text": [
      "Epoch 49, global step 4550: 'valid_auroc' was not in top 1\n"
     ]
    },
    {
     "name": "stdout",
     "output_type": "stream",
     "text": [
      "\n",
      "Valid Confusion Matrix:\n",
      "tensor([[676,   4,  82],\n",
      "        [  0,  97,  17],\n",
      "        [ 48,  19, 295]], device='cuda:0')\n"
     ]
    },
    {
     "name": "stderr",
     "output_type": "stream",
     "text": [
      "`Trainer.fit` stopped: `max_epochs=50` reached.\n"
     ]
    }
   ],
   "source": [
    "trainer.fit(model, datamodule=dm)"
   ]
  },
  {
   "cell_type": "markdown",
   "metadata": {},
   "source": [
    "## Evaluate the Model on the Test Set\n"
   ]
  },
  {
   "cell_type": "code",
   "execution_count": 7,
   "metadata": {},
   "outputs": [],
   "source": [
    "from sklearn.metrics import (\n",
    "    ConfusionMatrixDisplay,\n",
    "    confusion_matrix,\n",
    "    f1_score,\n",
    "    accuracy_score,\n",
    ")\n",
    "from torchmetrics.aggregation import CatMetric, MeanMetric\n",
    "from torchmetrics.functional.classification import multiclass_auroc\n",
    "import torch\n",
    "\n",
    "def aggregate_metrics(results):\n",
    "    loss_metric = MeanMetric()\n",
    "    y_pred_metric = CatMetric()\n",
    "    y_metric = CatMetric()\n",
    "\n",
    "    for result in results:\n",
    "        loss_metric.update(result[\"loss\"])\n",
    "        y_pred_metric.update(result[\"y_pred\"])\n",
    "        y_metric.update(result[\"y\"])\n",
    "    loss = loss_metric.compute()\n",
    "    y_pred = y_pred_metric.compute()\n",
    "    y = y_metric.compute().to(torch.long)\n",
    "    y_hat = y_pred.argmax(dim=1).to(torch.long)\n",
    "    \n",
    "    return loss, y_pred, y, y_hat"
   ]
  },
  {
   "cell_type": "code",
   "execution_count": 8,
   "metadata": {},
   "outputs": [
    {
     "name": "stderr",
     "output_type": "stream",
     "text": [
      "LOCAL_RANK: 0 - CUDA_VISIBLE_DEVICES: [0]\n"
     ]
    },
    {
     "name": "stdout",
     "output_type": "stream",
     "text": [
      "Predicting DataLoader 0: 100%|██████████| 20/20 [00:00<00:00, 20.70it/s]\n",
      "test_loss: 0.5083109736442566\n",
      "test_auroc: 0.9366245269775391\n",
      "              precision    recall  f1-score   support\n",
      "\n",
      "           N       0.91      0.88      0.89       762\n",
      "           A       0.83      0.79      0.81       114\n",
      "           O       0.72      0.78      0.75       362\n",
      "\n",
      "    accuracy                           0.84      1238\n",
      "   macro avg       0.82      0.82      0.82      1238\n",
      "weighted avg       0.85      0.84      0.84      1238\n",
      "\n"
     ]
    },
    {
     "data": {
      "image/png": "[encoded data removed]",
      "text/plain": [
       "<Figure size 640x480 with 2 Axes>"
      ]
     },
     "metadata": {},
     "output_type": "display_data"
    }
   ],
   "source": [
    "model = DenseNetGruEcgModule.load_from_checkpoint(checkpoint_callback.last_model_path)\n",
    "results = trainer.predict(model, dataloaders=dm)\n",
    "test_loss, test_y_pred, test_y, test_y_hat = aggregate_metrics(results)\n",
    "\n",
    "# loss\n",
    "print(f\"test_loss: {test_loss}\")\n",
    "\n",
    "# # auroc\n",
    "test_auroc = multiclass_auroc(test_y_pred, test_y, num_classes=dm.num_classes)\n",
    "print(f\"test_auroc: {test_auroc}\")\n",
    "\n",
    "# classification report\n",
    "print(classification_report(test_y, test_y_hat, target_names=dm.test_set.classes))\n",
    "\n",
    "# confusion matrix\n",
    "test_cm = confusion_matrix(test_y, test_y_hat)\n",
    "test_cm_disp = ConfusionMatrixDisplay(\n",
    "    confusion_matrix=test_cm, display_labels=dm.test_set.classes\n",
    ")\n",
    "test_cm_disp.plot(cmap=\"Blues\")\n",
    "plt.show()\n",
    "\n",
    "# logger\n",
    "if wandb_mode != \"disabled\":\n",
    "    wandb.log({\"last_test_loss\": test_loss.item()})\n",
    "    wandb.log({\"last_test_auroc\": test_auroc.item()})\n",
    "    wandb.log({\"last_test_f1\": f1_score(test_y, test_y_hat, average=\"macro\")})\n",
    "    wandb.log({\"last_test_accuracy\": accuracy_score(test_y, test_y_hat)})\n",
    "    wandb.log({\"last_test_cm\": test_cm_disp.figure_})"
   ]
  },
  {
   "cell_type": "code",
   "execution_count": 9,
   "metadata": {},
   "outputs": [
    {
     "name": "stderr",
     "output_type": "stream",
     "text": [
      "LOCAL_RANK: 0 - CUDA_VISIBLE_DEVICES: [0]\n"
     ]
    },
    {
     "name": "stdout",
     "output_type": "stream",
     "text": [
      "Predicting DataLoader 0: 100%|██████████| 20/20 [00:00<00:00, 20.75it/s]\n",
      "test_loss: 0.45205241441726685\n",
      "test_auroc: 0.9376425743103027\n",
      "              precision    recall  f1-score   support\n",
      "\n",
      "           N       0.92      0.89      0.90       762\n",
      "           A       0.79      0.87      0.83       114\n",
      "           O       0.75      0.78      0.76       362\n",
      "\n",
      "    accuracy                           0.86      1238\n",
      "   macro avg       0.82      0.85      0.83      1238\n",
      "weighted avg       0.86      0.86      0.86      1238\n",
      "\n"
     ]
    },
    {
     "data": {
      "image/png": "[encoded data removed]",
      "text/plain": [
       "<Figure size 640x480 with 2 Axes>"
      ]
     },
     "metadata": {},
     "output_type": "display_data"
    }
   ],
   "source": [
    "model = DenseNetGruEcgModule.load_from_checkpoint(checkpoint_callback.best_model_path)\n",
    "results = trainer.predict(model, dataloaders=dm)\n",
    "test_loss, test_y_pred, test_y, test_y_hat = aggregate_metrics(results)\n",
    "\n",
    "# loss\n",
    "print(f\"test_loss: {test_loss}\")\n",
    "\n",
    "# # auroc\n",
    "test_auroc = multiclass_auroc(test_y_pred, test_y, num_classes=dm.num_classes)\n",
    "print(f\"test_auroc: {test_auroc}\")\n",
    "\n",
    "# classification report\n",
    "print(classification_report(test_y, test_y_hat, target_names=dm.test_set.classes))\n",
    "\n",
    "# confusion matrix\n",
    "test_cm = confusion_matrix(test_y, test_y_hat)\n",
    "test_cm_disp = ConfusionMatrixDisplay(\n",
    "    confusion_matrix=test_cm, display_labels=dm.test_set.classes\n",
    ")\n",
    "test_cm_disp.plot(cmap=\"Blues\")\n",
    "plt.show()\n",
    "\n",
    "# logger\n",
    "if wandb_mode != \"disabled\":\n",
    "    wandb.log({\"best_test_loss\": test_loss.item()})\n",
    "    wandb.log({\"best_test_auroc\": test_auroc.item()})\n",
    "    wandb.log({\"best_test_f1\": f1_score(test_y, test_y_hat, average=\"macro\")})\n",
    "    wandb.log({\"best_test_accuracy\": accuracy_score(test_y, test_y_hat)})\n",
    "    wandb.log({\"best_test_cm\": test_cm_disp.figure_})"
   ]
  },
  {
   "cell_type": "code",
   "execution_count": 10,
   "metadata": {},
   "outputs": [
    {
     "data": {
      "text/html": [],
      "text/plain": [
       "<IPython.core.display.HTML object>"
      ]
     },
     "metadata": {},
     "output_type": "display_data"
    },
    {
     "data": {
      "text/html": [
       "<br>    <style><br>        .wandb-row {<br>            display: flex;<br>            flex-direction: row;<br>            flex-wrap: wrap;<br>            justify-content: flex-start;<br>            width: 100%;<br>        }<br>        .wandb-col {<br>            display: flex;<br>            flex-direction: column;<br>            flex-basis: 100%;<br>            flex: 1;<br>            padding: 10px;<br>        }<br>    </style><br><div class=\"wandb-row\"><div class=\"wandb-col\"><h3>Run history:</h3><br/><table class=\"wandb\"><tr><td>best_test_accuracy</td><td>▁</td></tr><tr><td>best_test_auroc</td><td>▁</td></tr><tr><td>best_test_f1</td><td>▁</td></tr><tr><td>best_test_loss</td><td>▁</td></tr><tr><td>epoch</td><td>▁▁▁▁▁▂▂▂▂▂▃▃▃▃▃▃▃▄▄▄▄▅▅▅▆▆▆▇▇▇▇▇▇▇▇█████</td></tr><tr><td>last_test_accuracy</td><td>▁</td></tr><tr><td>last_test_auroc</td><td>▁</td></tr><tr><td>last_test_f1</td><td>▁</td></tr><tr><td>last_test_loss</td><td>▁</td></tr><tr><td>lr</td><td>████████████████████▃▃▃▃▃▃▃▃▃▃▃▁▁▁▁▁▁▁▁▁</td></tr><tr><td>train_acc</td><td>▁▂▄▅▅▆▆▇▇▇▇▇▇▇▇▇▇▇▇▇▇███████████████████</td></tr><tr><td>train_auroc</td><td>▁▃▅▆▆▇▇▇▇▇▇▇▇▇██████████████████████████</td></tr><tr><td>train_f1</td><td>▁▂▄▅▅▆▆▆▇▇▇▇▇▇▇▇▇▇▇▇████████████████████</td></tr><tr><td>train_loss</td><td>█▇▆▅▅▄▃▃▃▃▃▃▃▃▃▂▂▂▂▂▂▂▂▂▂▂▁▂▁▁▁▁▁▁▁▁▁▁▁▁</td></tr><tr><td>trainer/global_step</td><td>▁▁▁▁▁▁▁▁▂▂▂▂▂▃▃▃▃▃▃▄▄▄▄▄▅▅▅▅▅▆▆▇▇▇▇▇████</td></tr><tr><td>valid_acc</td><td>▁▃▅▆▆▆▇▇▇█▇▇▇▇▇█▇██▇██▇▇███▇████████████</td></tr><tr><td>valid_auroc</td><td>▁▅▆▇█▇██████████████████████████████████</td></tr><tr><td>valid_f1</td><td>▁▄▆▆▇▆▇▇█▇▇▇▇▇▇██▇█▇▇▇███▇██████████████</td></tr><tr><td>valid_loss</td><td>█▇▄▃▂▂▁▂▁▁▂▁▂▂▁▁▁▁▁▁▂▂▁▁▁▂▂▁▂▁▂▁▁▁▂▁▂▂▂▂</td></tr></table><br/></div><div class=\"wandb-col\"><h3>Run summary:</h3><br/><table class=\"wandb\"><tr><td>best_test_accuracy</td><td>0.85541</td></tr><tr><td>best_test_auroc</td><td>0.93764</td></tr><tr><td>best_test_f1</td><td>0.8324</td></tr><tr><td>best_test_loss</td><td>0.45205</td></tr><tr><td>epoch</td><td>49</td></tr><tr><td>last_test_accuracy</td><td>0.84249</td></tr><tr><td>last_test_auroc</td><td>0.93662</td></tr><tr><td>last_test_f1</td><td>0.8173</td></tr><tr><td>last_test_loss</td><td>0.50831</td></tr><tr><td>lr</td><td>0.00025</td></tr><tr><td>train_acc</td><td>0.94405</td></tr><tr><td>train_auroc</td><td>0.99151</td></tr><tr><td>train_f1</td><td>0.94394</td></tr><tr><td>train_loss</td><td>0.14702</td></tr><tr><td>trainer/global_step</td><td>4549</td></tr><tr><td>valid_acc</td><td>0.86268</td></tr><tr><td>valid_auroc</td><td>0.94619</td></tr><tr><td>valid_f1</td><td>0.83977</td></tr><tr><td>valid_loss</td><td>0.47654</td></tr></table><br/></div></div>"
      ],
      "text/plain": [
       "<IPython.core.display.HTML object>"
      ]
     },
     "metadata": {},
     "output_type": "display_data"
    },
    {
     "data": {
      "text/html": [
       " View run <strong style=\"color:#cdcd00\">awin-ecg-centralized</strong> at: <a href='https://wandb.ai/devilhyt/awin-ecg-centralized/runs/lwtoy6yj' target=\"_blank\">https://wandb.ai/devilhyt/awin-ecg-centralized/runs/lwtoy6yj</a><br> View project at: <a href='https://wandb.ai/devilhyt/awin-ecg-centralized' target=\"_blank\">https://wandb.ai/devilhyt/awin-ecg-centralized</a><br>Synced 5 W&B file(s), 2 media file(s), 4 artifact file(s) and 0 other file(s)"
      ],
      "text/plain": [
       "<IPython.core.display.HTML object>"
      ]
     },
     "metadata": {},
     "output_type": "display_data"
    },
    {
     "data": {
      "text/html": [
       "Find logs at: <code>wandb_logs/wandb/run-20250223_015028-lwtoy6yj/logs</code>"
      ],
      "text/plain": [
       "<IPython.core.display.HTML object>"
      ]
     },
     "metadata": {},
     "output_type": "display_data"
    }
   ],
   "source": [
    "wandb.finish()"
   ]
  }
 ],
 "metadata": {
  "kernelspec": {
   "display_name": "awin-ecg",
   "language": "python",
   "name": "python3"
  },
  "language_info": {
   "codemirror_mode": {
    "name": "ipython",
    "version": 3
   },
   "file_extension": ".py",
   "mimetype": "text/x-python",
   "name": "python",
   "nbconvert_exporter": "python",
   "pygments_lexer": "ipython3",
   "version": "3.11.11"
  }
 },
 "nbformat": 4,
 "nbformat_minor": 2
}
