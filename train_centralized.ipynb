{
 "cells": [
  {
   "cell_type": "markdown",
   "metadata": {},
   "source": [
    "# Centralized learning for ECG Arrhythmia detection\n"
   ]
  },
  {
   "cell_type": "code",
   "execution_count": 1,
   "metadata": {},
   "outputs": [
    {
     "name": "stderr",
     "output_type": "stream",
     "text": [
      "/home/g113056077/.pyenv/versions/awin-ecg/lib/python3.11/site-packages/tqdm/auto.py:21: TqdmWarning: IProgress not found. Please update jupyter and ipywidgets. See https://ipywidgets.readthedocs.io/en/stable/user_install.html\n",
      "  from .autonotebook import tqdm as notebook_tqdm\n"
     ]
    }
   ],
   "source": [
    "import configparser\n",
    "import os\n",
    "from pathlib import Path\n",
    "\n",
    "import lightning as L\n",
    "import matplotlib.pyplot as plt\n",
    "import wandb\n",
    "from dotenv import load_dotenv\n",
    "from lightning.pytorch.callbacks import EarlyStopping, ModelCheckpoint, TQDMProgressBar\n",
    "from lightning.pytorch.loggers import TensorBoardLogger, WandbLogger\n",
    "\n",
    "from dataset_utils import Cinc2017DataModule\n",
    "from model import DenseNetEcgModule"
   ]
  },
  {
   "cell_type": "markdown",
   "metadata": {},
   "source": [
    "## Config\n"
   ]
  },
  {
   "cell_type": "code",
   "execution_count": 2,
   "metadata": {},
   "outputs": [],
   "source": [
    "load_dotenv()\n",
    "wandb_mode = os.getenv(\"WANDB_MODE\")\n",
    "\n",
    "config = configparser.ConfigParser()\n",
    "config.read(\"config.ini\")\n",
    "dst_freq = config.getint(\"data_preprocessing\", \"dst_freq\")\n",
    "dst_time = config.getint(\"data_preprocessing\", \"dst_time\")\n",
    "dst_length = dst_freq * dst_time\n",
    "\n",
    "MAX_EPOCHS = 50"
   ]
  },
  {
   "cell_type": "markdown",
   "metadata": {},
   "source": [
    "## Prepare the Dataset\n"
   ]
  },
  {
   "cell_type": "code",
   "execution_count": 3,
   "metadata": {},
   "outputs": [],
   "source": [
    "BATCH_SIZE = 64\n",
    "dm = Cinc2017DataModule(batch_size=BATCH_SIZE)"
   ]
  },
  {
   "cell_type": "markdown",
   "metadata": {},
   "source": [
    "## Create the Model\n"
   ]
  },
  {
   "cell_type": "code",
   "execution_count": 4,
   "metadata": {},
   "outputs": [],
   "source": [
    "model = DenseNetEcgModule(\n",
    "    max_epochs=MAX_EPOCHS,\n",
    "    num_classes=dm.num_classes,\n",
    "    input_length=dst_length,\n",
    "    lr_scheduler_mode=\"multi_step\",\n",
    "    lr=1e-3,\n",
    "    # min_lr = 1e-4,\n",
    "    show_valid_cm=True,\n",
    "    growth_rate=32,\n",
    "    block_config=(6, 4, 4, 12, 8, 8, 24),\n",
    "    num_init_features=64,\n",
    "    bn_size=2,\n",
    "    db_drop_rate=0.2,\n",
    "    memory_efficient=False,\n",
    "    compression_factor=0.5,\n",
    ")\n",
    "\n",
    "# the number of features per denseblock:\n",
    "# (64  +  6 * 32) // 2 = 128\n",
    "# (128 +  4 * 32) // 2 = 128\n",
    "# (128 +  4 * 32) // 2 = 128\n",
    "# (128 + 12 * 32) // 2 = 256\n",
    "# (256 +  8 * 32) // 2 = 256\n",
    "# (256 +  8 * 32) // 2 = 256\n",
    "# (256 + 24 * 32) // 2 = 512"
   ]
  },
  {
   "cell_type": "markdown",
   "metadata": {},
   "source": [
    "## Create the Trainer\n"
   ]
  },
  {
   "cell_type": "code",
   "execution_count": 5,
   "metadata": {},
   "outputs": [
    {
     "name": "stderr",
     "output_type": "stream",
     "text": [
      "GPU available: True (cuda), used: True\n",
      "TPU available: False, using: 0 TPU cores\n",
      "HPU available: False, using: 0 HPUs\n"
     ]
    }
   ],
   "source": [
    "checkpoint_callback = ModelCheckpoint(\n",
    "    monitor=\"valid_auprc\",\n",
    "    verbose=True,\n",
    "    mode=\"max\",\n",
    "    save_top_k=1,\n",
    "    save_last=True,\n",
    ")\n",
    "\n",
    "# early_stopping_callback = EarlyStopping(\n",
    "#     monitor=\"valid_loss\", patience=8, verbose=True, mode=\"min\"\n",
    "# )\n",
    "\n",
    "progress_bar_callback = TQDMProgressBar(leave=True)\n",
    "\n",
    "project_name = \"awin-densenet-ecg-centralized\"\n",
    "if wandb_mode == \"disabled\":\n",
    "    logger = TensorBoardLogger(save_dir=Path(\"tb_logs\"), name=project_name)\n",
    "else:\n",
    "    logger = WandbLogger(\n",
    "        project=project_name, save_dir=Path(\"wandb_logs\"), log_model=True, name=project_name\n",
    "    )\n",
    "\n",
    "trainer = L.Trainer(\n",
    "    max_epochs=MAX_EPOCHS,\n",
    "    callbacks=[checkpoint_callback, progress_bar_callback],\n",
    "    logger=logger,\n",
    ")"
   ]
  },
  {
   "cell_type": "code",
   "execution_count": 6,
   "metadata": {},
   "outputs": [
    {
     "data": {
      "text/plain": [
       "===============================================================================================\n",
       "Layer (type:depth-idx)                        Output Shape              Param #\n",
       "===============================================================================================\n",
       "DenseNetEcgModule                             [64, 3]                   --\n",
       "├─DenseNetEcg: 1-1                            [64, 3]                   --\n",
       "│    └─Sequential: 2-1                        [64, 512, 11]             --\n",
       "│    │    └─Conv1d: 3-1                       [64, 64, 2900]            448\n",
       "│    │    └─BatchNorm1d: 3-2                  [64, 64, 2900]            128\n",
       "│    │    └─ReLU: 3-3                         [64, 64, 2900]            --\n",
       "│    │    └─MaxPool1d: 3-4                    [64, 64, 1450]            --\n",
       "│    │    └─_DenseBlock: 3-5                  [64, 256, 1450]           94,656\n",
       "│    │    └─_Transition: 3-6                  [64, 128, 725]            33,280\n",
       "│    │    └─_DenseBlock: 3-7                  [64, 256, 725]            71,552\n",
       "│    │    └─_Transition: 3-8                  [64, 128, 362]            33,280\n",
       "│    │    └─_DenseBlock: 3-9                  [64, 256, 362]            71,552\n",
       "│    │    └─_Transition: 3-10                 [64, 128, 181]            33,280\n",
       "│    │    └─_DenseBlock: 3-11                 [64, 512, 181]            316,032\n",
       "│    │    └─_Transition: 3-12                 [64, 256, 90]             132,096\n",
       "│    │    └─_DenseBlock: 3-13                 [64, 512, 90]             244,480\n",
       "│    │    └─_Transition: 3-14                 [64, 256, 45]             132,096\n",
       "│    │    └─_DenseBlock: 3-15                 [64, 512, 45]             244,480\n",
       "│    │    └─_Transition: 3-16                 [64, 256, 22]             132,096\n",
       "│    │    └─_DenseBlock: 3-17                 [64, 1024, 22]            1,138,944\n",
       "│    │    └─_Transition: 3-18                 [64, 512, 11]             526,336\n",
       "│    │    └─BatchNorm1d: 3-19                 [64, 512, 11]             1,024\n",
       "│    │    └─LeakyReLU: 3-20                   [64, 512, 11]             --\n",
       "│    └─Sequential: 2-2                        [64, 3]                   --\n",
       "│    │    └─AdaptiveAvgPool1d: 3-21           [64, 512, 1]              --\n",
       "│    │    └─Flatten: 3-22                     [64, 512]                 --\n",
       "│    │    └─Linear: 3-23                      [64, 3]                   1,539\n",
       "===============================================================================================\n",
       "Total params: 3,207,299\n",
       "Trainable params: 3,207,299\n",
       "Non-trainable params: 0\n",
       "Total mult-adds (Units.GIGABYTES): 29.36\n",
       "===============================================================================================\n",
       "Input size (MB): 1.48\n",
       "Forward/backward pass size (MB): 3955.33\n",
       "Params size (MB): 12.83\n",
       "Estimated Total Size (MB): 3969.64\n",
       "==============================================================================================="
      ]
     },
     "execution_count": 6,
     "metadata": {},
     "output_type": "execute_result"
    }
   ],
   "source": [
    "from torchinfo import summary\n",
    "summary(model, input_size=(BATCH_SIZE, 1, dst_length))"
   ]
  },
  {
   "cell_type": "markdown",
   "metadata": {},
   "source": [
    "## Train the Model\n"
   ]
  },
  {
   "cell_type": "code",
   "execution_count": 7,
   "metadata": {},
   "outputs": [
    {
     "name": "stderr",
     "output_type": "stream",
     "text": [
      "\u001b[34m\u001b[1mwandb\u001b[0m: Using wandb-core as the SDK backend.  Please refer to https://wandb.me/wandb-core for more information.\n",
      "\u001b[34m\u001b[1mwandb\u001b[0m: Currently logged in as: \u001b[33mdevilhyt\u001b[0m to \u001b[32mhttps://api.wandb.ai\u001b[0m. Use \u001b[1m`wandb login --relogin`\u001b[0m to force relogin\n"
     ]
    },
    {
     "data": {
      "text/html": [
       "Tracking run with wandb version 0.19.7"
      ],
      "text/plain": [
       "<IPython.core.display.HTML object>"
      ]
     },
     "metadata": {},
     "output_type": "display_data"
    },
    {
     "data": {
      "text/html": [
       "Run data is saved locally in <code>wandb_logs/wandb/run-20250323_010834-pll8i34e</code>"
      ],
      "text/plain": [
       "<IPython.core.display.HTML object>"
      ]
     },
     "metadata": {},
     "output_type": "display_data"
    },
    {
     "data": {
      "text/html": [
       "Syncing run <strong><a href='https://wandb.ai/devilhyt/awin-densenet-ecg-centralized/runs/pll8i34e' target=\"_blank\">awin-densenet-ecg-centralized</a></strong> to <a href='https://wandb.ai/devilhyt/awin-densenet-ecg-centralized' target=\"_blank\">Weights & Biases</a> (<a href='https://wandb.me/developer-guide' target=\"_blank\">docs</a>)<br>"
      ],
      "text/plain": [
       "<IPython.core.display.HTML object>"
      ]
     },
     "metadata": {},
     "output_type": "display_data"
    },
    {
     "data": {
      "text/html": [
       " View project at <a href='https://wandb.ai/devilhyt/awin-densenet-ecg-centralized' target=\"_blank\">https://wandb.ai/devilhyt/awin-densenet-ecg-centralized</a>"
      ],
      "text/plain": [
       "<IPython.core.display.HTML object>"
      ]
     },
     "metadata": {},
     "output_type": "display_data"
    },
    {
     "data": {
      "text/html": [
       " View run at <a href='https://wandb.ai/devilhyt/awin-densenet-ecg-centralized/runs/pll8i34e' target=\"_blank\">https://wandb.ai/devilhyt/awin-densenet-ecg-centralized/runs/pll8i34e</a>"
      ],
      "text/plain": [
       "<IPython.core.display.HTML object>"
      ]
     },
     "metadata": {},
     "output_type": "display_data"
    },
    {
     "name": "stderr",
     "output_type": "stream",
     "text": [
      "LOCAL_RANK: 0 - CUDA_VISIBLE_DEVICES: [0]\n",
      "\n",
      "  | Name          | Type                      | Params | Mode  | In sizes     | Out sizes\n",
      "-----------------------------------------------------------------------------------------------\n",
      "0 | model         | DenseNetEcg               | 3.2 M  | train | [1, 1, 5800] | [1, 3]   \n",
      "1 | loss_fn       | CrossEntropyLoss          | 0      | train | ?            | ?        \n",
      "2 | train_metrics | MetricCollection          | 0      | train | ?            | ?        \n",
      "3 | valid_metrics | MetricCollection          | 0      | train | ?            | ?        \n",
      "4 | test_metrics  | MetricCollection          | 0      | train | ?            | ?        \n",
      "5 | valid_cm      | MulticlassConfusionMatrix | 0      | train | ?            | ?        \n",
      "6 | test_cm       | MulticlassConfusionMatrix | 0      | train | ?            | ?        \n",
      "-----------------------------------------------------------------------------------------------\n",
      "3.2 M     Trainable params\n",
      "0         Non-trainable params\n",
      "3.2 M     Total params\n",
      "12.829    Total estimated model params size (MB)\n",
      "600       Modules in train mode\n",
      "0         Modules in eval mode\n"
     ]
    },
    {
     "name": "stdout",
     "output_type": "stream",
     "text": [
      "Training: |          | 0/? [00:00<?, ?it/s]                                \n",
      "Epoch 0: 100%|██████████| 91/91 [00:09<00:00,  9.62it/s, v_num=i34e, lr=0.001, valid_loss=0.895, valid_acc=0.606, valid_auprc=0.431, valid_auroc=0.643, valid_f1=0.402, train_loss=1.080, train_acc=0.412, train_auprc=0.418, train_auroc=0.593, train_f1=0.406]"
     ]
    },
    {
     "name": "stderr",
     "output_type": "stream",
     "text": [
      "Epoch 0, global step 91: 'valid_auprc' reached 0.43080 (best 0.43080), saving model to 'wandb_logs/awin-densenet-ecg-centralized/pll8i34e/checkpoints/epoch=0-step=91.ckpt' as top 1\n"
     ]
    },
    {
     "name": "stdout",
     "output_type": "stream",
     "text": [
      "\n",
      "Valid Confusion Matrix:\n",
      "tensor([[681,  13,  68],\n",
      "        [ 73,  25,  16],\n",
      "        [285,  33,  44]], device='cuda:0')\n",
      "Epoch 1: 100%|██████████| 91/91 [00:09<00:00,  9.91it/s, v_num=i34e, lr=0.001, valid_loss=0.724, valid_acc=0.703, valid_auprc=0.627, valid_auroc=0.815, valid_f1=0.552, train_loss=0.979, train_acc=0.504, train_auprc=0.522, train_auroc=0.695, train_f1=0.499]"
     ]
    },
    {
     "name": "stderr",
     "output_type": "stream",
     "text": [
      "Epoch 1, global step 182: 'valid_auprc' reached 0.62667 (best 0.62667), saving model to 'wandb_logs/awin-densenet-ecg-centralized/pll8i34e/checkpoints/epoch=1-step=182.ckpt' as top 1\n"
     ]
    },
    {
     "name": "stdout",
     "output_type": "stream",
     "text": [
      "\n",
      "Valid Confusion Matrix:\n",
      "tensor([[717,  29,  16],\n",
      "        [ 26,  75,  13],\n",
      "        [188,  96,  78]], device='cuda:0')\n",
      "Epoch 2: 100%|██████████| 91/91 [00:09<00:00,  9.94it/s, v_num=i34e, lr=0.001, valid_loss=0.675, valid_acc=0.734, valid_auprc=0.759, valid_auroc=0.871, valid_f1=0.644, train_loss=0.795, train_acc=0.629, train_auprc=0.676, train_auroc=0.810, train_f1=0.622]"
     ]
    },
    {
     "name": "stderr",
     "output_type": "stream",
     "text": [
      "Epoch 2, global step 273: 'valid_auprc' reached 0.75878 (best 0.75878), saving model to 'wandb_logs/awin-densenet-ecg-centralized/pll8i34e/checkpoints/epoch=2-step=273.ckpt' as top 1\n"
     ]
    },
    {
     "name": "stdout",
     "output_type": "stream",
     "text": [
      "\n",
      "Valid Confusion Matrix:\n",
      "tensor([[677,  37,  48],\n",
      "        [ 13,  94,   7],\n",
      "        [150,  74, 138]], device='cuda:0')\n",
      "Epoch 3: 100%|██████████| 91/91 [00:09<00:00,  9.93it/s, v_num=i34e, lr=0.001, valid_loss=0.688, valid_acc=0.733, valid_auprc=0.744, valid_auroc=0.862, valid_f1=0.620, train_loss=0.651, train_acc=0.721, train_auprc=0.777, train_auroc=0.876, train_f1=0.718]"
     ]
    },
    {
     "name": "stderr",
     "output_type": "stream",
     "text": [
      "Epoch 3, global step 364: 'valid_auprc' was not in top 1\n"
     ]
    },
    {
     "name": "stdout",
     "output_type": "stream",
     "text": [
      "\n",
      "Valid Confusion Matrix:\n",
      "tensor([[719,  16,  27],\n",
      "        [ 11, 102,   1],\n",
      "        [187,  88,  87]], device='cuda:0')\n",
      "Epoch 4: 100%|██████████| 91/91 [00:09<00:00,  9.84it/s, v_num=i34e, lr=0.001, valid_loss=0.736, valid_acc=0.733, valid_auprc=0.771, valid_auroc=0.861, valid_f1=0.633, train_loss=0.620, train_acc=0.738, train_auprc=0.798, train_auroc=0.887, train_f1=0.733]"
     ]
    },
    {
     "name": "stderr",
     "output_type": "stream",
     "text": [
      "Epoch 4, global step 455: 'valid_auprc' reached 0.77103 (best 0.77103), saving model to 'wandb_logs/awin-densenet-ecg-centralized/pll8i34e/checkpoints/epoch=4-step=455.ckpt' as top 1\n"
     ]
    },
    {
     "name": "stdout",
     "output_type": "stream",
     "text": [
      "\n",
      "Valid Confusion Matrix:\n",
      "tensor([[678,  47,  37],\n",
      "        [  5, 107,   2],\n",
      "        [134, 106, 122]], device='cuda:0')\n",
      "Epoch 5: 100%|██████████| 91/91 [00:09<00:00,  9.89it/s, v_num=i34e, lr=0.001, valid_loss=0.477, valid_acc=0.815, valid_auprc=0.854, valid_auroc=0.923, valid_f1=0.766, train_loss=0.559, train_acc=0.766, train_auprc=0.835, train_auroc=0.908, train_f1=0.765]"
     ]
    },
    {
     "name": "stderr",
     "output_type": "stream",
     "text": [
      "Epoch 5, global step 546: 'valid_auprc' reached 0.85427 (best 0.85427), saving model to 'wandb_logs/awin-densenet-ecg-centralized/pll8i34e/checkpoints/epoch=5-step=546.ckpt' as top 1\n"
     ]
    },
    {
     "name": "stdout",
     "output_type": "stream",
     "text": [
      "\n",
      "Valid Confusion Matrix:\n",
      "tensor([[678,  23,  61],\n",
      "        [  3, 101,  10],\n",
      "        [ 89,  43, 230]], device='cuda:0')\n",
      "Epoch 6: 100%|██████████| 91/91 [00:09<00:00,  9.84it/s, v_num=i34e, lr=0.001, valid_loss=0.517, valid_acc=0.809, valid_auprc=0.818, valid_auroc=0.895, valid_f1=0.759, train_loss=0.536, train_acc=0.778, train_auprc=0.847, train_auroc=0.915, train_f1=0.776]"
     ]
    },
    {
     "name": "stderr",
     "output_type": "stream",
     "text": [
      "Epoch 6, global step 637: 'valid_auprc' was not in top 1\n"
     ]
    },
    {
     "name": "stdout",
     "output_type": "stream",
     "text": [
      "\n",
      "Valid Confusion Matrix:\n",
      "tensor([[726,   5,  31],\n",
      "        [  6,  84,  24],\n",
      "        [155,  16, 191]], device='cuda:0')\n",
      "Epoch 7: 100%|██████████| 91/91 [00:09<00:00,  9.88it/s, v_num=i34e, lr=0.001, valid_loss=0.508, valid_acc=0.813, valid_auprc=0.844, valid_auroc=0.910, valid_f1=0.761, train_loss=0.524, train_acc=0.786, train_auprc=0.845, train_auroc=0.917, train_f1=0.782]"
     ]
    },
    {
     "name": "stderr",
     "output_type": "stream",
     "text": [
      "Epoch 7, global step 728: 'valid_auprc' was not in top 1\n"
     ]
    },
    {
     "name": "stdout",
     "output_type": "stream",
     "text": [
      "\n",
      "Valid Confusion Matrix:\n",
      "tensor([[701,  15,  46],\n",
      "        [  5, 105,   4],\n",
      "        [111,  50, 201]], device='cuda:0')\n",
      "Epoch 8: 100%|██████████| 91/91 [00:09<00:00,  9.89it/s, v_num=i34e, lr=0.001, valid_loss=0.587, valid_acc=0.760, valid_auprc=0.798, valid_auroc=0.890, valid_f1=0.683, train_loss=0.461, train_acc=0.816, train_auprc=0.879, train_auroc=0.936, train_f1=0.814]"
     ]
    },
    {
     "name": "stderr",
     "output_type": "stream",
     "text": [
      "Epoch 8, global step 819: 'valid_auprc' was not in top 1\n"
     ]
    },
    {
     "name": "stdout",
     "output_type": "stream",
     "text": [
      "\n",
      "Valid Confusion Matrix:\n",
      "tensor([[669,  23,  70],\n",
      "        [  7, 103,   4],\n",
      "        [102,  91, 169]], device='cuda:0')\n",
      "Epoch 9: 100%|██████████| 91/91 [00:09<00:00,  9.86it/s, v_num=i34e, lr=0.001, valid_loss=0.445, valid_acc=0.833, valid_auprc=0.858, valid_auroc=0.928, valid_f1=0.789, train_loss=0.461, train_acc=0.819, train_auprc=0.879, train_auroc=0.936, train_f1=0.816]"
     ]
    },
    {
     "name": "stderr",
     "output_type": "stream",
     "text": [
      "Epoch 9, global step 910: 'valid_auprc' reached 0.85848 (best 0.85848), saving model to 'wandb_logs/awin-densenet-ecg-centralized/pll8i34e/checkpoints/epoch=9-step=910.ckpt' as top 1\n"
     ]
    },
    {
     "name": "stdout",
     "output_type": "stream",
     "text": [
      "\n",
      "Valid Confusion Matrix:\n",
      "tensor([[728,   9,  25],\n",
      "        [  5,  97,  12],\n",
      "        [131,  25, 206]], device='cuda:0')\n",
      "Epoch 10: 100%|██████████| 91/91 [00:09<00:00,  9.87it/s, v_num=i34e, lr=0.001, valid_loss=0.447, valid_acc=0.828, valid_auprc=0.861, valid_auroc=0.930, valid_f1=0.777, train_loss=0.444, train_acc=0.819, train_auprc=0.888, train_auroc=0.940, train_f1=0.817]"
     ]
    },
    {
     "name": "stderr",
     "output_type": "stream",
     "text": [
      "Epoch 10, global step 1001: 'valid_auprc' reached 0.86060 (best 0.86060), saving model to 'wandb_logs/awin-densenet-ecg-centralized/pll8i34e/checkpoints/epoch=10-step=1001.ckpt' as top 1\n"
     ]
    },
    {
     "name": "stdout",
     "output_type": "stream",
     "text": [
      "\n",
      "Valid Confusion Matrix:\n",
      "tensor([[722,   9,  31],\n",
      "        [  2, 104,   8],\n",
      "        [119,  44, 199]], device='cuda:0')\n",
      "Epoch 11: 100%|██████████| 91/91 [00:09<00:00,  9.87it/s, v_num=i34e, lr=0.001, valid_loss=0.443, valid_acc=0.829, valid_auprc=0.858, valid_auroc=0.928, valid_f1=0.789, train_loss=0.429, train_acc=0.826, train_auprc=0.896, train_auroc=0.943, train_f1=0.825]"
     ]
    },
    {
     "name": "stderr",
     "output_type": "stream",
     "text": [
      "Epoch 11, global step 1092: 'valid_auprc' was not in top 1\n"
     ]
    },
    {
     "name": "stdout",
     "output_type": "stream",
     "text": [
      "\n",
      "Valid Confusion Matrix:\n",
      "tensor([[685,  14,  63],\n",
      "        [  3,  99,  12],\n",
      "        [ 88,  32, 242]], device='cuda:0')\n",
      "Epoch 12: 100%|██████████| 91/91 [00:09<00:00,  9.84it/s, v_num=i34e, lr=0.001, valid_loss=0.467, valid_acc=0.821, valid_auprc=0.822, valid_auroc=0.926, valid_f1=0.762, train_loss=0.399, train_acc=0.841, train_auprc=0.909, train_auroc=0.950, train_f1=0.839]"
     ]
    },
    {
     "name": "stderr",
     "output_type": "stream",
     "text": [
      "Epoch 12, global step 1183: 'valid_auprc' was not in top 1\n"
     ]
    },
    {
     "name": "stdout",
     "output_type": "stream",
     "text": [
      "\n",
      "Valid Confusion Matrix:\n",
      "tensor([[723,   9,  30],\n",
      "        [  5,  96,  13],\n",
      "        [121,  43, 198]], device='cuda:0')\n",
      "Epoch 13: 100%|██████████| 91/91 [00:09<00:00,  9.80it/s, v_num=i34e, lr=0.001, valid_loss=0.552, valid_acc=0.784, valid_auprc=0.842, valid_auroc=0.919, valid_f1=0.701, train_loss=0.388, train_acc=0.845, train_auprc=0.908, train_auroc=0.951, train_f1=0.843]"
     ]
    },
    {
     "name": "stderr",
     "output_type": "stream",
     "text": [
      "Epoch 13, global step 1274: 'valid_auprc' was not in top 1\n"
     ]
    },
    {
     "name": "stdout",
     "output_type": "stream",
     "text": [
      "\n",
      "Valid Confusion Matrix:\n",
      "tensor([[703,  29,  30],\n",
      "        [  2, 108,   4],\n",
      "        [114,  88, 160]], device='cuda:0')\n",
      "Epoch 14: 100%|██████████| 91/91 [00:09<00:00,  9.83it/s, v_num=i34e, lr=0.001, valid_loss=0.431, valid_acc=0.839, valid_auprc=0.877, valid_auroc=0.936, valid_f1=0.790, train_loss=0.406, train_acc=0.844, train_auprc=0.902, train_auroc=0.948, train_f1=0.844]"
     ]
    },
    {
     "name": "stderr",
     "output_type": "stream",
     "text": [
      "Epoch 14, global step 1365: 'valid_auprc' reached 0.87720 (best 0.87720), saving model to 'wandb_logs/awin-densenet-ecg-centralized/pll8i34e/checkpoints/epoch=14-step=1365.ckpt' as top 1\n"
     ]
    },
    {
     "name": "stdout",
     "output_type": "stream",
     "text": [
      "\n",
      "Valid Confusion Matrix:\n",
      "tensor([[714,   9,  39],\n",
      "        [  4, 109,   1],\n",
      "        [ 92,  54, 216]], device='cuda:0')\n",
      "Epoch 15: 100%|██████████| 91/91 [00:09<00:00,  9.82it/s, v_num=i34e, lr=0.001, valid_loss=0.471, valid_acc=0.842, valid_auprc=0.870, valid_auroc=0.932, valid_f1=0.802, train_loss=0.371, train_acc=0.845, train_auprc=0.916, train_auroc=0.955, train_f1=0.844]"
     ]
    },
    {
     "name": "stderr",
     "output_type": "stream",
     "text": [
      "Epoch 15, global step 1456: 'valid_auprc' was not in top 1\n"
     ]
    },
    {
     "name": "stdout",
     "output_type": "stream",
     "text": [
      "\n",
      "Valid Confusion Matrix:\n",
      "tensor([[703,  10,  49],\n",
      "        [  2, 103,   9],\n",
      "        [ 88,  37, 237]], device='cuda:0')\n",
      "Epoch 16: 100%|██████████| 91/91 [00:09<00:00,  9.73it/s, v_num=i34e, lr=0.001, valid_loss=0.428, valid_acc=0.847, valid_auprc=0.875, valid_auroc=0.938, valid_f1=0.810, train_loss=0.365, train_acc=0.857, train_auprc=0.919, train_auroc=0.957, train_f1=0.855]"
     ]
    },
    {
     "name": "stderr",
     "output_type": "stream",
     "text": [
      "Epoch 16, global step 1547: 'valid_auprc' was not in top 1\n"
     ]
    },
    {
     "name": "stdout",
     "output_type": "stream",
     "text": [
      "\n",
      "Valid Confusion Matrix:\n",
      "tensor([[684,  12,  66],\n",
      "        [  2, 101,  11],\n",
      "        [ 66,  33, 263]], device='cuda:0')\n",
      "Epoch 17: 100%|██████████| 91/91 [00:09<00:00,  9.82it/s, v_num=i34e, lr=0.001, valid_loss=0.424, valid_acc=0.849, valid_auprc=0.868, valid_auroc=0.938, valid_f1=0.813, train_loss=0.357, train_acc=0.862, train_auprc=0.919, train_auroc=0.958, train_f1=0.861]"
     ]
    },
    {
     "name": "stderr",
     "output_type": "stream",
     "text": [
      "Epoch 17, global step 1638: 'valid_auprc' was not in top 1\n"
     ]
    },
    {
     "name": "stdout",
     "output_type": "stream",
     "text": [
      "\n",
      "Valid Confusion Matrix:\n",
      "tensor([[686,   9,  67],\n",
      "        [  4,  94,  16],\n",
      "        [ 67,  24, 271]], device='cuda:0')\n",
      "Epoch 18: 100%|██████████| 91/91 [00:09<00:00,  9.82it/s, v_num=i34e, lr=0.001, valid_loss=0.410, valid_acc=0.846, valid_auprc=0.890, valid_auroc=0.942, valid_f1=0.803, train_loss=0.356, train_acc=0.858, train_auprc=0.926, train_auroc=0.960, train_f1=0.858]"
     ]
    },
    {
     "name": "stderr",
     "output_type": "stream",
     "text": [
      "Epoch 18, global step 1729: 'valid_auprc' reached 0.88996 (best 0.88996), saving model to 'wandb_logs/awin-densenet-ecg-centralized/pll8i34e/checkpoints/epoch=18-step=1729.ckpt' as top 1\n"
     ]
    },
    {
     "name": "stdout",
     "output_type": "stream",
     "text": [
      "\n",
      "Valid Confusion Matrix:\n",
      "tensor([[714,   9,  39],\n",
      "        [  3,  99,  12],\n",
      "        [ 96,  32, 234]], device='cuda:0')\n",
      "Epoch 19: 100%|██████████| 91/91 [00:09<00:00,  9.69it/s, v_num=i34e, lr=0.001, valid_loss=0.467, valid_acc=0.839, valid_auprc=0.869, valid_auroc=0.933, valid_f1=0.800, train_loss=0.374, train_acc=0.849, train_auprc=0.912, train_auroc=0.954, train_f1=0.846]"
     ]
    },
    {
     "name": "stderr",
     "output_type": "stream",
     "text": [
      "Epoch 19, global step 1820: 'valid_auprc' was not in top 1\n"
     ]
    },
    {
     "name": "stdout",
     "output_type": "stream",
     "text": [
      "\n",
      "Valid Confusion Matrix:\n",
      "tensor([[703,  10,  49],\n",
      "        [  2, 101,  11],\n",
      "        [ 94,  33, 235]], device='cuda:0')\n",
      "Epoch 20: 100%|██████████| 91/91 [00:09<00:00,  9.79it/s, v_num=i34e, lr=0.001, valid_loss=0.404, valid_acc=0.858, valid_auprc=0.891, valid_auroc=0.945, valid_f1=0.828, train_loss=0.336, train_acc=0.865, train_auprc=0.930, train_auroc=0.963, train_f1=0.864]"
     ]
    },
    {
     "name": "stderr",
     "output_type": "stream",
     "text": [
      "Epoch 20, global step 1911: 'valid_auprc' reached 0.89099 (best 0.89099), saving model to 'wandb_logs/awin-densenet-ecg-centralized/pll8i34e/checkpoints/epoch=20-step=1911.ckpt' as top 1\n"
     ]
    },
    {
     "name": "stdout",
     "output_type": "stream",
     "text": [
      "\n",
      "Valid Confusion Matrix:\n",
      "tensor([[702,   3,  57],\n",
      "        [  4,  93,  17],\n",
      "        [ 77,  18, 267]], device='cuda:0')\n",
      "Epoch 21: 100%|██████████| 91/91 [00:09<00:00,  9.65it/s, v_num=i34e, lr=0.001, valid_loss=0.531, valid_acc=0.801, valid_auprc=0.859, valid_auroc=0.925, valid_f1=0.773, train_loss=0.338, train_acc=0.871, train_auprc=0.930, train_auroc=0.963, train_f1=0.870]"
     ]
    },
    {
     "name": "stderr",
     "output_type": "stream",
     "text": [
      "Epoch 21, global step 2002: 'valid_auprc' was not in top 1\n"
     ]
    },
    {
     "name": "stdout",
     "output_type": "stream",
     "text": [
      "\n",
      "Valid Confusion Matrix:\n",
      "tensor([[627,  10, 125],\n",
      "        [  3, 101,  10],\n",
      "        [ 57,  41, 264]], device='cuda:0')\n",
      "Epoch 22: 100%|██████████| 91/91 [00:09<00:00,  9.77it/s, v_num=i34e, lr=0.001, valid_loss=0.444, valid_acc=0.831, valid_auprc=0.876, valid_auroc=0.935, valid_f1=0.788, train_loss=0.324, train_acc=0.871, train_auprc=0.933, train_auroc=0.965, train_f1=0.870]"
     ]
    },
    {
     "name": "stderr",
     "output_type": "stream",
     "text": [
      "Epoch 22, global step 2093: 'valid_auprc' was not in top 1\n"
     ]
    },
    {
     "name": "stdout",
     "output_type": "stream",
     "text": [
      "\n",
      "Valid Confusion Matrix:\n",
      "tensor([[711,   6,  45],\n",
      "        [  4,  94,  16],\n",
      "        [110,  28, 224]], device='cuda:0')\n",
      "Epoch 23: 100%|██████████| 91/91 [00:09<00:00,  9.72it/s, v_num=i34e, lr=0.001, valid_loss=0.440, valid_acc=0.852, valid_auprc=0.873, valid_auroc=0.937, valid_f1=0.808, train_loss=0.338, train_acc=0.867, train_auprc=0.931, train_auroc=0.963, train_f1=0.867]"
     ]
    },
    {
     "name": "stderr",
     "output_type": "stream",
     "text": [
      "Epoch 23, global step 2184: 'valid_auprc' was not in top 1\n"
     ]
    },
    {
     "name": "stdout",
     "output_type": "stream",
     "text": [
      "\n",
      "Valid Confusion Matrix:\n",
      "tensor([[725,   6,  31],\n",
      "        [  6,  98,  10],\n",
      "        [ 97,  33, 232]], device='cuda:0')\n",
      "Epoch 24: 100%|██████████| 91/91 [00:09<00:00,  9.75it/s, v_num=i34e, lr=0.001, valid_loss=0.434, valid_acc=0.830, valid_auprc=0.879, valid_auroc=0.937, valid_f1=0.792, train_loss=0.326, train_acc=0.872, train_auprc=0.929, train_auroc=0.963, train_f1=0.870]"
     ]
    },
    {
     "name": "stderr",
     "output_type": "stream",
     "text": [
      "Epoch 24, global step 2275: 'valid_auprc' was not in top 1\n"
     ]
    },
    {
     "name": "stdout",
     "output_type": "stream",
     "text": [
      "\n",
      "Valid Confusion Matrix:\n",
      "tensor([[710,   5,  47],\n",
      "        [  8,  91,  15],\n",
      "        [114,  21, 227]], device='cuda:0')\n",
      "Epoch 25: 100%|██████████| 91/91 [00:09<00:00,  9.76it/s, v_num=i34e, lr=0.0001, valid_loss=0.398, valid_acc=0.851, valid_auprc=0.892, valid_auroc=0.945, valid_f1=0.817, train_loss=0.275, train_acc=0.894, train_auprc=0.950, train_auroc=0.974, train_f1=0.892]"
     ]
    },
    {
     "name": "stderr",
     "output_type": "stream",
     "text": [
      "Epoch 25, global step 2366: 'valid_auprc' reached 0.89208 (best 0.89208), saving model to 'wandb_logs/awin-densenet-ecg-centralized/pll8i34e/checkpoints/epoch=25-step=2366.ckpt' as top 1\n"
     ]
    },
    {
     "name": "stdout",
     "output_type": "stream",
     "text": [
      "\n",
      "Valid Confusion Matrix:\n",
      "tensor([[704,   6,  52],\n",
      "        [  4,  97,  13],\n",
      "        [ 86,  24, 252]], device='cuda:0')\n",
      "Epoch 26: 100%|██████████| 91/91 [00:09<00:00,  9.69it/s, v_num=i34e, lr=0.0001, valid_loss=0.399, valid_acc=0.851, valid_auprc=0.895, valid_auroc=0.947, valid_f1=0.818, train_loss=0.265, train_acc=0.900, train_auprc=0.953, train_auroc=0.975, train_f1=0.901]"
     ]
    },
    {
     "name": "stderr",
     "output_type": "stream",
     "text": [
      "Epoch 26, global step 2457: 'valid_auprc' reached 0.89506 (best 0.89506), saving model to 'wandb_logs/awin-densenet-ecg-centralized/pll8i34e/checkpoints/epoch=26-step=2457.ckpt' as top 1\n"
     ]
    },
    {
     "name": "stdout",
     "output_type": "stream",
     "text": [
      "\n",
      "Valid Confusion Matrix:\n",
      "tensor([[702,   5,  55],\n",
      "        [  4,  96,  14],\n",
      "        [ 84,  23, 255]], device='cuda:0')\n",
      "Epoch 27: 100%|██████████| 91/91 [00:09<00:00,  9.77it/s, v_num=i34e, lr=0.0001, valid_loss=0.396, valid_acc=0.855, valid_auprc=0.897, valid_auroc=0.947, valid_f1=0.823, train_loss=0.256, train_acc=0.902, train_auprc=0.954, train_auroc=0.977, train_f1=0.901]"
     ]
    },
    {
     "name": "stderr",
     "output_type": "stream",
     "text": [
      "Epoch 27, global step 2548: 'valid_auprc' reached 0.89686 (best 0.89686), saving model to 'wandb_logs/awin-densenet-ecg-centralized/pll8i34e/checkpoints/epoch=27-step=2548.ckpt' as top 1\n"
     ]
    },
    {
     "name": "stdout",
     "output_type": "stream",
     "text": [
      "\n",
      "Valid Confusion Matrix:\n",
      "tensor([[704,   4,  54],\n",
      "        [  5,  96,  13],\n",
      "        [ 81,  23, 258]], device='cuda:0')\n",
      "Epoch 28: 100%|██████████| 91/91 [00:09<00:00,  9.78it/s, v_num=i34e, lr=0.0001, valid_loss=0.395, valid_acc=0.857, valid_auprc=0.896, valid_auroc=0.946, valid_f1=0.830, train_loss=0.233, train_acc=0.909, train_auprc=0.960, train_auroc=0.980, train_f1=0.908]"
     ]
    },
    {
     "name": "stderr",
     "output_type": "stream",
     "text": [
      "Epoch 28, global step 2639: 'valid_auprc' was not in top 1\n"
     ]
    },
    {
     "name": "stdout",
     "output_type": "stream",
     "text": [
      "\n",
      "Valid Confusion Matrix:\n",
      "tensor([[694,   5,  63],\n",
      "        [  3,  98,  13],\n",
      "        [ 72,  21, 269]], device='cuda:0')\n",
      "Epoch 29: 100%|██████████| 91/91 [00:09<00:00,  9.74it/s, v_num=i34e, lr=0.0001, valid_loss=0.404, valid_acc=0.847, valid_auprc=0.895, valid_auroc=0.946, valid_f1=0.818, train_loss=0.243, train_acc=0.908, train_auprc=0.960, train_auroc=0.980, train_f1=0.907]"
     ]
    },
    {
     "name": "stderr",
     "output_type": "stream",
     "text": [
      "Epoch 29, global step 2730: 'valid_auprc' was not in top 1\n"
     ]
    },
    {
     "name": "stdout",
     "output_type": "stream",
     "text": [
      "\n",
      "Valid Confusion Matrix:\n",
      "tensor([[694,   7,  61],\n",
      "        [  5,  98,  11],\n",
      "        [ 82,  23, 257]], device='cuda:0')\n",
      "Epoch 30: 100%|██████████| 91/91 [00:09<00:00,  9.77it/s, v_num=i34e, lr=0.0001, valid_loss=0.403, valid_acc=0.861, valid_auprc=0.896, valid_auroc=0.947, valid_f1=0.840, train_loss=0.241, train_acc=0.909, train_auprc=0.958, train_auroc=0.979, train_f1=0.909]"
     ]
    },
    {
     "name": "stderr",
     "output_type": "stream",
     "text": [
      "Epoch 30, global step 2821: 'valid_auprc' was not in top 1\n"
     ]
    },
    {
     "name": "stdout",
     "output_type": "stream",
     "text": [
      "\n",
      "Valid Confusion Matrix:\n",
      "tensor([[699,   4,  59],\n",
      "        [  5,  97,  12],\n",
      "        [ 78,  14, 270]], device='cuda:0')\n",
      "Epoch 31: 100%|██████████| 91/91 [00:09<00:00,  9.76it/s, v_num=i34e, lr=0.0001, valid_loss=0.401, valid_acc=0.860, valid_auprc=0.896, valid_auroc=0.947, valid_f1=0.835, train_loss=0.230, train_acc=0.913, train_auprc=0.964, train_auroc=0.981, train_f1=0.913]"
     ]
    },
    {
     "name": "stderr",
     "output_type": "stream",
     "text": [
      "Epoch 31, global step 2912: 'valid_auprc' was not in top 1\n"
     ]
    },
    {
     "name": "stdout",
     "output_type": "stream",
     "text": [
      "\n",
      "Valid Confusion Matrix:\n",
      "tensor([[698,   6,  58],\n",
      "        [  4,  97,  13],\n",
      "        [ 75,  17, 270]], device='cuda:0')\n",
      "Epoch 32: 100%|██████████| 91/91 [00:09<00:00,  9.53it/s, v_num=i34e, lr=0.0001, valid_loss=0.403, valid_acc=0.855, valid_auprc=0.901, valid_auroc=0.948, valid_f1=0.835, train_loss=0.234, train_acc=0.913, train_auprc=0.963, train_auroc=0.981, train_f1=0.913]"
     ]
    },
    {
     "name": "stderr",
     "output_type": "stream",
     "text": [
      "Epoch 32, global step 3003: 'valid_auprc' reached 0.90055 (best 0.90055), saving model to 'wandb_logs/awin-densenet-ecg-centralized/pll8i34e/checkpoints/epoch=32-step=3003.ckpt' as top 1\n"
     ]
    },
    {
     "name": "stdout",
     "output_type": "stream",
     "text": [
      "\n",
      "Valid Confusion Matrix:\n",
      "tensor([[688,   3,  71],\n",
      "        [  4,  96,  14],\n",
      "        [ 74,  14, 274]], device='cuda:0')\n",
      "Epoch 33: 100%|██████████| 91/91 [00:09<00:00,  9.76it/s, v_num=i34e, lr=0.0001, valid_loss=0.402, valid_acc=0.863, valid_auprc=0.898, valid_auroc=0.947, valid_f1=0.839, train_loss=0.223, train_acc=0.916, train_auprc=0.963, train_auroc=0.981, train_f1=0.916]"
     ]
    },
    {
     "name": "stderr",
     "output_type": "stream",
     "text": [
      "Epoch 33, global step 3094: 'valid_auprc' was not in top 1\n"
     ]
    },
    {
     "name": "stdout",
     "output_type": "stream",
     "text": [
      "\n",
      "Valid Confusion Matrix:\n",
      "tensor([[699,   6,  57],\n",
      "        [  4,  99,  11],\n",
      "        [ 73,  18, 271]], device='cuda:0')\n",
      "Epoch 34: 100%|██████████| 91/91 [00:09<00:00,  9.74it/s, v_num=i34e, lr=0.0001, valid_loss=0.395, valid_acc=0.871, valid_auprc=0.901, valid_auroc=0.948, valid_f1=0.846, train_loss=0.223, train_acc=0.915, train_auprc=0.964, train_auroc=0.981, train_f1=0.914]"
     ]
    },
    {
     "name": "stderr",
     "output_type": "stream",
     "text": [
      "Epoch 34, global step 3185: 'valid_auprc' reached 0.90083 (best 0.90083), saving model to 'wandb_logs/awin-densenet-ecg-centralized/pll8i34e/checkpoints/epoch=34-step=3185.ckpt' as top 1\n"
     ]
    },
    {
     "name": "stdout",
     "output_type": "stream",
     "text": [
      "\n",
      "Valid Confusion Matrix:\n",
      "tensor([[707,   5,  50],\n",
      "        [  4,  97,  13],\n",
      "        [ 73,  15, 274]], device='cuda:0')\n",
      "Epoch 35: 100%|██████████| 91/91 [00:09<00:00,  9.70it/s, v_num=i34e, lr=0.0001, valid_loss=0.405, valid_acc=0.864, valid_auprc=0.897, valid_auroc=0.947, valid_f1=0.839, train_loss=0.226, train_acc=0.914, train_auprc=0.965, train_auroc=0.981, train_f1=0.914]"
     ]
    },
    {
     "name": "stderr",
     "output_type": "stream",
     "text": [
      "Epoch 35, global step 3276: 'valid_auprc' was not in top 1\n"
     ]
    },
    {
     "name": "stdout",
     "output_type": "stream",
     "text": [
      "\n",
      "Valid Confusion Matrix:\n",
      "tensor([[706,   4,  52],\n",
      "        [  3,  97,  14],\n",
      "        [ 78,  17, 267]], device='cuda:0')\n",
      "Epoch 36: 100%|██████████| 91/91 [00:09<00:00,  9.74it/s, v_num=i34e, lr=0.0001, valid_loss=0.413, valid_acc=0.861, valid_auprc=0.898, valid_auroc=0.948, valid_f1=0.835, train_loss=0.211, train_acc=0.920, train_auprc=0.968, train_auroc=0.983, train_f1=0.920]"
     ]
    },
    {
     "name": "stderr",
     "output_type": "stream",
     "text": [
      "Epoch 36, global step 3367: 'valid_auprc' was not in top 1\n"
     ]
    },
    {
     "name": "stdout",
     "output_type": "stream",
     "text": [
      "\n",
      "Valid Confusion Matrix:\n",
      "tensor([[695,   6,  61],\n",
      "        [  2,  99,  13],\n",
      "        [ 70,  20, 272]], device='cuda:0')\n",
      "Epoch 37: 100%|██████████| 91/91 [00:09<00:00,  9.67it/s, v_num=i34e, lr=1e-5, valid_loss=0.411, valid_acc=0.865, valid_auprc=0.900, valid_auroc=0.948, valid_f1=0.841, train_loss=0.233, train_acc=0.912, train_auprc=0.963, train_auroc=0.981, train_f1=0.912]"
     ]
    },
    {
     "name": "stderr",
     "output_type": "stream",
     "text": [
      "Epoch 37, global step 3458: 'valid_auprc' was not in top 1\n"
     ]
    },
    {
     "name": "stdout",
     "output_type": "stream",
     "text": [
      "\n",
      "Valid Confusion Matrix:\n",
      "tensor([[702,   5,  55],\n",
      "        [  3,  95,  16],\n",
      "        [ 75,  13, 274]], device='cuda:0')\n",
      "Epoch 38: 100%|██████████| 91/91 [00:09<00:00,  9.71it/s, v_num=i34e, lr=1e-5, valid_loss=0.408, valid_acc=0.862, valid_auprc=0.899, valid_auroc=0.948, valid_f1=0.835, train_loss=0.207, train_acc=0.922, train_auprc=0.969, train_auroc=0.984, train_f1=0.921]"
     ]
    },
    {
     "name": "stderr",
     "output_type": "stream",
     "text": [
      "Epoch 38, global step 3549: 'valid_auprc' was not in top 1\n"
     ]
    },
    {
     "name": "stdout",
     "output_type": "stream",
     "text": [
      "\n",
      "Valid Confusion Matrix:\n",
      "tensor([[698,   6,  58],\n",
      "        [  3,  98,  13],\n",
      "        [ 72,  19, 271]], device='cuda:0')\n",
      "Epoch 39: 100%|██████████| 91/91 [00:09<00:00,  9.69it/s, v_num=i34e, lr=1e-5, valid_loss=0.412, valid_acc=0.868, valid_auprc=0.899, valid_auroc=0.948, valid_f1=0.841, train_loss=0.217, train_acc=0.919, train_auprc=0.968, train_auroc=0.983, train_f1=0.920]"
     ]
    },
    {
     "name": "stderr",
     "output_type": "stream",
     "text": [
      "Epoch 39, global step 3640: 'valid_auprc' was not in top 1\n"
     ]
    },
    {
     "name": "stdout",
     "output_type": "stream",
     "text": [
      "\n",
      "Valid Confusion Matrix:\n",
      "tensor([[706,   6,  50],\n",
      "        [  3, 100,  11],\n",
      "        [ 74,  20, 268]], device='cuda:0')\n",
      "Epoch 40: 100%|██████████| 91/91 [00:09<00:00,  9.74it/s, v_num=i34e, lr=1e-5, valid_loss=0.418, valid_acc=0.864, valid_auprc=0.898, valid_auroc=0.948, valid_f1=0.838, train_loss=0.214, train_acc=0.914, train_auprc=0.968, train_auroc=0.983, train_f1=0.915]"
     ]
    },
    {
     "name": "stderr",
     "output_type": "stream",
     "text": [
      "Epoch 40, global step 3731: 'valid_auprc' was not in top 1\n"
     ]
    },
    {
     "name": "stdout",
     "output_type": "stream",
     "text": [
      "\n",
      "Valid Confusion Matrix:\n",
      "tensor([[699,   6,  57],\n",
      "        [  3,  98,  13],\n",
      "        [ 70,  19, 273]], device='cuda:0')\n",
      "Epoch 41: 100%|██████████| 91/91 [00:09<00:00,  9.71it/s, v_num=i34e, lr=1e-5, valid_loss=0.411, valid_acc=0.867, valid_auprc=0.899, valid_auroc=0.948, valid_f1=0.840, train_loss=0.211, train_acc=0.920, train_auprc=0.969, train_auroc=0.983, train_f1=0.921]"
     ]
    },
    {
     "name": "stderr",
     "output_type": "stream",
     "text": [
      "Epoch 41, global step 3822: 'valid_auprc' was not in top 1\n"
     ]
    },
    {
     "name": "stdout",
     "output_type": "stream",
     "text": [
      "\n",
      "Valid Confusion Matrix:\n",
      "tensor([[703,   6,  53],\n",
      "        [  3,  98,  13],\n",
      "        [ 72,  18, 272]], device='cuda:0')\n",
      "Epoch 42: 100%|██████████| 91/91 [00:09<00:00,  9.69it/s, v_num=i34e, lr=1e-5, valid_loss=0.412, valid_acc=0.859, valid_auprc=0.899, valid_auroc=0.948, valid_f1=0.835, train_loss=0.222, train_acc=0.918, train_auprc=0.964, train_auroc=0.982, train_f1=0.918]"
     ]
    },
    {
     "name": "stderr",
     "output_type": "stream",
     "text": [
      "Epoch 42, global step 3913: 'valid_auprc' was not in top 1\n"
     ]
    },
    {
     "name": "stdout",
     "output_type": "stream",
     "text": [
      "\n",
      "Valid Confusion Matrix:\n",
      "tensor([[690,   6,  66],\n",
      "        [  3,  97,  14],\n",
      "        [ 68,  17, 277]], device='cuda:0')\n",
      "Epoch 43: 100%|██████████| 91/91 [00:09<00:00,  9.54it/s, v_num=i34e, lr=1e-5, valid_loss=0.412, valid_acc=0.863, valid_auprc=0.900, valid_auroc=0.948, valid_f1=0.836, train_loss=0.211, train_acc=0.917, train_auprc=0.970, train_auroc=0.984, train_f1=0.918]"
     ]
    },
    {
     "name": "stderr",
     "output_type": "stream",
     "text": [
      "Epoch 43, global step 4004: 'valid_auprc' was not in top 1\n"
     ]
    },
    {
     "name": "stdout",
     "output_type": "stream",
     "text": [
      "\n",
      "Valid Confusion Matrix:\n",
      "tensor([[703,   6,  53],\n",
      "        [  3, 100,  11],\n",
      "        [ 76,  21, 265]], device='cuda:0')\n",
      "Epoch 44: 100%|██████████| 91/91 [00:09<00:00,  9.72it/s, v_num=i34e, lr=1e-5, valid_loss=0.420, valid_acc=0.866, valid_auprc=0.898, valid_auroc=0.948, valid_f1=0.838, train_loss=0.207, train_acc=0.917, train_auprc=0.969, train_auroc=0.984, train_f1=0.917]"
     ]
    },
    {
     "name": "stderr",
     "output_type": "stream",
     "text": [
      "Epoch 44, global step 4095: 'valid_auprc' was not in top 1\n"
     ]
    },
    {
     "name": "stdout",
     "output_type": "stream",
     "text": [
      "\n",
      "Valid Confusion Matrix:\n",
      "tensor([[711,   5,  46],\n",
      "        [  4,  96,  14],\n",
      "        [ 81,  16, 265]], device='cuda:0')\n",
      "Epoch 45: 100%|██████████| 91/91 [00:09<00:00,  9.72it/s, v_num=i34e, lr=1e-5, valid_loss=0.419, valid_acc=0.860, valid_auprc=0.898, valid_auroc=0.948, valid_f1=0.834, train_loss=0.208, train_acc=0.920, train_auprc=0.968, train_auroc=0.984, train_f1=0.920]"
     ]
    },
    {
     "name": "stderr",
     "output_type": "stream",
     "text": [
      "Epoch 45, global step 4186: 'valid_auprc' was not in top 1\n"
     ]
    },
    {
     "name": "stdout",
     "output_type": "stream",
     "text": [
      "\n",
      "Valid Confusion Matrix:\n",
      "tensor([[698,   6,  58],\n",
      "        [  3,  97,  14],\n",
      "        [ 74,  18, 270]], device='cuda:0')\n",
      "Epoch 46: 100%|██████████| 91/91 [00:09<00:00,  9.69it/s, v_num=i34e, lr=1e-5, valid_loss=0.414, valid_acc=0.867, valid_auprc=0.898, valid_auroc=0.948, valid_f1=0.842, train_loss=0.213, train_acc=0.920, train_auprc=0.969, train_auroc=0.984, train_f1=0.920]"
     ]
    },
    {
     "name": "stderr",
     "output_type": "stream",
     "text": [
      "Epoch 46, global step 4277: 'valid_auprc' was not in top 1\n"
     ]
    },
    {
     "name": "stdout",
     "output_type": "stream",
     "text": [
      "\n",
      "Valid Confusion Matrix:\n",
      "tensor([[704,   6,  52],\n",
      "        [  3,  98,  13],\n",
      "        [ 75,  16, 271]], device='cuda:0')\n",
      "Epoch 47: 100%|██████████| 91/91 [00:09<00:00,  9.72it/s, v_num=i34e, lr=1e-5, valid_loss=0.407, valid_acc=0.866, valid_auprc=0.901, valid_auroc=0.948, valid_f1=0.837, train_loss=0.221, train_acc=0.914, train_auprc=0.965, train_auroc=0.982, train_f1=0.913]"
     ]
    },
    {
     "name": "stderr",
     "output_type": "stream",
     "text": [
      "Epoch 47, global step 4368: 'valid_auprc' was not in top 1\n"
     ]
    },
    {
     "name": "stdout",
     "output_type": "stream",
     "text": [
      "\n",
      "Valid Confusion Matrix:\n",
      "tensor([[706,   6,  50],\n",
      "        [  3,  98,  13],\n",
      "        [ 74,  20, 268]], device='cuda:0')\n",
      "Epoch 48: 100%|██████████| 91/91 [00:09<00:00,  9.73it/s, v_num=i34e, lr=1e-5, valid_loss=0.416, valid_acc=0.862, valid_auprc=0.898, valid_auroc=0.948, valid_f1=0.835, train_loss=0.216, train_acc=0.920, train_auprc=0.964, train_auroc=0.982, train_f1=0.920]"
     ]
    },
    {
     "name": "stderr",
     "output_type": "stream",
     "text": [
      "Epoch 48, global step 4459: 'valid_auprc' was not in top 1\n"
     ]
    },
    {
     "name": "stdout",
     "output_type": "stream",
     "text": [
      "\n",
      "Valid Confusion Matrix:\n",
      "tensor([[696,   6,  60],\n",
      "        [  2,  98,  14],\n",
      "        [ 69,  20, 273]], device='cuda:0')\n",
      "Epoch 49: 100%|██████████| 91/91 [00:09<00:00,  9.72it/s, v_num=i34e, lr=1e-5, valid_loss=0.410, valid_acc=0.864, valid_auprc=0.900, valid_auroc=0.948, valid_f1=0.836, train_loss=0.209, train_acc=0.920, train_auprc=0.969, train_auroc=0.984, train_f1=0.920]"
     ]
    },
    {
     "name": "stderr",
     "output_type": "stream",
     "text": [
      "Epoch 49, global step 4550: 'valid_auprc' was not in top 1\n"
     ]
    },
    {
     "name": "stdout",
     "output_type": "stream",
     "text": [
      "\n",
      "Valid Confusion Matrix:\n",
      "tensor([[705,   6,  51],\n",
      "        [  3,  96,  15],\n",
      "        [ 76,  17, 269]], device='cuda:0')\n"
     ]
    },
    {
     "name": "stderr",
     "output_type": "stream",
     "text": [
      "`Trainer.fit` stopped: `max_epochs=50` reached.\n"
     ]
    }
   ],
   "source": [
    "trainer.fit(model, datamodule=dm)"
   ]
  },
  {
   "cell_type": "markdown",
   "metadata": {},
   "source": [
    "## Evaluate on the Test Set\n"
   ]
  },
  {
   "cell_type": "code",
   "execution_count": 8,
   "metadata": {},
   "outputs": [],
   "source": [
    "import torch\n",
    "from sklearn.metrics import (\n",
    "    ConfusionMatrixDisplay,\n",
    "    accuracy_score,\n",
    "    classification_report,\n",
    "    confusion_matrix,\n",
    "    f1_score,\n",
    ")\n",
    "from torchmetrics.aggregation import CatMetric, MeanMetric\n",
    "from torchmetrics.functional.classification import (\n",
    "    multiclass_auroc,\n",
    "    multiclass_average_precision,\n",
    ")\n",
    "\n",
    "\n",
    "def aggregate_metrics(results):\n",
    "    loss_metric = MeanMetric()\n",
    "    y_pred_metric = CatMetric()\n",
    "    y_metric = CatMetric()\n",
    "\n",
    "    for result in results:\n",
    "        loss_metric.update(result[\"loss\"])\n",
    "        y_pred_metric.update(result[\"y_pred\"])\n",
    "        y_metric.update(result[\"y\"])\n",
    "    loss = loss_metric.compute()\n",
    "    y_pred = y_pred_metric.compute()\n",
    "    y = y_metric.compute().to(torch.long)\n",
    "    y_hat = y_pred.argmax(dim=1).to(torch.long)\n",
    "\n",
    "    return loss, y_pred, y, y_hat"
   ]
  },
  {
   "cell_type": "markdown",
   "metadata": {},
   "source": [
    "### Last model"
   ]
  },
  {
   "cell_type": "code",
   "execution_count": 9,
   "metadata": {},
   "outputs": [
    {
     "name": "stderr",
     "output_type": "stream",
     "text": [
      "LOCAL_RANK: 0 - CUDA_VISIBLE_DEVICES: [0]\n"
     ]
    },
    {
     "name": "stdout",
     "output_type": "stream",
     "text": [
      "Predicting DataLoader 0: 100%|██████████| 20/20 [00:00<00:00, 38.75it/s]\n",
      "test_loss: 0.4271091818809509\n",
      "test_auprc: 0.8908934593200684\n",
      "test_auroc: 0.9370443820953369\n",
      "              precision    recall  f1-score   support\n",
      "\n",
      "           N       0.90      0.92      0.91       762\n",
      "           A       0.83      0.83      0.83       114\n",
      "           O       0.79      0.74      0.77       362\n",
      "\n",
      "    accuracy                           0.86      1238\n",
      "   macro avg       0.84      0.83      0.83      1238\n",
      "weighted avg       0.86      0.86      0.86      1238\n",
      "\n"
     ]
    },
    {
     "data": {
      "image/png": "[encoded data removed]",
      "text/plain": [
       "<Figure size 640x480 with 2 Axes>"
      ]
     },
     "metadata": {},
     "output_type": "display_data"
    }
   ],
   "source": [
    "model = DenseNetEcgModule.load_from_checkpoint(checkpoint_callback.last_model_path)\n",
    "results = trainer.predict(model, dataloaders=dm)\n",
    "test_loss, test_y_pred, test_y, test_y_hat = aggregate_metrics(results)\n",
    "\n",
    "# loss\n",
    "print(f\"test_loss: {test_loss}\")\n",
    "\n",
    "# auprc\n",
    "test_auprc = multiclass_average_precision(test_y_pred, test_y, num_classes=dm.num_classes)\n",
    "print(f\"test_auprc: {test_auprc}\")\n",
    "\n",
    "# auroc\n",
    "test_auroc = multiclass_auroc(test_y_pred, test_y, num_classes=dm.num_classes)\n",
    "print(f\"test_auroc: {test_auroc}\")\n",
    "\n",
    "# classification report\n",
    "print(classification_report(test_y, test_y_hat, target_names=dm.test_set.classes))\n",
    "\n",
    "# confusion matrix\n",
    "test_cm = confusion_matrix(test_y, test_y_hat)\n",
    "test_cm_disp = ConfusionMatrixDisplay(\n",
    "    confusion_matrix=test_cm, display_labels=dm.test_set.classes\n",
    ")\n",
    "test_cm_disp.plot(cmap=\"Blues\")\n",
    "plt.show()\n",
    "\n",
    "# logger\n",
    "if wandb_mode != \"disabled\":\n",
    "    wandb.log({\"last_test_loss\": test_loss.item()})\n",
    "    wandb.log({\"last_test_auprc\": test_auprc.item()})\n",
    "    wandb.log({\"last_test_auroc\": test_auroc.item()})\n",
    "    wandb.log({\"last_test_f1\": f1_score(test_y, test_y_hat, average=\"macro\")})\n",
    "    wandb.log({\"last_test_accuracy\": accuracy_score(test_y, test_y_hat)})\n",
    "    wandb.log({\"last_test_cm\": test_cm_disp.figure_})"
   ]
  },
  {
   "cell_type": "markdown",
   "metadata": {},
   "source": [
    "### Best model"
   ]
  },
  {
   "cell_type": "code",
   "execution_count": 10,
   "metadata": {},
   "outputs": [
    {
     "name": "stderr",
     "output_type": "stream",
     "text": [
      "LOCAL_RANK: 0 - CUDA_VISIBLE_DEVICES: [0]\n"
     ]
    },
    {
     "name": "stdout",
     "output_type": "stream",
     "text": [
      "Predicting DataLoader 0: 100%|██████████| 20/20 [00:00<00:00, 39.30it/s]\n",
      "test_loss: 0.42149585485458374\n",
      "test_auprc: 0.8862521052360535\n",
      "test_auroc: 0.9342010617256165\n",
      "              precision    recall  f1-score   support\n",
      "\n",
      "           N       0.89      0.93      0.91       762\n",
      "           A       0.84      0.82      0.83       114\n",
      "           O       0.79      0.73      0.76       362\n",
      "\n",
      "    accuracy                           0.86      1238\n",
      "   macro avg       0.84      0.83      0.83      1238\n",
      "weighted avg       0.86      0.86      0.86      1238\n",
      "\n"
     ]
    },
    {
     "data": {
      "image/png": "[encoded data removed]",
      "text/plain": [
       "<Figure size 640x480 with 2 Axes>"
      ]
     },
     "metadata": {},
     "output_type": "display_data"
    }
   ],
   "source": [
    "model = DenseNetEcgModule.load_from_checkpoint(checkpoint_callback.best_model_path)\n",
    "results = trainer.predict(model, dataloaders=dm)\n",
    "test_loss, test_y_pred, test_y, test_y_hat = aggregate_metrics(results)\n",
    "\n",
    "# loss\n",
    "print(f\"test_loss: {test_loss}\")\n",
    "\n",
    "# auprc\n",
    "test_auprc = multiclass_average_precision(test_y_pred, test_y, num_classes=dm.num_classes)\n",
    "print(f\"test_auprc: {test_auprc}\")\n",
    "\n",
    "# auroc\n",
    "test_auroc = multiclass_auroc(test_y_pred, test_y, num_classes=dm.num_classes)\n",
    "print(f\"test_auroc: {test_auroc}\")\n",
    "\n",
    "# classification report\n",
    "print(classification_report(test_y, test_y_hat, target_names=dm.test_set.classes))\n",
    "\n",
    "# confusion matrix\n",
    "test_cm = confusion_matrix(test_y, test_y_hat)\n",
    "test_cm_disp = ConfusionMatrixDisplay(\n",
    "    confusion_matrix=test_cm, display_labels=dm.test_set.classes\n",
    ")\n",
    "test_cm_disp.plot(cmap=\"Blues\")\n",
    "plt.show()\n",
    "\n",
    "# logger\n",
    "if wandb_mode != \"disabled\":\n",
    "    wandb.log({\"best_test_loss\": test_loss.item()})\n",
    "    wandb.log({\"best_test_auprc\": test_auprc.item()})\n",
    "    wandb.log({\"best_test_auroc\": test_auroc.item()})\n",
    "    wandb.log({\"best_test_f1\": f1_score(test_y, test_y_hat, average=\"macro\")})\n",
    "    wandb.log({\"best_test_accuracy\": accuracy_score(test_y, test_y_hat)})\n",
    "    wandb.log({\"best_test_cm\": test_cm_disp.figure_})"
   ]
  },
  {
   "cell_type": "code",
   "execution_count": 11,
   "metadata": {},
   "outputs": [
    {
     "data": {
      "text/html": [],
      "text/plain": [
       "<IPython.core.display.HTML object>"
      ]
     },
     "metadata": {},
     "output_type": "display_data"
    },
    {
     "data": {
      "text/html": [
       "<br>    <style><br>        .wandb-row {<br>            display: flex;<br>            flex-direction: row;<br>            flex-wrap: wrap;<br>            justify-content: flex-start;<br>            width: 100%;<br>        }<br>        .wandb-col {<br>            display: flex;<br>            flex-direction: column;<br>            flex-basis: 100%;<br>            flex: 1;<br>            padding: 10px;<br>        }<br>    </style><br><div class=\"wandb-row\"><div class=\"wandb-col\"><h3>Run history:</h3><br/><table class=\"wandb\"><tr><td>best_test_accuracy</td><td>▁</td></tr><tr><td>best_test_auprc</td><td>▁</td></tr><tr><td>best_test_auroc</td><td>▁</td></tr><tr><td>best_test_f1</td><td>▁</td></tr><tr><td>best_test_loss</td><td>▁</td></tr><tr><td>epoch</td><td>▁▁▁▁▁▂▂▂▃▃▃▃▄▄▄▄▄▅▅▅▅▅▆▆▆▆▆▆▆▆▇▇▇▇▇▇▇███</td></tr><tr><td>last_test_accuracy</td><td>▁</td></tr><tr><td>last_test_auprc</td><td>▁</td></tr><tr><td>last_test_auroc</td><td>▁</td></tr><tr><td>last_test_f1</td><td>▁</td></tr><tr><td>last_test_loss</td><td>▁</td></tr><tr><td>lr</td><td>█████████████████████▂▂▂▂▂▂▂▂▁▁▁▁▁▁▁▁▁▁▁</td></tr><tr><td>train_acc</td><td>▁▂▄▅▅▆▆▇▇▇▇▇▇▇▇▇▇▇▇▇████████████████████</td></tr><tr><td>train_auprc</td><td>▁▂▄▆▆▆▆▇▇▇▇▇▇▇▇████▇████████████████████</td></tr><tr><td>train_auroc</td><td>▁▃▅▆▆▇▇▇▇▇▇▇▇██▇████████████████████████</td></tr><tr><td>train_f1</td><td>▁▂▄▅▅▆▆▇▇▇▇▇▇▇▇▇▇▇▇▇████████████████████</td></tr><tr><td>train_loss</td><td>█▇▆▅▄▄▄▃▃▃▃▂▃▂▂▂▂▂▂▂▂▂▁▁▁▁▁▁▁▁▁▁▁▁▁▁▁▁▁▁</td></tr><tr><td>trainer/global_step</td><td>▁▁▁▁▁▂▂▂▂▃▃▃▃▃▄▄▄▄▅▅▅▅▆▆▆▆▆▆▆▇▇▇▇▇▇█████</td></tr><tr><td>valid_acc</td><td>▁▄▄▄▄▆▆▅▇▇▇▆▇▇▇▇▇█▆▇▇▇██▇███████████████</td></tr><tr><td>valid_auprc</td><td>▁▄▆▆▆▇▇▆▇▇▇██████▇██████████████████████</td></tr><tr><td>valid_auroc</td><td>▁▅▆▆▆▇▇▇██▇▇██████▇█████████████████████</td></tr><tr><td>valid_f1</td><td>▁▃▄▅▇▇▅▇▇▇▆▇▇▇▇▇█▇▇▇████████████████████</td></tr><tr><td>valid_loss</td><td>█▆▅▅▆▃▃▄▂▂▂▃▂▂▁▁▂▁▂▂▁▁▁▁▁▁▁▁▁▁▁▁▁▁▁▁▁▁▁▁</td></tr></table><br/></div><div class=\"wandb-col\"><h3>Run summary:</h3><br/><table class=\"wandb\"><tr><td>best_test_accuracy</td><td>0.86026</td></tr><tr><td>best_test_auprc</td><td>0.88625</td></tr><tr><td>best_test_auroc</td><td>0.9342</td></tr><tr><td>best_test_f1</td><td>0.83252</td></tr><tr><td>best_test_loss</td><td>0.4215</td></tr><tr><td>epoch</td><td>49</td></tr><tr><td>last_test_accuracy</td><td>0.86026</td></tr><tr><td>last_test_auprc</td><td>0.89089</td></tr><tr><td>last_test_auroc</td><td>0.93704</td></tr><tr><td>last_test_f1</td><td>0.83434</td></tr><tr><td>last_test_loss</td><td>0.42711</td></tr><tr><td>lr</td><td>1e-05</td></tr><tr><td>train_acc</td><td>0.92049</td></tr><tr><td>train_auprc</td><td>0.96892</td></tr><tr><td>train_auroc</td><td>0.98389</td></tr><tr><td>train_f1</td><td>0.9199</td></tr><tr><td>train_loss</td><td>0.20878</td></tr><tr><td>trainer/global_step</td><td>4549</td></tr><tr><td>valid_acc</td><td>0.8643</td></tr><tr><td>valid_auprc</td><td>0.90008</td></tr><tr><td>valid_auroc</td><td>0.94848</td></tr><tr><td>valid_f1</td><td>0.83598</td></tr><tr><td>valid_loss</td><td>0.40965</td></tr></table><br/></div></div>"
      ],
      "text/plain": [
       "<IPython.core.display.HTML object>"
      ]
     },
     "metadata": {},
     "output_type": "display_data"
    },
    {
     "data": {
      "text/html": [
       " View run <strong style=\"color:#cdcd00\">awin-densenet-ecg-centralized</strong> at: <a href='https://wandb.ai/devilhyt/awin-densenet-ecg-centralized/runs/pll8i34e' target=\"_blank\">https://wandb.ai/devilhyt/awin-densenet-ecg-centralized/runs/pll8i34e</a><br> View project at: <a href='https://wandb.ai/devilhyt/awin-densenet-ecg-centralized' target=\"_blank\">https://wandb.ai/devilhyt/awin-densenet-ecg-centralized</a><br>Synced 5 W&B file(s), 2 media file(s), 4 artifact file(s) and 0 other file(s)"
      ],
      "text/plain": [
       "<IPython.core.display.HTML object>"
      ]
     },
     "metadata": {},
     "output_type": "display_data"
    },
    {
     "data": {
      "text/html": [
       "Find logs at: <code>wandb_logs/wandb/run-20250323_010834-pll8i34e/logs</code>"
      ],
      "text/plain": [
       "<IPython.core.display.HTML object>"
      ]
     },
     "metadata": {},
     "output_type": "display_data"
    }
   ],
   "source": [
    "wandb.finish()"
   ]
  }
 ],
 "metadata": {
  "kernelspec": {
   "display_name": "awin-ecg",
   "language": "python",
   "name": "python3"
  },
  "language_info": {
   "codemirror_mode": {
    "name": "ipython",
    "version": 3
   },
   "file_extension": ".py",
   "mimetype": "text/x-python",
   "name": "python",
   "nbconvert_exporter": "python",
   "pygments_lexer": "ipython3",
   "version": "3.11.11"
  }
 },
 "nbformat": 4,
 "nbformat_minor": 2
}
