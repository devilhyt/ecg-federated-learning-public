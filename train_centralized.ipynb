{
 "cells": [
  {
   "cell_type": "markdown",
   "metadata": {},
   "source": [
    "# Centralized learning for ECG Arrhythmia detection"
   ]
  },
  {
   "cell_type": "code",
   "execution_count": null,
   "metadata": {},
   "outputs": [
    {
     "name": "stderr",
     "output_type": "stream",
     "text": [
      "/home/g113056077/.pyenv/versions/ecg-fl/lib/python3.11/site-packages/tqdm/auto.py:21: TqdmWarning: IProgress not found. Please update jupyter and ipywidgets. See https://ipywidgets.readthedocs.io/en/stable/user_install.html\n",
      "  from .autonotebook import tqdm as notebook_tqdm\n"
     ]
    }
   ],
   "source": [
    "from pathlib import Path\n",
    "\n",
    "import lightning as L\n",
    "import matplotlib.pyplot as plt\n",
    "import wandb\n",
    "from dotenv import load_dotenv\n",
    "from lightning.pytorch.callbacks import EarlyStopping, ModelCheckpoint, TQDMProgressBar\n",
    "from lightning.pytorch.loggers import WandbLogger, TensorBoardLogger\n",
    "\n",
    "from dataset_utils import Cinc2017DataModule\n",
    "from model import DenseNet1dModule\n",
    "import os"
   ]
  },
  {
   "cell_type": "markdown",
   "metadata": {},
   "source": [
    "## Config"
   ]
  },
  {
   "cell_type": "code",
   "execution_count": null,
   "metadata": {},
   "outputs": [],
   "source": [
    "load_dotenv()\n",
    "wandb_mode = os.getenv(\"WANDB_MODE\")"
   ]
  },
  {
   "cell_type": "markdown",
   "metadata": {},
   "source": [
    "## Prepare the Dataset"
   ]
  },
  {
   "cell_type": "code",
   "execution_count": 2,
   "metadata": {},
   "outputs": [],
   "source": [
    "dm = Cinc2017DataModule(batch_size=64)"
   ]
  },
  {
   "cell_type": "markdown",
   "metadata": {},
   "source": [
    "## Create the Model"
   ]
  },
  {
   "cell_type": "code",
   "execution_count": 3,
   "metadata": {},
   "outputs": [],
   "source": [
    "model = DenseNet1dModule(num_classes=dm.num_classes, memory_efficient=False, lr=5e-4)"
   ]
  },
  {
   "cell_type": "markdown",
   "metadata": {},
   "source": [
    "## Create the Trainer"
   ]
  },
  {
   "cell_type": "code",
   "execution_count": null,
   "metadata": {},
   "outputs": [
    {
     "name": "stderr",
     "output_type": "stream",
     "text": [
      "\u001b[34m\u001b[1mwandb\u001b[0m: Using wandb-core as the SDK backend.  Please refer to https://wandb.me/wandb-core for more information.\n"
     ]
    },
    {
     "name": "stderr",
     "output_type": "stream",
     "text": [
      "\u001b[34m\u001b[1mwandb\u001b[0m: Currently logged in as: \u001b[33mdevilhyt\u001b[0m. Use \u001b[1m`wandb login --relogin`\u001b[0m to force relogin\n"
     ]
    },
    {
     "data": {
      "text/html": [
       "Tracking run with wandb version 0.18.7"
      ],
      "text/plain": [
       "<IPython.core.display.HTML object>"
      ]
     },
     "metadata": {},
     "output_type": "display_data"
    },
    {
     "data": {
      "text/html": [
       "Run data is saved locally in <code>wandb_logs/wandb/run-20241210_211349-5kw3purd</code>"
      ],
      "text/plain": [
       "<IPython.core.display.HTML object>"
      ]
     },
     "metadata": {},
     "output_type": "display_data"
    },
    {
     "data": {
      "text/html": [
       "Syncing run <strong><a href='https://wandb.ai/devilhyt/ecg-centralized/runs/5kw3purd' target=\"_blank\">fanciful-wildflower-48</a></strong> to <a href='https://wandb.ai/devilhyt/ecg-centralized' target=\"_blank\">Weights & Biases</a> (<a href='https://wandb.me/developer-guide' target=\"_blank\">docs</a>)<br/>"
      ],
      "text/plain": [
       "<IPython.core.display.HTML object>"
      ]
     },
     "metadata": {},
     "output_type": "display_data"
    },
    {
     "data": {
      "text/html": [
       " View project at <a href='https://wandb.ai/devilhyt/ecg-centralized' target=\"_blank\">https://wandb.ai/devilhyt/ecg-centralized</a>"
      ],
      "text/plain": [
       "<IPython.core.display.HTML object>"
      ]
     },
     "metadata": {},
     "output_type": "display_data"
    },
    {
     "data": {
      "text/html": [
       " View run at <a href='https://wandb.ai/devilhyt/ecg-centralized/runs/5kw3purd' target=\"_blank\">https://wandb.ai/devilhyt/ecg-centralized/runs/5kw3purd</a>"
      ],
      "text/plain": [
       "<IPython.core.display.HTML object>"
      ]
     },
     "metadata": {},
     "output_type": "display_data"
    },
    {
     "name": "stderr",
     "output_type": "stream",
     "text": [
      "GPU available: True (cuda), used: True\n",
      "TPU available: False, using: 0 TPU cores\n",
      "HPU available: False, using: 0 HPUs\n"
     ]
    }
   ],
   "source": [
    "checkpoint_callback = ModelCheckpoint(\n",
    "    monitor=\"valid_loss\",\n",
    "    verbose=True,\n",
    "    mode=\"min\",\n",
    "    save_top_k=1,\n",
    "    save_last=True,\n",
    ")\n",
    "\n",
    "early_stopping_callback = EarlyStopping(\n",
    "    monitor=\"valid_loss\", patience=8, verbose=True, mode=\"min\"\n",
    ")\n",
    "\n",
    "progress_bar_callback = TQDMProgressBar(leave=True)\n",
    "\n",
    "if wandb_mode == 'disabled':\n",
    "    logger = TensorBoardLogger(save_dir=Path('tb_logs'), name='ecg-centralized')\n",
    "else:\n",
    "    logger = WandbLogger(project='ecg-centralized', save_dir=Path('wandb_logs'), log_model=True)\n",
    "    logger.experiment.name = \"ecg-centralized\"\n",
    "\n",
    "trainer = L.Trainer(\n",
    "    max_epochs=50,\n",
    "    callbacks=[checkpoint_callback, early_stopping_callback, progress_bar_callback],\n",
    "    logger=logger,\n",
    ")"
   ]
  },
  {
   "cell_type": "markdown",
   "metadata": {},
   "source": [
    "## Train the Model"
   ]
  },
  {
   "cell_type": "code",
   "execution_count": 5,
   "metadata": {},
   "outputs": [
    {
     "name": "stderr",
     "output_type": "stream",
     "text": [
      "LOCAL_RANK: 0 - CUDA_VISIBLE_DEVICES: [0]\n",
      "\n",
      "  | Name          | Type                      | Params | Mode  | In sizes     | Out sizes\n",
      "-----------------------------------------------------------------------------------------------\n",
      "0 | model         | DenseNet1d                | 1.2 M  | train | [1, 1, 3600] | [1, 3]   \n",
      "1 | loss_fn       | CrossEntropyLoss          | 0      | train | ?            | ?        \n",
      "2 | train_metrics | MetricCollection          | 0      | train | ?            | ?        \n",
      "3 | valid_metrics | MetricCollection          | 0      | train | ?            | ?        \n",
      "4 | test_metrics  | MetricCollection          | 0      | train | ?            | ?        \n",
      "5 | valid_cm      | MulticlassConfusionMatrix | 0      | train | ?            | ?        \n",
      "6 | test_cm       | MulticlassConfusionMatrix | 0      | train | ?            | ?        \n",
      "-----------------------------------------------------------------------------------------------\n",
      "1.2 M     Trainable params\n",
      "0         Non-trainable params\n",
      "1.2 M     Total params\n",
      "4.820     Total estimated model params size (MB)\n",
      "535       Modules in train mode\n",
      "0         Modules in eval mode\n"
     ]
    },
    {
     "name": "stdout",
     "output_type": "stream",
     "text": [
      "Training: |          | 0/? [00:00<?, ?it/s]                                \n",
      "Epoch 0: 100%|██████████| 104/104 [00:06<00:00, 15.64it/s, v_num=purd, lr=0.0005, valid_loss=0.999, valid_acc=0.462, valid_f1=0.448, train_loss=1.070, train_acc=0.401, train_f1=0.399]"
     ]
    },
    {
     "name": "stderr",
     "output_type": "stream",
     "text": [
      "Metric valid_loss improved. New best score: 0.999\n",
      "Epoch 0, global step 104: 'valid_loss' reached 0.99929 (best 0.99929), saving model to 'wandb_logs/ecg-centralized/5kw3purd/checkpoints/epoch=0-step=104.ckpt' as top 1\n"
     ]
    },
    {
     "name": "stdout",
     "output_type": "stream",
     "text": [
      "\n",
      "Valid Confusion Matrix:\n",
      "tensor([[271,  25, 212],\n",
      "        [ 20,  20,  36],\n",
      "        [ 74,  25, 142]], device='cuda:0')\n",
      "Epoch 1: 100%|██████████| 104/104 [00:06<00:00, 15.64it/s, v_num=purd, lr=0.0005, valid_loss=0.826, valid_acc=0.462, valid_f1=0.462, train_loss=1.010, train_acc=0.474, train_f1=0.468]"
     ]
    },
    {
     "name": "stderr",
     "output_type": "stream",
     "text": [
      "Metric valid_loss improved by 0.174 >= min_delta = 0.0. New best score: 0.826\n",
      "Epoch 1, global step 208: 'valid_loss' reached 0.82566 (best 0.82566), saving model to 'wandb_logs/ecg-centralized/5kw3purd/checkpoints/epoch=1-step=208.ckpt' as top 1\n"
     ]
    },
    {
     "name": "stdout",
     "output_type": "stream",
     "text": [
      "\n",
      "Valid Confusion Matrix:\n",
      "tensor([[465,  14,  29],\n",
      "        [ 42,  19,  15],\n",
      "        [163,  25,  53]], device='cuda:0')\n",
      "Epoch 2: 100%|██████████| 104/104 [00:06<00:00, 15.58it/s, v_num=purd, lr=0.0005, valid_loss=0.673, valid_acc=0.619, valid_f1=0.594, train_loss=0.897, train_acc=0.567, train_f1=0.563]"
     ]
    },
    {
     "name": "stderr",
     "output_type": "stream",
     "text": [
      "Metric valid_loss improved by 0.153 >= min_delta = 0.0. New best score: 0.673\n"
     ]
    },
    {
     "name": "stdout",
     "output_type": "stream",
     "text": [
      "\n",
      "Valid Confusion Matrix:\n",
      "tensor([[460,  11,  37],\n",
      "        [ 10,  47,  19],\n",
      "        [112,  49,  80]], device='cuda:0')\n"
     ]
    },
    {
     "name": "stderr",
     "output_type": "stream",
     "text": [
      "Epoch 2, global step 312: 'valid_loss' reached 0.67278 (best 0.67278), saving model to 'wandb_logs/ecg-centralized/5kw3purd/checkpoints/epoch=2-step=312.ckpt' as top 1\n"
     ]
    },
    {
     "name": "stdout",
     "output_type": "stream",
     "text": [
      "Epoch 3: 100%|██████████| 104/104 [00:06<00:00, 15.70it/s, v_num=purd, lr=0.0005, valid_loss=0.571, valid_acc=0.704, valid_f1=0.676, train_loss=0.705, train_acc=0.682, train_f1=0.670]"
     ]
    },
    {
     "name": "stderr",
     "output_type": "stream",
     "text": [
      "Metric valid_loss improved by 0.102 >= min_delta = 0.0. New best score: 0.571\n",
      "Epoch 3, global step 416: 'valid_loss' reached 0.57101 (best 0.57101), saving model to 'wandb_logs/ecg-centralized/5kw3purd/checkpoints/epoch=3-step=416.ckpt' as top 1\n"
     ]
    },
    {
     "name": "stdout",
     "output_type": "stream",
     "text": [
      "\n",
      "Valid Confusion Matrix:\n",
      "tensor([[457,  10,  41],\n",
      "        [  6,  58,  12],\n",
      "        [ 93,  40, 108]], device='cuda:0')\n",
      "Epoch 4: 100%|██████████| 104/104 [00:06<00:00, 15.02it/s, v_num=purd, lr=0.0005, valid_loss=0.529, valid_acc=0.740, valid_f1=0.724, train_loss=0.619, train_acc=0.725, train_f1=0.719]\n",
      "Valid Confusion Matrix:\n",
      "tensor([[473,   5,  30],\n",
      "        [  9,  60,   7],\n",
      "        [ 89,  32, 120]], device='cuda:0')\n"
     ]
    },
    {
     "name": "stderr",
     "output_type": "stream",
     "text": [
      "Metric valid_loss improved by 0.042 >= min_delta = 0.0. New best score: 0.529\n",
      "Epoch 4, global step 520: 'valid_loss' reached 0.52950 (best 0.52950), saving model to 'wandb_logs/ecg-centralized/5kw3purd/checkpoints/epoch=4-step=520.ckpt' as top 1\n"
     ]
    },
    {
     "name": "stdout",
     "output_type": "stream",
     "text": [
      "Epoch 5: 100%|██████████| 104/104 [00:06<00:00, 15.63it/s, v_num=purd, lr=0.0005, valid_loss=0.508, valid_acc=0.774, valid_f1=0.756, train_loss=0.560, train_acc=0.765, train_f1=0.761]"
     ]
    },
    {
     "name": "stderr",
     "output_type": "stream",
     "text": [
      "Metric valid_loss improved by 0.021 >= min_delta = 0.0. New best score: 0.508\n"
     ]
    },
    {
     "name": "stdout",
     "output_type": "stream",
     "text": [
      "\n",
      "Valid Confusion Matrix:\n",
      "tensor([[465,   6,  37],\n",
      "        [  4,  63,   9],\n",
      "        [ 75,  27, 139]], device='cuda:0')\n"
     ]
    },
    {
     "name": "stderr",
     "output_type": "stream",
     "text": [
      "Epoch 5, global step 624: 'valid_loss' reached 0.50843 (best 0.50843), saving model to 'wandb_logs/ecg-centralized/5kw3purd/checkpoints/epoch=5-step=624.ckpt' as top 1\n"
     ]
    },
    {
     "name": "stdout",
     "output_type": "stream",
     "text": [
      "Epoch 6: 100%|██████████| 104/104 [00:06<00:00, 15.11it/s, v_num=purd, lr=0.0005, valid_loss=0.479, valid_acc=0.779, valid_f1=0.775, train_loss=0.510, train_acc=0.790, train_f1=0.787]"
     ]
    },
    {
     "name": "stderr",
     "output_type": "stream",
     "text": [
      "Metric valid_loss improved by 0.029 >= min_delta = 0.0. New best score: 0.479\n",
      "Epoch 6, global step 728: 'valid_loss' reached 0.47935 (best 0.47935), saving model to 'wandb_logs/ecg-centralized/5kw3purd/checkpoints/epoch=6-step=728.ckpt' as top 1\n"
     ]
    },
    {
     "name": "stdout",
     "output_type": "stream",
     "text": [
      "\n",
      "Valid Confusion Matrix:\n",
      "tensor([[477,   4,  27],\n",
      "        [  5,  60,  11],\n",
      "        [ 71,  23, 147]], device='cuda:0')\n",
      "Epoch 7: 100%|██████████| 104/104 [00:06<00:00, 15.57it/s, v_num=purd, lr=0.0005, valid_loss=0.501, valid_acc=0.759, valid_f1=0.742, train_loss=0.493, train_acc=0.796, train_f1=0.793]"
     ]
    },
    {
     "name": "stderr",
     "output_type": "stream",
     "text": [
      "Epoch 7, global step 832: 'valid_loss' was not in top 1\n"
     ]
    },
    {
     "name": "stdout",
     "output_type": "stream",
     "text": [
      "\n",
      "Valid Confusion Matrix:\n",
      "tensor([[479,   4,  25],\n",
      "        [  8,  62,   6],\n",
      "        [ 83,  33, 125]], device='cuda:0')\n",
      "Epoch 8: 100%|██████████| 104/104 [00:06<00:00, 15.65it/s, v_num=purd, lr=0.0005, valid_loss=0.475, valid_acc=0.775, valid_f1=0.756, train_loss=0.496, train_acc=0.793, train_f1=0.790]"
     ]
    },
    {
     "name": "stderr",
     "output_type": "stream",
     "text": [
      "Metric valid_loss improved by 0.004 >= min_delta = 0.0. New best score: 0.475\n",
      "Epoch 8, global step 936: 'valid_loss' reached 0.47505 (best 0.47505), saving model to 'wandb_logs/ecg-centralized/5kw3purd/checkpoints/epoch=8-step=936.ckpt' as top 1\n"
     ]
    },
    {
     "name": "stdout",
     "output_type": "stream",
     "text": [
      "\n",
      "Valid Confusion Matrix:\n",
      "tensor([[473,   9,  26],\n",
      "        [  7,  63,   6],\n",
      "        [ 77,  28, 136]], device='cuda:0')\n",
      "Epoch 9: 100%|██████████| 104/104 [00:06<00:00, 15.26it/s, v_num=purd, lr=0.0005, valid_loss=0.493, valid_acc=0.780, valid_f1=0.763, train_loss=0.479, train_acc=0.801, train_f1=0.798]"
     ]
    },
    {
     "name": "stderr",
     "output_type": "stream",
     "text": [
      "Epoch 9, global step 1040: 'valid_loss' was not in top 1\n"
     ]
    },
    {
     "name": "stdout",
     "output_type": "stream",
     "text": [
      "\n",
      "Valid Confusion Matrix:\n",
      "tensor([[463,   5,  40],\n",
      "        [  3,  61,  12],\n",
      "        [ 61,  29, 151]], device='cuda:0')\n",
      "Epoch 10: 100%|██████████| 104/104 [00:06<00:00, 15.54it/s, v_num=purd, lr=0.0005, valid_loss=0.468, valid_acc=0.784, valid_f1=0.757, train_loss=0.453, train_acc=0.813, train_f1=0.810]"
     ]
    },
    {
     "name": "stderr",
     "output_type": "stream",
     "text": [
      "Metric valid_loss improved by 0.007 >= min_delta = 0.0. New best score: 0.468\n",
      "Epoch 10, global step 1144: 'valid_loss' reached 0.46833 (best 0.46833), saving model to 'wandb_logs/ecg-centralized/5kw3purd/checkpoints/epoch=10-step=1144.ckpt' as top 1\n"
     ]
    },
    {
     "name": "stdout",
     "output_type": "stream",
     "text": [
      "\n",
      "Valid Confusion Matrix:\n",
      "tensor([[466,   8,  34],\n",
      "        [  5,  64,   7],\n",
      "        [ 64,  34, 143]], device='cuda:0')\n",
      "Epoch 11: 100%|██████████| 104/104 [00:06<00:00, 15.30it/s, v_num=purd, lr=0.0005, valid_loss=0.434, valid_acc=0.797, valid_f1=0.801, train_loss=0.467, train_acc=0.805, train_f1=0.803]"
     ]
    },
    {
     "name": "stderr",
     "output_type": "stream",
     "text": [
      "Metric valid_loss improved by 0.034 >= min_delta = 0.0. New best score: 0.434\n",
      "Epoch 11, global step 1248: 'valid_loss' reached 0.43385 (best 0.43385), saving model to 'wandb_logs/ecg-centralized/5kw3purd/checkpoints/epoch=11-step=1248.ckpt' as top 1\n"
     ]
    },
    {
     "name": "stdout",
     "output_type": "stream",
     "text": [
      "\n",
      "Valid Confusion Matrix:\n",
      "tensor([[465,   4,  39],\n",
      "        [  3,  58,  15],\n",
      "        [ 55,  14, 172]], device='cuda:0')\n",
      "Epoch 12: 100%|██████████| 104/104 [00:06<00:00, 15.39it/s, v_num=purd, lr=0.0005, valid_loss=0.433, valid_acc=0.801, valid_f1=0.797, train_loss=0.453, train_acc=0.815, train_f1=0.814]"
     ]
    },
    {
     "name": "stderr",
     "output_type": "stream",
     "text": [
      "Metric valid_loss improved by 0.000 >= min_delta = 0.0. New best score: 0.433\n",
      "Epoch 12, global step 1352: 'valid_loss' reached 0.43347 (best 0.43347), saving model to 'wandb_logs/ecg-centralized/5kw3purd/checkpoints/epoch=12-step=1352.ckpt' as top 1\n"
     ]
    },
    {
     "name": "stdout",
     "output_type": "stream",
     "text": [
      "\n",
      "Valid Confusion Matrix:\n",
      "tensor([[471,   6,  31],\n",
      "        [  5,  64,   7],\n",
      "        [ 72,  16, 153]], device='cuda:0')\n",
      "Epoch 13: 100%|██████████| 104/104 [00:06<00:00, 15.17it/s, v_num=purd, lr=0.0005, valid_loss=0.433, valid_acc=0.810, valid_f1=0.811, train_loss=0.431, train_acc=0.830, train_f1=0.828]"
     ]
    },
    {
     "name": "stderr",
     "output_type": "stream",
     "text": [
      "Metric valid_loss improved by 0.000 >= min_delta = 0.0. New best score: 0.433\n",
      "Epoch 13, global step 1456: 'valid_loss' reached 0.43320 (best 0.43320), saving model to 'wandb_logs/ecg-centralized/5kw3purd/checkpoints/epoch=13-step=1456.ckpt' as top 1\n"
     ]
    },
    {
     "name": "stdout",
     "output_type": "stream",
     "text": [
      "\n",
      "Valid Confusion Matrix:\n",
      "tensor([[468,   4,  36],\n",
      "        [  2,  60,  14],\n",
      "        [ 54,  14, 173]], device='cuda:0')\n",
      "Epoch 14: 100%|██████████| 104/104 [00:07<00:00, 14.83it/s, v_num=purd, lr=0.0005, valid_loss=0.429, valid_acc=0.808, valid_f1=0.807, train_loss=0.438, train_acc=0.817, train_f1=0.815]"
     ]
    },
    {
     "name": "stderr",
     "output_type": "stream",
     "text": [
      "Metric valid_loss improved by 0.005 >= min_delta = 0.0. New best score: 0.429\n",
      "Epoch 14, global step 1560: 'valid_loss' reached 0.42861 (best 0.42861), saving model to 'wandb_logs/ecg-centralized/5kw3purd/checkpoints/epoch=14-step=1560.ckpt' as top 1\n"
     ]
    },
    {
     "name": "stdout",
     "output_type": "stream",
     "text": [
      "\n",
      "Valid Confusion Matrix:\n",
      "tensor([[462,   3,  43],\n",
      "        [  4,  60,  12],\n",
      "        [ 50,  16, 175]], device='cuda:0')\n",
      "Epoch 15: 100%|██████████| 104/104 [00:06<00:00, 15.64it/s, v_num=purd, lr=0.0005, valid_loss=0.423, valid_acc=0.808, valid_f1=0.810, train_loss=0.421, train_acc=0.828, train_f1=0.826]\n",
      "Valid Confusion Matrix:\n",
      "tensor([[473,   3,  32],\n",
      "        [  4,  61,  11],\n",
      "        [ 60,  15, 166]], device='cuda:0')\n"
     ]
    },
    {
     "name": "stderr",
     "output_type": "stream",
     "text": [
      "Metric valid_loss improved by 0.005 >= min_delta = 0.0. New best score: 0.423\n",
      "Epoch 15, global step 1664: 'valid_loss' reached 0.42344 (best 0.42344), saving model to 'wandb_logs/ecg-centralized/5kw3purd/checkpoints/epoch=15-step=1664.ckpt' as top 1\n"
     ]
    },
    {
     "name": "stdout",
     "output_type": "stream",
     "text": [
      "Epoch 16: 100%|██████████| 104/104 [00:06<00:00, 15.84it/s, v_num=purd, lr=0.0005, valid_loss=0.415, valid_acc=0.779, valid_f1=0.784, train_loss=0.404, train_acc=0.841, train_f1=0.839]"
     ]
    },
    {
     "name": "stderr",
     "output_type": "stream",
     "text": [
      "Metric valid_loss improved by 0.008 >= min_delta = 0.0. New best score: 0.415\n",
      "Epoch 16, global step 1768: 'valid_loss' reached 0.41505 (best 0.41505), saving model to 'wandb_logs/ecg-centralized/5kw3purd/checkpoints/epoch=16-step=1768.ckpt' as top 1\n"
     ]
    },
    {
     "name": "stdout",
     "output_type": "stream",
     "text": [
      "\n",
      "Valid Confusion Matrix:\n",
      "tensor([[471,   4,  33],\n",
      "        [  6,  56,  14],\n",
      "        [ 62,  17, 162]], device='cuda:0')\n",
      "Epoch 17: 100%|██████████| 104/104 [00:06<00:00, 15.77it/s, v_num=purd, lr=0.0005, valid_loss=0.458, valid_acc=0.826, valid_f1=0.801, train_loss=0.423, train_acc=0.832, train_f1=0.830]"
     ]
    },
    {
     "name": "stderr",
     "output_type": "stream",
     "text": [
      "Epoch 17, global step 1872: 'valid_loss' was not in top 1\n"
     ]
    },
    {
     "name": "stdout",
     "output_type": "stream",
     "text": [
      "\n",
      "Valid Confusion Matrix:\n",
      "tensor([[466,   6,  36],\n",
      "        [  2,  67,   7],\n",
      "        [ 50,  27, 164]], device='cuda:0')\n",
      "Epoch 18: 100%|██████████| 104/104 [00:06<00:00, 15.74it/s, v_num=purd, lr=0.0005, valid_loss=0.406, valid_acc=0.812, valid_f1=0.814, train_loss=0.387, train_acc=0.847, train_f1=0.846]"
     ]
    },
    {
     "name": "stderr",
     "output_type": "stream",
     "text": [
      "Metric valid_loss improved by 0.009 >= min_delta = 0.0. New best score: 0.406\n",
      "Epoch 18, global step 1976: 'valid_loss' reached 0.40612 (best 0.40612), saving model to 'wandb_logs/ecg-centralized/5kw3purd/checkpoints/epoch=18-step=1976.ckpt' as top 1\n"
     ]
    },
    {
     "name": "stdout",
     "output_type": "stream",
     "text": [
      "\n",
      "Valid Confusion Matrix:\n",
      "tensor([[475,   4,  29],\n",
      "        [  7,  61,   8],\n",
      "        [ 58,  15, 168]], device='cuda:0')\n",
      "Epoch 19: 100%|██████████| 104/104 [00:06<00:00, 15.54it/s, v_num=purd, lr=0.0005, valid_loss=0.459, valid_acc=0.813, valid_f1=0.793, train_loss=0.390, train_acc=0.843, train_f1=0.841]"
     ]
    },
    {
     "name": "stderr",
     "output_type": "stream",
     "text": [
      "Epoch 19, global step 2080: 'valid_loss' was not in top 1\n"
     ]
    },
    {
     "name": "stdout",
     "output_type": "stream",
     "text": [
      "\n",
      "Valid Confusion Matrix:\n",
      "tensor([[453,   4,  51],\n",
      "        [  2,  64,  10],\n",
      "        [ 47,  24, 170]], device='cuda:0')\n",
      "Epoch 20: 100%|██████████| 104/104 [00:06<00:00, 15.68it/s, v_num=purd, lr=0.0005, valid_loss=0.407, valid_acc=0.818, valid_f1=0.816, train_loss=0.378, train_acc=0.850, train_f1=0.848]"
     ]
    },
    {
     "name": "stderr",
     "output_type": "stream",
     "text": [
      "Epoch 20, global step 2184: 'valid_loss' was not in top 1\n"
     ]
    },
    {
     "name": "stdout",
     "output_type": "stream",
     "text": [
      "\n",
      "Valid Confusion Matrix:\n",
      "tensor([[460,   7,  41],\n",
      "        [  0,  60,  16],\n",
      "        [ 47,  11, 183]], device='cuda:0')\n",
      "Epoch 21: 100%|██████████| 104/104 [00:06<00:00, 15.75it/s, v_num=purd, lr=0.0005, valid_loss=0.415, valid_acc=0.838, valid_f1=0.824, train_loss=0.367, train_acc=0.855, train_f1=0.853]"
     ]
    },
    {
     "name": "stderr",
     "output_type": "stream",
     "text": [
      "Epoch 21, global step 2288: 'valid_loss' was not in top 1\n"
     ]
    },
    {
     "name": "stdout",
     "output_type": "stream",
     "text": [
      "\n",
      "Valid Confusion Matrix:\n",
      "tensor([[464,   3,  41],\n",
      "        [  0,  67,   9],\n",
      "        [ 50,  18, 173]], device='cuda:0')\n",
      "Epoch 22: 100%|██████████| 104/104 [00:06<00:00, 15.40it/s, v_num=purd, lr=0.0005, valid_loss=0.395, valid_acc=0.829, valid_f1=0.815, train_loss=0.367, train_acc=0.854, train_f1=0.853]"
     ]
    },
    {
     "name": "stderr",
     "output_type": "stream",
     "text": [
      "Metric valid_loss improved by 0.011 >= min_delta = 0.0. New best score: 0.395\n",
      "Epoch 22, global step 2392: 'valid_loss' reached 0.39541 (best 0.39541), saving model to 'wandb_logs/ecg-centralized/5kw3purd/checkpoints/epoch=22-step=2392.ckpt' as top 1\n"
     ]
    },
    {
     "name": "stdout",
     "output_type": "stream",
     "text": [
      "\n",
      "Valid Confusion Matrix:\n",
      "tensor([[478,   4,  26],\n",
      "        [  3,  68,   5],\n",
      "        [ 63,  21, 157]], device='cuda:0')\n",
      "Epoch 23: 100%|██████████| 104/104 [00:06<00:00, 14.94it/s, v_num=purd, lr=0.0005, valid_loss=0.403, valid_acc=0.832, valid_f1=0.819, train_loss=0.376, train_acc=0.853, train_f1=0.851]"
     ]
    },
    {
     "name": "stderr",
     "output_type": "stream",
     "text": [
      "Epoch 23, global step 2496: 'valid_loss' was not in top 1\n"
     ]
    },
    {
     "name": "stdout",
     "output_type": "stream",
     "text": [
      "\n",
      "Valid Confusion Matrix:\n",
      "tensor([[472,   5,  31],\n",
      "        [  3,  66,   7],\n",
      "        [ 54,  19, 168]], device='cuda:0')\n",
      "Epoch 24: 100%|██████████| 104/104 [00:06<00:00, 15.67it/s, v_num=purd, lr=0.0005, valid_loss=0.426, valid_acc=0.828, valid_f1=0.814, train_loss=0.354, train_acc=0.858, train_f1=0.856]"
     ]
    },
    {
     "name": "stderr",
     "output_type": "stream",
     "text": [
      "Epoch 24, global step 2600: 'valid_loss' was not in top 1\n"
     ]
    },
    {
     "name": "stdout",
     "output_type": "stream",
     "text": [
      "\n",
      "Valid Confusion Matrix:\n",
      "tensor([[460,   5,  43],\n",
      "        [  2,  65,   9],\n",
      "        [ 49,  18, 174]], device='cuda:0')\n",
      "Epoch 25: 100%|██████████| 104/104 [00:07<00:00, 14.85it/s, v_num=purd, lr=0.0005, valid_loss=0.415, valid_acc=0.823, valid_f1=0.826, train_loss=0.360, train_acc=0.857, train_f1=0.855]"
     ]
    },
    {
     "name": "stderr",
     "output_type": "stream",
     "text": [
      "Epoch 25, global step 2704: 'valid_loss' was not in top 1\n"
     ]
    },
    {
     "name": "stdout",
     "output_type": "stream",
     "text": [
      "\n",
      "Valid Confusion Matrix:\n",
      "tensor([[452,   2,  54],\n",
      "        [  2,  62,  12],\n",
      "        [ 48,   9, 184]], device='cuda:0')\n",
      "Epoch 26: 100%|██████████| 104/104 [00:06<00:00, 15.50it/s, v_num=purd, lr=0.0005, valid_loss=0.427, valid_acc=0.795, valid_f1=0.811, train_loss=0.367, train_acc=0.859, train_f1=0.858]\n",
      "Valid Confusion Matrix:\n",
      "tensor([[465,   3,  40],\n",
      "        [  2,  54,  20],\n",
      "        [ 51,   7, 183]], device='cuda:0')\n"
     ]
    },
    {
     "name": "stderr",
     "output_type": "stream",
     "text": [
      "Epoch 26, global step 2808: 'valid_loss' was not in top 1\n"
     ]
    },
    {
     "name": "stdout",
     "output_type": "stream",
     "text": [
      "Epoch 27: 100%|██████████| 104/104 [00:06<00:00, 15.65it/s, v_num=purd, lr=0.00025, valid_loss=0.377, valid_acc=0.827, valid_f1=0.825, train_loss=0.321, train_acc=0.877, train_f1=0.876]\n",
      "Valid Confusion Matrix:\n",
      "tensor([[474,   4,  30],\n",
      "        [  4,  64,   8],\n",
      "        [ 57,  14, 170]], device='cuda:0')\n"
     ]
    },
    {
     "name": "stderr",
     "output_type": "stream",
     "text": [
      "Metric valid_loss improved by 0.018 >= min_delta = 0.0. New best score: 0.377\n",
      "Epoch 27, global step 2912: 'valid_loss' reached 0.37744 (best 0.37744), saving model to 'wandb_logs/ecg-centralized/5kw3purd/checkpoints/epoch=27-step=2912.ckpt' as top 1\n"
     ]
    },
    {
     "name": "stdout",
     "output_type": "stream",
     "text": [
      "Epoch 28: 100%|██████████| 104/104 [00:06<00:00, 15.62it/s, v_num=purd, lr=0.00025, valid_loss=0.392, valid_acc=0.828, valid_f1=0.826, train_loss=0.328, train_acc=0.873, train_f1=0.871]"
     ]
    },
    {
     "name": "stderr",
     "output_type": "stream",
     "text": [
      "Epoch 28, global step 3016: 'valid_loss' was not in top 1\n"
     ]
    },
    {
     "name": "stdout",
     "output_type": "stream",
     "text": [
      "\n",
      "Valid Confusion Matrix:\n",
      "tensor([[474,   5,  29],\n",
      "        [  5,  64,   7],\n",
      "        [ 56,  14, 171]], device='cuda:0')\n",
      "Epoch 29: 100%|██████████| 104/104 [00:06<00:00, 15.76it/s, v_num=purd, lr=0.00025, valid_loss=0.384, valid_acc=0.819, valid_f1=0.824, train_loss=0.309, train_acc=0.877, train_f1=0.876]"
     ]
    },
    {
     "name": "stderr",
     "output_type": "stream",
     "text": [
      "Epoch 29, global step 3120: 'valid_loss' was not in top 1\n"
     ]
    },
    {
     "name": "stdout",
     "output_type": "stream",
     "text": [
      "\n",
      "Valid Confusion Matrix:\n",
      "tensor([[469,   4,  35],\n",
      "        [  3,  61,  12],\n",
      "        [ 55,  10, 176]], device='cuda:0')\n",
      "Epoch 30: 100%|██████████| 104/104 [00:06<00:00, 15.25it/s, v_num=purd, lr=0.00025, valid_loss=0.398, valid_acc=0.825, valid_f1=0.824, train_loss=0.309, train_acc=0.880, train_f1=0.879]"
     ]
    },
    {
     "name": "stderr",
     "output_type": "stream",
     "text": [
      "Epoch 30, global step 3224: 'valid_loss' was not in top 1\n"
     ]
    },
    {
     "name": "stdout",
     "output_type": "stream",
     "text": [
      "\n",
      "Valid Confusion Matrix:\n",
      "tensor([[465,   4,  39],\n",
      "        [  4,  64,   8],\n",
      "        [ 56,  12, 173]], device='cuda:0')\n",
      "Epoch 31: 100%|██████████| 104/104 [00:06<00:00, 15.34it/s, v_num=purd, lr=0.00025, valid_loss=0.430, valid_acc=0.826, valid_f1=0.821, train_loss=0.312, train_acc=0.878, train_f1=0.878]"
     ]
    },
    {
     "name": "stderr",
     "output_type": "stream",
     "text": [
      "Epoch 31, global step 3328: 'valid_loss' was not in top 1\n"
     ]
    },
    {
     "name": "stdout",
     "output_type": "stream",
     "text": [
      "\n",
      "Valid Confusion Matrix:\n",
      "tensor([[466,   3,  39],\n",
      "        [  1,  64,  11],\n",
      "        [ 53,  15, 173]], device='cuda:0')\n",
      "Epoch 32: 100%|██████████| 104/104 [00:06<00:00, 15.51it/s, v_num=purd, lr=0.000125, valid_loss=0.406, valid_acc=0.818, valid_f1=0.815, train_loss=0.301, train_acc=0.885, train_f1=0.884]"
     ]
    },
    {
     "name": "stderr",
     "output_type": "stream",
     "text": [
      "Epoch 32, global step 3432: 'valid_loss' was not in top 1\n"
     ]
    },
    {
     "name": "stdout",
     "output_type": "stream",
     "text": [
      "\n",
      "Valid Confusion Matrix:\n",
      "tensor([[467,   5,  36],\n",
      "        [  3,  62,  11],\n",
      "        [ 54,  14, 173]], device='cuda:0')\n",
      "Epoch 33: 100%|██████████| 104/104 [00:06<00:00, 15.31it/s, v_num=purd, lr=0.000125, valid_loss=0.401, valid_acc=0.826, valid_f1=0.827, train_loss=0.289, train_acc=0.888, train_f1=0.887]"
     ]
    },
    {
     "name": "stderr",
     "output_type": "stream",
     "text": [
      "Epoch 33, global step 3536: 'valid_loss' was not in top 1\n"
     ]
    },
    {
     "name": "stdout",
     "output_type": "stream",
     "text": [
      "\n",
      "Valid Confusion Matrix:\n",
      "tensor([[465,   3,  40],\n",
      "        [  1,  64,  11],\n",
      "        [ 56,  11, 174]], device='cuda:0')\n",
      "Epoch 34: 100%|██████████| 104/104 [00:06<00:00, 15.08it/s, v_num=purd, lr=0.000125, valid_loss=0.398, valid_acc=0.820, valid_f1=0.824, train_loss=0.291, train_acc=0.883, train_f1=0.882]"
     ]
    },
    {
     "name": "stderr",
     "output_type": "stream",
     "text": [
      "Epoch 34, global step 3640: 'valid_loss' was not in top 1\n"
     ]
    },
    {
     "name": "stdout",
     "output_type": "stream",
     "text": [
      "\n",
      "Valid Confusion Matrix:\n",
      "tensor([[469,   5,  34],\n",
      "        [  3,  61,  12],\n",
      "        [ 54,  10, 177]], device='cuda:0')\n",
      "Epoch 35: 100%|██████████| 104/104 [00:06<00:00, 15.42it/s, v_num=purd, lr=0.000125, valid_loss=0.412, valid_acc=0.839, valid_f1=0.830, train_loss=0.281, train_acc=0.887, train_f1=0.886]"
     ]
    },
    {
     "name": "stderr",
     "output_type": "stream",
     "text": [
      "Monitored metric valid_loss did not improve in the last 8 records. Best score: 0.377. Signaling Trainer to stop.\n",
      "Epoch 35, global step 3744: 'valid_loss' was not in top 1\n"
     ]
    },
    {
     "name": "stdout",
     "output_type": "stream",
     "text": [
      "\n",
      "Valid Confusion Matrix:\n",
      "tensor([[462,   4,  42],\n",
      "        [  2,  66,   8],\n",
      "        [ 49,  14, 178]], device='cuda:0')\n"
     ]
    }
   ],
   "source": [
    "trainer.fit(model, datamodule=dm)"
   ]
  },
  {
   "cell_type": "markdown",
   "metadata": {},
   "source": [
    "## Evaluate the Model on the Test Set"
   ]
  },
  {
   "cell_type": "code",
   "execution_count": 6,
   "metadata": {},
   "outputs": [
    {
     "name": "stderr",
     "output_type": "stream",
     "text": [
      "LOCAL_RANK: 0 - CUDA_VISIBLE_DEVICES: [0]\n"
     ]
    },
    {
     "name": "stdout",
     "output_type": "stream",
     "text": [
      "Testing DataLoader 0: 100%|██████████| 13/13 [00:00<00:00, 49.44it/s]\n"
     ]
    },
    {
     "data": {
      "text/html": [
       "<pre style=\"white-space:pre;overflow-x:auto;line-height:normal;font-family:Menlo,'DejaVu Sans Mono',consolas,'Courier New',monospace\">┏━━━━━━━━━━━━━━━━━━━━━━━━━━━┳━━━━━━━━━━━━━━━━━━━━━━━━━━━┓\n",
       "┃<span style=\"font-weight: bold\">        Test metric        </span>┃<span style=\"font-weight: bold\">       DataLoader 0        </span>┃\n",
       "┡━━━━━━━━━━━━━━━━━━━━━━━━━━━╇━━━━━━━━━━━━━━━━━━━━━━━━━━━┩\n",
       "│<span style=\"color: #008080; text-decoration-color: #008080\">         test_acc          </span>│<span style=\"color: #800080; text-decoration-color: #800080\">    0.8171041011810303     </span>│\n",
       "│<span style=\"color: #008080; text-decoration-color: #008080\">          test_f1          </span>│<span style=\"color: #800080; text-decoration-color: #800080\">    0.8207087516784668     </span>│\n",
       "│<span style=\"color: #008080; text-decoration-color: #008080\">         test_loss         </span>│<span style=\"color: #800080; text-decoration-color: #800080\">    0.4554614722728729     </span>│\n",
       "└───────────────────────────┴───────────────────────────┘\n",
       "</pre>\n"
      ],
      "text/plain": [
       "┏━━━━━━━━━━━━━━━━━━━━━━━━━━━┳━━━━━━━━━━━━━━━━━━━━━━━━━━━┓\n",
       "┃\u001b[1m \u001b[0m\u001b[1m       Test metric       \u001b[0m\u001b[1m \u001b[0m┃\u001b[1m \u001b[0m\u001b[1m      DataLoader 0       \u001b[0m\u001b[1m \u001b[0m┃\n",
       "┡━━━━━━━━━━━━━━━━━━━━━━━━━━━╇━━━━━━━━━━━━━━━━━━━━━━━━━━━┩\n",
       "│\u001b[36m \u001b[0m\u001b[36m        test_acc         \u001b[0m\u001b[36m \u001b[0m│\u001b[35m \u001b[0m\u001b[35m   0.8171041011810303    \u001b[0m\u001b[35m \u001b[0m│\n",
       "│\u001b[36m \u001b[0m\u001b[36m         test_f1         \u001b[0m\u001b[36m \u001b[0m│\u001b[35m \u001b[0m\u001b[35m   0.8207087516784668    \u001b[0m\u001b[35m \u001b[0m│\n",
       "│\u001b[36m \u001b[0m\u001b[36m        test_loss        \u001b[0m\u001b[36m \u001b[0m│\u001b[35m \u001b[0m\u001b[35m   0.4554614722728729    \u001b[0m\u001b[35m \u001b[0m│\n",
       "└───────────────────────────┴───────────────────────────┘\n"
      ]
     },
     "metadata": {},
     "output_type": "display_data"
    }
   ],
   "source": [
    "model = DenseNet1dModule.load_from_checkpoint(checkpoint_callback.best_model_path)\n",
    "\n",
    "_ = trainer.test(model, dataloaders=dm)"
   ]
  },
  {
   "cell_type": "markdown",
   "metadata": {},
   "source": [
    "## Confusion Matrix"
   ]
  },
  {
   "cell_type": "code",
   "execution_count": 7,
   "metadata": {},
   "outputs": [
    {
     "data": {
      "image/png": "[encoded data removed]",
      "text/plain": [
       "<Figure size 640x480 with 1 Axes>"
      ]
     },
     "metadata": {},
     "output_type": "display_data"
    }
   ],
   "source": [
    "fig, ax = model.test_cm.plot(\n",
    "    model.test_cm_log, cmap=\"Blues\", labels=dm.test_set.classes\n",
    ")\n",
    "plt.show()\n",
    "wandb.log({\"test_cm\": fig})"
   ]
  },
  {
   "cell_type": "code",
   "execution_count": 8,
   "metadata": {},
   "outputs": [
    {
     "data": {
      "text/html": [
       "\n",
       "    <style>\n",
       "        .wandb-row {\n",
       "            display: flex;\n",
       "            flex-direction: row;\n",
       "            flex-wrap: wrap;\n",
       "            justify-content: flex-start;\n",
       "            width: 100%;\n",
       "        }\n",
       "        .wandb-col {\n",
       "            display: flex;\n",
       "            flex-direction: column;\n",
       "            flex-basis: 100%;\n",
       "            flex: 1;\n",
       "            padding: 10px;\n",
       "        }\n",
       "    </style>\n",
       "<div class=\"wandb-row\"><div class=\"wandb-col\"><h3>Run history:</h3><br/><table class=\"wandb\"><tr><td>epoch</td><td>▁▁▁▁▁▂▂▂▂▂▂▃▃▃▃▃▃▄▄▄▅▅▅▅▅▆▆▆▆▆▆▇▇▇▇▇▇▇██</td></tr><tr><td>lr</td><td>██████████████████████████████▃▃▃▃▃▁▁▁▁▁</td></tr><tr><td>test_acc</td><td>▁</td></tr><tr><td>test_f1</td><td>▁</td></tr><tr><td>test_loss</td><td>▁</td></tr><tr><td>train_acc</td><td>▁▂▃▅▆▆▇▇▇▇▇▇▇▇▇▇▇▇▇▇▇███████████████</td></tr><tr><td>train_f1</td><td>▁▂▃▅▆▆▇▇▇▇▇▇▇▇▇▇▇▇▇▇▇██▇████████████</td></tr><tr><td>train_loss</td><td>█▇▆▅▄▃▃▃▃▃▃▃▃▂▂▂▂▂▂▂▂▂▂▂▂▂▂▁▁▁▁▁▁▁▁▁</td></tr><tr><td>trainer/global_step</td><td>▁▁▂▂▂▂▂▂▃▃▃▃▃▃▃▄▄▄▄▅▅▅▅▅▅▆▆▆▆▆▇▇▇▇▇█████</td></tr><tr><td>valid_acc</td><td>▁▁▄▅▆▇▇▇▇▇▇▇▇▇▇▇▇█▇███████▇█████████</td></tr><tr><td>valid_f1</td><td>▁▁▄▅▆▇▇▆▇▇▇▇▇███▇▇█▇████████████████</td></tr><tr><td>valid_loss</td><td>█▆▄▃▃▂▂▂▂▂▂▂▂▂▂▂▁▂▁▂▁▁▁▁▂▁▂▁▁▁▁▂▁▁▁▁</td></tr></table><br/></div><div class=\"wandb-col\"><h3>Run summary:</h3><br/><table class=\"wandb\"><tr><td>epoch</td><td>36</td></tr><tr><td>lr</td><td>0.00013</td></tr><tr><td>test_acc</td><td>0.8171</td></tr><tr><td>test_f1</td><td>0.82071</td></tr><tr><td>test_loss</td><td>0.45546</td></tr><tr><td>train_acc</td><td>0.88682</td></tr><tr><td>train_f1</td><td>0.88616</td></tr><tr><td>train_loss</td><td>0.28054</td></tr><tr><td>trainer/global_step</td><td>3744</td></tr><tr><td>valid_acc</td><td>0.83882</td></tr><tr><td>valid_f1</td><td>0.82969</td></tr><tr><td>valid_loss</td><td>0.41156</td></tr></table><br/></div></div>"
      ],
      "text/plain": [
       "<IPython.core.display.HTML object>"
      ]
     },
     "metadata": {},
     "output_type": "display_data"
    },
    {
     "data": {
      "text/html": [
       " View run <strong style=\"color:#cdcd00\">fanciful-wildflower-48</strong> at: <a href='https://wandb.ai/devilhyt/ecg-centralized/runs/5kw3purd' target=\"_blank\">https://wandb.ai/devilhyt/ecg-centralized/runs/5kw3purd</a><br/> View project at: <a href='https://wandb.ai/devilhyt/ecg-centralized' target=\"_blank\">https://wandb.ai/devilhyt/ecg-centralized</a><br/>Synced 5 W&B file(s), 0 media file(s), 4 artifact file(s) and 1 other file(s)"
      ],
      "text/plain": [
       "<IPython.core.display.HTML object>"
      ]
     },
     "metadata": {},
     "output_type": "display_data"
    },
    {
     "data": {
      "text/html": [
       "Find logs at: <code>wandb_logs/wandb/run-20241210_211349-5kw3purd/logs</code>"
      ],
      "text/plain": [
       "<IPython.core.display.HTML object>"
      ]
     },
     "metadata": {},
     "output_type": "display_data"
    }
   ],
   "source": [
    "wandb.finish()"
   ]
  }
 ],
 "metadata": {
  "kernelspec": {
   "display_name": "ecg-fl",
   "language": "python",
   "name": "python3"
  },
  "language_info": {
   "codemirror_mode": {
    "name": "ipython",
    "version": 3
   },
   "file_extension": ".py",
   "mimetype": "text/x-python",
   "name": "python",
   "nbconvert_exporter": "python",
   "pygments_lexer": "ipython3",
   "version": "3.11.10"
  }
 },
 "nbformat": 4,
 "nbformat_minor": 2
}
