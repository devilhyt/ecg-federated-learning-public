{
 "cells": [
  {
   "cell_type": "markdown",
   "metadata": {},
   "source": [
    "# Centralized learning for ECG Arrhythmia detection\n"
   ]
  },
  {
   "cell_type": "code",
   "execution_count": 1,
   "metadata": {},
   "outputs": [
    {
     "name": "stderr",
     "output_type": "stream",
     "text": [
      "/home/g113056077/.pyenv/versions/awin-ecg/lib/python3.11/site-packages/tqdm/auto.py:21: TqdmWarning: IProgress not found. Please update jupyter and ipywidgets. See https://ipywidgets.readthedocs.io/en/stable/user_install.html\n",
      "  from .autonotebook import tqdm as notebook_tqdm\n"
     ]
    }
   ],
   "source": [
    "import configparser\n",
    "import os\n",
    "from pathlib import Path\n",
    "\n",
    "import lightning as L\n",
    "import matplotlib.pyplot as plt\n",
    "import wandb\n",
    "from dotenv import load_dotenv\n",
    "from lightning.pytorch.callbacks import EarlyStopping, ModelCheckpoint, TQDMProgressBar\n",
    "from lightning.pytorch.loggers import TensorBoardLogger, WandbLogger\n",
    "\n",
    "from dataset_utils import Cinc2017DataModule\n",
    "from model import DenseNetGruEcgModule"
   ]
  },
  {
   "cell_type": "markdown",
   "metadata": {},
   "source": [
    "## Config\n"
   ]
  },
  {
   "cell_type": "code",
   "execution_count": 2,
   "metadata": {},
   "outputs": [],
   "source": [
    "load_dotenv()\n",
    "wandb_mode = os.getenv(\"WANDB_MODE\")\n",
    "\n",
    "config = configparser.ConfigParser()\n",
    "config.read(\"config.ini\")\n",
    "dst_freq = config.getint(\"data_preprocessing\", \"dst_freq\")\n",
    "dst_time = config.getint(\"data_preprocessing\", \"dst_time\")\n",
    "dst_length = dst_freq * dst_time\n",
    "\n",
    "MAX_EPOCHS = 50"
   ]
  },
  {
   "cell_type": "markdown",
   "metadata": {},
   "source": [
    "## Prepare the Dataset\n"
   ]
  },
  {
   "cell_type": "code",
   "execution_count": 3,
   "metadata": {},
   "outputs": [],
   "source": [
    "dm = Cinc2017DataModule(batch_size=64)"
   ]
  },
  {
   "cell_type": "markdown",
   "metadata": {},
   "source": [
    "## Create the Model\n"
   ]
  },
  {
   "cell_type": "code",
   "execution_count": 4,
   "metadata": {},
   "outputs": [],
   "source": [
    "model = DenseNetGruEcgModule(\n",
    "    max_epochs=MAX_EPOCHS,\n",
    "    num_classes=dm.num_classes,\n",
    "    input_length=dst_length,\n",
    "    lr_scheduler_mode=\"multi_step\",\n",
    "    lr=1e-3,\n",
    "    # min_lr = 1e-4,\n",
    "    show_valid_cm=True,\n",
    "    growth_rate=16,\n",
    "    block_config=(4, 4, 12, 8, 8, 8),\n",
    "    num_init_features=64,\n",
    "    bn_size=4,\n",
    "    db_drop_rate=0.2,\n",
    "    gru_drop_rate=0.2,\n",
    "    fc_drop_rate=0.2,\n",
    "    memory_efficient=False,\n",
    "    compression_factor=0.5,\n",
    ")\n",
    "\n",
    "# the number of features per denseblock:\n",
    "# (64 + 4 * 16) // 2 = 64\n",
    "# (64 + 4 * 16) // 2 = 64\n",
    "# (64 + 12 * 16) // 2 = 128\n",
    "# (128 + 8 * 16) // 2 = 128\n",
    "# (128 + 8 * 16) // 2 = 128\n",
    "# (256 + 8 * 16) // 2 = 128"
   ]
  },
  {
   "cell_type": "markdown",
   "metadata": {},
   "source": [
    "## Create the Trainer\n"
   ]
  },
  {
   "cell_type": "code",
   "execution_count": 5,
   "metadata": {},
   "outputs": [
    {
     "name": "stderr",
     "output_type": "stream",
     "text": [
      "GPU available: True (cuda), used: True\n",
      "TPU available: False, using: 0 TPU cores\n",
      "HPU available: False, using: 0 HPUs\n"
     ]
    }
   ],
   "source": [
    "checkpoint_callback = ModelCheckpoint(\n",
    "    monitor=\"valid_auprc\",\n",
    "    verbose=True,\n",
    "    mode=\"max\",\n",
    "    save_top_k=1,\n",
    "    save_last=True,\n",
    ")\n",
    "\n",
    "# early_stopping_callback = EarlyStopping(\n",
    "#     monitor=\"valid_loss\", patience=8, verbose=True, mode=\"min\"\n",
    "# )\n",
    "\n",
    "progress_bar_callback = TQDMProgressBar(leave=True)\n",
    "\n",
    "project_name = \"awin-ecg-centralized\"\n",
    "if wandb_mode == \"disabled\":\n",
    "    logger = TensorBoardLogger(save_dir=Path(\"tb_logs\"), name=project_name)\n",
    "else:\n",
    "    logger = WandbLogger(\n",
    "        project=project_name, save_dir=Path(\"wandb_logs\"), log_model=True, name=project_name\n",
    "    )\n",
    "\n",
    "trainer = L.Trainer(\n",
    "    max_epochs=MAX_EPOCHS,\n",
    "    callbacks=[checkpoint_callback, progress_bar_callback],\n",
    "    logger=logger,\n",
    ")"
   ]
  },
  {
   "cell_type": "markdown",
   "metadata": {},
   "source": [
    "## Train the Model\n"
   ]
  },
  {
   "cell_type": "code",
   "execution_count": 6,
   "metadata": {},
   "outputs": [
    {
     "name": "stderr",
     "output_type": "stream",
     "text": [
      "\u001b[34m\u001b[1mwandb\u001b[0m: Using wandb-core as the SDK backend.  Please refer to https://wandb.me/wandb-core for more information.\n",
      "\u001b[34m\u001b[1mwandb\u001b[0m: Currently logged in as: \u001b[33mdevilhyt\u001b[0m to \u001b[32mhttps://api.wandb.ai\u001b[0m. Use \u001b[1m`wandb login --relogin`\u001b[0m to force relogin\n"
     ]
    },
    {
     "data": {
      "text/html": [
       "Tracking run with wandb version 0.19.7"
      ],
      "text/plain": [
       "<IPython.core.display.HTML object>"
      ]
     },
     "metadata": {},
     "output_type": "display_data"
    },
    {
     "data": {
      "text/html": [
       "Run data is saved locally in <code>wandb_logs/wandb/run-20250226_032437-2ngbzxee</code>"
      ],
      "text/plain": [
       "<IPython.core.display.HTML object>"
      ]
     },
     "metadata": {},
     "output_type": "display_data"
    },
    {
     "data": {
      "text/html": [
       "Syncing run <strong><a href='https://wandb.ai/devilhyt/awin-ecg-centralized/runs/2ngbzxee' target=\"_blank\">awin-ecg-centralized</a></strong> to <a href='https://wandb.ai/devilhyt/awin-ecg-centralized' target=\"_blank\">Weights & Biases</a> (<a href='https://wandb.me/developer-guide' target=\"_blank\">docs</a>)<br>"
      ],
      "text/plain": [
       "<IPython.core.display.HTML object>"
      ]
     },
     "metadata": {},
     "output_type": "display_data"
    },
    {
     "data": {
      "text/html": [
       " View project at <a href='https://wandb.ai/devilhyt/awin-ecg-centralized' target=\"_blank\">https://wandb.ai/devilhyt/awin-ecg-centralized</a>"
      ],
      "text/plain": [
       "<IPython.core.display.HTML object>"
      ]
     },
     "metadata": {},
     "output_type": "display_data"
    },
    {
     "data": {
      "text/html": [
       " View run at <a href='https://wandb.ai/devilhyt/awin-ecg-centralized/runs/2ngbzxee' target=\"_blank\">https://wandb.ai/devilhyt/awin-ecg-centralized/runs/2ngbzxee</a>"
      ],
      "text/plain": [
       "<IPython.core.display.HTML object>"
      ]
     },
     "metadata": {},
     "output_type": "display_data"
    },
    {
     "name": "stderr",
     "output_type": "stream",
     "text": [
      "LOCAL_RANK: 0 - CUDA_VISIBLE_DEVICES: [0]\n",
      "\n",
      "  | Name          | Type                      | Params | Mode  | In sizes     | Out sizes\n",
      "-----------------------------------------------------------------------------------------------\n",
      "0 | model         | DenseNetGruEcg            | 1.3 M  | train | [1, 1, 5800] | [1, 3]   \n",
      "1 | loss_fn       | CrossEntropyLoss          | 0      | train | ?            | ?        \n",
      "2 | train_metrics | MetricCollection          | 0      | train | ?            | ?        \n",
      "3 | valid_metrics | MetricCollection          | 0      | train | ?            | ?        \n",
      "4 | test_metrics  | MetricCollection          | 0      | train | ?            | ?        \n",
      "5 | valid_cm      | MulticlassConfusionMatrix | 0      | train | ?            | ?        \n",
      "6 | test_cm       | MulticlassConfusionMatrix | 0      | train | ?            | ?        \n",
      "-----------------------------------------------------------------------------------------------\n",
      "1.3 M     Trainable params\n",
      "0         Non-trainable params\n",
      "1.3 M     Total params\n",
      "5.245     Total estimated model params size (MB)\n",
      "418       Modules in train mode\n",
      "0         Modules in eval mode\n"
     ]
    },
    {
     "name": "stdout",
     "output_type": "stream",
     "text": [
      "Training: |          | 0/? [00:00<?, ?it/s]                                \n",
      "Epoch 0: 100%|██████████| 91/91 [00:17<00:00,  5.24it/s, v_num=zxee, lr=0.001, valid_loss=1.090, valid_acc=0.455, valid_auprc=0.474, valid_auroc=0.663, valid_f1=0.413, train_loss=1.080, train_acc=0.420, train_auprc=0.429, train_auroc=0.602, train_f1=0.421]"
     ]
    },
    {
     "name": "stderr",
     "output_type": "stream",
     "text": [
      "Epoch 0, global step 91: 'valid_auprc' reached 0.47409 (best 0.47409), saving model to 'wandb_logs/awin-ecg-centralized/2ngbzxee/checkpoints/epoch=0-step=91.ckpt' as top 1\n"
     ]
    },
    {
     "name": "stdout",
     "output_type": "stream",
     "text": [
      "\n",
      "Valid Confusion Matrix:\n",
      "tensor([[336, 196, 230],\n",
      "        [ 12,  66,  36],\n",
      "        [ 69, 132, 161]], device='cuda:0')\n",
      "Epoch 1: 100%|██████████| 91/91 [00:17<00:00,  5.23it/s, v_num=zxee, lr=0.001, valid_loss=0.845, valid_acc=0.636, valid_auprc=0.685, valid_auroc=0.831, valid_f1=0.555, train_loss=0.901, train_acc=0.556, train_auprc=0.596, train_auroc=0.745, train_f1=0.551]"
     ]
    },
    {
     "name": "stderr",
     "output_type": "stream",
     "text": [
      "Epoch 1, global step 182: 'valid_auprc' reached 0.68475 (best 0.68475), saving model to 'wandb_logs/awin-ecg-centralized/2ngbzxee/checkpoints/epoch=1-step=182.ckpt' as top 1\n"
     ]
    },
    {
     "name": "stdout",
     "output_type": "stream",
     "text": [
      "\n",
      "Valid Confusion Matrix:\n",
      "tensor([[551, 109, 102],\n",
      "        [  5,  98,  11],\n",
      "        [ 96, 128, 138]], device='cuda:0')\n",
      "Epoch 2: 100%|██████████| 91/91 [00:17<00:00,  5.22it/s, v_num=zxee, lr=0.001, valid_loss=0.506, valid_acc=0.784, valid_auprc=0.821, valid_auroc=0.907, valid_f1=0.739, train_loss=0.688, train_acc=0.696, train_auprc=0.759, train_auroc=0.861, train_f1=0.695]\n",
      "Valid Confusion Matrix:\n",
      "tensor([[648,  10, 104],\n",
      "        [  5,  98,  11],\n",
      "        [ 84,  53, 225]], device='cuda:0')\n"
     ]
    },
    {
     "name": "stderr",
     "output_type": "stream",
     "text": [
      "Epoch 2, global step 273: 'valid_auprc' reached 0.82079 (best 0.82079), saving model to 'wandb_logs/awin-ecg-centralized/2ngbzxee/checkpoints/epoch=2-step=273.ckpt' as top 1\n"
     ]
    },
    {
     "name": "stdout",
     "output_type": "stream",
     "text": [
      "Epoch 3: 100%|██████████| 91/91 [00:17<00:00,  5.21it/s, v_num=zxee, lr=0.001, valid_loss=0.529, valid_acc=0.775, valid_auprc=0.810, valid_auroc=0.899, valid_f1=0.731, train_loss=0.582, train_acc=0.747, train_auprc=0.817, train_auroc=0.898, train_f1=0.746]"
     ]
    },
    {
     "name": "stderr",
     "output_type": "stream",
     "text": [
      "Epoch 3, global step 364: 'valid_auprc' was not in top 1\n"
     ]
    },
    {
     "name": "stdout",
     "output_type": "stream",
     "text": [
      "\n",
      "Valid Confusion Matrix:\n",
      "tensor([[647,  14, 101],\n",
      "        [  7,  99,   8],\n",
      "        [ 99,  50, 213]], device='cuda:0')\n",
      "Epoch 4: 100%|██████████| 91/91 [00:17<00:00,  5.21it/s, v_num=zxee, lr=0.001, valid_loss=0.504, valid_acc=0.794, valid_auprc=0.842, valid_auroc=0.915, valid_f1=0.766, train_loss=0.507, train_acc=0.789, train_auprc=0.857, train_auroc=0.922, train_f1=0.787]"
     ]
    },
    {
     "name": "stderr",
     "output_type": "stream",
     "text": [
      "Epoch 4, global step 455: 'valid_auprc' reached 0.84218 (best 0.84218), saving model to 'wandb_logs/awin-ecg-centralized/2ngbzxee/checkpoints/epoch=4-step=455.ckpt' as top 1\n"
     ]
    },
    {
     "name": "stdout",
     "output_type": "stream",
     "text": [
      "\n",
      "Valid Confusion Matrix:\n",
      "tensor([[648,   8, 106],\n",
      "        [  2, 101,  11],\n",
      "        [ 92,  36, 234]], device='cuda:0')\n",
      "Epoch 5: 100%|██████████| 91/91 [00:17<00:00,  5.19it/s, v_num=zxee, lr=0.001, valid_loss=0.461, valid_acc=0.814, valid_auprc=0.840, valid_auroc=0.925, valid_f1=0.766, train_loss=0.492, train_acc=0.796, train_auprc=0.862, train_auroc=0.924, train_f1=0.794]\n",
      "Valid Confusion Matrix:\n",
      "tensor([[700,   9,  53],\n",
      "        [  5,  92,  17],\n",
      "        [114,  32, 216]], device='cuda:0')\n"
     ]
    },
    {
     "name": "stderr",
     "output_type": "stream",
     "text": [
      "Epoch 5, global step 546: 'valid_auprc' was not in top 1\n"
     ]
    },
    {
     "name": "stdout",
     "output_type": "stream",
     "text": [
      "Epoch 6: 100%|██████████| 91/91 [00:17<00:00,  5.20it/s, v_num=zxee, lr=0.001, valid_loss=0.476, valid_acc=0.816, valid_auprc=0.855, valid_auroc=0.922, valid_f1=0.773, train_loss=0.454, train_acc=0.811, train_auprc=0.883, train_auroc=0.935, train_f1=0.809]"
     ]
    },
    {
     "name": "stderr",
     "output_type": "stream",
     "text": [
      "Epoch 6, global step 637: 'valid_auprc' reached 0.85472 (best 0.85472), saving model to 'wandb_logs/awin-ecg-centralized/2ngbzxee/checkpoints/epoch=6-step=637.ckpt' as top 1\n"
     ]
    },
    {
     "name": "stdout",
     "output_type": "stream",
     "text": [
      "\n",
      "Valid Confusion Matrix:\n",
      "tensor([[711,   5,  46],\n",
      "        [  4,  94,  16],\n",
      "        [130,  27, 205]], device='cuda:0')\n",
      "Epoch 7: 100%|██████████| 91/91 [00:17<00:00,  5.20it/s, v_num=zxee, lr=0.001, valid_loss=0.447, valid_acc=0.832, valid_auprc=0.871, valid_auroc=0.935, valid_f1=0.801, train_loss=0.414, train_acc=0.833, train_auprc=0.903, train_auroc=0.946, train_f1=0.831]\n",
      "Valid Confusion Matrix:\n",
      "tensor([[701,   3,  58],\n",
      "        [  4, 100,  10],\n",
      "        [105,  28, 229]], device='cuda:0')\n"
     ]
    },
    {
     "name": "stderr",
     "output_type": "stream",
     "text": [
      "Epoch 7, global step 728: 'valid_auprc' reached 0.87136 (best 0.87136), saving model to 'wandb_logs/awin-ecg-centralized/2ngbzxee/checkpoints/epoch=7-step=728.ckpt' as top 1\n"
     ]
    },
    {
     "name": "stdout",
     "output_type": "stream",
     "text": [
      "Epoch 8: 100%|██████████| 91/91 [00:17<00:00,  5.20it/s, v_num=zxee, lr=0.001, valid_loss=0.442, valid_acc=0.825, valid_auprc=0.868, valid_auroc=0.935, valid_f1=0.784, train_loss=0.420, train_acc=0.839, train_auprc=0.897, train_auroc=0.944, train_f1=0.838]"
     ]
    },
    {
     "name": "stderr",
     "output_type": "stream",
     "text": [
      "Epoch 8, global step 819: 'valid_auprc' was not in top 1\n"
     ]
    },
    {
     "name": "stdout",
     "output_type": "stream",
     "text": [
      "\n",
      "Valid Confusion Matrix:\n",
      "tensor([[667,  10,  85],\n",
      "        [  1, 108,   5],\n",
      "        [ 61,  55, 246]], device='cuda:0')\n",
      "Epoch 9: 100%|██████████| 91/91 [00:17<00:00,  5.20it/s, v_num=zxee, lr=0.001, valid_loss=0.417, valid_acc=0.832, valid_auprc=0.874, valid_auroc=0.938, valid_f1=0.797, train_loss=0.418, train_acc=0.839, train_auprc=0.897, train_auroc=0.945, train_f1=0.839]"
     ]
    },
    {
     "name": "stderr",
     "output_type": "stream",
     "text": [
      "Epoch 9, global step 910: 'valid_auprc' reached 0.87418 (best 0.87418), saving model to 'wandb_logs/awin-ecg-centralized/2ngbzxee/checkpoints/epoch=9-step=910.ckpt' as top 1\n"
     ]
    },
    {
     "name": "stdout",
     "output_type": "stream",
     "text": [
      "\n",
      "Valid Confusion Matrix:\n",
      "tensor([[684,   7,  71],\n",
      "        [  2, 103,   9],\n",
      "        [ 81,  38, 243]], device='cuda:0')\n",
      "Epoch 10: 100%|██████████| 91/91 [00:17<00:00,  5.19it/s, v_num=zxee, lr=0.001, valid_loss=0.420, valid_acc=0.844, valid_auprc=0.883, valid_auroc=0.938, valid_f1=0.810, train_loss=0.381, train_acc=0.844, train_auprc=0.913, train_auroc=0.953, train_f1=0.843]\n",
      "Valid Confusion Matrix:\n",
      "tensor([[697,   8,  57],\n",
      "        [  2, 102,  10],\n",
      "        [ 85,  31, 246]], device='cuda:0')\n"
     ]
    },
    {
     "name": "stderr",
     "output_type": "stream",
     "text": [
      "Epoch 10, global step 1001: 'valid_auprc' reached 0.88318 (best 0.88318), saving model to 'wandb_logs/awin-ecg-centralized/2ngbzxee/checkpoints/epoch=10-step=1001.ckpt' as top 1\n"
     ]
    },
    {
     "name": "stdout",
     "output_type": "stream",
     "text": [
      "Epoch 11: 100%|██████████| 91/91 [00:17<00:00,  5.19it/s, v_num=zxee, lr=0.001, valid_loss=0.440, valid_acc=0.840, valid_auprc=0.871, valid_auroc=0.931, valid_f1=0.808, train_loss=0.387, train_acc=0.846, train_auprc=0.911, train_auroc=0.953, train_f1=0.845]\n",
      "Valid Confusion Matrix:\n",
      "tensor([[687,   9,  66],\n",
      "        [  3, 105,   6],\n",
      "        [ 79,  35, 248]], device='cuda:0')\n"
     ]
    },
    {
     "name": "stderr",
     "output_type": "stream",
     "text": [
      "Epoch 11, global step 1092: 'valid_auprc' was not in top 1\n"
     ]
    },
    {
     "name": "stdout",
     "output_type": "stream",
     "text": [
      "Epoch 12: 100%|██████████| 91/91 [00:17<00:00,  5.19it/s, v_num=zxee, lr=0.001, valid_loss=0.387, valid_acc=0.859, valid_auprc=0.888, valid_auroc=0.943, valid_f1=0.827, train_loss=0.353, train_acc=0.856, train_auprc=0.923, train_auroc=0.959, train_f1=0.855]\n",
      "Valid Confusion Matrix:\n",
      "tensor([[690,   8,  64],\n",
      "        [  2,  99,  13],\n",
      "        [ 60,  27, 275]], device='cuda:0')\n"
     ]
    },
    {
     "name": "stderr",
     "output_type": "stream",
     "text": [
      "Epoch 12, global step 1183: 'valid_auprc' reached 0.88818 (best 0.88818), saving model to 'wandb_logs/awin-ecg-centralized/2ngbzxee/checkpoints/epoch=12-step=1183.ckpt' as top 1\n"
     ]
    },
    {
     "name": "stdout",
     "output_type": "stream",
     "text": [
      "Epoch 13: 100%|██████████| 91/91 [00:17<00:00,  5.19it/s, v_num=zxee, lr=0.001, valid_loss=0.562, valid_acc=0.779, valid_auprc=0.880, valid_auroc=0.932, valid_f1=0.765, train_loss=0.342, train_acc=0.863, train_auprc=0.927, train_auroc=0.961, train_f1=0.862]"
     ]
    },
    {
     "name": "stderr",
     "output_type": "stream",
     "text": [
      "Epoch 13, global step 1274: 'valid_auprc' was not in top 1\n"
     ]
    },
    {
     "name": "stdout",
     "output_type": "stream",
     "text": [
      "\n",
      "Valid Confusion Matrix:\n",
      "tensor([[558,  19, 185],\n",
      "        [  1, 106,   7],\n",
      "        [ 23,  39, 300]], device='cuda:0')\n",
      "Epoch 14: 100%|██████████| 91/91 [00:17<00:00,  5.19it/s, v_num=zxee, lr=0.001, valid_loss=0.474, valid_acc=0.827, valid_auprc=0.880, valid_auroc=0.933, valid_f1=0.784, train_loss=0.343, train_acc=0.866, train_auprc=0.929, train_auroc=0.962, train_f1=0.864]\n",
      "Valid Confusion Matrix:\n",
      "tensor([[668,  21,  73],\n",
      "        [  2, 108,   4],\n",
      "        [ 64,  50, 248]], device='cuda:0')\n"
     ]
    },
    {
     "name": "stderr",
     "output_type": "stream",
     "text": [
      "Epoch 14, global step 1365: 'valid_auprc' was not in top 1\n"
     ]
    },
    {
     "name": "stdout",
     "output_type": "stream",
     "text": [
      "Epoch 15: 100%|██████████| 91/91 [00:17<00:00,  5.19it/s, v_num=zxee, lr=0.001, valid_loss=0.425, valid_acc=0.842, valid_auprc=0.888, valid_auroc=0.942, valid_f1=0.820, train_loss=0.330, train_acc=0.873, train_auprc=0.933, train_auroc=0.964, train_f1=0.871]\n",
      "Valid Confusion Matrix:\n",
      "tensor([[654,   7, 101],\n",
      "        [  1,  96,  17],\n",
      "        [ 49,  20, 293]], device='cuda:0')\n"
     ]
    },
    {
     "name": "stderr",
     "output_type": "stream",
     "text": [
      "Epoch 15, global step 1456: 'valid_auprc' was not in top 1\n"
     ]
    },
    {
     "name": "stdout",
     "output_type": "stream",
     "text": [
      "Epoch 16: 100%|██████████| 91/91 [00:17<00:00,  5.19it/s, v_num=zxee, lr=0.001, valid_loss=0.524, valid_acc=0.800, valid_auprc=0.863, valid_auroc=0.926, valid_f1=0.775, train_loss=0.329, train_acc=0.869, train_auprc=0.929, train_auroc=0.963, train_f1=0.868]"
     ]
    },
    {
     "name": "stderr",
     "output_type": "stream",
     "text": [
      "Epoch 16, global step 1547: 'valid_auprc' was not in top 1\n"
     ]
    },
    {
     "name": "stdout",
     "output_type": "stream",
     "text": [
      "\n",
      "Valid Confusion Matrix:\n",
      "tensor([[611,  11, 140],\n",
      "        [  1, 108,   5],\n",
      "        [ 39,  51, 272]], device='cuda:0')\n",
      "Epoch 17: 100%|██████████| 91/91 [00:17<00:00,  5.20it/s, v_num=zxee, lr=0.001, valid_loss=0.446, valid_acc=0.835, valid_auprc=0.882, valid_auroc=0.936, valid_f1=0.792, train_loss=0.327, train_acc=0.874, train_auprc=0.931, train_auroc=0.964, train_f1=0.874]"
     ]
    },
    {
     "name": "stderr",
     "output_type": "stream",
     "text": [
      "Epoch 17, global step 1638: 'valid_auprc' was not in top 1\n"
     ]
    },
    {
     "name": "stdout",
     "output_type": "stream",
     "text": [
      "\n",
      "Valid Confusion Matrix:\n",
      "tensor([[682,  24,  56],\n",
      "        [  1, 107,   6],\n",
      "        [ 76,  41, 245]], device='cuda:0')\n",
      "Epoch 18: 100%|██████████| 91/91 [00:17<00:00,  5.20it/s, v_num=zxee, lr=0.001, valid_loss=0.416, valid_acc=0.841, valid_auprc=0.891, valid_auroc=0.941, valid_f1=0.810, train_loss=0.304, train_acc=0.881, train_auprc=0.939, train_auroc=0.968, train_f1=0.881]\n",
      "Valid Confusion Matrix:\n",
      "tensor([[677,  10,  75],\n",
      "        [  1, 110,   3],\n",
      "        [ 67,  41, 254]], device='cuda:0')\n"
     ]
    },
    {
     "name": "stderr",
     "output_type": "stream",
     "text": [
      "Epoch 18, global step 1729: 'valid_auprc' reached 0.89108 (best 0.89108), saving model to 'wandb_logs/awin-ecg-centralized/2ngbzxee/checkpoints/epoch=18-step=1729.ckpt' as top 1\n"
     ]
    },
    {
     "name": "stdout",
     "output_type": "stream",
     "text": [
      "Epoch 19: 100%|██████████| 91/91 [00:17<00:00,  5.20it/s, v_num=zxee, lr=0.001, valid_loss=0.434, valid_acc=0.838, valid_auprc=0.880, valid_auroc=0.938, valid_f1=0.817, train_loss=0.307, train_acc=0.884, train_auprc=0.936, train_auroc=0.967, train_f1=0.882]\n",
      "Valid Confusion Matrix:\n",
      "tensor([[662,   5,  95],\n",
      "        [  2, 100,  12],\n",
      "        [ 63,  24, 275]], device='cuda:0')\n"
     ]
    },
    {
     "name": "stderr",
     "output_type": "stream",
     "text": [
      "Epoch 19, global step 1820: 'valid_auprc' was not in top 1\n"
     ]
    },
    {
     "name": "stdout",
     "output_type": "stream",
     "text": [
      "Epoch 20: 100%|██████████| 91/91 [00:17<00:00,  5.19it/s, v_num=zxee, lr=0.001, valid_loss=0.413, valid_acc=0.858, valid_auprc=0.887, valid_auroc=0.939, valid_f1=0.835, train_loss=0.303, train_acc=0.883, train_auprc=0.941, train_auroc=0.969, train_f1=0.883]"
     ]
    },
    {
     "name": "stderr",
     "output_type": "stream",
     "text": [
      "Epoch 20, global step 1911: 'valid_auprc' was not in top 1\n"
     ]
    },
    {
     "name": "stdout",
     "output_type": "stream",
     "text": [
      "\n",
      "Valid Confusion Matrix:\n",
      "tensor([[711,   4,  47],\n",
      "        [  2,  99,  13],\n",
      "        [ 94,  16, 252]], device='cuda:0')\n",
      "Epoch 21: 100%|██████████| 91/91 [00:17<00:00,  5.19it/s, v_num=zxee, lr=0.001, valid_loss=0.401, valid_acc=0.855, valid_auprc=0.885, valid_auroc=0.945, valid_f1=0.826, train_loss=0.296, train_acc=0.884, train_auprc=0.944, train_auroc=0.970, train_f1=0.883]\n",
      "Valid Confusion Matrix:\n",
      "tensor([[683,   6,  73],\n",
      "        [  4,  97,  13],\n",
      "        [ 61,  23, 278]], device='cuda:0')\n"
     ]
    },
    {
     "name": "stderr",
     "output_type": "stream",
     "text": [
      "Epoch 21, global step 2002: 'valid_auprc' was not in top 1\n"
     ]
    },
    {
     "name": "stdout",
     "output_type": "stream",
     "text": [
      "Epoch 22: 100%|██████████| 91/91 [00:17<00:00,  5.18it/s, v_num=zxee, lr=0.001, valid_loss=0.394, valid_acc=0.856, valid_auprc=0.892, valid_auroc=0.942, valid_f1=0.827, train_loss=0.286, train_acc=0.892, train_auprc=0.946, train_auroc=0.972, train_f1=0.890]\n",
      "Valid Confusion Matrix:\n",
      "tensor([[687,   6,  69],\n",
      "        [  1, 103,  10],\n",
      "        [ 61,  31, 270]], device='cuda:0')\n"
     ]
    },
    {
     "name": "stderr",
     "output_type": "stream",
     "text": [
      "Epoch 22, global step 2093: 'valid_auprc' reached 0.89227 (best 0.89227), saving model to 'wandb_logs/awin-ecg-centralized/2ngbzxee/checkpoints/epoch=22-step=2093.ckpt' as top 1\n"
     ]
    },
    {
     "name": "stdout",
     "output_type": "stream",
     "text": [
      "Epoch 23: 100%|██████████| 91/91 [00:17<00:00,  5.19it/s, v_num=zxee, lr=0.001, valid_loss=0.410, valid_acc=0.865, valid_auprc=0.897, valid_auroc=0.945, valid_f1=0.835, train_loss=0.265, train_acc=0.896, train_auprc=0.952, train_auroc=0.975, train_f1=0.896]"
     ]
    },
    {
     "name": "stderr",
     "output_type": "stream",
     "text": [
      "Epoch 23, global step 2184: 'valid_auprc' reached 0.89738 (best 0.89738), saving model to 'wandb_logs/awin-ecg-centralized/2ngbzxee/checkpoints/epoch=23-step=2184.ckpt' as top 1\n"
     ]
    },
    {
     "name": "stdout",
     "output_type": "stream",
     "text": [
      "\n",
      "Valid Confusion Matrix:\n",
      "tensor([[699,   8,  55],\n",
      "        [  2, 107,   5],\n",
      "        [ 64,  33, 265]], device='cuda:0')\n",
      "Epoch 24: 100%|██████████| 91/91 [00:17<00:00,  5.19it/s, v_num=zxee, lr=0.001, valid_loss=0.457, valid_acc=0.829, valid_auprc=0.890, valid_auroc=0.943, valid_f1=0.804, train_loss=0.280, train_acc=0.893, train_auprc=0.949, train_auroc=0.973, train_f1=0.892]"
     ]
    },
    {
     "name": "stderr",
     "output_type": "stream",
     "text": [
      "Epoch 24, global step 2275: 'valid_auprc' was not in top 1\n"
     ]
    },
    {
     "name": "stdout",
     "output_type": "stream",
     "text": [
      "\n",
      "Valid Confusion Matrix:\n",
      "tensor([[636,   7, 119],\n",
      "        [  1,  98,  15],\n",
      "        [ 40,  30, 292]], device='cuda:0')\n",
      "Epoch 25: 100%|██████████| 91/91 [00:17<00:00,  5.19it/s, v_num=zxee, lr=0.0005, valid_loss=0.409, valid_acc=0.856, valid_auprc=0.895, valid_auroc=0.946, valid_f1=0.828, train_loss=0.245, train_acc=0.905, train_auprc=0.960, train_auroc=0.978, train_f1=0.905]"
     ]
    },
    {
     "name": "stderr",
     "output_type": "stream",
     "text": [
      "Epoch 25, global step 2366: 'valid_auprc' was not in top 1\n"
     ]
    },
    {
     "name": "stdout",
     "output_type": "stream",
     "text": [
      "\n",
      "Valid Confusion Matrix:\n",
      "tensor([[685,   7,  70],\n",
      "        [  1, 104,   9],\n",
      "        [ 61,  30, 271]], device='cuda:0')\n",
      "Epoch 26: 100%|██████████| 91/91 [00:17<00:00,  5.19it/s, v_num=zxee, lr=0.0005, valid_loss=0.403, valid_acc=0.858, valid_auprc=0.893, valid_auroc=0.944, valid_f1=0.836, train_loss=0.228, train_acc=0.913, train_auprc=0.963, train_auroc=0.981, train_f1=0.913]\n",
      "Valid Confusion Matrix:\n",
      "tensor([[682,   5,  75],\n",
      "        [  2, 102,  10],\n",
      "        [ 61,  23, 278]], device='cuda:0')\n"
     ]
    },
    {
     "name": "stderr",
     "output_type": "stream",
     "text": [
      "Epoch 26, global step 2457: 'valid_auprc' was not in top 1\n"
     ]
    },
    {
     "name": "stdout",
     "output_type": "stream",
     "text": [
      "Epoch 27: 100%|██████████| 91/91 [00:17<00:00,  5.19it/s, v_num=zxee, lr=0.0005, valid_loss=0.450, valid_acc=0.860, valid_auprc=0.892, valid_auroc=0.942, valid_f1=0.839, train_loss=0.216, train_acc=0.919, train_auprc=0.967, train_auroc=0.983, train_f1=0.919]"
     ]
    },
    {
     "name": "stderr",
     "output_type": "stream",
     "text": [
      "Epoch 27, global step 2548: 'valid_auprc' was not in top 1\n"
     ]
    },
    {
     "name": "stdout",
     "output_type": "stream",
     "text": [
      "\n",
      "Valid Confusion Matrix:\n",
      "tensor([[678,   6,  78],\n",
      "        [  1, 106,   7],\n",
      "        [ 54,  27, 281]], device='cuda:0')\n",
      "Epoch 28: 100%|██████████| 91/91 [00:17<00:00,  5.19it/s, v_num=zxee, lr=0.0005, valid_loss=0.424, valid_acc=0.854, valid_auprc=0.895, valid_auroc=0.945, valid_f1=0.827, train_loss=0.221, train_acc=0.914, train_auprc=0.965, train_auroc=0.982, train_f1=0.913]\n",
      "Valid Confusion Matrix:\n",
      "tensor([[680,   4,  78],\n",
      "        [  1,  96,  17],\n",
      "        [ 59,  22, 281]], device='cuda:0')\n"
     ]
    },
    {
     "name": "stderr",
     "output_type": "stream",
     "text": [
      "Epoch 28, global step 2639: 'valid_auprc' was not in top 1\n"
     ]
    },
    {
     "name": "stdout",
     "output_type": "stream",
     "text": [
      "Epoch 29: 100%|██████████| 91/91 [00:17<00:00,  5.19it/s, v_num=zxee, lr=0.0005, valid_loss=0.463, valid_acc=0.844, valid_auprc=0.884, valid_auroc=0.938, valid_f1=0.823, train_loss=0.220, train_acc=0.914, train_auprc=0.967, train_auroc=0.983, train_f1=0.913]"
     ]
    },
    {
     "name": "stderr",
     "output_type": "stream",
     "text": [
      "Epoch 29, global step 2730: 'valid_auprc' was not in top 1\n"
     ]
    },
    {
     "name": "stdout",
     "output_type": "stream",
     "text": [
      "\n",
      "Valid Confusion Matrix:\n",
      "tensor([[665,   5,  92],\n",
      "        [  1, 103,  10],\n",
      "        [ 58,  27, 277]], device='cuda:0')\n",
      "Epoch 30: 100%|██████████| 91/91 [00:17<00:00,  5.19it/s, v_num=zxee, lr=0.0005, valid_loss=0.476, valid_acc=0.830, valid_auprc=0.884, valid_auroc=0.938, valid_f1=0.810, train_loss=0.220, train_acc=0.915, train_auprc=0.966, train_auroc=0.982, train_f1=0.915]\n",
      "Valid Confusion Matrix:\n",
      "tensor([[641,  10, 111],\n",
      "        [  1, 103,  10],\n",
      "        [ 50,  28, 284]], device='cuda:0')\n"
     ]
    },
    {
     "name": "stderr",
     "output_type": "stream",
     "text": [
      "Epoch 30, global step 2821: 'valid_auprc' was not in top 1\n"
     ]
    },
    {
     "name": "stdout",
     "output_type": "stream",
     "text": [
      "Epoch 31: 100%|██████████| 91/91 [00:17<00:00,  5.19it/s, v_num=zxee, lr=0.0005, valid_loss=0.457, valid_acc=0.852, valid_auprc=0.878, valid_auroc=0.942, valid_f1=0.831, train_loss=0.194, train_acc=0.927, train_auprc=0.972, train_auroc=0.985, train_f1=0.926]\n",
      "Valid Confusion Matrix:\n",
      "tensor([[670,   7,  85],\n",
      "        [  3, 102,   9],\n",
      "        [ 56,  23, 283]], device='cuda:0')\n"
     ]
    },
    {
     "name": "stderr",
     "output_type": "stream",
     "text": [
      "Epoch 31, global step 2912: 'valid_auprc' was not in top 1\n"
     ]
    },
    {
     "name": "stdout",
     "output_type": "stream",
     "text": [
      "Epoch 32: 100%|██████████| 91/91 [00:17<00:00,  5.19it/s, v_num=zxee, lr=0.0005, valid_loss=0.469, valid_acc=0.853, valid_auprc=0.874, valid_auroc=0.941, valid_f1=0.831, train_loss=0.213, train_acc=0.919, train_auprc=0.968, train_auroc=0.983, train_f1=0.920]"
     ]
    },
    {
     "name": "stderr",
     "output_type": "stream",
     "text": [
      "Epoch 32, global step 3003: 'valid_auprc' was not in top 1\n"
     ]
    },
    {
     "name": "stdout",
     "output_type": "stream",
     "text": [
      "\n",
      "Valid Confusion Matrix:\n",
      "tensor([[680,   2,  80],\n",
      "        [  3,  99,  12],\n",
      "        [ 62,  23, 277]], device='cuda:0')\n",
      "Epoch 33: 100%|██████████| 91/91 [00:17<00:00,  5.19it/s, v_num=zxee, lr=0.0005, valid_loss=0.455, valid_acc=0.847, valid_auprc=0.889, valid_auroc=0.944, valid_f1=0.818, train_loss=0.197, train_acc=0.925, train_auprc=0.971, train_auroc=0.985, train_f1=0.925]"
     ]
    },
    {
     "name": "stderr",
     "output_type": "stream",
     "text": [
      "Epoch 33, global step 3094: 'valid_auprc' was not in top 1\n"
     ]
    },
    {
     "name": "stdout",
     "output_type": "stream",
     "text": [
      "\n",
      "Valid Confusion Matrix:\n",
      "tensor([[680,   5,  77],\n",
      "        [  1,  94,  19],\n",
      "        [ 67,  21, 274]], device='cuda:0')\n",
      "Epoch 34: 100%|██████████| 91/91 [00:17<00:00,  5.19it/s, v_num=zxee, lr=0.0005, valid_loss=0.445, valid_acc=0.859, valid_auprc=0.893, valid_auroc=0.942, valid_f1=0.839, train_loss=0.196, train_acc=0.924, train_auprc=0.971, train_auroc=0.985, train_f1=0.924]"
     ]
    },
    {
     "name": "stderr",
     "output_type": "stream",
     "text": [
      "Epoch 34, global step 3185: 'valid_auprc' was not in top 1\n"
     ]
    },
    {
     "name": "stdout",
     "output_type": "stream",
     "text": [
      "\n",
      "Valid Confusion Matrix:\n",
      "tensor([[686,   4,  72],\n",
      "        [  1, 103,  10],\n",
      "        [ 66,  22, 274]], device='cuda:0')\n",
      "Epoch 35: 100%|██████████| 91/91 [00:17<00:00,  5.19it/s, v_num=zxee, lr=0.0005, valid_loss=0.441, valid_acc=0.854, valid_auprc=0.884, valid_auroc=0.948, valid_f1=0.819, train_loss=0.202, train_acc=0.922, train_auprc=0.970, train_auroc=0.984, train_f1=0.922]\n",
      "Valid Confusion Matrix:\n",
      "tensor([[699,   8,  55],\n",
      "        [  1,  98,  15],\n",
      "        [ 76,  26, 260]], device='cuda:0')\n"
     ]
    },
    {
     "name": "stderr",
     "output_type": "stream",
     "text": [
      "Epoch 35, global step 3276: 'valid_auprc' was not in top 1\n"
     ]
    },
    {
     "name": "stdout",
     "output_type": "stream",
     "text": [
      "Epoch 36: 100%|██████████| 91/91 [00:17<00:00,  5.19it/s, v_num=zxee, lr=0.0005, valid_loss=0.497, valid_acc=0.837, valid_auprc=0.878, valid_auroc=0.935, valid_f1=0.814, train_loss=0.191, train_acc=0.925, train_auprc=0.973, train_auroc=0.986, train_f1=0.925]\n",
      "Valid Confusion Matrix:\n",
      "tensor([[657,   8,  97],\n",
      "        [  2, 104,   8],\n",
      "        [ 57,  30, 275]], device='cuda:0')\n"
     ]
    },
    {
     "name": "stderr",
     "output_type": "stream",
     "text": [
      "Epoch 36, global step 3367: 'valid_auprc' was not in top 1\n"
     ]
    },
    {
     "name": "stdout",
     "output_type": "stream",
     "text": [
      "Epoch 37: 100%|██████████| 91/91 [00:17<00:00,  5.19it/s, v_num=zxee, lr=0.00025, valid_loss=0.460, valid_acc=0.847, valid_auprc=0.890, valid_auroc=0.944, valid_f1=0.828, train_loss=0.183, train_acc=0.928, train_auprc=0.977, train_auroc=0.988, train_f1=0.929]\n",
      "Valid Confusion Matrix:\n",
      "tensor([[664,   6,  92],\n",
      "        [  1, 103,  10],\n",
      "        [ 55,  25, 282]], device='cuda:0')\n"
     ]
    },
    {
     "name": "stderr",
     "output_type": "stream",
     "text": [
      "Epoch 37, global step 3458: 'valid_auprc' was not in top 1\n"
     ]
    },
    {
     "name": "stdout",
     "output_type": "stream",
     "text": [
      "Epoch 38: 100%|██████████| 91/91 [00:17<00:00,  5.19it/s, v_num=zxee, lr=0.00025, valid_loss=0.482, valid_acc=0.851, valid_auprc=0.883, valid_auroc=0.941, valid_f1=0.828, train_loss=0.167, train_acc=0.937, train_auprc=0.979, train_auroc=0.989, train_f1=0.937]\n",
      "Valid Confusion Matrix:\n",
      "tensor([[669,   7,  86],\n",
      "        [  1, 102,  11],\n",
      "        [ 53,  26, 283]], device='cuda:0')\n"
     ]
    },
    {
     "name": "stderr",
     "output_type": "stream",
     "text": [
      "Epoch 38, global step 3549: 'valid_auprc' was not in top 1\n"
     ]
    },
    {
     "name": "stdout",
     "output_type": "stream",
     "text": [
      "Epoch 39: 100%|██████████| 91/91 [00:17<00:00,  5.18it/s, v_num=zxee, lr=0.00025, valid_loss=0.474, valid_acc=0.856, valid_auprc=0.887, valid_auroc=0.944, valid_f1=0.836, train_loss=0.148, train_acc=0.945, train_auprc=0.984, train_auroc=0.992, train_f1=0.945]\n",
      "Valid Confusion Matrix:\n",
      "tensor([[682,   5,  75],\n",
      "        [  2, 100,  12],\n",
      "        [ 65,  19, 278]], device='cuda:0')"
     ]
    },
    {
     "name": "stderr",
     "output_type": "stream",
     "text": [
      "Epoch 39, global step 3640: 'valid_auprc' was not in top 1\n"
     ]
    },
    {
     "name": "stdout",
     "output_type": "stream",
     "text": [
      "\n",
      "Epoch 40: 100%|██████████| 91/91 [00:17<00:00,  5.19it/s, v_num=zxee, lr=0.00025, valid_loss=0.483, valid_acc=0.854, valid_auprc=0.887, valid_auroc=0.942, valid_f1=0.843, train_loss=0.166, train_acc=0.940, train_auprc=0.978, train_auroc=0.989, train_f1=0.940]"
     ]
    },
    {
     "name": "stderr",
     "output_type": "stream",
     "text": [
      "Epoch 40, global step 3731: 'valid_auprc' was not in top 1\n"
     ]
    },
    {
     "name": "stdout",
     "output_type": "stream",
     "text": [
      "\n",
      "Valid Confusion Matrix:\n",
      "tensor([[665,   2,  95],\n",
      "        [  2, 102,  10],\n",
      "        [ 55,  17, 290]], device='cuda:0')\n",
      "Epoch 41: 100%|██████████| 91/91 [00:17<00:00,  5.19it/s, v_num=zxee, lr=0.00025, valid_loss=0.504, valid_acc=0.848, valid_auprc=0.889, valid_auroc=0.939, valid_f1=0.823, train_loss=0.156, train_acc=0.945, train_auprc=0.982, train_auroc=0.990, train_f1=0.945]\n",
      "Valid Confusion Matrix:\n",
      "tensor([[673,   5,  84],\n",
      "        [  2, 101,  11],\n",
      "        [ 58,  28, 276]], device='cuda:0')\n"
     ]
    },
    {
     "name": "stderr",
     "output_type": "stream",
     "text": [
      "Epoch 41, global step 3822: 'valid_auprc' was not in top 1\n"
     ]
    },
    {
     "name": "stdout",
     "output_type": "stream",
     "text": [
      "Epoch 42: 100%|██████████| 91/91 [00:17<00:00,  5.19it/s, v_num=zxee, lr=0.00025, valid_loss=0.517, valid_acc=0.851, valid_auprc=0.887, valid_auroc=0.940, valid_f1=0.826, train_loss=0.155, train_acc=0.941, train_auprc=0.982, train_auroc=0.991, train_f1=0.941]"
     ]
    },
    {
     "name": "stderr",
     "output_type": "stream",
     "text": [
      "Epoch 42, global step 3913: 'valid_auprc' was not in top 1\n"
     ]
    },
    {
     "name": "stdout",
     "output_type": "stream",
     "text": [
      "\n",
      "Valid Confusion Matrix:\n",
      "tensor([[674,   4,  84],\n",
      "        [  2, 101,  11],\n",
      "        [ 56,  28, 278]], device='cuda:0')\n",
      "Epoch 43: 100%|██████████| 91/91 [00:17<00:00,  5.19it/s, v_num=zxee, lr=0.00025, valid_loss=0.510, valid_acc=0.847, valid_auprc=0.887, valid_auroc=0.940, valid_f1=0.823, train_loss=0.143, train_acc=0.948, train_auprc=0.984, train_auroc=0.992, train_f1=0.947]\n",
      "Valid Confusion Matrix:\n",
      "tensor([[670,   6,  86],\n",
      "        [  4, 102,   8],\n",
      "        [ 57,  28, 277]], device='cuda:0')\n"
     ]
    },
    {
     "name": "stderr",
     "output_type": "stream",
     "text": [
      "Epoch 43, global step 4004: 'valid_auprc' was not in top 1\n"
     ]
    },
    {
     "name": "stdout",
     "output_type": "stream",
     "text": [
      "Epoch 44: 100%|██████████| 91/91 [00:17<00:00,  5.19it/s, v_num=zxee, lr=0.00025, valid_loss=0.493, valid_acc=0.861, valid_auprc=0.890, valid_auroc=0.943, valid_f1=0.836, train_loss=0.152, train_acc=0.946, train_auprc=0.982, train_auroc=0.991, train_f1=0.947]\n",
      "Valid Confusion Matrix:\n",
      "tensor([[688,   3,  71],\n",
      "        [  4,  96,  14],\n",
      "        [ 61,  19, 282]], device='cuda:0')\n"
     ]
    },
    {
     "name": "stderr",
     "output_type": "stream",
     "text": [
      "Epoch 44, global step 4095: 'valid_auprc' was not in top 1\n"
     ]
    },
    {
     "name": "stdout",
     "output_type": "stream",
     "text": [
      "Epoch 45: 100%|██████████| 91/91 [00:17<00:00,  5.19it/s, v_num=zxee, lr=0.00025, valid_loss=0.539, valid_acc=0.845, valid_auprc=0.889, valid_auroc=0.938, valid_f1=0.835, train_loss=0.132, train_acc=0.948, train_auprc=0.987, train_auroc=0.993, train_f1=0.947]\n",
      "Valid Confusion Matrix:\n",
      "tensor([[655,   5, 102],\n",
      "        [  2, 104,   8],\n",
      "        [ 56,  19, 287]], device='cuda:0')\n"
     ]
    },
    {
     "name": "stderr",
     "output_type": "stream",
     "text": [
      "Epoch 45, global step 4186: 'valid_auprc' was not in top 1\n"
     ]
    },
    {
     "name": "stdout",
     "output_type": "stream",
     "text": [
      "Epoch 46: 100%|██████████| 91/91 [00:17<00:00,  5.19it/s, v_num=zxee, lr=0.00025, valid_loss=0.484, valid_acc=0.851, valid_auprc=0.892, valid_auroc=0.941, valid_f1=0.830, train_loss=0.153, train_acc=0.940, train_auprc=0.983, train_auroc=0.991, train_f1=0.940]"
     ]
    },
    {
     "name": "stderr",
     "output_type": "stream",
     "text": [
      "Epoch 46, global step 4277: 'valid_auprc' was not in top 1\n"
     ]
    },
    {
     "name": "stdout",
     "output_type": "stream",
     "text": [
      "\n",
      "Valid Confusion Matrix:\n",
      "tensor([[673,   3,  86],\n",
      "        [  1,  99,  14],\n",
      "        [ 58,  22, 282]], device='cuda:0')\n",
      "Epoch 47: 100%|██████████| 91/91 [00:17<00:00,  5.19it/s, v_num=zxee, lr=0.00025, valid_loss=0.522, valid_acc=0.861, valid_auprc=0.892, valid_auroc=0.942, valid_f1=0.837, train_loss=0.137, train_acc=0.948, train_auprc=0.986, train_auroc=0.993, train_f1=0.948]"
     ]
    },
    {
     "name": "stderr",
     "output_type": "stream",
     "text": [
      "Epoch 47, global step 4368: 'valid_auprc' was not in top 1\n"
     ]
    },
    {
     "name": "stdout",
     "output_type": "stream",
     "text": [
      "\n",
      "Valid Confusion Matrix:\n",
      "tensor([[686,   4,  72],\n",
      "        [  2, 102,  10],\n",
      "        [ 59,  25, 278]], device='cuda:0')\n",
      "Epoch 48: 100%|██████████| 91/91 [00:17<00:00,  5.19it/s, v_num=zxee, lr=0.00025, valid_loss=0.493, valid_acc=0.860, valid_auprc=0.898, valid_auroc=0.945, valid_f1=0.846, train_loss=0.143, train_acc=0.947, train_auprc=0.985, train_auroc=0.992, train_f1=0.947]"
     ]
    },
    {
     "name": "stderr",
     "output_type": "stream",
     "text": [
      "Epoch 48, global step 4459: 'valid_auprc' reached 0.89775 (best 0.89775), saving model to 'wandb_logs/awin-ecg-centralized/2ngbzxee/checkpoints/epoch=48-step=4459.ckpt' as top 1\n"
     ]
    },
    {
     "name": "stdout",
     "output_type": "stream",
     "text": [
      "\n",
      "Valid Confusion Matrix:\n",
      "tensor([[680,   2,  80],\n",
      "        [  2, 100,  12],\n",
      "        [ 61,  16, 285]], device='cuda:0')\n",
      "Epoch 49: 100%|██████████| 91/91 [00:17<00:00,  5.19it/s, v_num=zxee, lr=0.00025, valid_loss=0.512, valid_acc=0.864, valid_auprc=0.886, valid_auroc=0.943, valid_f1=0.844, train_loss=0.129, train_acc=0.953, train_auprc=0.987, train_auroc=0.994, train_f1=0.953]\n",
      "Valid Confusion Matrix:\n",
      "tensor([[686,   3,  73],\n",
      "        [  3, 100,  11],\n",
      "        [ 58,  20, 284]], device='cuda:0')\n"
     ]
    },
    {
     "name": "stderr",
     "output_type": "stream",
     "text": [
      "Epoch 49, global step 4550: 'valid_auprc' was not in top 1\n",
      "`Trainer.fit` stopped: `max_epochs=50` reached.\n"
     ]
    }
   ],
   "source": [
    "trainer.fit(model, datamodule=dm)"
   ]
  },
  {
   "cell_type": "markdown",
   "metadata": {},
   "source": [
    "## Evaluate on the Test Set\n"
   ]
  },
  {
   "cell_type": "code",
   "execution_count": 7,
   "metadata": {},
   "outputs": [],
   "source": [
    "import torch\n",
    "from sklearn.metrics import (\n",
    "    ConfusionMatrixDisplay,\n",
    "    accuracy_score,\n",
    "    classification_report,\n",
    "    confusion_matrix,\n",
    "    f1_score,\n",
    ")\n",
    "from torchmetrics.aggregation import CatMetric, MeanMetric\n",
    "from torchmetrics.functional.classification import (\n",
    "    multiclass_auroc,\n",
    "    multiclass_average_precision,\n",
    ")\n",
    "\n",
    "\n",
    "def aggregate_metrics(results):\n",
    "    loss_metric = MeanMetric()\n",
    "    y_pred_metric = CatMetric()\n",
    "    y_metric = CatMetric()\n",
    "\n",
    "    for result in results:\n",
    "        loss_metric.update(result[\"loss\"])\n",
    "        y_pred_metric.update(result[\"y_pred\"])\n",
    "        y_metric.update(result[\"y\"])\n",
    "    loss = loss_metric.compute()\n",
    "    y_pred = y_pred_metric.compute()\n",
    "    y = y_metric.compute().to(torch.long)\n",
    "    y_hat = y_pred.argmax(dim=1).to(torch.long)\n",
    "\n",
    "    return loss, y_pred, y, y_hat"
   ]
  },
  {
   "cell_type": "markdown",
   "metadata": {},
   "source": [
    "### Last model"
   ]
  },
  {
   "cell_type": "code",
   "execution_count": 8,
   "metadata": {},
   "outputs": [
    {
     "name": "stderr",
     "output_type": "stream",
     "text": [
      "LOCAL_RANK: 0 - CUDA_VISIBLE_DEVICES: [0]\n"
     ]
    },
    {
     "name": "stdout",
     "output_type": "stream",
     "text": [
      "Predicting DataLoader 0: 100%|██████████| 20/20 [00:00<00:00, 21.23it/s]\n",
      "test_loss: 0.5735002756118774\n",
      "test_auprc: 0.8547868132591248\n",
      "test_auroc: 0.9299497008323669\n",
      "              precision    recall  f1-score   support\n",
      "\n",
      "           N       0.92      0.88      0.90       762\n",
      "           A       0.76      0.84      0.80       114\n",
      "           O       0.73      0.77      0.75       362\n",
      "\n",
      "    accuracy                           0.84      1238\n",
      "   macro avg       0.80      0.83      0.82      1238\n",
      "weighted avg       0.85      0.84      0.85      1238\n",
      "\n"
     ]
    },
    {
     "data": {
      "image/png": "[encoded data removed]",
      "text/plain": [
       "<Figure size 640x480 with 2 Axes>"
      ]
     },
     "metadata": {},
     "output_type": "display_data"
    }
   ],
   "source": [
    "model = DenseNetGruEcgModule.load_from_checkpoint(checkpoint_callback.last_model_path)\n",
    "results = trainer.predict(model, dataloaders=dm)\n",
    "test_loss, test_y_pred, test_y, test_y_hat = aggregate_metrics(results)\n",
    "\n",
    "# loss\n",
    "print(f\"test_loss: {test_loss}\")\n",
    "\n",
    "# auprc\n",
    "test_auprc = multiclass_average_precision(test_y_pred, test_y, num_classes=dm.num_classes)\n",
    "print(f\"test_auprc: {test_auprc}\")\n",
    "\n",
    "# auroc\n",
    "test_auroc = multiclass_auroc(test_y_pred, test_y, num_classes=dm.num_classes)\n",
    "print(f\"test_auroc: {test_auroc}\")\n",
    "\n",
    "# classification report\n",
    "print(classification_report(test_y, test_y_hat, target_names=dm.test_set.classes))\n",
    "\n",
    "# confusion matrix\n",
    "test_cm = confusion_matrix(test_y, test_y_hat)\n",
    "test_cm_disp = ConfusionMatrixDisplay(\n",
    "    confusion_matrix=test_cm, display_labels=dm.test_set.classes\n",
    ")\n",
    "test_cm_disp.plot(cmap=\"Blues\")\n",
    "plt.show()\n",
    "\n",
    "# logger\n",
    "if wandb_mode != \"disabled\":\n",
    "    wandb.log({\"last_test_loss\": test_loss.item()})\n",
    "    wandb.log({\"last_test_auprc\": test_auprc.item()})\n",
    "    wandb.log({\"last_test_auroc\": test_auroc.item()})\n",
    "    wandb.log({\"last_test_f1\": f1_score(test_y, test_y_hat, average=\"macro\")})\n",
    "    wandb.log({\"last_test_accuracy\": accuracy_score(test_y, test_y_hat)})\n",
    "    wandb.log({\"last_test_cm\": test_cm_disp.figure_})"
   ]
  },
  {
   "cell_type": "markdown",
   "metadata": {},
   "source": [
    "### Best model"
   ]
  },
  {
   "cell_type": "code",
   "execution_count": 9,
   "metadata": {},
   "outputs": [
    {
     "name": "stderr",
     "output_type": "stream",
     "text": [
      "LOCAL_RANK: 0 - CUDA_VISIBLE_DEVICES: [0]\n"
     ]
    },
    {
     "name": "stdout",
     "output_type": "stream",
     "text": [
      "Predicting DataLoader 0: 100%|██████████| 20/20 [00:00<00:00, 21.33it/s]\n",
      "test_loss: 0.5684822201728821\n",
      "test_auprc: 0.8639323115348816\n",
      "test_auroc: 0.9315894246101379\n",
      "              precision    recall  f1-score   support\n",
      "\n",
      "           N       0.90      0.88      0.89       762\n",
      "           A       0.80      0.86      0.83       114\n",
      "           O       0.73      0.76      0.74       362\n",
      "\n",
      "    accuracy                           0.84      1238\n",
      "   macro avg       0.81      0.83      0.82      1238\n",
      "weighted avg       0.84      0.84      0.84      1238\n",
      "\n"
     ]
    },
    {
     "data": {
      "image/png": "[encoded data removed]",
      "text/plain": [
       "<Figure size 640x480 with 2 Axes>"
      ]
     },
     "metadata": {},
     "output_type": "display_data"
    }
   ],
   "source": [
    "model = DenseNetGruEcgModule.load_from_checkpoint(checkpoint_callback.best_model_path)\n",
    "results = trainer.predict(model, dataloaders=dm)\n",
    "test_loss, test_y_pred, test_y, test_y_hat = aggregate_metrics(results)\n",
    "\n",
    "# loss\n",
    "print(f\"test_loss: {test_loss}\")\n",
    "\n",
    "# auprc\n",
    "test_auprc = multiclass_average_precision(test_y_pred, test_y, num_classes=dm.num_classes)\n",
    "print(f\"test_auprc: {test_auprc}\")\n",
    "\n",
    "# auroc\n",
    "test_auroc = multiclass_auroc(test_y_pred, test_y, num_classes=dm.num_classes)\n",
    "print(f\"test_auroc: {test_auroc}\")\n",
    "\n",
    "# classification report\n",
    "print(classification_report(test_y, test_y_hat, target_names=dm.test_set.classes))\n",
    "\n",
    "# confusion matrix\n",
    "test_cm = confusion_matrix(test_y, test_y_hat)\n",
    "test_cm_disp = ConfusionMatrixDisplay(\n",
    "    confusion_matrix=test_cm, display_labels=dm.test_set.classes\n",
    ")\n",
    "test_cm_disp.plot(cmap=\"Blues\")\n",
    "plt.show()\n",
    "\n",
    "# logger\n",
    "if wandb_mode != \"disabled\":\n",
    "    wandb.log({\"best_test_loss\": test_loss.item()})\n",
    "    wandb.log({\"best_test_auprc\": test_auprc.item()})\n",
    "    wandb.log({\"best_test_auroc\": test_auroc.item()})\n",
    "    wandb.log({\"best_test_f1\": f1_score(test_y, test_y_hat, average=\"macro\")})\n",
    "    wandb.log({\"best_test_accuracy\": accuracy_score(test_y, test_y_hat)})\n",
    "    wandb.log({\"best_test_cm\": test_cm_disp.figure_})"
   ]
  },
  {
   "cell_type": "code",
   "execution_count": 10,
   "metadata": {},
   "outputs": [
    {
     "data": {
      "text/html": [],
      "text/plain": [
       "<IPython.core.display.HTML object>"
      ]
     },
     "metadata": {},
     "output_type": "display_data"
    },
    {
     "data": {
      "text/html": [
       "<br>    <style><br>        .wandb-row {<br>            display: flex;<br>            flex-direction: row;<br>            flex-wrap: wrap;<br>            justify-content: flex-start;<br>            width: 100%;<br>        }<br>        .wandb-col {<br>            display: flex;<br>            flex-direction: column;<br>            flex-basis: 100%;<br>            flex: 1;<br>            padding: 10px;<br>        }<br>    </style><br><div class=\"wandb-row\"><div class=\"wandb-col\"><h3>Run history:</h3><br/><table class=\"wandb\"><tr><td>best_test_accuracy</td><td>▁</td></tr><tr><td>best_test_auprc</td><td>▁</td></tr><tr><td>best_test_auroc</td><td>▁</td></tr><tr><td>best_test_f1</td><td>▁</td></tr><tr><td>best_test_loss</td><td>▁</td></tr><tr><td>epoch</td><td>▁▁▁▁▁▂▂▂▃▃▃▃▃▃▄▄▄▅▅▅▅▆▆▆▆▆▆▆▆▆▇▇▇▇▇█████</td></tr><tr><td>last_test_accuracy</td><td>▁</td></tr><tr><td>last_test_auprc</td><td>▁</td></tr><tr><td>last_test_auroc</td><td>▁</td></tr><tr><td>last_test_f1</td><td>▁</td></tr><tr><td>last_test_loss</td><td>▁</td></tr><tr><td>lr</td><td>███████████████████████▃▃▃▃▃▃▃▃▁▁▁▁▁▁▁▁▁</td></tr><tr><td>train_acc</td><td>▁▃▅▅▆▆▆▇▇▇▇▇▇▇▇▇▇▇▇▇▇▇█▇▇███████████████</td></tr><tr><td>train_auprc</td><td>▁▅▆▆▆▇▇▇▇▇▇▇▇▇▇▇▇▇██████████████████████</td></tr><tr><td>train_auroc</td><td>▁▄▆▆▇▇▇▇▇▇▇▇▇▇▇█████████████████████████</td></tr><tr><td>train_f1</td><td>▁▃▅▅▆▆▆▆▇▇▇▇▇▇▇▇▇▇▇▇▇▇█▇▇███████████████</td></tr><tr><td>train_loss</td><td>█▇▅▄▄▃▃▃▃▃▃▃▂▂▂▂▂▂▂▂▂▂▂▂▂▂▂▁▂▁▁▁▁▁▁▁▁▁▁▁</td></tr><tr><td>trainer/global_step</td><td>▁▁▁▁▁▂▂▂▂▃▃▃▃▃▄▄▄▄▄▄▄▄▅▅▅▅▅▅▅▅▆▆▇▇▇█████</td></tr><tr><td>valid_acc</td><td>▁▄▇▆▇▇▇▇██▇▇█▇▇█████████████████████████</td></tr><tr><td>valid_auprc</td><td>▁▄▇▇▇▇███████▇██████████████████████████</td></tr><tr><td>valid_auroc</td><td>▁▅▇▇▇▇████████▇█████████████████████████</td></tr><tr><td>valid_f1</td><td>▁▃▆▆▇▇▇▇▇▇█▇▇█▇▇███▇████▇███████████████</td></tr><tr><td>valid_loss</td><td>█▆▂▂▂▂▂▂▁▁▁▃▁▂▂▁▁▁▁▁▁▁▂▁▂▂▂▂▂▂▂▂▂▂▂▂▃▂▂▂</td></tr></table><br/></div><div class=\"wandb-col\"><h3>Run summary:</h3><br/><table class=\"wandb\"><tr><td>best_test_accuracy</td><td>0.84006</td></tr><tr><td>best_test_auprc</td><td>0.86393</td></tr><tr><td>best_test_auroc</td><td>0.93159</td></tr><tr><td>best_test_f1</td><td>0.8202</td></tr><tr><td>best_test_loss</td><td>0.56848</td></tr><tr><td>epoch</td><td>49</td></tr><tr><td>last_test_accuracy</td><td>0.84491</td></tr><tr><td>last_test_auprc</td><td>0.85479</td></tr><tr><td>last_test_auroc</td><td>0.92995</td></tr><tr><td>last_test_f1</td><td>0.81676</td></tr><tr><td>last_test_loss</td><td>0.5735</td></tr><tr><td>lr</td><td>0.00025</td></tr><tr><td>train_acc</td><td>0.9534</td></tr><tr><td>train_auprc</td><td>0.9874</td></tr><tr><td>train_auroc</td><td>0.99351</td></tr><tr><td>train_f1</td><td>0.95306</td></tr><tr><td>train_loss</td><td>0.12872</td></tr><tr><td>trainer/global_step</td><td>4549</td></tr><tr><td>valid_acc</td><td>0.8643</td></tr><tr><td>valid_auprc</td><td>0.886</td></tr><tr><td>valid_auroc</td><td>0.94308</td></tr><tr><td>valid_f1</td><td>0.84373</td></tr><tr><td>valid_loss</td><td>0.51153</td></tr></table><br/></div></div>"
      ],
      "text/plain": [
       "<IPython.core.display.HTML object>"
      ]
     },
     "metadata": {},
     "output_type": "display_data"
    },
    {
     "data": {
      "text/html": [
       " View run <strong style=\"color:#cdcd00\">awin-ecg-centralized</strong> at: <a href='https://wandb.ai/devilhyt/awin-ecg-centralized/runs/2ngbzxee' target=\"_blank\">https://wandb.ai/devilhyt/awin-ecg-centralized/runs/2ngbzxee</a><br> View project at: <a href='https://wandb.ai/devilhyt/awin-ecg-centralized' target=\"_blank\">https://wandb.ai/devilhyt/awin-ecg-centralized</a><br>Synced 5 W&B file(s), 2 media file(s), 4 artifact file(s) and 0 other file(s)"
      ],
      "text/plain": [
       "<IPython.core.display.HTML object>"
      ]
     },
     "metadata": {},
     "output_type": "display_data"
    },
    {
     "data": {
      "text/html": [
       "Find logs at: <code>wandb_logs/wandb/run-20250226_032437-2ngbzxee/logs</code>"
      ],
      "text/plain": [
       "<IPython.core.display.HTML object>"
      ]
     },
     "metadata": {},
     "output_type": "display_data"
    }
   ],
   "source": [
    "wandb.finish()"
   ]
  }
 ],
 "metadata": {
  "kernelspec": {
   "display_name": "awin-ecg",
   "language": "python",
   "name": "python3"
  },
  "language_info": {
   "codemirror_mode": {
    "name": "ipython",
    "version": 3
   },
   "file_extension": ".py",
   "mimetype": "text/x-python",
   "name": "python",
   "nbconvert_exporter": "python",
   "pygments_lexer": "ipython3",
   "version": "3.11.11"
  }
 },
 "nbformat": 4,
 "nbformat_minor": 2
}
