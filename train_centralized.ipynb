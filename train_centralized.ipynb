{
 "cells": [
  {
   "cell_type": "markdown",
   "metadata": {},
   "source": [
    "# Centralized learning for ECG Arrhythmia detection\n"
   ]
  },
  {
   "cell_type": "code",
   "execution_count": 1,
   "metadata": {},
   "outputs": [
    {
     "name": "stderr",
     "output_type": "stream",
     "text": [
      "/home/g113056077/.pyenv/versions/awin-ecg/lib/python3.11/site-packages/tqdm/auto.py:21: TqdmWarning: IProgress not found. Please update jupyter and ipywidgets. See https://ipywidgets.readthedocs.io/en/stable/user_install.html\n",
      "  from .autonotebook import tqdm as notebook_tqdm\n"
     ]
    }
   ],
   "source": [
    "import configparser\n",
    "import os\n",
    "from pathlib import Path\n",
    "\n",
    "import lightning as L\n",
    "import matplotlib.pyplot as plt\n",
    "import wandb\n",
    "from dotenv import load_dotenv\n",
    "from lightning.pytorch.callbacks import EarlyStopping, ModelCheckpoint, TQDMProgressBar\n",
    "from lightning.pytorch.loggers import TensorBoardLogger, WandbLogger\n",
    "\n",
    "from dataset_utils import Cinc2017DataModule\n",
    "from model import DenseNetGruEcgModule"
   ]
  },
  {
   "cell_type": "markdown",
   "metadata": {},
   "source": [
    "## Config\n"
   ]
  },
  {
   "cell_type": "code",
   "execution_count": 2,
   "metadata": {},
   "outputs": [],
   "source": [
    "load_dotenv()\n",
    "wandb_mode = os.getenv(\"WANDB_MODE\")\n",
    "\n",
    "config = configparser.ConfigParser()\n",
    "config.read(\"config.ini\")\n",
    "dst_freq = config.getint(\"data_preprocessing\", \"dst_freq\")\n",
    "dst_time = config.getint(\"data_preprocessing\", \"dst_time\")\n",
    "dst_length = dst_freq * dst_time\n",
    "\n",
    "MAX_EPOCHS = 50"
   ]
  },
  {
   "cell_type": "markdown",
   "metadata": {},
   "source": [
    "## Prepare the Dataset\n"
   ]
  },
  {
   "cell_type": "code",
   "execution_count": 3,
   "metadata": {},
   "outputs": [],
   "source": [
    "dm = Cinc2017DataModule(batch_size=64)"
   ]
  },
  {
   "cell_type": "markdown",
   "metadata": {},
   "source": [
    "## Create the Model\n"
   ]
  },
  {
   "cell_type": "code",
   "execution_count": 4,
   "metadata": {},
   "outputs": [],
   "source": [
    "model = DenseNetGruEcgModule(\n",
    "    max_epochs=MAX_EPOCHS,\n",
    "    num_classes=dm.num_classes,\n",
    "    input_length=dst_length,\n",
    "    lr=1e-3,\n",
    "    min_lr = 1e-5,\n",
    "    show_valid_cm=True,\n",
    "    growth_rate=16,\n",
    "    block_config=(4, 4, 12, 8, 8, 8),\n",
    "    num_init_features=64,\n",
    "    bn_size=4,\n",
    "    db_drop_rate=0.2,\n",
    "    gru_drop_rate=0.2,\n",
    "    fc_drop_rate=0.5,\n",
    "    memory_efficient=False,\n",
    "    compression_factor=0.5,\n",
    ")\n",
    "\n",
    "# the number of features per denseblock:\n",
    "# (32 + 6 * 16) // 2 = 64\n",
    "# (64 + 4 * 16) // 2 = 64\n",
    "# (64 + 12 * 16) // 2 = 128\n",
    "# (128 + 8 * 16) // 2 = 128\n",
    "# (128 + 8 * 16) // 2 = 128\n",
    "# (256 + 8 * 16) // 2 = 128"
   ]
  },
  {
   "cell_type": "markdown",
   "metadata": {},
   "source": [
    "## Create the Trainer\n"
   ]
  },
  {
   "cell_type": "code",
   "execution_count": 5,
   "metadata": {},
   "outputs": [
    {
     "name": "stderr",
     "output_type": "stream",
     "text": [
      "GPU available: True (cuda), used: True\n",
      "TPU available: False, using: 0 TPU cores\n",
      "HPU available: False, using: 0 HPUs\n"
     ]
    }
   ],
   "source": [
    "checkpoint_callback = ModelCheckpoint(\n",
    "    monitor=\"valid_auprc\",\n",
    "    verbose=True,\n",
    "    mode=\"max\",\n",
    "    save_top_k=1,\n",
    "    save_last=True,\n",
    ")\n",
    "\n",
    "# early_stopping_callback = EarlyStopping(\n",
    "#     monitor=\"valid_loss\", patience=8, verbose=True, mode=\"min\"\n",
    "# )\n",
    "\n",
    "progress_bar_callback = TQDMProgressBar(leave=True)\n",
    "\n",
    "project_name = \"awin-ecg-centralized\"\n",
    "if wandb_mode == \"disabled\":\n",
    "    logger = TensorBoardLogger(save_dir=Path(\"tb_logs\"), name=project_name)\n",
    "else:\n",
    "    logger = WandbLogger(\n",
    "        project=project_name, save_dir=Path(\"wandb_logs\"), log_model=True, name=project_name\n",
    "    )\n",
    "\n",
    "trainer = L.Trainer(\n",
    "    max_epochs=MAX_EPOCHS,\n",
    "    callbacks=[checkpoint_callback, progress_bar_callback],\n",
    "    logger=logger,\n",
    ")"
   ]
  },
  {
   "cell_type": "markdown",
   "metadata": {},
   "source": [
    "## Train the Model\n"
   ]
  },
  {
   "cell_type": "code",
   "execution_count": 6,
   "metadata": {},
   "outputs": [
    {
     "name": "stderr",
     "output_type": "stream",
     "text": [
      "\u001b[34m\u001b[1mwandb\u001b[0m: Using wandb-core as the SDK backend.  Please refer to https://wandb.me/wandb-core for more information.\n",
      "\u001b[34m\u001b[1mwandb\u001b[0m: Currently logged in as: \u001b[33mdevilhyt\u001b[0m to \u001b[32mhttps://api.wandb.ai\u001b[0m. Use \u001b[1m`wandb login --relogin`\u001b[0m to force relogin\n"
     ]
    },
    {
     "data": {
      "text/html": [
       "Tracking run with wandb version 0.19.7"
      ],
      "text/plain": [
       "<IPython.core.display.HTML object>"
      ]
     },
     "metadata": {},
     "output_type": "display_data"
    },
    {
     "data": {
      "text/html": [
       "Run data is saved locally in <code>wandb_logs/wandb/run-20250224_023515-pav1e8fd</code>"
      ],
      "text/plain": [
       "<IPython.core.display.HTML object>"
      ]
     },
     "metadata": {},
     "output_type": "display_data"
    },
    {
     "data": {
      "text/html": [
       "Syncing run <strong><a href='https://wandb.ai/devilhyt/awin-ecg-centralized/runs/pav1e8fd' target=\"_blank\">awin-ecg-centralized</a></strong> to <a href='https://wandb.ai/devilhyt/awin-ecg-centralized' target=\"_blank\">Weights & Biases</a> (<a href='https://wandb.me/developer-guide' target=\"_blank\">docs</a>)<br>"
      ],
      "text/plain": [
       "<IPython.core.display.HTML object>"
      ]
     },
     "metadata": {},
     "output_type": "display_data"
    },
    {
     "data": {
      "text/html": [
       " View project at <a href='https://wandb.ai/devilhyt/awin-ecg-centralized' target=\"_blank\">https://wandb.ai/devilhyt/awin-ecg-centralized</a>"
      ],
      "text/plain": [
       "<IPython.core.display.HTML object>"
      ]
     },
     "metadata": {},
     "output_type": "display_data"
    },
    {
     "data": {
      "text/html": [
       " View run at <a href='https://wandb.ai/devilhyt/awin-ecg-centralized/runs/pav1e8fd' target=\"_blank\">https://wandb.ai/devilhyt/awin-ecg-centralized/runs/pav1e8fd</a>"
      ],
      "text/plain": [
       "<IPython.core.display.HTML object>"
      ]
     },
     "metadata": {},
     "output_type": "display_data"
    },
    {
     "name": "stderr",
     "output_type": "stream",
     "text": [
      "LOCAL_RANK: 0 - CUDA_VISIBLE_DEVICES: [0]\n",
      "\n",
      "  | Name          | Type                      | Params | Mode  | In sizes     | Out sizes\n",
      "-----------------------------------------------------------------------------------------------\n",
      "0 | model         | DenseNetGruEcg            | 1.3 M  | train | [1, 1, 6000] | [1, 3]   \n",
      "1 | loss_fn       | CrossEntropyLoss          | 0      | train | ?            | ?        \n",
      "2 | train_metrics | MetricCollection          | 0      | train | ?            | ?        \n",
      "3 | valid_metrics | MetricCollection          | 0      | train | ?            | ?        \n",
      "4 | test_metrics  | MetricCollection          | 0      | train | ?            | ?        \n",
      "5 | valid_cm      | MulticlassConfusionMatrix | 0      | train | ?            | ?        \n",
      "6 | test_cm       | MulticlassConfusionMatrix | 0      | train | ?            | ?        \n",
      "-----------------------------------------------------------------------------------------------\n",
      "1.3 M     Trainable params\n",
      "0         Non-trainable params\n",
      "1.3 M     Total params\n",
      "5.243     Total estimated model params size (MB)\n",
      "417       Modules in train mode\n",
      "0         Modules in eval mode\n"
     ]
    },
    {
     "name": "stdout",
     "output_type": "stream",
     "text": [
      "Training: |          | 0/? [00:00<?, ?it/s]                                \n",
      "Epoch 0: 100%|██████████| 91/91 [00:17<00:00,  5.16it/s, v_num=e8fd, lr=0.001, valid_loss=1.280, valid_acc=0.286, valid_auprc=0.375, valid_auroc=0.583, valid_f1=0.281, train_loss=1.090, train_acc=0.369, train_auprc=0.374, train_auroc=0.547, train_f1=0.369]"
     ]
    },
    {
     "name": "stderr",
     "output_type": "stream",
     "text": [
      "Epoch 0, global step 91: 'valid_auprc' reached 0.37487 (best 0.37487), saving model to 'wandb_logs/awin-ecg-centralized/pav1e8fd/checkpoints/epoch=0-step=91.ckpt' as top 1\n"
     ]
    },
    {
     "name": "stdout",
     "output_type": "stream",
     "text": [
      "\n",
      "Valid Confusion Matrix:\n",
      "tensor([[166, 349, 247],\n",
      "        [  7,  86,  21],\n",
      "        [ 71, 189, 102]], device='cuda:0')\n",
      "Epoch 1: 100%|██████████| 91/91 [00:17<00:00,  5.15it/s, v_num=e8fd, lr=0.001, valid_loss=0.781, valid_acc=0.693, valid_auprc=0.580, valid_auroc=0.806, valid_f1=0.599, train_loss=0.968, train_acc=0.514, train_auprc=0.516, train_auroc=0.691, train_f1=0.479]\n",
      "Valid Confusion Matrix:\n",
      "tensor([[645,   5, 112],\n",
      "        [ 20,  61,  33],\n",
      "        [155,  55, 152]], device='cuda:0')\n"
     ]
    },
    {
     "name": "stderr",
     "output_type": "stream",
     "text": [
      "Epoch 1, global step 182: 'valid_auprc' reached 0.57969 (best 0.57969), saving model to 'wandb_logs/awin-ecg-centralized/pav1e8fd/checkpoints/epoch=1-step=182.ckpt' as top 1\n"
     ]
    },
    {
     "name": "stdout",
     "output_type": "stream",
     "text": [
      "Epoch 2: 100%|██████████| 91/91 [00:17<00:00,  5.14it/s, v_num=e8fd, lr=0.001, valid_loss=0.732, valid_acc=0.697, valid_auprc=0.737, valid_auroc=0.860, valid_f1=0.598, train_loss=0.805, train_acc=0.624, train_auprc=0.667, train_auroc=0.801, train_f1=0.614]\n"
     ]
    },
    {
     "name": "stderr",
     "output_type": "stream",
     "text": [
      "Epoch 2, global step 273: 'valid_auprc' reached 0.73694 (best 0.73694), saving model to 'wandb_logs/awin-ecg-centralized/pav1e8fd/checkpoints/epoch=2-step=273.ckpt' as top 1\n"
     ]
    },
    {
     "name": "stdout",
     "output_type": "stream",
     "text": [
      "Valid Confusion Matrix:\n",
      "tensor([[642,  55,  65],\n",
      "        [ 11,  97,   6],\n",
      "        [127, 111, 124]], device='cuda:0')\n",
      "Epoch 3: 100%|██████████| 91/91 [00:17<00:00,  5.14it/s, v_num=e8fd, lr=0.001, valid_loss=0.503, valid_acc=0.792, valid_auprc=0.807, valid_auroc=0.912, valid_f1=0.715, train_loss=0.636, train_acc=0.727, train_auprc=0.782, train_auroc=0.877, train_f1=0.716]\n",
      "Valid Confusion Matrix:\n",
      "tensor([[726,  12,  24],\n",
      "        [  6,  98,  10],\n",
      "        [146,  59, 157]], device='cuda:0')"
     ]
    },
    {
     "name": "stderr",
     "output_type": "stream",
     "text": [
      "Epoch 3, global step 364: 'valid_auprc' reached 0.80654 (best 0.80654), saving model to 'wandb_logs/awin-ecg-centralized/pav1e8fd/checkpoints/epoch=3-step=364.ckpt' as top 1\n"
     ]
    },
    {
     "name": "stdout",
     "output_type": "stream",
     "text": [
      "\n",
      "Epoch 4: 100%|██████████| 91/91 [00:17<00:00,  5.13it/s, v_num=e8fd, lr=0.001, valid_loss=0.527, valid_acc=0.788, valid_auprc=0.840, valid_auroc=0.913, valid_f1=0.725, train_loss=0.551, train_acc=0.774, train_auprc=0.834, train_auroc=0.909, train_f1=0.770]\n"
     ]
    },
    {
     "name": "stderr",
     "output_type": "stream",
     "text": [
      "Epoch 4, global step 455: 'valid_auprc' reached 0.84028 (best 0.84028), saving model to 'wandb_logs/awin-ecg-centralized/pav1e8fd/checkpoints/epoch=4-step=455.ckpt' as top 1\n"
     ]
    },
    {
     "name": "stdout",
     "output_type": "stream",
     "text": [
      "Valid Confusion Matrix:\n",
      "tensor([[660,  40,  62],\n",
      "        [  1, 110,   3],\n",
      "        [ 80,  76, 206]], device='cuda:0')\n",
      "Epoch 5: 100%|██████████| 91/91 [00:17<00:00,  5.12it/s, v_num=e8fd, lr=0.001, valid_loss=0.576, valid_acc=0.770, valid_auprc=0.821, valid_auroc=0.905, valid_f1=0.721, train_loss=0.500, train_acc=0.798, train_auprc=0.856, train_auroc=0.922, train_f1=0.797]\n",
      "Valid Confusion Matrix:\n",
      "tensor([[635,  24, 103],\n",
      "        [  0, 104,  10],\n",
      "        [ 87,  61, 214]], device='cuda:0')\n"
     ]
    },
    {
     "name": "stderr",
     "output_type": "stream",
     "text": [
      "Epoch 5, global step 546: 'valid_auprc' was not in top 1\n"
     ]
    },
    {
     "name": "stdout",
     "output_type": "stream",
     "text": [
      "Epoch 6: 100%|██████████| 91/91 [00:17<00:00,  5.10it/s, v_num=e8fd, lr=0.001, valid_loss=0.478, valid_acc=0.821, valid_auprc=0.851, valid_auroc=0.922, valid_f1=0.759, train_loss=0.456, train_acc=0.814, train_auprc=0.876, train_auroc=0.933, train_f1=0.811]"
     ]
    },
    {
     "name": "stderr",
     "output_type": "stream",
     "text": [
      "Epoch 6, global step 637: 'valid_auprc' reached 0.85064 (best 0.85064), saving model to 'wandb_logs/awin-ecg-centralized/pav1e8fd/checkpoints/epoch=6-step=637.ckpt' as top 1\n"
     ]
    },
    {
     "name": "stdout",
     "output_type": "stream",
     "text": [
      "\n",
      "Valid Confusion Matrix:\n",
      "tensor([[715,  16,  31],\n",
      "        [  3, 106,   5],\n",
      "        [105,  61, 196]], device='cuda:0')\n",
      "Epoch 7: 100%|██████████| 91/91 [00:17<00:00,  5.09it/s, v_num=e8fd, lr=0.001, valid_loss=0.443, valid_acc=0.840, valid_auprc=0.862, valid_auroc=0.931, valid_f1=0.803, train_loss=0.423, train_acc=0.831, train_auprc=0.892, train_auroc=0.942, train_f1=0.829]\n"
     ]
    },
    {
     "name": "stderr",
     "output_type": "stream",
     "text": [
      "Epoch 7, global step 728: 'valid_auprc' reached 0.86208 (best 0.86208), saving model to 'wandb_logs/awin-ecg-centralized/pav1e8fd/checkpoints/epoch=7-step=728.ckpt' as top 1\n"
     ]
    },
    {
     "name": "stdout",
     "output_type": "stream",
     "text": [
      "Valid Confusion Matrix:\n",
      "tensor([[675,  10,  77],\n",
      "        [  0, 101,  13],\n",
      "        [ 61,  37, 264]], device='cuda:0')\n",
      "Epoch 8: 100%|██████████| 91/91 [00:17<00:00,  5.09it/s, v_num=e8fd, lr=0.001, valid_loss=0.412, valid_acc=0.841, valid_auprc=0.874, valid_auroc=0.938, valid_f1=0.809, train_loss=0.412, train_acc=0.836, train_auprc=0.900, train_auroc=0.946, train_f1=0.835]"
     ]
    },
    {
     "name": "stderr",
     "output_type": "stream",
     "text": [
      "Epoch 8, global step 819: 'valid_auprc' reached 0.87428 (best 0.87428), saving model to 'wandb_logs/awin-ecg-centralized/pav1e8fd/checkpoints/epoch=8-step=819.ckpt' as top 1\n"
     ]
    },
    {
     "name": "stdout",
     "output_type": "stream",
     "text": [
      "\n",
      "Valid Confusion Matrix:\n",
      "tensor([[697,   4,  61],\n",
      "        [  1,  99,  14],\n",
      "        [ 89,  28, 245]], device='cuda:0')\n",
      "Epoch 9: 100%|██████████| 91/91 [00:17<00:00,  5.09it/s, v_num=e8fd, lr=0.001, valid_loss=0.431, valid_acc=0.839, valid_auprc=0.869, valid_auroc=0.930, valid_f1=0.810, train_loss=0.434, train_acc=0.827, train_auprc=0.890, train_auroc=0.941, train_f1=0.825]"
     ]
    },
    {
     "name": "stderr",
     "output_type": "stream",
     "text": [
      "Epoch 9, global step 910: 'valid_auprc' was not in top 1\n"
     ]
    },
    {
     "name": "stdout",
     "output_type": "stream",
     "text": [
      "\n",
      "Valid Confusion Matrix:\n",
      "tensor([[679,  13,  70],\n",
      "        [  1, 103,  10],\n",
      "        [ 78,  27, 257]], device='cuda:0')\n",
      "Epoch 10: 100%|██████████| 91/91 [00:17<00:00,  5.09it/s, v_num=e8fd, lr=0.001, valid_loss=0.419, valid_acc=0.837, valid_auprc=0.877, valid_auroc=0.939, valid_f1=0.798, train_loss=0.386, train_acc=0.848, train_auprc=0.909, train_auroc=0.951, train_f1=0.846]\n"
     ]
    },
    {
     "name": "stderr",
     "output_type": "stream",
     "text": [
      "Epoch 10, global step 1001: 'valid_auprc' reached 0.87696 (best 0.87696), saving model to 'wandb_logs/awin-ecg-centralized/pav1e8fd/checkpoints/epoch=10-step=1001.ckpt' as top 1\n"
     ]
    },
    {
     "name": "stdout",
     "output_type": "stream",
     "text": [
      "Valid Confusion Matrix:\n",
      "tensor([[685,  14,  63],\n",
      "        [  0, 106,   8],\n",
      "        [ 77,  40, 245]], device='cuda:0')\n",
      "Epoch 11: 100%|██████████| 91/91 [00:17<00:00,  5.09it/s, v_num=e8fd, lr=0.001, valid_loss=0.403, valid_acc=0.852, valid_auprc=0.884, valid_auroc=0.942, valid_f1=0.824, train_loss=0.370, train_acc=0.852, train_auprc=0.912, train_auroc=0.954, train_f1=0.851]"
     ]
    },
    {
     "name": "stderr",
     "output_type": "stream",
     "text": [
      "Epoch 11, global step 1092: 'valid_auprc' reached 0.88413 (best 0.88413), saving model to 'wandb_logs/awin-ecg-centralized/pav1e8fd/checkpoints/epoch=11-step=1092.ckpt' as top 1\n"
     ]
    },
    {
     "name": "stdout",
     "output_type": "stream",
     "text": [
      "\n",
      "Valid Confusion Matrix:\n",
      "tensor([[686,   6,  70],\n",
      "        [  0, 104,  10],\n",
      "        [ 66,  31, 265]], device='cuda:0')\n",
      "Epoch 12: 100%|██████████| 91/91 [00:17<00:00,  5.09it/s, v_num=e8fd, lr=0.001, valid_loss=0.466, valid_acc=0.829, valid_auprc=0.861, valid_auroc=0.926, valid_f1=0.789, train_loss=0.390, train_acc=0.840, train_auprc=0.905, train_auroc=0.950, train_f1=0.841]\n",
      "Valid Confusion Matrix:\n",
      "tensor([[674,  18,  70],\n",
      "        [  0, 107,   7],\n",
      "        [ 73,  44, 245]], device='cuda:0')\n"
     ]
    },
    {
     "name": "stderr",
     "output_type": "stream",
     "text": [
      "Epoch 12, global step 1183: 'valid_auprc' was not in top 1\n"
     ]
    },
    {
     "name": "stdout",
     "output_type": "stream",
     "text": [
      "Epoch 13: 100%|██████████| 91/91 [00:17<00:00,  5.08it/s, v_num=e8fd, lr=0.001, valid_loss=0.412, valid_acc=0.851, valid_auprc=0.878, valid_auroc=0.939, valid_f1=0.817, train_loss=0.334, train_acc=0.871, train_auprc=0.930, train_auroc=0.963, train_f1=0.872]\n"
     ]
    },
    {
     "name": "stderr",
     "output_type": "stream",
     "text": [
      "Epoch 13, global step 1274: 'valid_auprc' was not in top 1\n"
     ]
    },
    {
     "name": "stdout",
     "output_type": "stream",
     "text": [
      "Valid Confusion Matrix:\n",
      "tensor([[697,   8,  57],\n",
      "        [  0, 105,   9],\n",
      "        [ 77,  34, 251]], device='cuda:0')\n",
      "Epoch 14: 100%|██████████| 91/91 [00:17<00:00,  5.08it/s, v_num=e8fd, lr=0.001, valid_loss=0.461, valid_acc=0.812, valid_auprc=0.864, valid_auroc=0.930, valid_f1=0.769, train_loss=0.336, train_acc=0.873, train_auprc=0.928, train_auroc=0.962, train_f1=0.872]"
     ]
    },
    {
     "name": "stderr",
     "output_type": "stream",
     "text": [
      "Epoch 14, global step 1365: 'valid_auprc' was not in top 1\n"
     ]
    },
    {
     "name": "stdout",
     "output_type": "stream",
     "text": [
      "\n",
      "Valid Confusion Matrix:\n",
      "tensor([[663,  15,  84],\n",
      "        [  1, 107,   6],\n",
      "        [ 73,  54, 235]], device='cuda:0')\n",
      "Epoch 15: 100%|██████████| 91/91 [00:17<00:00,  5.07it/s, v_num=e8fd, lr=0.001, valid_loss=0.433, valid_acc=0.834, valid_auprc=0.877, valid_auroc=0.938, valid_f1=0.793, train_loss=0.321, train_acc=0.874, train_auprc=0.934, train_auroc=0.965, train_f1=0.873]\n"
     ]
    },
    {
     "name": "stderr",
     "output_type": "stream",
     "text": [
      "Epoch 15, global step 1456: 'valid_auprc' was not in top 1\n"
     ]
    },
    {
     "name": "stdout",
     "output_type": "stream",
     "text": [
      "Valid Confusion Matrix:\n",
      "tensor([[691,  17,  54],\n",
      "        [  1, 106,   7],\n",
      "        [ 88,  39, 235]], device='cuda:0')\n",
      "Epoch 16: 100%|██████████| 91/91 [00:17<00:00,  5.07it/s, v_num=e8fd, lr=0.001, valid_loss=0.397, valid_acc=0.847, valid_auprc=0.883, valid_auroc=0.941, valid_f1=0.818, train_loss=0.334, train_acc=0.872, train_auprc=0.928, train_auroc=0.962, train_f1=0.871]\n"
     ]
    },
    {
     "name": "stderr",
     "output_type": "stream",
     "text": [
      "Epoch 16, global step 1547: 'valid_auprc' was not in top 1\n"
     ]
    },
    {
     "name": "stdout",
     "output_type": "stream",
     "text": [
      "Valid Confusion Matrix:\n",
      "tensor([[688,   5,  69],\n",
      "        [  1, 103,  10],\n",
      "        [ 73,  31, 258]], device='cuda:0')\n",
      "Epoch 17: 100%|██████████| 91/91 [00:17<00:00,  5.07it/s, v_num=e8fd, lr=0.001, valid_loss=0.446, valid_acc=0.829, valid_auprc=0.880, valid_auroc=0.937, valid_f1=0.794, train_loss=0.330, train_acc=0.877, train_auprc=0.930, train_auroc=0.963, train_f1=0.877]\n"
     ]
    },
    {
     "name": "stderr",
     "output_type": "stream",
     "text": [
      "Epoch 17, global step 1638: 'valid_auprc' was not in top 1\n"
     ]
    },
    {
     "name": "stdout",
     "output_type": "stream",
     "text": [
      "Valid Confusion Matrix:\n",
      "tensor([[649,  18,  95],\n",
      "        [  0, 107,   7],\n",
      "        [ 48,  44, 270]], device='cuda:0')\n",
      "Epoch 18: 100%|██████████| 91/91 [00:17<00:00,  5.07it/s, v_num=e8fd, lr=0.001, valid_loss=0.414, valid_acc=0.842, valid_auprc=0.886, valid_auroc=0.945, valid_f1=0.826, train_loss=0.307, train_acc=0.885, train_auprc=0.939, train_auroc=0.968, train_f1=0.884]"
     ]
    },
    {
     "name": "stderr",
     "output_type": "stream",
     "text": [
      "Epoch 18, global step 1729: 'valid_auprc' reached 0.88630 (best 0.88630), saving model to 'wandb_logs/awin-ecg-centralized/pav1e8fd/checkpoints/epoch=18-step=1729.ckpt' as top 1\n"
     ]
    },
    {
     "name": "stdout",
     "output_type": "stream",
     "text": [
      "\n",
      "Valid Confusion Matrix:\n",
      "tensor([[648,   5, 109],\n",
      "        [  1, 101,  12],\n",
      "        [ 45,  23, 294]], device='cuda:0')\n",
      "Epoch 19: 100%|██████████| 91/91 [00:17<00:00,  5.07it/s, v_num=e8fd, lr=0.001, valid_loss=0.396, valid_acc=0.850, valid_auprc=0.894, valid_auroc=0.947, valid_f1=0.816, train_loss=0.316, train_acc=0.880, train_auprc=0.937, train_auroc=0.967, train_f1=0.879]"
     ]
    },
    {
     "name": "stderr",
     "output_type": "stream",
     "text": [
      "Epoch 19, global step 1820: 'valid_auprc' reached 0.89443 (best 0.89443), saving model to 'wandb_logs/awin-ecg-centralized/pav1e8fd/checkpoints/epoch=19-step=1820.ckpt' as top 1\n"
     ]
    },
    {
     "name": "stdout",
     "output_type": "stream",
     "text": [
      "\n",
      "Valid Confusion Matrix:\n",
      "tensor([[687,  11,  64],\n",
      "        [  0, 110,   4],\n",
      "        [ 66,  41, 255]], device='cuda:0')\n",
      "Epoch 20: 100%|██████████| 91/91 [00:17<00:00,  5.07it/s, v_num=e8fd, lr=0.001, valid_loss=0.410, valid_acc=0.851, valid_auprc=0.882, valid_auroc=0.945, valid_f1=0.806, train_loss=0.303, train_acc=0.884, train_auprc=0.941, train_auroc=0.969, train_f1=0.884]"
     ]
    },
    {
     "name": "stderr",
     "output_type": "stream",
     "text": [
      "Epoch 20, global step 1911: 'valid_auprc' was not in top 1\n"
     ]
    },
    {
     "name": "stdout",
     "output_type": "stream",
     "text": [
      "\n",
      "Valid Confusion Matrix:\n",
      "tensor([[701,  14,  47],\n",
      "        [  0, 102,  12],\n",
      "        [ 71,  40, 251]], device='cuda:0')\n",
      "Epoch 21: 100%|██████████| 91/91 [00:17<00:00,  5.07it/s, v_num=e8fd, lr=0.001, valid_loss=0.374, valid_acc=0.855, valid_auprc=0.890, valid_auroc=0.950, valid_f1=0.820, train_loss=0.290, train_acc=0.888, train_auprc=0.945, train_auroc=0.971, train_f1=0.887]"
     ]
    },
    {
     "name": "stderr",
     "output_type": "stream",
     "text": [
      "Epoch 21, global step 2002: 'valid_auprc' was not in top 1\n"
     ]
    },
    {
     "name": "stdout",
     "output_type": "stream",
     "text": [
      "\n",
      "Valid Confusion Matrix:\n",
      "tensor([[688,   8,  66],\n",
      "        [  1, 101,  12],\n",
      "        [ 61,  32, 269]], device='cuda:0')\n",
      "Epoch 22: 100%|██████████| 91/91 [00:17<00:00,  5.07it/s, v_num=e8fd, lr=0.001, valid_loss=0.508, valid_acc=0.777, valid_auprc=0.870, valid_auroc=0.928, valid_f1=0.775, train_loss=0.285, train_acc=0.895, train_auprc=0.945, train_auroc=0.971, train_f1=0.895]\n"
     ]
    },
    {
     "name": "stderr",
     "output_type": "stream",
     "text": [
      "Epoch 22, global step 2093: 'valid_auprc' was not in top 1\n"
     ]
    },
    {
     "name": "stdout",
     "output_type": "stream",
     "text": [
      "Valid Confusion Matrix:\n",
      "tensor([[571,   5, 186],\n",
      "        [  0, 101,  13],\n",
      "        [ 44,  28, 290]], device='cuda:0')\n",
      "Epoch 23: 100%|██████████| 91/91 [00:17<00:00,  5.07it/s, v_num=e8fd, lr=0.001, valid_loss=0.375, valid_acc=0.868, valid_auprc=0.893, valid_auroc=0.949, valid_f1=0.837, train_loss=0.291, train_acc=0.888, train_auprc=0.944, train_auroc=0.971, train_f1=0.886]"
     ]
    },
    {
     "name": "stderr",
     "output_type": "stream",
     "text": [
      "Epoch 23, global step 2184: 'valid_auprc' was not in top 1\n"
     ]
    },
    {
     "name": "stdout",
     "output_type": "stream",
     "text": [
      "\n",
      "Valid Confusion Matrix:\n",
      "tensor([[708,   4,  50],\n",
      "        [  2, 102,  10],\n",
      "        [ 70,  28, 264]], device='cuda:0')\n",
      "Epoch 24: 100%|██████████| 91/91 [00:17<00:00,  5.07it/s, v_num=e8fd, lr=0.001, valid_loss=0.382, valid_acc=0.864, valid_auprc=0.895, valid_auroc=0.949, valid_f1=0.832, train_loss=0.270, train_acc=0.902, train_auprc=0.949, train_auroc=0.973, train_f1=0.901]"
     ]
    },
    {
     "name": "stderr",
     "output_type": "stream",
     "text": [
      "Epoch 24, global step 2275: 'valid_auprc' reached 0.89465 (best 0.89465), saving model to 'wandb_logs/awin-ecg-centralized/pav1e8fd/checkpoints/epoch=24-step=2275.ckpt' as top 1\n"
     ]
    },
    {
     "name": "stdout",
     "output_type": "stream",
     "text": [
      "\n",
      "Valid Confusion Matrix:\n",
      "tensor([[694,   9,  59],\n",
      "        [  1,  99,  14],\n",
      "        [ 60,  25, 277]], device='cuda:0')\n",
      "Epoch 25: 100%|██████████| 91/91 [00:17<00:00,  5.07it/s, v_num=e8fd, lr=0.0005, valid_loss=0.443, valid_acc=0.834, valid_auprc=0.893, valid_auroc=0.943, valid_f1=0.819, train_loss=0.244, train_acc=0.912, train_auprc=0.960, train_auroc=0.978, train_f1=0.913]"
     ]
    },
    {
     "name": "stderr",
     "output_type": "stream",
     "text": [
      "Epoch 25, global step 2366: 'valid_auprc' was not in top 1\n"
     ]
    },
    {
     "name": "stdout",
     "output_type": "stream",
     "text": [
      "\n",
      "Valid Confusion Matrix:\n",
      "tensor([[641,   9, 112],\n",
      "        [  0, 105,   9],\n",
      "        [ 50,  25, 287]], device='cuda:0')\n",
      "Epoch 26: 100%|██████████| 91/91 [00:17<00:00,  5.07it/s, v_num=e8fd, lr=0.0005, valid_loss=0.388, valid_acc=0.863, valid_auprc=0.900, valid_auroc=0.951, valid_f1=0.837, train_loss=0.228, train_acc=0.912, train_auprc=0.965, train_auroc=0.981, train_f1=0.912]"
     ]
    },
    {
     "name": "stderr",
     "output_type": "stream",
     "text": [
      "Epoch 26, global step 2457: 'valid_auprc' reached 0.89964 (best 0.89964), saving model to 'wandb_logs/awin-ecg-centralized/pav1e8fd/checkpoints/epoch=26-step=2457.ckpt' as top 1\n"
     ]
    },
    {
     "name": "stdout",
     "output_type": "stream",
     "text": [
      "\n",
      "Valid Confusion Matrix:\n",
      "tensor([[686,   9,  67],\n",
      "        [  0, 102,  12],\n",
      "        [ 58,  23, 281]], device='cuda:0')\n",
      "Epoch 27: 100%|██████████| 91/91 [00:17<00:00,  5.07it/s, v_num=e8fd, lr=0.0005, valid_loss=0.407, valid_acc=0.853, valid_auprc=0.888, valid_auroc=0.944, valid_f1=0.820, train_loss=0.231, train_acc=0.911, train_auprc=0.960, train_auroc=0.980, train_f1=0.911]\n"
     ]
    },
    {
     "name": "stderr",
     "output_type": "stream",
     "text": [
      "Epoch 27, global step 2548: 'valid_auprc' was not in top 1\n"
     ]
    },
    {
     "name": "stdout",
     "output_type": "stream",
     "text": [
      "Valid Confusion Matrix:\n",
      "tensor([[689,  10,  63],\n",
      "        [  0, 101,  13],\n",
      "        [ 67,  29, 266]], device='cuda:0')\n",
      "Epoch 28: 100%|██████████| 91/91 [00:17<00:00,  5.07it/s, v_num=e8fd, lr=0.0005, valid_loss=0.471, valid_acc=0.834, valid_auprc=0.881, valid_auroc=0.940, valid_f1=0.817, train_loss=0.222, train_acc=0.915, train_auprc=0.965, train_auroc=0.982, train_f1=0.915]"
     ]
    },
    {
     "name": "stderr",
     "output_type": "stream",
     "text": [
      "Epoch 28, global step 2639: 'valid_auprc' was not in top 1\n"
     ]
    },
    {
     "name": "stdout",
     "output_type": "stream",
     "text": [
      "\n",
      "Valid Confusion Matrix:\n",
      "tensor([[649,   8, 105],\n",
      "        [  0, 106,   8],\n",
      "        [ 56,  28, 278]], device='cuda:0')\n",
      "Epoch 29: 100%|██████████| 91/91 [00:17<00:00,  5.07it/s, v_num=e8fd, lr=0.0005, valid_loss=0.462, valid_acc=0.836, valid_auprc=0.882, valid_auroc=0.940, valid_f1=0.806, train_loss=0.219, train_acc=0.919, train_auprc=0.965, train_auroc=0.982, train_f1=0.919]"
     ]
    },
    {
     "name": "stderr",
     "output_type": "stream",
     "text": [
      "Epoch 29, global step 2730: 'valid_auprc' was not in top 1\n"
     ]
    },
    {
     "name": "stdout",
     "output_type": "stream",
     "text": [
      "\n",
      "Valid Confusion Matrix:\n",
      "tensor([[664,  11,  87],\n",
      "        [  1, 104,   9],\n",
      "        [ 60,  35, 267]], device='cuda:0')\n",
      "Epoch 30: 100%|██████████| 91/91 [00:17<00:00,  5.07it/s, v_num=e8fd, lr=0.0005, valid_loss=0.463, valid_acc=0.838, valid_auprc=0.881, valid_auroc=0.938, valid_f1=0.809, train_loss=0.218, train_acc=0.920, train_auprc=0.965, train_auroc=0.982, train_f1=0.920]"
     ]
    },
    {
     "name": "stderr",
     "output_type": "stream",
     "text": [
      "Epoch 30, global step 2821: 'valid_auprc' was not in top 1\n"
     ]
    },
    {
     "name": "stdout",
     "output_type": "stream",
     "text": [
      "\n",
      "Valid Confusion Matrix:\n",
      "tensor([[660,   6,  96],\n",
      "        [  1, 100,  13],\n",
      "        [ 51,  33, 278]], device='cuda:0')\n",
      "Epoch 31: 100%|██████████| 91/91 [00:17<00:00,  5.07it/s, v_num=e8fd, lr=0.0005, valid_loss=0.440, valid_acc=0.848, valid_auprc=0.891, valid_auroc=0.946, valid_f1=0.818, train_loss=0.216, train_acc=0.917, train_auprc=0.969, train_auroc=0.983, train_f1=0.916]\n"
     ]
    },
    {
     "name": "stderr",
     "output_type": "stream",
     "text": [
      "Epoch 31, global step 2912: 'valid_auprc' was not in top 1\n"
     ]
    },
    {
     "name": "stdout",
     "output_type": "stream",
     "text": [
      "Valid Confusion Matrix:\n",
      "tensor([[669,   9,  84],\n",
      "        [  1, 102,  11],\n",
      "        [ 51,  32, 279]], device='cuda:0')\n",
      "Epoch 32: 100%|██████████| 91/91 [00:17<00:00,  5.07it/s, v_num=e8fd, lr=0.0005, valid_loss=0.459, valid_acc=0.829, valid_auprc=0.875, valid_auroc=0.935, valid_f1=0.799, train_loss=0.222, train_acc=0.921, train_auprc=0.962, train_auroc=0.981, train_f1=0.921]"
     ]
    },
    {
     "name": "stderr",
     "output_type": "stream",
     "text": [
      "Epoch 32, global step 3003: 'valid_auprc' was not in top 1\n"
     ]
    },
    {
     "name": "stdout",
     "output_type": "stream",
     "text": [
      "\n",
      "Valid Confusion Matrix:\n",
      "tensor([[662,   9,  91],\n",
      "        [  1, 101,  12],\n",
      "        [ 66,  33, 263]], device='cuda:0')\n",
      "Epoch 33: 100%|██████████| 91/91 [00:17<00:00,  5.07it/s, v_num=e8fd, lr=0.0005, valid_loss=0.398, valid_acc=0.855, valid_auprc=0.891, valid_auroc=0.946, valid_f1=0.827, train_loss=0.207, train_acc=0.926, train_auprc=0.968, train_auroc=0.984, train_f1=0.925]"
     ]
    },
    {
     "name": "stderr",
     "output_type": "stream",
     "text": [
      "Epoch 33, global step 3094: 'valid_auprc' was not in top 1\n"
     ]
    },
    {
     "name": "stdout",
     "output_type": "stream",
     "text": [
      "\n",
      "Valid Confusion Matrix:\n",
      "tensor([[684,   7,  71],\n",
      "        [  2,  99,  13],\n",
      "        [ 62,  24, 276]], device='cuda:0')\n",
      "Epoch 34: 100%|██████████| 91/91 [00:17<00:00,  5.06it/s, v_num=e8fd, lr=0.0005, valid_loss=0.435, valid_acc=0.851, valid_auprc=0.892, valid_auroc=0.942, valid_f1=0.830, train_loss=0.196, train_acc=0.928, train_auprc=0.973, train_auroc=0.985, train_f1=0.928]"
     ]
    },
    {
     "name": "stderr",
     "output_type": "stream",
     "text": [
      "Epoch 34, global step 3185: 'valid_auprc' was not in top 1\n"
     ]
    },
    {
     "name": "stdout",
     "output_type": "stream",
     "text": [
      "\n",
      "Valid Confusion Matrix:\n",
      "tensor([[670,   4,  88],\n",
      "        [  1, 101,  12],\n",
      "        [ 54,  25, 283]], device='cuda:0')\n",
      "Epoch 35: 100%|██████████| 91/91 [00:17<00:00,  5.06it/s, v_num=e8fd, lr=0.0005, valid_loss=0.454, valid_acc=0.859, valid_auprc=0.889, valid_auroc=0.942, valid_f1=0.829, train_loss=0.195, train_acc=0.928, train_auprc=0.971, train_auroc=0.985, train_f1=0.928]"
     ]
    },
    {
     "name": "stderr",
     "output_type": "stream",
     "text": [
      "Epoch 35, global step 3276: 'valid_auprc' was not in top 1\n"
     ]
    },
    {
     "name": "stdout",
     "output_type": "stream",
     "text": [
      "\n",
      "Valid Confusion Matrix:\n",
      "tensor([[692,   6,  64],\n",
      "        [  1, 102,  11],\n",
      "        [ 64,  29, 269]], device='cuda:0')\n",
      "Epoch 36: 100%|██████████| 91/91 [00:17<00:00,  5.06it/s, v_num=e8fd, lr=0.0005, valid_loss=0.470, valid_acc=0.846, valid_auprc=0.886, valid_auroc=0.941, valid_f1=0.808, train_loss=0.190, train_acc=0.930, train_auprc=0.975, train_auroc=0.987, train_f1=0.931]"
     ]
    },
    {
     "name": "stderr",
     "output_type": "stream",
     "text": [
      "Epoch 36, global step 3367: 'valid_auprc' was not in top 1\n"
     ]
    },
    {
     "name": "stdout",
     "output_type": "stream",
     "text": [
      "\n",
      "Valid Confusion Matrix:\n",
      "tensor([[677,   8,  77],\n",
      "        [  2,  98,  14],\n",
      "        [ 55,  35, 272]], device='cuda:0')\n",
      "Epoch 37: 100%|██████████| 91/91 [00:17<00:00,  5.07it/s, v_num=e8fd, lr=0.00025, valid_loss=0.432, valid_acc=0.857, valid_auprc=0.899, valid_auroc=0.945, valid_f1=0.838, train_loss=0.182, train_acc=0.934, train_auprc=0.974, train_auroc=0.987, train_f1=0.933]"
     ]
    },
    {
     "name": "stderr",
     "output_type": "stream",
     "text": [
      "Epoch 37, global step 3458: 'valid_auprc' was not in top 1\n"
     ]
    },
    {
     "name": "stdout",
     "output_type": "stream",
     "text": [
      "\n",
      "Valid Confusion Matrix:\n",
      "tensor([[669,   5,  88],\n",
      "        [  2, 104,   8],\n",
      "        [ 49,  25, 288]], device='cuda:0')\n",
      "Epoch 38: 100%|██████████| 91/91 [00:17<00:00,  5.07it/s, v_num=e8fd, lr=0.00025, valid_loss=0.446, valid_acc=0.860, valid_auprc=0.894, valid_auroc=0.943, valid_f1=0.832, train_loss=0.181, train_acc=0.934, train_auprc=0.975, train_auroc=0.987, train_f1=0.934]"
     ]
    },
    {
     "name": "stderr",
     "output_type": "stream",
     "text": [
      "Epoch 38, global step 3549: 'valid_auprc' was not in top 1\n"
     ]
    },
    {
     "name": "stdout",
     "output_type": "stream",
     "text": [
      "\n",
      "Valid Confusion Matrix:\n",
      "tensor([[685,   9,  68],\n",
      "        [  1, 104,   9],\n",
      "        [ 58,  28, 276]], device='cuda:0')\n",
      "Epoch 39: 100%|██████████| 91/91 [00:17<00:00,  5.06it/s, v_num=e8fd, lr=0.00025, valid_loss=0.430, valid_acc=0.850, valid_auprc=0.896, valid_auroc=0.946, valid_f1=0.822, train_loss=0.178, train_acc=0.934, train_auprc=0.976, train_auroc=0.988, train_f1=0.933]"
     ]
    },
    {
     "name": "stderr",
     "output_type": "stream",
     "text": [
      "Epoch 39, global step 3640: 'valid_auprc' was not in top 1\n"
     ]
    },
    {
     "name": "stdout",
     "output_type": "stream",
     "text": [
      "\n",
      "Valid Confusion Matrix:\n",
      "tensor([[670,   6,  86],\n",
      "        [  2, 101,  11],\n",
      "        [ 51,  30, 281]], device='cuda:0')\n",
      "Epoch 40: 100%|██████████| 91/91 [00:17<00:00,  5.06it/s, v_num=e8fd, lr=0.00025, valid_loss=0.440, valid_acc=0.868, valid_auprc=0.896, valid_auroc=0.945, valid_f1=0.835, train_loss=0.175, train_acc=0.937, train_auprc=0.975, train_auroc=0.988, train_f1=0.937]"
     ]
    },
    {
     "name": "stderr",
     "output_type": "stream",
     "text": [
      "Epoch 40, global step 3731: 'valid_auprc' was not in top 1\n"
     ]
    },
    {
     "name": "stdout",
     "output_type": "stream",
     "text": [
      "\n",
      "Valid Confusion Matrix:\n",
      "tensor([[706,   7,  49],\n",
      "        [  2, 103,   9],\n",
      "        [ 68,  29, 265]], device='cuda:0')\n",
      "Epoch 41: 100%|██████████| 91/91 [00:17<00:00,  5.06it/s, v_num=e8fd, lr=0.00025, valid_loss=0.445, valid_acc=0.849, valid_auprc=0.889, valid_auroc=0.942, valid_f1=0.822, train_loss=0.164, train_acc=0.940, train_auprc=0.980, train_auroc=0.989, train_f1=0.939]"
     ]
    },
    {
     "name": "stderr",
     "output_type": "stream",
     "text": [
      "Epoch 41, global step 3822: 'valid_auprc' was not in top 1\n"
     ]
    },
    {
     "name": "stdout",
     "output_type": "stream",
     "text": [
      "\n",
      "Valid Confusion Matrix:\n",
      "tensor([[676,   6,  80],\n",
      "        [  2, 100,  12],\n",
      "        [ 60,  27, 275]], device='cuda:0')\n",
      "Epoch 42: 100%|██████████| 91/91 [00:17<00:00,  5.07it/s, v_num=e8fd, lr=0.00025, valid_loss=0.498, valid_acc=0.841, valid_auprc=0.887, valid_auroc=0.939, valid_f1=0.817, train_loss=0.170, train_acc=0.938, train_auprc=0.977, train_auroc=0.989, train_f1=0.938]"
     ]
    },
    {
     "name": "stderr",
     "output_type": "stream",
     "text": [
      "Epoch 42, global step 3913: 'valid_auprc' was not in top 1\n"
     ]
    },
    {
     "name": "stdout",
     "output_type": "stream",
     "text": [
      "\n",
      "Valid Confusion Matrix:\n",
      "tensor([[651,   8, 103],\n",
      "        [  1, 101,  12],\n",
      "        [ 45,  28, 289]], device='cuda:0')\n",
      "Epoch 43: 100%|██████████| 91/91 [00:17<00:00,  5.07it/s, v_num=e8fd, lr=0.00025, valid_loss=0.474, valid_acc=0.853, valid_auprc=0.886, valid_auroc=0.943, valid_f1=0.825, train_loss=0.166, train_acc=0.942, train_auprc=0.978, train_auroc=0.989, train_f1=0.942]"
     ]
    },
    {
     "name": "stderr",
     "output_type": "stream",
     "text": [
      "Epoch 43, global step 4004: 'valid_auprc' was not in top 1\n"
     ]
    },
    {
     "name": "stdout",
     "output_type": "stream",
     "text": [
      "\n",
      "Valid Confusion Matrix:\n",
      "tensor([[684,   8,  70],\n",
      "        [  1, 101,  12],\n",
      "        [ 65,  26, 271]], device='cuda:0')\n",
      "Epoch 44: 100%|██████████| 91/91 [00:17<00:00,  5.06it/s, v_num=e8fd, lr=0.00025, valid_loss=0.474, valid_acc=0.858, valid_auprc=0.889, valid_auroc=0.942, valid_f1=0.830, train_loss=0.163, train_acc=0.940, train_auprc=0.980, train_auroc=0.990, train_f1=0.939]"
     ]
    },
    {
     "name": "stderr",
     "output_type": "stream",
     "text": [
      "Epoch 44, global step 4095: 'valid_auprc' was not in top 1\n"
     ]
    },
    {
     "name": "stdout",
     "output_type": "stream",
     "text": [
      "\n",
      "Valid Confusion Matrix:\n",
      "tensor([[683,   5,  74],\n",
      "        [  2, 101,  11],\n",
      "        [ 56,  28, 278]], device='cuda:0')\n",
      "Epoch 45: 100%|██████████| 91/91 [00:17<00:00,  5.06it/s, v_num=e8fd, lr=0.00025, valid_loss=0.448, valid_acc=0.860, valid_auprc=0.895, valid_auroc=0.946, valid_f1=0.832, train_loss=0.162, train_acc=0.944, train_auprc=0.980, train_auroc=0.990, train_f1=0.943]"
     ]
    },
    {
     "name": "stderr",
     "output_type": "stream",
     "text": [
      "Epoch 45, global step 4186: 'valid_auprc' was not in top 1\n"
     ]
    },
    {
     "name": "stdout",
     "output_type": "stream",
     "text": [
      "\n",
      "Valid Confusion Matrix:\n",
      "tensor([[695,   6,  61],\n",
      "        [  2, 101,  11],\n",
      "        [ 68,  25, 269]], device='cuda:0')\n",
      "Epoch 46: 100%|██████████| 91/91 [00:17<00:00,  5.06it/s, v_num=e8fd, lr=0.00025, valid_loss=0.507, valid_acc=0.847, valid_auprc=0.891, valid_auroc=0.943, valid_f1=0.829, train_loss=0.154, train_acc=0.944, train_auprc=0.982, train_auroc=0.991, train_f1=0.944]\n"
     ]
    },
    {
     "name": "stderr",
     "output_type": "stream",
     "text": [
      "Epoch 46, global step 4277: 'valid_auprc' was not in top 1\n"
     ]
    },
    {
     "name": "stdout",
     "output_type": "stream",
     "text": [
      "Valid Confusion Matrix:\n",
      "tensor([[657,   7,  98],\n",
      "        [  1, 103,  10],\n",
      "        [ 51,  23, 288]], device='cuda:0')\n",
      "Epoch 47: 100%|██████████| 91/91 [00:17<00:00,  5.06it/s, v_num=e8fd, lr=0.00025, valid_loss=0.486, valid_acc=0.850, valid_auprc=0.889, valid_auroc=0.942, valid_f1=0.820, train_loss=0.156, train_acc=0.942, train_auprc=0.982, train_auroc=0.991, train_f1=0.943]"
     ]
    },
    {
     "name": "stderr",
     "output_type": "stream",
     "text": [
      "Epoch 47, global step 4368: 'valid_auprc' was not in top 1\n"
     ]
    },
    {
     "name": "stdout",
     "output_type": "stream",
     "text": [
      "\n",
      "Valid Confusion Matrix:\n",
      "tensor([[677,  10,  75],\n",
      "        [  2, 101,  11],\n",
      "        [ 60,  28, 274]], device='cuda:0')\n",
      "Epoch 48: 100%|██████████| 91/91 [00:17<00:00,  5.06it/s, v_num=e8fd, lr=0.00025, valid_loss=0.506, valid_acc=0.852, valid_auprc=0.884, valid_auroc=0.939, valid_f1=0.812, train_loss=0.161, train_acc=0.942, train_auprc=0.980, train_auroc=0.990, train_f1=0.941]"
     ]
    },
    {
     "name": "stderr",
     "output_type": "stream",
     "text": [
      "Epoch 48, global step 4459: 'valid_auprc' was not in top 1\n"
     ]
    },
    {
     "name": "stdout",
     "output_type": "stream",
     "text": [
      "\n",
      "Valid Confusion Matrix:\n",
      "tensor([[695,  12,  55],\n",
      "        [  2, 102,  10],\n",
      "        [ 68,  36, 258]], device='cuda:0')\n",
      "Epoch 49: 100%|██████████| 91/91 [00:17<00:00,  5.06it/s, v_num=e8fd, lr=0.00025, valid_loss=0.520, valid_acc=0.833, valid_auprc=0.885, valid_auroc=0.935, valid_f1=0.805, train_loss=0.154, train_acc=0.944, train_auprc=0.982, train_auroc=0.991, train_f1=0.945]"
     ]
    },
    {
     "name": "stderr",
     "output_type": "stream",
     "text": [
      "Epoch 49, global step 4550: 'valid_auprc' was not in top 1\n"
     ]
    },
    {
     "name": "stdout",
     "output_type": "stream",
     "text": [
      "\n",
      "Valid Confusion Matrix:\n",
      "tensor([[649,  12, 101],\n",
      "        [  1, 100,  13],\n",
      "        [ 51,  29, 282]], device='cuda:0')\n"
     ]
    },
    {
     "name": "stderr",
     "output_type": "stream",
     "text": [
      "`Trainer.fit` stopped: `max_epochs=50` reached.\n"
     ]
    }
   ],
   "source": [
    "trainer.fit(model, datamodule=dm)"
   ]
  },
  {
   "cell_type": "markdown",
   "metadata": {},
   "source": [
    "## Evaluate on the Test Set\n"
   ]
  },
  {
   "cell_type": "code",
   "execution_count": 7,
   "metadata": {},
   "outputs": [],
   "source": [
    "import torch\n",
    "from sklearn.metrics import (\n",
    "    ConfusionMatrixDisplay,\n",
    "    accuracy_score,\n",
    "    classification_report,\n",
    "    confusion_matrix,\n",
    "    f1_score,\n",
    ")\n",
    "from torchmetrics.aggregation import CatMetric, MeanMetric\n",
    "from torchmetrics.functional.classification import (\n",
    "    multiclass_auroc,\n",
    "    multiclass_average_precision,\n",
    ")\n",
    "\n",
    "\n",
    "def aggregate_metrics(results):\n",
    "    loss_metric = MeanMetric()\n",
    "    y_pred_metric = CatMetric()\n",
    "    y_metric = CatMetric()\n",
    "\n",
    "    for result in results:\n",
    "        loss_metric.update(result[\"loss\"])\n",
    "        y_pred_metric.update(result[\"y_pred\"])\n",
    "        y_metric.update(result[\"y\"])\n",
    "    loss = loss_metric.compute()\n",
    "    y_pred = y_pred_metric.compute()\n",
    "    y = y_metric.compute().to(torch.long)\n",
    "    y_hat = y_pred.argmax(dim=1).to(torch.long)\n",
    "\n",
    "    return loss, y_pred, y, y_hat"
   ]
  },
  {
   "cell_type": "markdown",
   "metadata": {},
   "source": [
    "### Last model"
   ]
  },
  {
   "cell_type": "code",
   "execution_count": 8,
   "metadata": {},
   "outputs": [
    {
     "name": "stderr",
     "output_type": "stream",
     "text": [
      "LOCAL_RANK: 0 - CUDA_VISIBLE_DEVICES: [0]\n"
     ]
    },
    {
     "name": "stdout",
     "output_type": "stream",
     "text": [
      "Predicting DataLoader 0: 100%|██████████| 20/20 [00:00<00:00, 20.74it/s]\n",
      "test_loss: 0.5400816202163696\n",
      "test_auprc: 0.8642532825469971\n",
      "test_auroc: 0.9304822087287903\n",
      "              precision    recall  f1-score   support\n",
      "\n",
      "           N       0.93      0.83      0.88       762\n",
      "           A       0.73      0.87      0.80       114\n",
      "           O       0.68      0.80      0.74       362\n",
      "\n",
      "    accuracy                           0.82      1238\n",
      "   macro avg       0.78      0.83      0.80      1238\n",
      "weighted avg       0.84      0.82      0.83      1238\n",
      "\n"
     ]
    },
    {
     "data": {
      "image/png": "[encoded data removed]",
      "text/plain": [
       "<Figure size 640x480 with 2 Axes>"
      ]
     },
     "metadata": {},
     "output_type": "display_data"
    }
   ],
   "source": [
    "model = DenseNetGruEcgModule.load_from_checkpoint(checkpoint_callback.last_model_path)\n",
    "results = trainer.predict(model, dataloaders=dm)\n",
    "test_loss, test_y_pred, test_y, test_y_hat = aggregate_metrics(results)\n",
    "\n",
    "# loss\n",
    "print(f\"test_loss: {test_loss}\")\n",
    "\n",
    "# auprc\n",
    "test_auprc = multiclass_average_precision(test_y_pred, test_y, num_classes=dm.num_classes)\n",
    "print(f\"test_auprc: {test_auprc}\")\n",
    "\n",
    "# auroc\n",
    "test_auroc = multiclass_auroc(test_y_pred, test_y, num_classes=dm.num_classes)\n",
    "print(f\"test_auroc: {test_auroc}\")\n",
    "\n",
    "# classification report\n",
    "print(classification_report(test_y, test_y_hat, target_names=dm.test_set.classes))\n",
    "\n",
    "# confusion matrix\n",
    "test_cm = confusion_matrix(test_y, test_y_hat)\n",
    "test_cm_disp = ConfusionMatrixDisplay(\n",
    "    confusion_matrix=test_cm, display_labels=dm.test_set.classes\n",
    ")\n",
    "test_cm_disp.plot(cmap=\"Blues\")\n",
    "plt.show()\n",
    "\n",
    "# logger\n",
    "if wandb_mode != \"disabled\":\n",
    "    wandb.log({\"last_test_loss\": test_loss.item()})\n",
    "    wandb.log({\"last_test_auprc\": test_auprc.item()})\n",
    "    wandb.log({\"last_test_auroc\": test_auroc.item()})\n",
    "    wandb.log({\"last_test_f1\": f1_score(test_y, test_y_hat, average=\"macro\")})\n",
    "    wandb.log({\"last_test_accuracy\": accuracy_score(test_y, test_y_hat)})\n",
    "    wandb.log({\"last_test_cm\": test_cm_disp.figure_})"
   ]
  },
  {
   "cell_type": "markdown",
   "metadata": {},
   "source": [
    "### Best model"
   ]
  },
  {
   "cell_type": "code",
   "execution_count": 9,
   "metadata": {},
   "outputs": [
    {
     "name": "stderr",
     "output_type": "stream",
     "text": [
      "LOCAL_RANK: 0 - CUDA_VISIBLE_DEVICES: [0]\n"
     ]
    },
    {
     "name": "stdout",
     "output_type": "stream",
     "text": [
      "Predicting DataLoader 0: 100%|██████████| 20/20 [00:00<00:00, 20.73it/s]\n",
      "test_loss: 0.43931612372398376\n",
      "test_auprc: 0.8798181414604187\n",
      "test_auroc: 0.9383828043937683\n",
      "              precision    recall  f1-score   support\n",
      "\n",
      "           N       0.92      0.90      0.91       762\n",
      "           A       0.79      0.83      0.81       114\n",
      "           O       0.76      0.78      0.77       362\n",
      "\n",
      "    accuracy                           0.86      1238\n",
      "   macro avg       0.82      0.84      0.83      1238\n",
      "weighted avg       0.86      0.86      0.86      1238\n",
      "\n"
     ]
    },
    {
     "data": {
      "image/png": "[encoded data removed]",
      "text/plain": [
       "<Figure size 640x480 with 2 Axes>"
      ]
     },
     "metadata": {},
     "output_type": "display_data"
    }
   ],
   "source": [
    "model = DenseNetGruEcgModule.load_from_checkpoint(checkpoint_callback.best_model_path)\n",
    "results = trainer.predict(model, dataloaders=dm)\n",
    "test_loss, test_y_pred, test_y, test_y_hat = aggregate_metrics(results)\n",
    "\n",
    "# loss\n",
    "print(f\"test_loss: {test_loss}\")\n",
    "\n",
    "# auprc\n",
    "test_auprc = multiclass_average_precision(test_y_pred, test_y, num_classes=dm.num_classes)\n",
    "print(f\"test_auprc: {test_auprc}\")\n",
    "\n",
    "# auroc\n",
    "test_auroc = multiclass_auroc(test_y_pred, test_y, num_classes=dm.num_classes)\n",
    "print(f\"test_auroc: {test_auroc}\")\n",
    "\n",
    "# classification report\n",
    "print(classification_report(test_y, test_y_hat, target_names=dm.test_set.classes))\n",
    "\n",
    "# confusion matrix\n",
    "test_cm = confusion_matrix(test_y, test_y_hat)\n",
    "test_cm_disp = ConfusionMatrixDisplay(\n",
    "    confusion_matrix=test_cm, display_labels=dm.test_set.classes\n",
    ")\n",
    "test_cm_disp.plot(cmap=\"Blues\")\n",
    "plt.show()\n",
    "\n",
    "# logger\n",
    "if wandb_mode != \"disabled\":\n",
    "    wandb.log({\"best_test_loss\": test_loss.item()})\n",
    "    wandb.log({\"best_test_auprc\": test_auprc.item()})\n",
    "    wandb.log({\"best_test_auroc\": test_auroc.item()})\n",
    "    wandb.log({\"best_test_f1\": f1_score(test_y, test_y_hat, average=\"macro\")})\n",
    "    wandb.log({\"best_test_accuracy\": accuracy_score(test_y, test_y_hat)})\n",
    "    wandb.log({\"best_test_cm\": test_cm_disp.figure_})"
   ]
  },
  {
   "cell_type": "code",
   "execution_count": 10,
   "metadata": {},
   "outputs": [
    {
     "data": {
      "text/html": [],
      "text/plain": [
       "<IPython.core.display.HTML object>"
      ]
     },
     "metadata": {},
     "output_type": "display_data"
    },
    {
     "data": {
      "text/html": [
       "<br>    <style><br>        .wandb-row {<br>            display: flex;<br>            flex-direction: row;<br>            flex-wrap: wrap;<br>            justify-content: flex-start;<br>            width: 100%;<br>        }<br>        .wandb-col {<br>            display: flex;<br>            flex-direction: column;<br>            flex-basis: 100%;<br>            flex: 1;<br>            padding: 10px;<br>        }<br>    </style><br><div class=\"wandb-row\"><div class=\"wandb-col\"><h3>Run history:</h3><br/><table class=\"wandb\"><tr><td>best_test_accuracy</td><td>▁</td></tr><tr><td>best_test_auprc</td><td>▁</td></tr><tr><td>best_test_auroc</td><td>▁</td></tr><tr><td>best_test_f1</td><td>▁</td></tr><tr><td>best_test_loss</td><td>▁</td></tr><tr><td>epoch</td><td>▁▁▂▂▂▂▂▂▂▂▃▃▃▃▃▃▄▄▄▄▄▅▅▅▅▅▅▆▆▆▇▇▇▇▇█████</td></tr><tr><td>last_test_accuracy</td><td>▁</td></tr><tr><td>last_test_auprc</td><td>▁</td></tr><tr><td>last_test_auroc</td><td>▁</td></tr><tr><td>last_test_f1</td><td>▁</td></tr><tr><td>last_test_loss</td><td>▁</td></tr><tr><td>lr</td><td>████████████████████▃▃▃▃▃▃▃▃▃▃▃▁▁▁▁▁▁▁▁▁</td></tr><tr><td>train_acc</td><td>▁▃▄▅▆▆▇▇▇▇▇▇▇▇▇▇▇▇▇▇████████████████████</td></tr><tr><td>train_auprc</td><td>▁▃▄▆▆▇▇▇▇▇▇▇▇▇▇▇████████████████████████</td></tr><tr><td>train_auroc</td><td>▁▅▆▇▇▇▇▇▇▇██████████████████████████████</td></tr><tr><td>train_f1</td><td>▁▂▄▅▆▇▇▇▇▇▇▇▇▇▇▇▇▇▇▇████████████████████</td></tr><tr><td>train_loss</td><td>█▇▆▅▄▃▃▃▃▃▃▂▂▂▂▂▂▂▂▂▂▂▂▁▁▂▁▁▁▁▁▁▁▁▁▁▁▁▁▁</td></tr><tr><td>trainer/global_step</td><td>▁▂▂▂▂▃▃▃▃▄▄▄▄▄▄▅▅▅▅▅▆▆▆▆▆▆▆▆▆▆▇▇▇▇▇█████</td></tr><tr><td>valid_acc</td><td>▁▆▆▇▇▇██████▇█████▇█████████████████████</td></tr><tr><td>valid_auprc</td><td>▁▄▆▇▇▇▇███▇█████████████████████████████</td></tr><tr><td>valid_auroc</td><td>▁▆▇▇▇███████████████████████████████████</td></tr><tr><td>valid_f1</td><td>▁▅▅▆▇▇████▇█▇▇█████▇████████████████████</td></tr><tr><td>valid_loss</td><td>█▄▄▂▃▂▁▁▁▁▁▂▁▁▂▁▁▁▂▁▂▁▁▂▂▂▁▁▂▂▂▁▂▂▂▂▂▂▂▂</td></tr></table><br/></div><div class=\"wandb-col\"><h3>Run summary:</h3><br/><table class=\"wandb\"><tr><td>best_test_accuracy</td><td>0.85945</td></tr><tr><td>best_test_auprc</td><td>0.87982</td></tr><tr><td>best_test_auroc</td><td>0.93838</td></tr><tr><td>best_test_f1</td><td>0.83063</td></tr><tr><td>best_test_loss</td><td>0.43932</td></tr><tr><td>epoch</td><td>49</td></tr><tr><td>last_test_accuracy</td><td>0.82472</td></tr><tr><td>last_test_auprc</td><td>0.86425</td></tr><tr><td>last_test_auroc</td><td>0.93048</td></tr><tr><td>last_test_f1</td><td>0.80298</td></tr><tr><td>last_test_loss</td><td>0.54008</td></tr><tr><td>lr</td><td>0.00025</td></tr><tr><td>train_acc</td><td>0.9444</td></tr><tr><td>train_auprc</td><td>0.98195</td></tr><tr><td>train_auroc</td><td>0.99054</td></tr><tr><td>train_f1</td><td>0.94471</td></tr><tr><td>train_loss</td><td>0.15359</td></tr><tr><td>trainer/global_step</td><td>4549</td></tr><tr><td>valid_acc</td><td>0.83279</td></tr><tr><td>valid_auprc</td><td>0.8846</td></tr><tr><td>valid_auroc</td><td>0.93544</td></tr><tr><td>valid_f1</td><td>0.8052</td></tr><tr><td>valid_loss</td><td>0.52008</td></tr></table><br/></div></div>"
      ],
      "text/plain": [
       "<IPython.core.display.HTML object>"
      ]
     },
     "metadata": {},
     "output_type": "display_data"
    },
    {
     "data": {
      "text/html": [
       " View run <strong style=\"color:#cdcd00\">awin-ecg-centralized</strong> at: <a href='https://wandb.ai/devilhyt/awin-ecg-centralized/runs/pav1e8fd' target=\"_blank\">https://wandb.ai/devilhyt/awin-ecg-centralized/runs/pav1e8fd</a><br> View project at: <a href='https://wandb.ai/devilhyt/awin-ecg-centralized' target=\"_blank\">https://wandb.ai/devilhyt/awin-ecg-centralized</a><br>Synced 5 W&B file(s), 2 media file(s), 4 artifact file(s) and 0 other file(s)"
      ],
      "text/plain": [
       "<IPython.core.display.HTML object>"
      ]
     },
     "metadata": {},
     "output_type": "display_data"
    },
    {
     "data": {
      "text/html": [
       "Find logs at: <code>wandb_logs/wandb/run-20250224_023515-pav1e8fd/logs</code>"
      ],
      "text/plain": [
       "<IPython.core.display.HTML object>"
      ]
     },
     "metadata": {},
     "output_type": "display_data"
    }
   ],
   "source": [
    "wandb.finish()"
   ]
  }
 ],
 "metadata": {
  "kernelspec": {
   "display_name": "awin-ecg",
   "language": "python",
   "name": "python3"
  },
  "language_info": {
   "codemirror_mode": {
    "name": "ipython",
    "version": 3
   },
   "file_extension": ".py",
   "mimetype": "text/x-python",
   "name": "python",
   "nbconvert_exporter": "python",
   "pygments_lexer": "ipython3",
   "version": "3.11.11"
  }
 },
 "nbformat": 4,
 "nbformat_minor": 2
}
