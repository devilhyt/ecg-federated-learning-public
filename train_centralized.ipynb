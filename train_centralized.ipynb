{
 "cells": [
  {
   "cell_type": "markdown",
   "metadata": {},
   "source": [
    "# Centralized learning for ECG Arrhythmia detection"
   ]
  },
  {
   "cell_type": "code",
   "execution_count": 1,
   "metadata": {},
   "outputs": [
    {
     "name": "stderr",
     "output_type": "stream",
     "text": [
      "/home/g113056077/.pyenv/versions/ecg-fl/lib/python3.11/site-packages/tqdm/auto.py:21: TqdmWarning: IProgress not found. Please update jupyter and ipywidgets. See https://ipywidgets.readthedocs.io/en/stable/user_install.html\n",
      "  from .autonotebook import tqdm as notebook_tqdm\n"
     ]
    }
   ],
   "source": [
    "from pathlib import Path\n",
    "\n",
    "import lightning as L\n",
    "import matplotlib.pyplot as plt\n",
    "import wandb\n",
    "from dotenv import load_dotenv\n",
    "from lightning.pytorch.callbacks import EarlyStopping, ModelCheckpoint, TQDMProgressBar\n",
    "from lightning.pytorch.loggers import WandbLogger, TensorBoardLogger\n",
    "\n",
    "from dataset_utils import Cinc2017DataModule\n",
    "from model import DenseNet1dModule\n",
    "import os"
   ]
  },
  {
   "cell_type": "markdown",
   "metadata": {},
   "source": [
    "## Config"
   ]
  },
  {
   "cell_type": "code",
   "execution_count": 2,
   "metadata": {},
   "outputs": [],
   "source": [
    "load_dotenv()\n",
    "wandb_mode = os.getenv(\"WANDB_MODE\")"
   ]
  },
  {
   "cell_type": "markdown",
   "metadata": {},
   "source": [
    "## Prepare the Dataset"
   ]
  },
  {
   "cell_type": "code",
   "execution_count": 3,
   "metadata": {},
   "outputs": [],
   "source": [
    "dm = Cinc2017DataModule(batch_size=64)"
   ]
  },
  {
   "cell_type": "markdown",
   "metadata": {},
   "source": [
    "## Create the Model"
   ]
  },
  {
   "cell_type": "code",
   "execution_count": 4,
   "metadata": {},
   "outputs": [],
   "source": [
    "model = DenseNet1dModule(num_classes=dm.num_classes, memory_efficient=False, lr=1e-3)"
   ]
  },
  {
   "cell_type": "markdown",
   "metadata": {},
   "source": [
    "## Create the Trainer"
   ]
  },
  {
   "cell_type": "code",
   "execution_count": 5,
   "metadata": {},
   "outputs": [
    {
     "name": "stderr",
     "output_type": "stream",
     "text": [
      "GPU available: True (cuda), used: True\n",
      "TPU available: False, using: 0 TPU cores\n",
      "HPU available: False, using: 0 HPUs\n"
     ]
    }
   ],
   "source": [
    "checkpoint_callback = ModelCheckpoint(\n",
    "    monitor=\"valid_loss\",\n",
    "    verbose=True,\n",
    "    mode=\"min\",\n",
    "    save_top_k=1,\n",
    "    save_last=True,\n",
    ")\n",
    "\n",
    "early_stopping_callback = EarlyStopping(\n",
    "    monitor=\"valid_loss\", patience=8, verbose=True, mode=\"min\"\n",
    ")\n",
    "\n",
    "progress_bar_callback = TQDMProgressBar(leave=True)\n",
    "\n",
    "if wandb_mode == 'disabled':\n",
    "    logger = TensorBoardLogger(save_dir=Path('tb_logs'), name='ecg-centralized')\n",
    "else:\n",
    "    logger = WandbLogger(project='ecg-centralized', save_dir=Path('wandb_logs'), log_model=True)\n",
    "    logger.experiment.name = \"ecg-centralized\"\n",
    "\n",
    "trainer = L.Trainer(\n",
    "    max_epochs=50,\n",
    "    callbacks=[checkpoint_callback, early_stopping_callback, progress_bar_callback],\n",
    "    logger=logger,\n",
    ")"
   ]
  },
  {
   "cell_type": "markdown",
   "metadata": {},
   "source": [
    "## Train the Model"
   ]
  },
  {
   "cell_type": "code",
   "execution_count": 6,
   "metadata": {},
   "outputs": [
    {
     "name": "stderr",
     "output_type": "stream",
     "text": [
      "LOCAL_RANK: 0 - CUDA_VISIBLE_DEVICES: [0]\n",
      "\n",
      "  | Name          | Type                      | Params | Mode  | In sizes     | Out sizes\n",
      "-----------------------------------------------------------------------------------------------\n",
      "0 | model         | DenseNet1d                | 3.5 M  | train | [1, 1, 6000] | [1, 3]   \n",
      "1 | loss_fn       | CrossEntropyLoss          | 0      | train | ?            | ?        \n",
      "2 | train_metrics | MetricCollection          | 0      | train | ?            | ?        \n",
      "3 | valid_metrics | MetricCollection          | 0      | train | ?            | ?        \n",
      "4 | test_metrics  | MetricCollection          | 0      | train | ?            | ?        \n",
      "5 | valid_cm      | MulticlassConfusionMatrix | 0      | train | ?            | ?        \n",
      "6 | test_cm       | MulticlassConfusionMatrix | 0      | train | ?            | ?        \n",
      "-----------------------------------------------------------------------------------------------\n",
      "3.5 M     Trainable params\n",
      "0         Non-trainable params\n",
      "3.5 M     Total params\n",
      "14.020    Total estimated model params size (MB)\n",
      "593       Modules in train mode\n",
      "0         Modules in eval mode\n"
     ]
    },
    {
     "name": "stdout",
     "output_type": "stream",
     "text": [
      "Training: |          | 0/? [00:00<?, ?it/s]                                \n",
      "Epoch 0: 100%|██████████| 91/91 [00:13<00:00,  6.81it/s, v_num=2, lr=0.001, valid_loss=1.540, valid_acc=0.139, valid_f1=0.140, train_loss=1.090, train_acc=0.371, train_f1=0.369]"
     ]
    },
    {
     "name": "stderr",
     "output_type": "stream",
     "text": [
      "Epoch 0, global step 91: 'valid_loss' reached 1.54185 (best 1.54185), saving model to 'tb_logs/ecg-centralized/version_2/checkpoints/epoch=0-step=91.ckpt' as top 1\n"
     ]
    },
    {
     "name": "stdout",
     "output_type": "stream",
     "text": [
      "\n",
      "Valid Confusion Matrix:\n",
      "tensor([[  0, 569, 193],\n",
      "        [  0,  90,  24],\n",
      "        [  0, 280,  82]], device='cuda:0')\n",
      "Epoch 1: 100%|██████████| 91/91 [00:13<00:00,  6.81it/s, v_num=2, lr=0.001, valid_loss=0.961, valid_acc=0.631, valid_f1=0.409, train_loss=1.040, train_acc=0.438, train_f1=0.424]"
     ]
    },
    {
     "name": "stderr",
     "output_type": "stream",
     "text": [
      "Epoch 1, global step 182: 'valid_loss' reached 0.96107 (best 0.96107), saving model to 'tb_logs/ecg-centralized/version_2/checkpoints/epoch=1-step=182.ckpt' as top 1\n"
     ]
    },
    {
     "name": "stdout",
     "output_type": "stream",
     "text": [
      "\n",
      "Valid Confusion Matrix:\n",
      "tensor([[706,  47,   9],\n",
      "        [ 47,  66,   1],\n",
      "        [220, 133,   9]], device='cuda:0')\n",
      "Epoch 2: 100%|██████████| 91/91 [00:13<00:00,  6.80it/s, v_num=2, lr=0.001, valid_loss=0.721, valid_acc=0.674, valid_f1=0.535, train_loss=0.928, train_acc=0.532, train_f1=0.483]"
     ]
    },
    {
     "name": "stderr",
     "output_type": "stream",
     "text": [
      "Epoch 2, global step 273: 'valid_loss' reached 0.72112 (best 0.72112), saving model to 'tb_logs/ecg-centralized/version_2/checkpoints/epoch=2-step=273.ckpt' as top 1\n"
     ]
    },
    {
     "name": "stdout",
     "output_type": "stream",
     "text": [
      "\n",
      "Valid Confusion Matrix:\n",
      "tensor([[679,  34,  49],\n",
      "        [ 16,  90,   8],\n",
      "        [180, 117,  65]], device='cuda:0')\n",
      "Epoch 3: 100%|██████████| 91/91 [00:13<00:00,  6.73it/s, v_num=2, lr=0.001, valid_loss=0.692, valid_acc=0.694, valid_f1=0.582, train_loss=0.796, train_acc=0.631, train_f1=0.615]"
     ]
    },
    {
     "name": "stderr",
     "output_type": "stream",
     "text": [
      "Epoch 3, global step 364: 'valid_loss' reached 0.69183 (best 0.69183), saving model to 'tb_logs/ecg-centralized/version_2/checkpoints/epoch=3-step=364.ckpt' as top 1\n"
     ]
    },
    {
     "name": "stdout",
     "output_type": "stream",
     "text": [
      "\n",
      "Valid Confusion Matrix:\n",
      "tensor([[661,  23,  78],\n",
      "        [  9,  98,   7],\n",
      "        [130, 132, 100]], device='cuda:0')\n",
      "Epoch 4: 100%|██████████| 91/91 [00:13<00:00,  6.80it/s, v_num=2, lr=0.001, valid_loss=0.569, valid_acc=0.758, valid_f1=0.708, train_loss=0.716, train_acc=0.685, train_f1=0.672]"
     ]
    },
    {
     "name": "stderr",
     "output_type": "stream",
     "text": [
      "Epoch 4, global step 455: 'valid_loss' reached 0.56939 (best 0.56939), saving model to 'tb_logs/ecg-centralized/version_2/checkpoints/epoch=4-step=455.ckpt' as top 1\n"
     ]
    },
    {
     "name": "stdout",
     "output_type": "stream",
     "text": [
      "\n",
      "Valid Confusion Matrix:\n",
      "tensor([[663,  11,  88],\n",
      "        [  3,  93,  18],\n",
      "        [136,  43, 183]], device='cuda:0')\n",
      "Epoch 5: 100%|██████████| 91/91 [00:13<00:00,  6.78it/s, v_num=2, lr=0.001, valid_loss=0.679, valid_acc=0.751, valid_f1=0.684, train_loss=0.658, train_acc=0.715, train_f1=0.708]"
     ]
    },
    {
     "name": "stderr",
     "output_type": "stream",
     "text": [
      "Epoch 5, global step 546: 'valid_loss' was not in top 1\n"
     ]
    },
    {
     "name": "stdout",
     "output_type": "stream",
     "text": [
      "\n",
      "Valid Confusion Matrix:\n",
      "tensor([[641,  37,  84],\n",
      "        [  2, 100,  12],\n",
      "        [100,  73, 189]], device='cuda:0')\n",
      "Epoch 6: 100%|██████████| 91/91 [00:13<00:00,  6.77it/s, v_num=2, lr=0.001, valid_loss=0.548, valid_acc=0.768, valid_f1=0.697, train_loss=0.628, train_acc=0.739, train_f1=0.734]"
     ]
    },
    {
     "name": "stderr",
     "output_type": "stream",
     "text": [
      "Epoch 6, global step 637: 'valid_loss' reached 0.54764 (best 0.54764), saving model to 'tb_logs/ecg-centralized/version_2/checkpoints/epoch=6-step=637.ckpt' as top 1\n"
     ]
    },
    {
     "name": "stdout",
     "output_type": "stream",
     "text": [
      "\n",
      "Valid Confusion Matrix:\n",
      "tensor([[687,  28,  47],\n",
      "        [  2, 103,   9],\n",
      "        [138,  63, 161]], device='cuda:0')\n",
      "Epoch 7: 100%|██████████| 91/91 [00:13<00:00,  6.79it/s, v_num=2, lr=0.001, valid_loss=0.565, valid_acc=0.763, valid_f1=0.711, train_loss=0.585, train_acc=0.764, train_f1=0.761]"
     ]
    },
    {
     "name": "stderr",
     "output_type": "stream",
     "text": [
      "Epoch 7, global step 728: 'valid_loss' was not in top 1\n"
     ]
    },
    {
     "name": "stdout",
     "output_type": "stream",
     "text": [
      "\n",
      "Valid Confusion Matrix:\n",
      "tensor([[608,  28, 126],\n",
      "        [  2,  86,  26],\n",
      "        [ 66,  45, 251]], device='cuda:0')\n",
      "Epoch 8: 100%|██████████| 91/91 [00:13<00:00,  6.77it/s, v_num=2, lr=0.001, valid_loss=0.470, valid_acc=0.825, valid_f1=0.785, train_loss=0.563, train_acc=0.769, train_f1=0.767]"
     ]
    },
    {
     "name": "stderr",
     "output_type": "stream",
     "text": [
      "Epoch 8, global step 819: 'valid_loss' reached 0.47013 (best 0.47013), saving model to 'tb_logs/ecg-centralized/version_2/checkpoints/epoch=8-step=819.ckpt' as top 1\n"
     ]
    },
    {
     "name": "stdout",
     "output_type": "stream",
     "text": [
      "\n",
      "Valid Confusion Matrix:\n",
      "tensor([[687,  12,  63],\n",
      "        [  4,  99,  11],\n",
      "        [ 93,  34, 235]], device='cuda:0')\n",
      "Epoch 9: 100%|██████████| 91/91 [00:13<00:00,  6.78it/s, v_num=2, lr=0.001, valid_loss=0.588, valid_acc=0.778, valid_f1=0.760, train_loss=0.515, train_acc=0.787, train_f1=0.782]"
     ]
    },
    {
     "name": "stderr",
     "output_type": "stream",
     "text": [
      "Epoch 9, global step 910: 'valid_loss' was not in top 1\n"
     ]
    },
    {
     "name": "stdout",
     "output_type": "stream",
     "text": [
      "\n",
      "Valid Confusion Matrix:\n",
      "tensor([[590,  13, 159],\n",
      "        [  0, 101,  13],\n",
      "        [ 54,  36, 272]], device='cuda:0')\n",
      "Epoch 10: 100%|██████████| 91/91 [00:13<00:00,  6.77it/s, v_num=2, lr=0.001, valid_loss=0.509, valid_acc=0.825, valid_f1=0.782, train_loss=0.507, train_acc=0.795, train_f1=0.793]"
     ]
    },
    {
     "name": "stderr",
     "output_type": "stream",
     "text": [
      "Epoch 10, global step 1001: 'valid_loss' was not in top 1\n"
     ]
    },
    {
     "name": "stdout",
     "output_type": "stream",
     "text": [
      "\n",
      "Valid Confusion Matrix:\n",
      "tensor([[725,   6,  31],\n",
      "        [  2,  97,  15],\n",
      "        [137,  26, 199]], device='cuda:0')\n",
      "Epoch 11: 100%|██████████| 91/91 [00:13<00:00,  6.76it/s, v_num=2, lr=0.001, valid_loss=0.494, valid_acc=0.799, valid_f1=0.754, train_loss=0.517, train_acc=0.788, train_f1=0.783]"
     ]
    },
    {
     "name": "stderr",
     "output_type": "stream",
     "text": [
      "Epoch 11, global step 1092: 'valid_loss' was not in top 1\n"
     ]
    },
    {
     "name": "stdout",
     "output_type": "stream",
     "text": [
      "\n",
      "Valid Confusion Matrix:\n",
      "tensor([[672,  14,  76],\n",
      "        [  1, 104,   9],\n",
      "        [101,  48, 213]], device='cuda:0')\n",
      "Epoch 12: 100%|██████████| 91/91 [00:13<00:00,  6.76it/s, v_num=2, lr=0.001, valid_loss=0.491, valid_acc=0.806, valid_f1=0.773, train_loss=0.474, train_acc=0.811, train_f1=0.810]"
     ]
    },
    {
     "name": "stderr",
     "output_type": "stream",
     "text": [
      "Epoch 12, global step 1183: 'valid_loss' was not in top 1\n"
     ]
    },
    {
     "name": "stdout",
     "output_type": "stream",
     "text": [
      "\n",
      "Valid Confusion Matrix:\n",
      "tensor([[630,  21, 111],\n",
      "        [  1, 105,   8],\n",
      "        [ 56,  43, 263]], device='cuda:0')\n",
      "Epoch 13: 100%|██████████| 91/91 [00:13<00:00,  6.75it/s, v_num=2, lr=0.001, valid_loss=0.472, valid_acc=0.834, valid_f1=0.794, train_loss=0.497, train_acc=0.800, train_f1=0.797]"
     ]
    },
    {
     "name": "stderr",
     "output_type": "stream",
     "text": [
      "Epoch 13, global step 1274: 'valid_loss' was not in top 1\n"
     ]
    },
    {
     "name": "stdout",
     "output_type": "stream",
     "text": [
      "\n",
      "Valid Confusion Matrix:\n",
      "tensor([[681,  19,  62],\n",
      "        [  0, 101,  13],\n",
      "        [ 80,  32, 250]], device='cuda:0')\n",
      "Epoch 14: 100%|██████████| 91/91 [00:13<00:00,  6.66it/s, v_num=2, lr=0.001, valid_loss=0.491, valid_acc=0.798, valid_f1=0.768, train_loss=0.465, train_acc=0.816, train_f1=0.812]"
     ]
    },
    {
     "name": "stderr",
     "output_type": "stream",
     "text": [
      "Epoch 14, global step 1365: 'valid_loss' was not in top 1\n"
     ]
    },
    {
     "name": "stdout",
     "output_type": "stream",
     "text": [
      "\n",
      "Valid Confusion Matrix:\n",
      "tensor([[618,  13, 131],\n",
      "        [  1,  97,  16],\n",
      "        [ 52,  37, 273]], device='cuda:0')\n",
      "Epoch 15: 100%|██████████| 91/91 [00:13<00:00,  6.73it/s, v_num=2, lr=0.001, valid_loss=0.422, valid_acc=0.838, valid_f1=0.817, train_loss=0.438, train_acc=0.834, train_f1=0.831]"
     ]
    },
    {
     "name": "stderr",
     "output_type": "stream",
     "text": [
      "Epoch 15, global step 1456: 'valid_loss' reached 0.42241 (best 0.42241), saving model to 'tb_logs/ecg-centralized/version_2/checkpoints/epoch=15-step=1456.ckpt' as top 1\n"
     ]
    },
    {
     "name": "stdout",
     "output_type": "stream",
     "text": [
      "\n",
      "Valid Confusion Matrix:\n",
      "tensor([[683,   8,  71],\n",
      "        [  2,  99,  13],\n",
      "        [ 89,  17, 256]], device='cuda:0')\n",
      "Epoch 16: 100%|██████████| 91/91 [00:13<00:00,  6.73it/s, v_num=2, lr=0.001, valid_loss=0.454, valid_acc=0.823, valid_f1=0.779, train_loss=0.417, train_acc=0.835, train_f1=0.833]"
     ]
    },
    {
     "name": "stderr",
     "output_type": "stream",
     "text": [
      "Epoch 16, global step 1547: 'valid_loss' was not in top 1\n"
     ]
    },
    {
     "name": "stdout",
     "output_type": "stream",
     "text": [
      "\n",
      "Valid Confusion Matrix:\n",
      "tensor([[682,  14,  66],\n",
      "        [  3,  92,  19],\n",
      "        [ 88,  29, 245]], device='cuda:0')\n",
      "Epoch 17: 100%|██████████| 91/91 [00:13<00:00,  6.74it/s, v_num=2, lr=0.001, valid_loss=0.416, valid_acc=0.844, valid_f1=0.813, train_loss=0.430, train_acc=0.830, train_f1=0.829]"
     ]
    },
    {
     "name": "stderr",
     "output_type": "stream",
     "text": [
      "Epoch 17, global step 1638: 'valid_loss' reached 0.41600 (best 0.41600), saving model to 'tb_logs/ecg-centralized/version_2/checkpoints/epoch=17-step=1638.ckpt' as top 1\n"
     ]
    },
    {
     "name": "stdout",
     "output_type": "stream",
     "text": [
      "\n",
      "Valid Confusion Matrix:\n",
      "tensor([[691,  12,  59],\n",
      "        [  2, 109,   3],\n",
      "        [ 82,  35, 245]], device='cuda:0')\n",
      "Epoch 18: 100%|██████████| 91/91 [00:13<00:00,  6.75it/s, v_num=2, lr=0.001, valid_loss=0.472, valid_acc=0.813, valid_f1=0.774, train_loss=0.402, train_acc=0.848, train_f1=0.846]"
     ]
    },
    {
     "name": "stderr",
     "output_type": "stream",
     "text": [
      "Epoch 18, global step 1729: 'valid_loss' was not in top 1\n"
     ]
    },
    {
     "name": "stdout",
     "output_type": "stream",
     "text": [
      "\n",
      "Valid Confusion Matrix:\n",
      "tensor([[640,  21, 101],\n",
      "        [  1, 109,   4],\n",
      "        [ 49,  55, 258]], device='cuda:0')\n",
      "Epoch 19: 100%|██████████| 91/91 [00:13<00:00,  6.74it/s, v_num=2, lr=0.001, valid_loss=0.413, valid_acc=0.840, valid_f1=0.800, train_loss=0.401, train_acc=0.845, train_f1=0.840]"
     ]
    },
    {
     "name": "stderr",
     "output_type": "stream",
     "text": [
      "Epoch 19, global step 1820: 'valid_loss' reached 0.41323 (best 0.41323), saving model to 'tb_logs/ecg-centralized/version_2/checkpoints/epoch=19-step=1820.ckpt' as top 1\n"
     ]
    },
    {
     "name": "stdout",
     "output_type": "stream",
     "text": [
      "\n",
      "Valid Confusion Matrix:\n",
      "tensor([[719,   5,  38],\n",
      "        [  1,  96,  17],\n",
      "        [111,  26, 225]], device='cuda:0')\n",
      "Epoch 20: 100%|██████████| 91/91 [00:13<00:00,  6.73it/s, v_num=2, lr=0.001, valid_loss=0.401, valid_acc=0.851, valid_f1=0.820, train_loss=0.415, train_acc=0.842, train_f1=0.839]"
     ]
    },
    {
     "name": "stderr",
     "output_type": "stream",
     "text": [
      "Epoch 20, global step 1911: 'valid_loss' reached 0.40087 (best 0.40087), saving model to 'tb_logs/ecg-centralized/version_2/checkpoints/epoch=20-step=1911.ckpt' as top 1\n"
     ]
    },
    {
     "name": "stdout",
     "output_type": "stream",
     "text": [
      "\n",
      "Valid Confusion Matrix:\n",
      "tensor([[689,  13,  60],\n",
      "        [  0, 101,  13],\n",
      "        [ 76,  23, 263]], device='cuda:0')\n",
      "Epoch 21: 100%|██████████| 91/91 [00:13<00:00,  6.72it/s, v_num=2, lr=0.001, valid_loss=0.434, valid_acc=0.826, valid_f1=0.790, train_loss=0.378, train_acc=0.852, train_f1=0.851]"
     ]
    },
    {
     "name": "stderr",
     "output_type": "stream",
     "text": [
      "Epoch 21, global step 2002: 'valid_loss' was not in top 1\n"
     ]
    },
    {
     "name": "stdout",
     "output_type": "stream",
     "text": [
      "\n",
      "Valid Confusion Matrix:\n",
      "tensor([[677,  10,  75],\n",
      "        [  1,  88,  25],\n",
      "        [ 86,  18, 258]], device='cuda:0')\n",
      "Epoch 22: 100%|██████████| 91/91 [00:13<00:00,  6.72it/s, v_num=2, lr=0.001, valid_loss=0.496, valid_acc=0.826, valid_f1=0.781, train_loss=0.392, train_acc=0.851, train_f1=0.850]"
     ]
    },
    {
     "name": "stderr",
     "output_type": "stream",
     "text": [
      "Epoch 22, global step 2093: 'valid_loss' was not in top 1\n"
     ]
    },
    {
     "name": "stdout",
     "output_type": "stream",
     "text": [
      "\n",
      "Valid Confusion Matrix:\n",
      "tensor([[676,  20,  66],\n",
      "        [  1, 109,   4],\n",
      "        [ 73,  52, 237]], device='cuda:0')\n",
      "Epoch 23: 100%|██████████| 91/91 [00:13<00:00,  6.72it/s, v_num=2, lr=0.001, valid_loss=0.410, valid_acc=0.850, valid_f1=0.806, train_loss=0.370, train_acc=0.856, train_f1=0.854]"
     ]
    },
    {
     "name": "stderr",
     "output_type": "stream",
     "text": [
      "Epoch 23, global step 2184: 'valid_loss' was not in top 1\n"
     ]
    },
    {
     "name": "stdout",
     "output_type": "stream",
     "text": [
      "\n",
      "Valid Confusion Matrix:\n",
      "tensor([[726,   9,  27],\n",
      "        [  0, 102,  12],\n",
      "        [104,  34, 224]], device='cuda:0')\n",
      "Epoch 24: 100%|██████████| 91/91 [00:13<00:00,  6.71it/s, v_num=2, lr=0.001, valid_loss=0.506, valid_acc=0.822, valid_f1=0.788, train_loss=0.355, train_acc=0.867, train_f1=0.864]"
     ]
    },
    {
     "name": "stderr",
     "output_type": "stream",
     "text": [
      "Epoch 24, global step 2275: 'valid_loss' was not in top 1\n"
     ]
    },
    {
     "name": "stdout",
     "output_type": "stream",
     "text": [
      "\n",
      "Valid Confusion Matrix:\n",
      "tensor([[653,  20,  89],\n",
      "        [  0, 106,   8],\n",
      "        [ 64,  39, 259]], device='cuda:0')\n",
      "Epoch 25: 100%|██████████| 91/91 [00:13<00:00,  6.71it/s, v_num=2, lr=0.001, valid_loss=0.463, valid_acc=0.773, valid_f1=0.709, train_loss=0.380, train_acc=0.854, train_f1=0.853]"
     ]
    },
    {
     "name": "stderr",
     "output_type": "stream",
     "text": [
      "Epoch 25, global step 2366: 'valid_loss' was not in top 1\n"
     ]
    },
    {
     "name": "stdout",
     "output_type": "stream",
     "text": [
      "\n",
      "Valid Confusion Matrix:\n",
      "tensor([[625,  64,  73],\n",
      "        [  4,  95,  15],\n",
      "        [ 73,  52, 237]], device='cuda:0')\n",
      "Epoch 26: 100%|██████████| 91/91 [00:13<00:00,  6.71it/s, v_num=2, lr=0.001, valid_loss=0.380, valid_acc=0.855, valid_f1=0.825, train_loss=0.426, train_acc=0.833, train_f1=0.832]"
     ]
    },
    {
     "name": "stderr",
     "output_type": "stream",
     "text": [
      "Epoch 26, global step 2457: 'valid_loss' reached 0.38034 (best 0.38034), saving model to 'tb_logs/ecg-centralized/version_2/checkpoints/epoch=26-step=2457.ckpt' as top 1\n"
     ]
    },
    {
     "name": "stdout",
     "output_type": "stream",
     "text": [
      "\n",
      "Valid Confusion Matrix:\n",
      "tensor([[695,   9,  58],\n",
      "        [  0, 103,  11],\n",
      "        [ 73,  28, 261]], device='cuda:0')\n",
      "Epoch 27: 100%|██████████| 91/91 [00:13<00:00,  6.70it/s, v_num=2, lr=0.001, valid_loss=0.401, valid_acc=0.853, valid_f1=0.827, train_loss=0.386, train_acc=0.848, train_f1=0.848]"
     ]
    },
    {
     "name": "stderr",
     "output_type": "stream",
     "text": [
      "Epoch 27, global step 2548: 'valid_loss' was not in top 1\n"
     ]
    },
    {
     "name": "stdout",
     "output_type": "stream",
     "text": [
      "\n",
      "Valid Confusion Matrix:\n",
      "tensor([[684,  11,  67],\n",
      "        [  2, 100,  12],\n",
      "        [ 70,  20, 272]], device='cuda:0')\n",
      "Epoch 28: 100%|██████████| 91/91 [00:13<00:00,  6.71it/s, v_num=2, lr=0.001, valid_loss=0.375, valid_acc=0.855, valid_f1=0.817, train_loss=0.392, train_acc=0.843, train_f1=0.841]"
     ]
    },
    {
     "name": "stderr",
     "output_type": "stream",
     "text": [
      "Epoch 28, global step 2639: 'valid_loss' reached 0.37547 (best 0.37547), saving model to 'tb_logs/ecg-centralized/version_2/checkpoints/epoch=28-step=2639.ckpt' as top 1\n"
     ]
    },
    {
     "name": "stdout",
     "output_type": "stream",
     "text": [
      "\n",
      "Valid Confusion Matrix:\n",
      "tensor([[691,  10,  61],\n",
      "        [  3,  98,  13],\n",
      "        [ 63,  30, 269]], device='cuda:0')\n",
      "Epoch 29: 100%|██████████| 91/91 [00:13<00:00,  6.71it/s, v_num=2, lr=0.001, valid_loss=0.396, valid_acc=0.859, valid_f1=0.822, train_loss=0.360, train_acc=0.859, train_f1=0.857]"
     ]
    },
    {
     "name": "stderr",
     "output_type": "stream",
     "text": [
      "Epoch 29, global step 2730: 'valid_loss' was not in top 1\n"
     ]
    },
    {
     "name": "stdout",
     "output_type": "stream",
     "text": [
      "\n",
      "Valid Confusion Matrix:\n",
      "tensor([[711,  17,  34],\n",
      "        [  1, 105,   8],\n",
      "        [ 87,  28, 247]], device='cuda:0')\n",
      "Epoch 30: 100%|██████████| 91/91 [00:13<00:00,  6.71it/s, v_num=2, lr=0.001, valid_loss=0.460, valid_acc=0.825, valid_f1=0.806, train_loss=0.359, train_acc=0.864, train_f1=0.862]"
     ]
    },
    {
     "name": "stderr",
     "output_type": "stream",
     "text": [
      "Epoch 30, global step 2821: 'valid_loss' was not in top 1\n"
     ]
    },
    {
     "name": "stdout",
     "output_type": "stream",
     "text": [
      "\n",
      "Valid Confusion Matrix:\n",
      "tensor([[628,  11, 123],\n",
      "        [  0, 101,  13],\n",
      "        [ 45,  25, 292]], device='cuda:0')\n",
      "Epoch 31: 100%|██████████| 91/91 [00:13<00:00,  6.70it/s, v_num=2, lr=0.001, valid_loss=0.414, valid_acc=0.834, valid_f1=0.815, train_loss=0.355, train_acc=0.866, train_f1=0.866]"
     ]
    },
    {
     "name": "stderr",
     "output_type": "stream",
     "text": [
      "Epoch 31, global step 2912: 'valid_loss' was not in top 1\n"
     ]
    },
    {
     "name": "stdout",
     "output_type": "stream",
     "text": [
      "\n",
      "Valid Confusion Matrix:\n",
      "tensor([[640,  14, 108],\n",
      "        [  0, 107,   7],\n",
      "        [ 48,  28, 286]], device='cuda:0')\n",
      "Epoch 32: 100%|██████████| 91/91 [00:13<00:00,  6.70it/s, v_num=2, lr=0.001, valid_loss=0.409, valid_acc=0.842, valid_f1=0.826, train_loss=0.335, train_acc=0.872, train_f1=0.871]"
     ]
    },
    {
     "name": "stderr",
     "output_type": "stream",
     "text": [
      "Epoch 32, global step 3003: 'valid_loss' was not in top 1\n"
     ]
    },
    {
     "name": "stdout",
     "output_type": "stream",
     "text": [
      "\n",
      "Valid Confusion Matrix:\n",
      "tensor([[652,   9, 101],\n",
      "        [  1, 103,  10],\n",
      "        [ 54,  21, 287]], device='cuda:0')\n",
      "Epoch 33: 100%|██████████| 91/91 [00:13<00:00,  6.70it/s, v_num=2, lr=0.001, valid_loss=0.452, valid_acc=0.821, valid_f1=0.800, train_loss=0.336, train_acc=0.873, train_f1=0.871]"
     ]
    },
    {
     "name": "stderr",
     "output_type": "stream",
     "text": [
      "Epoch 33, global step 3094: 'valid_loss' was not in top 1\n"
     ]
    },
    {
     "name": "stdout",
     "output_type": "stream",
     "text": [
      "\n",
      "Valid Confusion Matrix:\n",
      "tensor([[653,   5, 104],\n",
      "        [  3,  89,  22],\n",
      "        [ 75,  13, 274]], device='cuda:0')\n",
      "Epoch 34: 100%|██████████| 91/91 [00:13<00:00,  6.71it/s, v_num=2, lr=0.001, valid_loss=0.375, valid_acc=0.869, valid_f1=0.838, train_loss=0.343, train_acc=0.865, train_f1=0.865]"
     ]
    },
    {
     "name": "stderr",
     "output_type": "stream",
     "text": [
      "Epoch 34, global step 3185: 'valid_loss' reached 0.37500 (best 0.37500), saving model to 'tb_logs/ecg-centralized/version_2/checkpoints/epoch=34-step=3185.ckpt' as top 1\n"
     ]
    },
    {
     "name": "stdout",
     "output_type": "stream",
     "text": [
      "\n",
      "Valid Confusion Matrix:\n",
      "tensor([[713,   6,  43],\n",
      "        [  3, 103,   8],\n",
      "        [ 75,  27, 260]], device='cuda:0')\n",
      "Epoch 35: 100%|██████████| 91/91 [00:13<00:00,  6.71it/s, v_num=2, lr=0.001, valid_loss=0.406, valid_acc=0.843, valid_f1=0.808, train_loss=0.327, train_acc=0.878, train_f1=0.878]"
     ]
    },
    {
     "name": "stderr",
     "output_type": "stream",
     "text": [
      "Epoch 35, global step 3276: 'valid_loss' was not in top 1\n"
     ]
    },
    {
     "name": "stdout",
     "output_type": "stream",
     "text": [
      "\n",
      "Valid Confusion Matrix:\n",
      "tensor([[674,  10,  78],\n",
      "        [  1,  91,  22],\n",
      "        [ 62,  21, 279]], device='cuda:0')\n",
      "Epoch 36: 100%|██████████| 91/91 [00:13<00:00,  6.64it/s, v_num=2, lr=0.001, valid_loss=0.435, valid_acc=0.845, valid_f1=0.809, train_loss=0.328, train_acc=0.878, train_f1=0.877]"
     ]
    },
    {
     "name": "stderr",
     "output_type": "stream",
     "text": [
      "Epoch 36, global step 3367: 'valid_loss' was not in top 1\n"
     ]
    },
    {
     "name": "stdout",
     "output_type": "stream",
     "text": [
      "\n",
      "Valid Confusion Matrix:\n",
      "tensor([[667,  18,  77],\n",
      "        [  1, 103,  10],\n",
      "        [ 52,  34, 276]], device='cuda:0')\n",
      "Epoch 37: 100%|██████████| 91/91 [00:13<00:00,  6.70it/s, v_num=2, lr=0.001, valid_loss=0.446, valid_acc=0.822, valid_f1=0.809, train_loss=0.332, train_acc=0.875, train_f1=0.873]"
     ]
    },
    {
     "name": "stderr",
     "output_type": "stream",
     "text": [
      "Epoch 37, global step 3458: 'valid_loss' was not in top 1\n"
     ]
    },
    {
     "name": "stdout",
     "output_type": "stream",
     "text": [
      "\n",
      "Valid Confusion Matrix:\n",
      "tensor([[616,   9, 137],\n",
      "        [  0, 101,  13],\n",
      "        [ 38,  23, 301]], device='cuda:0')\n",
      "Epoch 38: 100%|██████████| 91/91 [00:13<00:00,  6.72it/s, v_num=2, lr=0.001, valid_loss=0.371, valid_acc=0.864, valid_f1=0.834, train_loss=0.313, train_acc=0.882, train_f1=0.882]"
     ]
    },
    {
     "name": "stderr",
     "output_type": "stream",
     "text": [
      "Epoch 38, global step 3549: 'valid_loss' reached 0.37111 (best 0.37111), saving model to 'tb_logs/ecg-centralized/version_2/checkpoints/epoch=38-step=3549.ckpt' as top 1\n"
     ]
    },
    {
     "name": "stdout",
     "output_type": "stream",
     "text": [
      "\n",
      "Valid Confusion Matrix:\n",
      "tensor([[698,   9,  55],\n",
      "        [  2,  96,  16],\n",
      "        [ 68,  18, 276]], device='cuda:0')\n",
      "Epoch 39: 100%|██████████| 91/91 [00:13<00:00,  6.72it/s, v_num=2, lr=0.001, valid_loss=0.385, valid_acc=0.858, valid_f1=0.830, train_loss=0.306, train_acc=0.894, train_f1=0.892]"
     ]
    },
    {
     "name": "stderr",
     "output_type": "stream",
     "text": [
      "Epoch 39, global step 3640: 'valid_loss' was not in top 1\n"
     ]
    },
    {
     "name": "stdout",
     "output_type": "stream",
     "text": [
      "\n",
      "Valid Confusion Matrix:\n",
      "tensor([[698,   7,  57],\n",
      "        [  1, 105,   8],\n",
      "        [ 75,  28, 259]], device='cuda:0')\n",
      "Epoch 40: 100%|██████████| 91/91 [00:13<00:00,  6.70it/s, v_num=2, lr=0.0001, valid_loss=0.388, valid_acc=0.856, valid_f1=0.827, train_loss=0.279, train_acc=0.901, train_f1=0.900]"
     ]
    },
    {
     "name": "stderr",
     "output_type": "stream",
     "text": [
      "Epoch 40, global step 3731: 'valid_loss' was not in top 1\n"
     ]
    },
    {
     "name": "stdout",
     "output_type": "stream",
     "text": [
      "\n",
      "Valid Confusion Matrix:\n",
      "tensor([[685,   9,  68],\n",
      "        [  1, 103,  10],\n",
      "        [ 62,  28, 272]], device='cuda:0')\n",
      "Epoch 41: 100%|██████████| 91/91 [00:13<00:00,  6.68it/s, v_num=2, lr=0.0001, valid_loss=0.381, valid_acc=0.863, valid_f1=0.838, train_loss=0.267, train_acc=0.897, train_f1=0.897]"
     ]
    },
    {
     "name": "stderr",
     "output_type": "stream",
     "text": [
      "Epoch 41, global step 3822: 'valid_loss' was not in top 1\n"
     ]
    },
    {
     "name": "stdout",
     "output_type": "stream",
     "text": [
      "\n",
      "Valid Confusion Matrix:\n",
      "tensor([[689,   6,  67],\n",
      "        [  1, 102,  11],\n",
      "        [ 60,  24, 278]], device='cuda:0')\n",
      "Epoch 42: 100%|██████████| 91/91 [00:13<00:00,  6.68it/s, v_num=2, lr=0.0001, valid_loss=0.386, valid_acc=0.866, valid_f1=0.843, train_loss=0.250, train_acc=0.910, train_f1=0.908]"
     ]
    },
    {
     "name": "stderr",
     "output_type": "stream",
     "text": [
      "Epoch 42, global step 3913: 'valid_loss' was not in top 1\n"
     ]
    },
    {
     "name": "stdout",
     "output_type": "stream",
     "text": [
      "\n",
      "Valid Confusion Matrix:\n",
      "tensor([[688,   6,  68],\n",
      "        [  1, 101,  12],\n",
      "        [ 59,  20, 283]], device='cuda:0')\n",
      "Epoch 43: 100%|██████████| 91/91 [00:13<00:00,  6.69it/s, v_num=2, lr=0.0001, valid_loss=0.380, valid_acc=0.859, valid_f1=0.831, train_loss=0.264, train_acc=0.900, train_f1=0.899]"
     ]
    },
    {
     "name": "stderr",
     "output_type": "stream",
     "text": [
      "Epoch 43, global step 4004: 'valid_loss' was not in top 1\n"
     ]
    },
    {
     "name": "stdout",
     "output_type": "stream",
     "text": [
      "\n",
      "Valid Confusion Matrix:\n",
      "tensor([[685,   6,  71],\n",
      "        [  1, 101,  12],\n",
      "        [ 59,  26, 277]], device='cuda:0')\n",
      "Epoch 44: 100%|██████████| 91/91 [00:13<00:00,  6.71it/s, v_num=2, lr=0.0001, valid_loss=0.381, valid_acc=0.861, valid_f1=0.834, train_loss=0.247, train_acc=0.910, train_f1=0.910]"
     ]
    },
    {
     "name": "stderr",
     "output_type": "stream",
     "text": [
      "Epoch 44, global step 4095: 'valid_loss' was not in top 1\n"
     ]
    },
    {
     "name": "stdout",
     "output_type": "stream",
     "text": [
      "\n",
      "Valid Confusion Matrix:\n",
      "tensor([[693,   5,  64],\n",
      "        [  1, 102,  11],\n",
      "        [ 65,  26, 271]], device='cuda:0')\n",
      "Epoch 45: 100%|██████████| 91/91 [00:13<00:00,  6.69it/s, v_num=2, lr=0.0001, valid_loss=0.374, valid_acc=0.862, valid_f1=0.836, train_loss=0.247, train_acc=0.909, train_f1=0.910]"
     ]
    },
    {
     "name": "stderr",
     "output_type": "stream",
     "text": [
      "Epoch 45, global step 4186: 'valid_loss' was not in top 1\n"
     ]
    },
    {
     "name": "stdout",
     "output_type": "stream",
     "text": [
      "\n",
      "Valid Confusion Matrix:\n",
      "tensor([[683,   5,  74],\n",
      "        [  1, 101,  12],\n",
      "        [ 54,  25, 283]], device='cuda:0')\n",
      "Epoch 46: 100%|██████████| 91/91 [00:13<00:00,  6.71it/s, v_num=2, lr=0.0001, valid_loss=0.378, valid_acc=0.862, valid_f1=0.838, train_loss=0.247, train_acc=0.910, train_f1=0.910]"
     ]
    },
    {
     "name": "stderr",
     "output_type": "stream",
     "text": [
      "Epoch 46, global step 4277: 'valid_loss' was not in top 1\n"
     ]
    },
    {
     "name": "stdout",
     "output_type": "stream",
     "text": [
      "\n",
      "Valid Confusion Matrix:\n",
      "tensor([[678,   5,  79],\n",
      "        [  2, 100,  12],\n",
      "        [ 50,  23, 289]], device='cuda:0')\n",
      "Epoch 47: 100%|██████████| 91/91 [00:13<00:00,  6.71it/s, v_num=2, lr=0.0001, valid_loss=0.371, valid_acc=0.873, valid_f1=0.846, train_loss=0.242, train_acc=0.908, train_f1=0.909]"
     ]
    },
    {
     "name": "stderr",
     "output_type": "stream",
     "text": [
      "Epoch 47, global step 4368: 'valid_loss' reached 0.37079 (best 0.37079), saving model to 'tb_logs/ecg-centralized/version_2/checkpoints/epoch=47-step=4368.ckpt' as top 1\n"
     ]
    },
    {
     "name": "stdout",
     "output_type": "stream",
     "text": [
      "\n",
      "Valid Confusion Matrix:\n",
      "tensor([[703,   5,  54],\n",
      "        [  2, 100,  12],\n",
      "        [ 62,  22, 278]], device='cuda:0')\n",
      "Epoch 48: 100%|██████████| 91/91 [00:13<00:00,  6.65it/s, v_num=2, lr=0.0001, valid_loss=0.387, valid_acc=0.863, valid_f1=0.834, train_loss=0.234, train_acc=0.915, train_f1=0.914]"
     ]
    },
    {
     "name": "stderr",
     "output_type": "stream",
     "text": [
      "Epoch 48, global step 4459: 'valid_loss' was not in top 1\n"
     ]
    },
    {
     "name": "stdout",
     "output_type": "stream",
     "text": [
      "\n",
      "Valid Confusion Matrix:\n",
      "tensor([[694,   7,  61],\n",
      "        [  1, 102,  11],\n",
      "        [ 64,  26, 272]], device='cuda:0')\n",
      "Epoch 49: 100%|██████████| 91/91 [00:13<00:00,  6.69it/s, v_num=2, lr=0.0001, valid_loss=0.382, valid_acc=0.864, valid_f1=0.842, train_loss=0.242, train_acc=0.912, train_f1=0.911]"
     ]
    },
    {
     "name": "stderr",
     "output_type": "stream",
     "text": [
      "Epoch 49, global step 4550: 'valid_loss' was not in top 1\n"
     ]
    },
    {
     "name": "stdout",
     "output_type": "stream",
     "text": [
      "\n",
      "Valid Confusion Matrix:\n",
      "tensor([[686,   4,  72],\n",
      "        [  2, 103,   9],\n",
      "        [ 57,  24, 281]], device='cuda:0')\n"
     ]
    },
    {
     "name": "stderr",
     "output_type": "stream",
     "text": [
      "`Trainer.fit` stopped: `max_epochs=50` reached.\n"
     ]
    }
   ],
   "source": [
    "trainer.fit(model, datamodule=dm)"
   ]
  },
  {
   "cell_type": "markdown",
   "metadata": {},
   "source": [
    "## Evaluate the Model on the Test Set"
   ]
  },
  {
   "cell_type": "code",
   "execution_count": 7,
   "metadata": {},
   "outputs": [
    {
     "name": "stderr",
     "output_type": "stream",
     "text": [
      "LOCAL_RANK: 0 - CUDA_VISIBLE_DEVICES: [0]\n"
     ]
    },
    {
     "name": "stdout",
     "output_type": "stream",
     "text": [
      "Testing DataLoader 0: 100%|██████████| 20/20 [00:00<00:00, 25.85it/s]\n"
     ]
    },
    {
     "data": {
      "text/html": [
       "<pre style=\"white-space:pre;overflow-x:auto;line-height:normal;font-family:Menlo,'DejaVu Sans Mono',consolas,'Courier New',monospace\">┏━━━━━━━━━━━━━━━━━━━━━━━━━━━┳━━━━━━━━━━━━━━━━━━━━━━━━━━━┓\n",
       "┃<span style=\"font-weight: bold\">        Test metric        </span>┃<span style=\"font-weight: bold\">       DataLoader 0        </span>┃\n",
       "┡━━━━━━━━━━━━━━━━━━━━━━━━━━━╇━━━━━━━━━━━━━━━━━━━━━━━━━━━┩\n",
       "│<span style=\"color: #008080; text-decoration-color: #008080\">         test_acc          </span>│<span style=\"color: #800080; text-decoration-color: #800080\">    0.8513731956481934     </span>│\n",
       "│<span style=\"color: #008080; text-decoration-color: #008080\">          test_f1          </span>│<span style=\"color: #800080; text-decoration-color: #800080\">    0.8263387680053711     </span>│\n",
       "│<span style=\"color: #008080; text-decoration-color: #008080\">         test_loss         </span>│<span style=\"color: #800080; text-decoration-color: #800080\">    0.41612064838409424    </span>│\n",
       "└───────────────────────────┴───────────────────────────┘\n",
       "</pre>\n"
      ],
      "text/plain": [
       "┏━━━━━━━━━━━━━━━━━━━━━━━━━━━┳━━━━━━━━━━━━━━━━━━━━━━━━━━━┓\n",
       "┃\u001b[1m \u001b[0m\u001b[1m       Test metric       \u001b[0m\u001b[1m \u001b[0m┃\u001b[1m \u001b[0m\u001b[1m      DataLoader 0       \u001b[0m\u001b[1m \u001b[0m┃\n",
       "┡━━━━━━━━━━━━━━━━━━━━━━━━━━━╇━━━━━━━━━━━━━━━━━━━━━━━━━━━┩\n",
       "│\u001b[36m \u001b[0m\u001b[36m        test_acc         \u001b[0m\u001b[36m \u001b[0m│\u001b[35m \u001b[0m\u001b[35m   0.8513731956481934    \u001b[0m\u001b[35m \u001b[0m│\n",
       "│\u001b[36m \u001b[0m\u001b[36m         test_f1         \u001b[0m\u001b[36m \u001b[0m│\u001b[35m \u001b[0m\u001b[35m   0.8263387680053711    \u001b[0m\u001b[35m \u001b[0m│\n",
       "│\u001b[36m \u001b[0m\u001b[36m        test_loss        \u001b[0m\u001b[36m \u001b[0m│\u001b[35m \u001b[0m\u001b[35m   0.41612064838409424   \u001b[0m\u001b[35m \u001b[0m│\n",
       "└───────────────────────────┴───────────────────────────┘\n"
      ]
     },
     "metadata": {},
     "output_type": "display_data"
    },
    {
     "name": "stdout",
     "output_type": "stream",
     "text": [
      "              precision    recall  f1-score   support\n",
      "\n",
      "           N       0.91      0.89      0.90       762\n",
      "           A       0.76      0.88      0.82       114\n",
      "           O       0.76      0.76      0.76       362\n",
      "\n",
      "    accuracy                           0.85      1238\n",
      "   macro avg       0.81      0.84      0.83      1238\n",
      "weighted avg       0.85      0.85      0.85      1238\n",
      "\n"
     ]
    },
    {
     "data": {
      "image/png": "[encoded data removed]",
      "text/plain": [
       "<Figure size 640x480 with 1 Axes>"
      ]
     },
     "metadata": {},
     "output_type": "display_data"
    }
   ],
   "source": [
    "from sklearn.metrics import classification_report\n",
    "\n",
    "model = DenseNet1dModule.load_from_checkpoint(checkpoint_callback.last_model_path)\n",
    "_ = trainer.test(model, dataloaders=dm)\n",
    "\n",
    "# classification report\n",
    "print(classification_report(model.test_y_true_log, model.test_y_hat_log, target_names=dm.test_set.classes))\n",
    "\n",
    "# confusion matrix\n",
    "fig, ax = model.test_cm.plot(\n",
    "    model.test_cm_log, cmap=\"Blues\", labels=dm.test_set.classes\n",
    ")\n",
    "plt.show()\n",
    "\n",
    "if wandb_mode != 'disabled':\n",
    "    wandb.log({\"test_cm\": fig})\n",
    "    "
   ]
  },
  {
   "cell_type": "code",
   "execution_count": 8,
   "metadata": {},
   "outputs": [
    {
     "name": "stderr",
     "output_type": "stream",
     "text": [
      "LOCAL_RANK: 0 - CUDA_VISIBLE_DEVICES: [0]\n"
     ]
    },
    {
     "name": "stdout",
     "output_type": "stream",
     "text": [
      "Testing DataLoader 0: 100%|██████████| 20/20 [00:00<00:00, 26.03it/s]\n"
     ]
    },
    {
     "data": {
      "text/html": [
       "<pre style=\"white-space:pre;overflow-x:auto;line-height:normal;font-family:Menlo,'DejaVu Sans Mono',consolas,'Courier New',monospace\">┏━━━━━━━━━━━━━━━━━━━━━━━━━━━┳━━━━━━━━━━━━━━━━━━━━━━━━━━━┓\n",
       "┃<span style=\"font-weight: bold\">        Test metric        </span>┃<span style=\"font-weight: bold\">       DataLoader 0        </span>┃\n",
       "┡━━━━━━━━━━━━━━━━━━━━━━━━━━━╇━━━━━━━━━━━━━━━━━━━━━━━━━━━┩\n",
       "│<span style=\"color: #008080; text-decoration-color: #008080\">         test_acc          </span>│<span style=\"color: #800080; text-decoration-color: #800080\">    0.8642972707748413     </span>│\n",
       "│<span style=\"color: #008080; text-decoration-color: #008080\">          test_f1          </span>│<span style=\"color: #800080; text-decoration-color: #800080\">    0.8344470262527466     </span>│\n",
       "│<span style=\"color: #008080; text-decoration-color: #008080\">         test_loss         </span>│<span style=\"color: #800080; text-decoration-color: #800080\">    0.4165220558643341     </span>│\n",
       "└───────────────────────────┴───────────────────────────┘\n",
       "</pre>\n"
      ],
      "text/plain": [
       "┏━━━━━━━━━━━━━━━━━━━━━━━━━━━┳━━━━━━━━━━━━━━━━━━━━━━━━━━━┓\n",
       "┃\u001b[1m \u001b[0m\u001b[1m       Test metric       \u001b[0m\u001b[1m \u001b[0m┃\u001b[1m \u001b[0m\u001b[1m      DataLoader 0       \u001b[0m\u001b[1m \u001b[0m┃\n",
       "┡━━━━━━━━━━━━━━━━━━━━━━━━━━━╇━━━━━━━━━━━━━━━━━━━━━━━━━━━┩\n",
       "│\u001b[36m \u001b[0m\u001b[36m        test_acc         \u001b[0m\u001b[36m \u001b[0m│\u001b[35m \u001b[0m\u001b[35m   0.8642972707748413    \u001b[0m\u001b[35m \u001b[0m│\n",
       "│\u001b[36m \u001b[0m\u001b[36m         test_f1         \u001b[0m\u001b[36m \u001b[0m│\u001b[35m \u001b[0m\u001b[35m   0.8344470262527466    \u001b[0m\u001b[35m \u001b[0m│\n",
       "│\u001b[36m \u001b[0m\u001b[36m        test_loss        \u001b[0m\u001b[36m \u001b[0m│\u001b[35m \u001b[0m\u001b[35m   0.4165220558643341    \u001b[0m\u001b[35m \u001b[0m│\n",
       "└───────────────────────────┴───────────────────────────┘\n"
      ]
     },
     "metadata": {},
     "output_type": "display_data"
    },
    {
     "name": "stdout",
     "output_type": "stream",
     "text": [
      "              precision    recall  f1-score   support\n",
      "\n",
      "           N       0.91      0.92      0.91       762\n",
      "           A       0.78      0.85      0.82       114\n",
      "           O       0.80      0.75      0.78       362\n",
      "\n",
      "    accuracy                           0.86      1238\n",
      "   macro avg       0.83      0.84      0.83      1238\n",
      "weighted avg       0.86      0.86      0.86      1238\n",
      "\n"
     ]
    },
    {
     "data": {
      "image/png": "[encoded data removed]",
      "text/plain": [
       "<Figure size 640x480 with 1 Axes>"
      ]
     },
     "metadata": {},
     "output_type": "display_data"
    }
   ],
   "source": [
    "model = DenseNet1dModule.load_from_checkpoint(checkpoint_callback.best_model_path)\n",
    "_ = trainer.test(model, dataloaders=dm)\n",
    "\n",
    "# classification report\n",
    "print(classification_report(model.test_y_true_log, model.test_y_hat_log, target_names=dm.test_set.classes))\n",
    "\n",
    "# confusion matrix\n",
    "fig, ax = model.test_cm.plot(\n",
    "    model.test_cm_log, cmap=\"Blues\", labels=dm.test_set.classes\n",
    ")\n",
    "plt.show()\n",
    "\n",
    "if wandb_mode != 'disabled':\n",
    "    wandb.log({\"test_cm\": fig})"
   ]
  },
  {
   "cell_type": "code",
   "execution_count": 9,
   "metadata": {},
   "outputs": [],
   "source": [
    "wandb.finish()"
   ]
  }
 ],
 "metadata": {
  "kernelspec": {
   "display_name": "ecg-fl",
   "language": "python",
   "name": "python3"
  },
  "language_info": {
   "codemirror_mode": {
    "name": "ipython",
    "version": 3
   },
   "file_extension": ".py",
   "mimetype": "text/x-python",
   "name": "python",
   "nbconvert_exporter": "python",
   "pygments_lexer": "ipython3",
   "version": "3.11.10"
  }
 },
 "nbformat": 4,
 "nbformat_minor": 2
}
