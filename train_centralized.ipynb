{
 "cells": [
  {
   "cell_type": "markdown",
   "metadata": {},
   "source": [
    "# Centralized learning for ECG Arrhythmia detection"
   ]
  },
  {
   "cell_type": "code",
   "execution_count": 1,
   "metadata": {},
   "outputs": [
    {
     "name": "stderr",
     "output_type": "stream",
     "text": [
      "/home/g113056077/.pyenv/versions/ecg-fl/lib/python3.11/site-packages/tqdm/auto.py:21: TqdmWarning: IProgress not found. Please update jupyter and ipywidgets. See https://ipywidgets.readthedocs.io/en/stable/user_install.html\n",
      "  from .autonotebook import tqdm as notebook_tqdm\n"
     ]
    }
   ],
   "source": [
    "import os\n",
    "from pathlib import Path\n",
    "\n",
    "import lightning as L\n",
    "import matplotlib.pyplot as plt\n",
    "import wandb\n",
    "from dotenv import load_dotenv\n",
    "from lightning.pytorch.callbacks import (EarlyStopping, ModelCheckpoint,\n",
    "                                         TQDMProgressBar)\n",
    "from lightning.pytorch.loggers import TensorBoardLogger, WandbLogger\n",
    "from sklearn.metrics import classification_report\n",
    "\n",
    "from dataset_utils import Cinc2017DataModule\n",
    "from model import DenseNetGruEcgModule"
   ]
  },
  {
   "cell_type": "markdown",
   "metadata": {},
   "source": [
    "## Config"
   ]
  },
  {
   "cell_type": "code",
   "execution_count": 2,
   "metadata": {},
   "outputs": [],
   "source": [
    "load_dotenv()\n",
    "wandb_mode = os.getenv(\"WANDB_MODE\")\n",
    "MAX_EPOCHS = 50"
   ]
  },
  {
   "cell_type": "markdown",
   "metadata": {},
   "source": [
    "## Prepare the Dataset"
   ]
  },
  {
   "cell_type": "code",
   "execution_count": 3,
   "metadata": {},
   "outputs": [],
   "source": [
    "dm = Cinc2017DataModule(batch_size=64)"
   ]
  },
  {
   "cell_type": "markdown",
   "metadata": {},
   "source": [
    "## Create the Model"
   ]
  },
  {
   "cell_type": "code",
   "execution_count": 4,
   "metadata": {},
   "outputs": [],
   "source": [
    "model = DenseNetGruEcgModule(\n",
    "    growth_rate=16,\n",
    "    block_config=(4, 4, 4, 4, 12, 8, 8, 8, 8),\n",
    "    num_init_features=64,\n",
    "    bn_size=4,\n",
    "    drop_rate=0.3,\n",
    "    gru_drop_rate=0.3,\n",
    "    fc_drop_rate=0.5,\n",
    "    num_classes=dm.num_classes,\n",
    "    memory_efficient=False,\n",
    "    compression_factor=0.5,\n",
    "    lr=1e-3,\n",
    "    max_epochs = MAX_EPOCHS\n",
    ")\n",
    "## Create the Trainer"
   ]
  },
  {
   "cell_type": "code",
   "execution_count": 5,
   "metadata": {},
   "outputs": [
    {
     "name": "stderr",
     "output_type": "stream",
     "text": [
      "\u001b[34m\u001b[1mwandb\u001b[0m: Using wandb-core as the SDK backend.  Please refer to https://wandb.me/wandb-core for more information.\n",
      "\u001b[34m\u001b[1mwandb\u001b[0m: Currently logged in as: \u001b[33mdevilhyt\u001b[0m. Use \u001b[1m`wandb login --relogin`\u001b[0m to force relogin\n"
     ]
    },
    {
     "data": {
      "text/html": [
       "Tracking run with wandb version 0.18.7"
      ],
      "text/plain": [
       "<IPython.core.display.HTML object>"
      ]
     },
     "metadata": {},
     "output_type": "display_data"
    },
    {
     "data": {
      "text/html": [
       "Run data is saved locally in <code>wandb_logs/wandb/run-20250220_155538-1rk5v7zn</code>"
      ],
      "text/plain": [
       "<IPython.core.display.HTML object>"
      ]
     },
     "metadata": {},
     "output_type": "display_data"
    },
    {
     "data": {
      "text/html": [
       "Syncing run <strong><a href='https://wandb.ai/devilhyt/ecg-centralized/runs/1rk5v7zn' target=\"_blank\">earthy-plasma-54</a></strong> to <a href='https://wandb.ai/devilhyt/ecg-centralized' target=\"_blank\">Weights & Biases</a> (<a href='https://wandb.me/developer-guide' target=\"_blank\">docs</a>)<br/>"
      ],
      "text/plain": [
       "<IPython.core.display.HTML object>"
      ]
     },
     "metadata": {},
     "output_type": "display_data"
    },
    {
     "data": {
      "text/html": [
       " View project at <a href='https://wandb.ai/devilhyt/ecg-centralized' target=\"_blank\">https://wandb.ai/devilhyt/ecg-centralized</a>"
      ],
      "text/plain": [
       "<IPython.core.display.HTML object>"
      ]
     },
     "metadata": {},
     "output_type": "display_data"
    },
    {
     "data": {
      "text/html": [
       " View run at <a href='https://wandb.ai/devilhyt/ecg-centralized/runs/1rk5v7zn' target=\"_blank\">https://wandb.ai/devilhyt/ecg-centralized/runs/1rk5v7zn</a>"
      ],
      "text/plain": [
       "<IPython.core.display.HTML object>"
      ]
     },
     "metadata": {},
     "output_type": "display_data"
    },
    {
     "name": "stderr",
     "output_type": "stream",
     "text": [
      "GPU available: True (cuda), used: True\n",
      "TPU available: False, using: 0 TPU cores\n",
      "HPU available: False, using: 0 HPUs\n"
     ]
    }
   ],
   "source": [
    "checkpoint_callback = ModelCheckpoint(\n",
    "    monitor=\"valid_loss\",\n",
    "    verbose=True,\n",
    "    mode=\"min\",\n",
    "    save_top_k=1,\n",
    "    save_last=True,\n",
    ")\n",
    "\n",
    "# early_stopping_callback = EarlyStopping(\n",
    "#     monitor=\"valid_loss\", patience=8, verbose=True, mode=\"min\"\n",
    "# )\n",
    "\n",
    "progress_bar_callback = TQDMProgressBar(leave=True)\n",
    "\n",
    "if wandb_mode == 'disabled':\n",
    "    logger = TensorBoardLogger(save_dir=Path('tb_logs'), name='ecg-centralized')\n",
    "else:\n",
    "    logger = WandbLogger(project='ecg-centralized', save_dir=Path('wandb_logs'), log_model=True)\n",
    "    logger.experiment.name = \"ecg-centralized\"\n",
    "\n",
    "trainer = L.Trainer(\n",
    "    max_epochs=MAX_EPOCHS,\n",
    "    callbacks=[checkpoint_callback, progress_bar_callback],\n",
    "    logger=logger,\n",
    ")"
   ]
  },
  {
   "cell_type": "markdown",
   "metadata": {},
   "source": [
    "## Train the Model"
   ]
  },
  {
   "cell_type": "code",
   "execution_count": 6,
   "metadata": {},
   "outputs": [
    {
     "name": "stderr",
     "output_type": "stream",
     "text": [
      "LOCAL_RANK: 0 - CUDA_VISIBLE_DEVICES: [0]\n",
      "\n",
      "  | Name          | Type                      | Params | Mode  | In sizes     | Out sizes\n",
      "-----------------------------------------------------------------------------------------------\n",
      "0 | model         | DenseNetGruEcg            | 3.5 M  | train | [1, 1, 6000] | [1, 3]   \n",
      "1 | loss_fn       | CrossEntropyLoss          | 0      | train | ?            | ?        \n",
      "2 | train_metrics | MetricCollection          | 0      | train | ?            | ?        \n",
      "3 | valid_metrics | MetricCollection          | 0      | train | ?            | ?        \n",
      "4 | test_metrics  | MetricCollection          | 0      | train | ?            | ?        \n",
      "5 | valid_cm      | MulticlassConfusionMatrix | 0      | train | ?            | ?        \n",
      "6 | test_cm       | MulticlassConfusionMatrix | 0      | train | ?            | ?        \n",
      "-----------------------------------------------------------------------------------------------\n",
      "3.5 M     Trainable params\n",
      "0         Non-trainable params\n",
      "3.5 M     Total params\n",
      "13.842    Total estimated model params size (MB)\n",
      "555       Modules in train mode\n",
      "0         Modules in eval mode\n"
     ]
    },
    {
     "name": "stdout",
     "output_type": "stream",
     "text": [
      "Training: |          | 0/? [00:00<?, ?it/s]                                \n",
      "Epoch 0: 100%|██████████| 91/91 [00:13<00:00,  6.55it/s, v_num=v7zn, lr=0.001, valid_loss=0.956, valid_acc=0.355, valid_f1=0.311, train_loss=1.090, train_acc=0.375, train_f1=0.371]"
     ]
    },
    {
     "name": "stderr",
     "output_type": "stream",
     "text": [
      "Epoch 0, global step 91: 'valid_loss' reached 0.95646 (best 0.95646), saving model to 'wandb_logs/ecg-centralized/1rk5v7zn/checkpoints/epoch=0-step=91.ckpt' as top 1\n"
     ]
    },
    {
     "name": "stdout",
     "output_type": "stream",
     "text": [
      "\n",
      "Valid Confusion Matrix:\n",
      "tensor([[177,   1, 584],\n",
      "        [ 22,  15,  77],\n",
      "        [102,  13, 247]], device='cuda:0')\n",
      "Epoch 1: 100%|██████████| 91/91 [00:13<00:00,  6.57it/s, v_num=v7zn, lr=0.001, valid_loss=0.888, valid_acc=0.627, valid_f1=0.448, train_loss=1.020, train_acc=0.452, train_f1=0.418]\n",
      "Valid Confusion Matrix:\n",
      "tensor([[694,  10,  58],\n",
      "        [ 57,  52,   5],\n",
      "        [268,  64,  30]], device='cuda:0')\n"
     ]
    },
    {
     "name": "stderr",
     "output_type": "stream",
     "text": [
      "Epoch 1, global step 182: 'valid_loss' reached 0.88800 (best 0.88800), saving model to 'wandb_logs/ecg-centralized/1rk5v7zn/checkpoints/epoch=1-step=182.ckpt' as top 1\n"
     ]
    },
    {
     "name": "stdout",
     "output_type": "stream",
     "text": [
      "Epoch 2: 100%|██████████| 91/91 [00:13<00:00,  6.56it/s, v_num=v7zn, lr=0.001, valid_loss=0.718, valid_acc=0.695, valid_f1=0.552, train_loss=0.896, train_acc=0.554, train_f1=0.512]\n",
      "Valid Confusion Matrix:\n",
      "tensor([[723,  10,  29],\n",
      "        [ 34,  61,  19],\n",
      "        [232,  53,  77]], device='cuda:0')\n"
     ]
    },
    {
     "name": "stderr",
     "output_type": "stream",
     "text": [
      "Epoch 2, global step 273: 'valid_loss' reached 0.71754 (best 0.71754), saving model to 'wandb_logs/ecg-centralized/1rk5v7zn/checkpoints/epoch=2-step=273.ckpt' as top 1\n"
     ]
    },
    {
     "name": "stdout",
     "output_type": "stream",
     "text": [
      "Epoch 3: 100%|██████████| 91/91 [00:14<00:00,  6.50it/s, v_num=v7zn, lr=0.001, valid_loss=0.661, valid_acc=0.735, valid_f1=0.618, train_loss=0.765, train_acc=0.644, train_f1=0.620]\n",
      "Valid Confusion Matrix:\n",
      "tensor([[719,   1,  42],\n",
      "        [ 13,  50,  51],\n",
      "        [197,  24, 141]], device='cuda:0')\n"
     ]
    },
    {
     "name": "stderr",
     "output_type": "stream",
     "text": [
      "Epoch 3, global step 364: 'valid_loss' reached 0.66119 (best 0.66119), saving model to 'wandb_logs/ecg-centralized/1rk5v7zn/checkpoints/epoch=3-step=364.ckpt' as top 1\n"
     ]
    },
    {
     "name": "stdout",
     "output_type": "stream",
     "text": [
      "Epoch 4: 100%|██████████| 91/91 [00:13<00:00,  6.54it/s, v_num=v7zn, lr=0.001, valid_loss=0.607, valid_acc=0.776, valid_f1=0.713, train_loss=0.647, train_acc=0.713, train_f1=0.707]\n",
      "Valid Confusion Matrix:\n",
      "tensor([[693,   4,  65],\n",
      "        [ 12,  77,  25],\n",
      "        [141,  30, 191]], device='cuda:0')\n"
     ]
    },
    {
     "name": "stderr",
     "output_type": "stream",
     "text": [
      "Epoch 4, global step 455: 'valid_loss' reached 0.60656 (best 0.60656), saving model to 'wandb_logs/ecg-centralized/1rk5v7zn/checkpoints/epoch=4-step=455.ckpt' as top 1\n"
     ]
    },
    {
     "name": "stdout",
     "output_type": "stream",
     "text": [
      "Epoch 5: 100%|██████████| 91/91 [00:13<00:00,  6.53it/s, v_num=v7zn, lr=0.001, valid_loss=0.616, valid_acc=0.747, valid_f1=0.694, train_loss=0.623, train_acc=0.728, train_f1=0.722]"
     ]
    },
    {
     "name": "stderr",
     "output_type": "stream",
     "text": [
      "Epoch 5, global step 546: 'valid_loss' was not in top 1\n"
     ]
    },
    {
     "name": "stdout",
     "output_type": "stream",
     "text": [
      "\n",
      "Valid Confusion Matrix:\n",
      "tensor([[601,  37, 124],\n",
      "        [  2, 104,   8],\n",
      "        [ 63,  79, 220]], device='cuda:0')\n",
      "Epoch 6: 100%|██████████| 91/91 [00:13<00:00,  6.54it/s, v_num=v7zn, lr=0.001, valid_loss=0.507, valid_acc=0.795, valid_f1=0.743, train_loss=0.557, train_acc=0.775, train_f1=0.772]\n",
      "Valid Confusion Matrix:\n",
      "tensor([[708,   7,  47],\n",
      "        [  5,  92,  17],\n",
      "        [146,  32, 184]], device='cuda:0')\n"
     ]
    },
    {
     "name": "stderr",
     "output_type": "stream",
     "text": [
      "Epoch 6, global step 637: 'valid_loss' reached 0.50699 (best 0.50699), saving model to 'wandb_logs/ecg-centralized/1rk5v7zn/checkpoints/epoch=6-step=637.ckpt' as top 1\n"
     ]
    },
    {
     "name": "stdout",
     "output_type": "stream",
     "text": [
      "Epoch 7: 100%|██████████| 91/91 [00:13<00:00,  6.52it/s, v_num=v7zn, lr=0.001, valid_loss=0.488, valid_acc=0.817, valid_f1=0.768, train_loss=0.551, train_acc=0.784, train_f1=0.781]\n",
      "Valid Confusion Matrix:\n",
      "tensor([[684,  11,  67],\n",
      "        [  3,  98,  13],\n",
      "        [ 86,  46, 230]], device='cuda:0')\n"
     ]
    },
    {
     "name": "stderr",
     "output_type": "stream",
     "text": [
      "Epoch 7, global step 728: 'valid_loss' reached 0.48756 (best 0.48756), saving model to 'wandb_logs/ecg-centralized/1rk5v7zn/checkpoints/epoch=7-step=728.ckpt' as top 1\n"
     ]
    },
    {
     "name": "stdout",
     "output_type": "stream",
     "text": [
      "Epoch 8: 100%|██████████| 91/91 [00:13<00:00,  6.51it/s, v_num=v7zn, lr=0.001, valid_loss=0.473, valid_acc=0.815, valid_f1=0.783, train_loss=0.524, train_acc=0.788, train_f1=0.785]\n",
      "Valid Confusion Matrix:\n",
      "tensor([[719,   5,  38],\n",
      "        [  3,  98,  13],\n",
      "        [152,  18, 192]], device='cuda:0')\n"
     ]
    },
    {
     "name": "stderr",
     "output_type": "stream",
     "text": [
      "Epoch 8, global step 819: 'valid_loss' reached 0.47296 (best 0.47296), saving model to 'wandb_logs/ecg-centralized/1rk5v7zn/checkpoints/epoch=8-step=819.ckpt' as top 1\n"
     ]
    },
    {
     "name": "stdout",
     "output_type": "stream",
     "text": [
      "Epoch 9: 100%|██████████| 91/91 [00:13<00:00,  6.51it/s, v_num=v7zn, lr=0.001, valid_loss=0.499, valid_acc=0.802, valid_f1=0.768, train_loss=0.541, train_acc=0.786, train_f1=0.785]\n",
      "Valid Confusion Matrix:\n",
      "tensor([[623,   6, 133],\n",
      "        [  2,  86,  26],\n",
      "        [ 49,  29, 284]], device='cuda:0')\n"
     ]
    },
    {
     "name": "stderr",
     "output_type": "stream",
     "text": [
      "Epoch 9, global step 910: 'valid_loss' was not in top 1\n"
     ]
    },
    {
     "name": "stdout",
     "output_type": "stream",
     "text": [
      "Epoch 10: 100%|██████████| 91/91 [00:13<00:00,  6.51it/s, v_num=v7zn, lr=0.001, valid_loss=0.559, valid_acc=0.817, valid_f1=0.785, train_loss=0.475, train_acc=0.815, train_f1=0.814]\n",
      "Valid Confusion Matrix:\n",
      "tensor([[634,  14, 114],\n",
      "        [  0, 105,   9],\n",
      "        [ 44,  45, 273]], device='cuda:0')"
     ]
    },
    {
     "name": "stderr",
     "output_type": "stream",
     "text": [
      "Epoch 10, global step 1001: 'valid_loss' was not in top 1\n"
     ]
    },
    {
     "name": "stdout",
     "output_type": "stream",
     "text": [
      "\n",
      "Epoch 11: 100%|██████████| 91/91 [00:13<00:00,  6.50it/s, v_num=v7zn, lr=0.001, valid_loss=0.437, valid_acc=0.843, valid_f1=0.817, train_loss=0.461, train_acc=0.820, train_f1=0.817]"
     ]
    },
    {
     "name": "stderr",
     "output_type": "stream",
     "text": [
      "Epoch 11, global step 1092: 'valid_loss' reached 0.43708 (best 0.43708), saving model to 'wandb_logs/ecg-centralized/1rk5v7zn/checkpoints/epoch=11-step=1092.ckpt' as top 1\n"
     ]
    },
    {
     "name": "stdout",
     "output_type": "stream",
     "text": [
      "\n",
      "Valid Confusion Matrix:\n",
      "tensor([[683,   6,  73],\n",
      "        [  2,  99,  13],\n",
      "        [ 76,  24, 262]], device='cuda:0')\n",
      "Epoch 12: 100%|██████████| 91/91 [00:13<00:00,  6.50it/s, v_num=v7zn, lr=0.001, valid_loss=0.481, valid_acc=0.819, valid_f1=0.786, train_loss=0.431, train_acc=0.832, train_f1=0.833]\n"
     ]
    },
    {
     "name": "stderr",
     "output_type": "stream",
     "text": [
      "Epoch 12, global step 1183: 'valid_loss' was not in top 1\n"
     ]
    },
    {
     "name": "stdout",
     "output_type": "stream",
     "text": [
      "Valid Confusion Matrix:\n",
      "tensor([[653,  17,  92],\n",
      "        [  1, 107,   6],\n",
      "        [ 67,  41, 254]], device='cuda:0')\n",
      "Epoch 13: 100%|██████████| 91/91 [00:14<00:00,  6.43it/s, v_num=v7zn, lr=0.001, valid_loss=0.507, valid_acc=0.808, valid_f1=0.754, train_loss=0.435, train_acc=0.828, train_f1=0.827]\n"
     ]
    },
    {
     "name": "stderr",
     "output_type": "stream",
     "text": [
      "Epoch 13, global step 1274: 'valid_loss' was not in top 1\n"
     ]
    },
    {
     "name": "stdout",
     "output_type": "stream",
     "text": [
      "Valid Confusion Matrix:\n",
      "tensor([[702,  16,  44],\n",
      "        [  2, 107,   5],\n",
      "        [119,  52, 191]], device='cuda:0')\n",
      "Epoch 14: 100%|██████████| 91/91 [00:14<00:00,  6.49it/s, v_num=v7zn, lr=0.001, valid_loss=0.399, valid_acc=0.838, valid_f1=0.804, train_loss=0.437, train_acc=0.825, train_f1=0.822]\n",
      "Valid Confusion Matrix:\n",
      "tensor([[696,   4,  62],\n",
      "        [  2, 102,  10],\n",
      "        [ 89,  34, 239]], device='cuda:0')\n"
     ]
    },
    {
     "name": "stderr",
     "output_type": "stream",
     "text": [
      "Epoch 14, global step 1365: 'valid_loss' reached 0.39878 (best 0.39878), saving model to 'wandb_logs/ecg-centralized/1rk5v7zn/checkpoints/epoch=14-step=1365.ckpt' as top 1\n"
     ]
    },
    {
     "name": "stdout",
     "output_type": "stream",
     "text": [
      "Epoch 15: 100%|██████████| 91/91 [00:14<00:00,  6.49it/s, v_num=v7zn, lr=0.001, valid_loss=0.410, valid_acc=0.842, valid_f1=0.811, train_loss=0.417, train_acc=0.837, train_f1=0.836]\n",
      "Valid Confusion Matrix:\n",
      "tensor([[682,   9,  71],\n",
      "        [  2, 100,  12],\n",
      "        [ 72,  29, 261]], device='cuda:0')\n"
     ]
    },
    {
     "name": "stderr",
     "output_type": "stream",
     "text": [
      "Epoch 15, global step 1456: 'valid_loss' was not in top 1\n"
     ]
    },
    {
     "name": "stdout",
     "output_type": "stream",
     "text": [
      "Epoch 16: 100%|██████████| 91/91 [00:14<00:00,  6.49it/s, v_num=v7zn, lr=0.001, valid_loss=0.540, valid_acc=0.790, valid_f1=0.756, train_loss=0.414, train_acc=0.833, train_f1=0.831]"
     ]
    },
    {
     "name": "stderr",
     "output_type": "stream",
     "text": [
      "Epoch 16, global step 1547: 'valid_loss' was not in top 1\n"
     ]
    },
    {
     "name": "stdout",
     "output_type": "stream",
     "text": [
      "\n",
      "Valid Confusion Matrix:\n",
      "tensor([[605,  24, 133],\n",
      "        [  1, 105,   8],\n",
      "        [ 44,  50, 268]], device='cuda:0')\n",
      "Epoch 17: 100%|██████████| 91/91 [00:14<00:00,  6.48it/s, v_num=v7zn, lr=0.001, valid_loss=0.441, valid_acc=0.837, valid_f1=0.790, train_loss=0.419, train_acc=0.839, train_f1=0.837]\n"
     ]
    },
    {
     "name": "stderr",
     "output_type": "stream",
     "text": [
      "Epoch 17, global step 1638: 'valid_loss' was not in top 1\n"
     ]
    },
    {
     "name": "stdout",
     "output_type": "stream",
     "text": [
      "Valid Confusion Matrix:\n",
      "tensor([[699,  16,  47],\n",
      "        [  2, 101,  11],\n",
      "        [ 87,  39, 236]], device='cuda:0')\n",
      "Epoch 18: 100%|██████████| 91/91 [00:14<00:00,  6.49it/s, v_num=v7zn, lr=0.001, valid_loss=0.444, valid_acc=0.831, valid_f1=0.797, train_loss=0.419, train_acc=0.831, train_f1=0.829]\n",
      "Valid Confusion Matrix:\n",
      "tensor([[658,  19,  85],\n",
      "        [  1, 104,   9],\n",
      "        [ 59,  36, 267]], device='cuda:0')\n"
     ]
    },
    {
     "name": "stderr",
     "output_type": "stream",
     "text": [
      "Epoch 18, global step 1729: 'valid_loss' was not in top 1\n"
     ]
    },
    {
     "name": "stdout",
     "output_type": "stream",
     "text": [
      "Epoch 19: 100%|██████████| 91/91 [00:14<00:00,  6.48it/s, v_num=v7zn, lr=0.001, valid_loss=0.392, valid_acc=0.859, valid_f1=0.826, train_loss=0.392, train_acc=0.849, train_f1=0.847]"
     ]
    },
    {
     "name": "stderr",
     "output_type": "stream",
     "text": [
      "Epoch 19, global step 1820: 'valid_loss' reached 0.39230 (best 0.39230), saving model to 'wandb_logs/ecg-centralized/1rk5v7zn/checkpoints/epoch=19-step=1820.ckpt' as top 1\n"
     ]
    },
    {
     "name": "stdout",
     "output_type": "stream",
     "text": [
      "\n",
      "Valid Confusion Matrix:\n",
      "tensor([[699,   9,  54],\n",
      "        [  1, 105,   8],\n",
      "        [ 71,  32, 259]], device='cuda:0')\n",
      "Epoch 20: 100%|██████████| 91/91 [00:14<00:00,  6.48it/s, v_num=v7zn, lr=0.001, valid_loss=0.443, valid_acc=0.827, valid_f1=0.791, train_loss=0.394, train_acc=0.845, train_f1=0.843]"
     ]
    },
    {
     "name": "stderr",
     "output_type": "stream",
     "text": [
      "Epoch 20, global step 1911: 'valid_loss' was not in top 1\n"
     ]
    },
    {
     "name": "stdout",
     "output_type": "stream",
     "text": [
      "\n",
      "Valid Confusion Matrix:\n",
      "tensor([[669,  14,  79],\n",
      "        [  1, 105,   8],\n",
      "        [ 72,  40, 250]], device='cuda:0')\n",
      "Epoch 21: 100%|██████████| 91/91 [00:14<00:00,  6.48it/s, v_num=v7zn, lr=0.001, valid_loss=0.447, valid_acc=0.830, valid_f1=0.802, train_loss=0.399, train_acc=0.851, train_f1=0.850]"
     ]
    },
    {
     "name": "stderr",
     "output_type": "stream",
     "text": [
      "Epoch 21, global step 2002: 'valid_loss' was not in top 1\n"
     ]
    },
    {
     "name": "stdout",
     "output_type": "stream",
     "text": [
      "\n",
      "Valid Confusion Matrix:\n",
      "tensor([[645,  16, 101],\n",
      "        [  1, 107,   6],\n",
      "        [ 50,  37, 275]], device='cuda:0')\n",
      "Epoch 22: 100%|██████████| 91/91 [00:14<00:00,  6.49it/s, v_num=v7zn, lr=0.001, valid_loss=0.442, valid_acc=0.821, valid_f1=0.800, train_loss=0.371, train_acc=0.863, train_f1=0.861]\n",
      "Valid Confusion Matrix:\n",
      "tensor([[633,   8, 121],\n",
      "        [  1,  90,  23],\n",
      "        [ 54,  15, 293]], device='cuda:0')\n"
     ]
    },
    {
     "name": "stderr",
     "output_type": "stream",
     "text": [
      "Epoch 22, global step 2093: 'valid_loss' was not in top 1\n"
     ]
    },
    {
     "name": "stdout",
     "output_type": "stream",
     "text": [
      "Epoch 23: 100%|██████████| 91/91 [00:14<00:00,  6.49it/s, v_num=v7zn, lr=0.001, valid_loss=0.415, valid_acc=0.850, valid_f1=0.834, train_loss=0.391, train_acc=0.848, train_f1=0.847]\n",
      "Valid Confusion Matrix:\n",
      "tensor([[668,  10,  84],\n",
      "        [  1, 104,   9],\n",
      "        [ 64,  18, 280]], device='cuda:0')\n"
     ]
    },
    {
     "name": "stderr",
     "output_type": "stream",
     "text": [
      "Epoch 23, global step 2184: 'valid_loss' was not in top 1\n"
     ]
    },
    {
     "name": "stdout",
     "output_type": "stream",
     "text": [
      "Epoch 24: 100%|██████████| 91/91 [00:14<00:00,  6.49it/s, v_num=v7zn, lr=0.001, valid_loss=0.433, valid_acc=0.834, valid_f1=0.803, train_loss=0.388, train_acc=0.852, train_f1=0.852]\n",
      "Valid Confusion Matrix:\n",
      "tensor([[663,  12,  87],\n",
      "        [  3, 107,   4],\n",
      "        [ 61,  39, 262]], device='cuda:0')\n"
     ]
    },
    {
     "name": "stderr",
     "output_type": "stream",
     "text": [
      "Epoch 24, global step 2275: 'valid_loss' was not in top 1\n"
     ]
    },
    {
     "name": "stdout",
     "output_type": "stream",
     "text": [
      "Epoch 25: 100%|██████████| 91/91 [00:14<00:00,  6.48it/s, v_num=v7zn, lr=0.0005, valid_loss=0.383, valid_acc=0.855, valid_f1=0.826, train_loss=0.359, train_acc=0.866, train_f1=0.865]\n",
      "Valid Confusion Matrix:\n",
      "tensor([[690,  10,  62],\n",
      "        [  2, 102,  10],\n",
      "        [ 69,  26, 267]], device='cuda:0')\n"
     ]
    },
    {
     "name": "stderr",
     "output_type": "stream",
     "text": [
      "Epoch 25, global step 2366: 'valid_loss' reached 0.38345 (best 0.38345), saving model to 'wandb_logs/ecg-centralized/1rk5v7zn/checkpoints/epoch=25-step=2366.ckpt' as top 1\n"
     ]
    },
    {
     "name": "stdout",
     "output_type": "stream",
     "text": [
      "Epoch 26: 100%|██████████| 91/91 [00:14<00:00,  6.43it/s, v_num=v7zn, lr=0.0005, valid_loss=0.375, valid_acc=0.873, valid_f1=0.846, train_loss=0.324, train_acc=0.881, train_f1=0.880]"
     ]
    },
    {
     "name": "stderr",
     "output_type": "stream",
     "text": [
      "Epoch 26, global step 2457: 'valid_loss' reached 0.37519 (best 0.37519), saving model to 'wandb_logs/ecg-centralized/1rk5v7zn/checkpoints/epoch=26-step=2457.ckpt' as top 1\n"
     ]
    },
    {
     "name": "stdout",
     "output_type": "stream",
     "text": [
      "\n",
      "Valid Confusion Matrix:\n",
      "tensor([[701,   8,  53],\n",
      "        [  2,  98,  14],\n",
      "        [ 63,  17, 282]], device='cuda:0')\n",
      "Epoch 27: 100%|██████████| 91/91 [00:14<00:00,  6.48it/s, v_num=v7zn, lr=0.0005, valid_loss=0.404, valid_acc=0.863, valid_f1=0.834, train_loss=0.313, train_acc=0.882, train_f1=0.881]"
     ]
    },
    {
     "name": "stderr",
     "output_type": "stream",
     "text": [
      "Epoch 27, global step 2548: 'valid_loss' was not in top 1\n"
     ]
    },
    {
     "name": "stdout",
     "output_type": "stream",
     "text": [
      "\n",
      "Valid Confusion Matrix:\n",
      "tensor([[693,   8,  61],\n",
      "        [  2, 103,   9],\n",
      "        [ 61,  28, 273]], device='cuda:0')\n",
      "Epoch 28: 100%|██████████| 91/91 [00:14<00:00,  6.48it/s, v_num=v7zn, lr=0.0005, valid_loss=0.498, valid_acc=0.808, valid_f1=0.794, train_loss=0.326, train_acc=0.877, train_f1=0.876]"
     ]
    },
    {
     "name": "stderr",
     "output_type": "stream",
     "text": [
      "Epoch 28, global step 2639: 'valid_loss' was not in top 1\n"
     ]
    },
    {
     "name": "stdout",
     "output_type": "stream",
     "text": [
      "\n",
      "Valid Confusion Matrix:\n",
      "tensor([[603,  13, 146],\n",
      "        [  1, 108,   5],\n",
      "        [ 39,  34, 289]], device='cuda:0')\n",
      "Epoch 29: 100%|██████████| 91/91 [00:14<00:00,  6.48it/s, v_num=v7zn, lr=0.0005, valid_loss=0.392, valid_acc=0.853, valid_f1=0.837, train_loss=0.320, train_acc=0.882, train_f1=0.882]\n",
      "Valid Confusion Matrix:\n",
      "tensor([[660,   7,  95],\n",
      "        [  0, 103,  11],\n",
      "        [ 49,  20, 293]], device='cuda:0')\n"
     ]
    },
    {
     "name": "stderr",
     "output_type": "stream",
     "text": [
      "Epoch 29, global step 2730: 'valid_loss' was not in top 1\n"
     ]
    },
    {
     "name": "stdout",
     "output_type": "stream",
     "text": [
      "Epoch 30: 100%|██████████| 91/91 [00:14<00:00,  6.48it/s, v_num=v7zn, lr=0.0005, valid_loss=0.409, valid_acc=0.868, valid_f1=0.849, train_loss=0.308, train_acc=0.877, train_f1=0.875]\n",
      "Valid Confusion Matrix:\n",
      "tensor([[686,   7,  69],\n",
      "        [  2, 105,   7],\n",
      "        [ 57,  21, 284]], device='cuda:0')\n"
     ]
    },
    {
     "name": "stderr",
     "output_type": "stream",
     "text": [
      "Epoch 30, global step 2821: 'valid_loss' was not in top 1\n"
     ]
    },
    {
     "name": "stdout",
     "output_type": "stream",
     "text": [
      "Epoch 31: 100%|██████████| 91/91 [00:14<00:00,  6.48it/s, v_num=v7zn, lr=0.0005, valid_loss=0.431, valid_acc=0.846, valid_f1=0.824, train_loss=0.294, train_acc=0.892, train_f1=0.890]\n",
      "Valid Confusion Matrix:\n",
      "tensor([[654,   9,  99],\n",
      "        [  1, 102,  11],\n",
      "        [ 46,  25, 291]], device='cuda:0')\n"
     ]
    },
    {
     "name": "stderr",
     "output_type": "stream",
     "text": [
      "Epoch 31, global step 2912: 'valid_loss' was not in top 1\n"
     ]
    },
    {
     "name": "stdout",
     "output_type": "stream",
     "text": [
      "Epoch 32: 100%|██████████| 91/91 [00:14<00:00,  6.48it/s, v_num=v7zn, lr=0.0005, valid_loss=0.436, valid_acc=0.838, valid_f1=0.816, train_loss=0.313, train_acc=0.880, train_f1=0.879]\n",
      "Valid Confusion Matrix:\n",
      "tensor([[662,   7,  93],\n",
      "        [  2, 104,   8],\n",
      "        [ 61,  29, 272]], device='cuda:0')\n"
     ]
    },
    {
     "name": "stderr",
     "output_type": "stream",
     "text": [
      "Epoch 32, global step 3003: 'valid_loss' was not in top 1\n"
     ]
    },
    {
     "name": "stdout",
     "output_type": "stream",
     "text": [
      "Epoch 33: 100%|██████████| 91/91 [00:14<00:00,  6.48it/s, v_num=v7zn, lr=0.0005, valid_loss=0.405, valid_acc=0.856, valid_f1=0.827, train_loss=0.325, train_acc=0.879, train_f1=0.878]"
     ]
    },
    {
     "name": "stderr",
     "output_type": "stream",
     "text": [
      "Epoch 33, global step 3094: 'valid_loss' was not in top 1\n"
     ]
    },
    {
     "name": "stdout",
     "output_type": "stream",
     "text": [
      "\n",
      "Valid Confusion Matrix:\n",
      "tensor([[679,  11,  72],\n",
      "        [  2, 107,   5],\n",
      "        [ 54,  34, 274]], device='cuda:0')\n",
      "Epoch 34: 100%|██████████| 91/91 [00:14<00:00,  6.47it/s, v_num=v7zn, lr=0.0005, valid_loss=0.403, valid_acc=0.843, valid_f1=0.825, train_loss=0.295, train_acc=0.889, train_f1=0.888]\n"
     ]
    },
    {
     "name": "stderr",
     "output_type": "stream",
     "text": [
      "Epoch 34, global step 3185: 'valid_loss' was not in top 1\n"
     ]
    },
    {
     "name": "stdout",
     "output_type": "stream",
     "text": [
      "Valid Confusion Matrix:\n",
      "tensor([[650,   9, 103],\n",
      "        [  0, 104,  10],\n",
      "        [ 47,  25, 290]], device='cuda:0')\n",
      "Epoch 35: 100%|██████████| 91/91 [00:14<00:00,  6.48it/s, v_num=v7zn, lr=0.0005, valid_loss=0.442, valid_acc=0.838, valid_f1=0.810, train_loss=0.281, train_acc=0.892, train_f1=0.891]\n",
      "Valid Confusion Matrix:\n",
      "tensor([[656,  14,  92],\n",
      "        [  1, 102,  11],\n",
      "        [ 55,  28, 279]], device='cuda:0')\n"
     ]
    },
    {
     "name": "stderr",
     "output_type": "stream",
     "text": [
      "Epoch 35, global step 3276: 'valid_loss' was not in top 1\n"
     ]
    },
    {
     "name": "stdout",
     "output_type": "stream",
     "text": [
      "Epoch 36: 100%|██████████| 91/91 [00:14<00:00,  6.46it/s, v_num=v7zn, lr=0.0005, valid_loss=0.421, valid_acc=0.862, valid_f1=0.832, train_loss=0.288, train_acc=0.889, train_f1=0.889]\n"
     ]
    },
    {
     "name": "stderr",
     "output_type": "stream",
     "text": [
      "Epoch 36, global step 3367: 'valid_loss' was not in top 1\n"
     ]
    },
    {
     "name": "stdout",
     "output_type": "stream",
     "text": [
      "Valid Confusion Matrix:\n",
      "tensor([[691,   8,  63],\n",
      "        [  1,  99,  14],\n",
      "        [ 62,  23, 277]], device='cuda:0')\n",
      "Epoch 37: 100%|██████████| 91/91 [00:14<00:00,  6.47it/s, v_num=v7zn, lr=0.00025, valid_loss=0.406, valid_acc=0.847, valid_f1=0.827, train_loss=0.281, train_acc=0.896, train_f1=0.896]\n",
      "Valid Confusion Matrix:\n",
      "tensor([[657,  10,  95],\n",
      "        [  0, 106,   8],\n",
      "        [ 49,  27, 286]], device='cuda:0')\n"
     ]
    },
    {
     "name": "stderr",
     "output_type": "stream",
     "text": [
      "Epoch 37, global step 3458: 'valid_loss' was not in top 1\n"
     ]
    },
    {
     "name": "stdout",
     "output_type": "stream",
     "text": [
      "Epoch 38: 100%|██████████| 91/91 [00:14<00:00,  6.42it/s, v_num=v7zn, lr=0.00025, valid_loss=0.431, valid_acc=0.833, valid_f1=0.816, train_loss=0.258, train_acc=0.904, train_f1=0.903]\n",
      "Valid Confusion Matrix:\n",
      "tensor([[638,   8, 116],\n",
      "        [  0, 101,  13],\n",
      "        [ 47,  23, 292]], device='cuda:0')"
     ]
    },
    {
     "name": "stderr",
     "output_type": "stream",
     "text": [
      "Epoch 38, global step 3549: 'valid_loss' was not in top 1\n"
     ]
    },
    {
     "name": "stdout",
     "output_type": "stream",
     "text": [
      "\n",
      "Epoch 39: 100%|██████████| 91/91 [00:14<00:00,  6.47it/s, v_num=v7zn, lr=0.00025, valid_loss=0.444, valid_acc=0.833, valid_f1=0.815, train_loss=0.285, train_acc=0.889, train_f1=0.890]"
     ]
    },
    {
     "name": "stderr",
     "output_type": "stream",
     "text": [
      "Epoch 39, global step 3640: 'valid_loss' was not in top 1\n"
     ]
    },
    {
     "name": "stdout",
     "output_type": "stream",
     "text": [
      "\n",
      "Valid Confusion Matrix:\n",
      "tensor([[632,  10, 120],\n",
      "        [  0, 104,  10],\n",
      "        [ 39,  28, 295]], device='cuda:0')\n",
      "Epoch 40: 100%|██████████| 91/91 [00:14<00:00,  6.46it/s, v_num=v7zn, lr=0.00025, valid_loss=0.418, valid_acc=0.850, valid_f1=0.836, train_loss=0.260, train_acc=0.905, train_f1=0.905]\n",
      "Valid Confusion Matrix:\n",
      "tensor([[650,   7, 105],\n",
      "        [  0, 101,  13],\n",
      "        [ 44,  17, 301]], device='cuda:0')\n"
     ]
    },
    {
     "name": "stderr",
     "output_type": "stream",
     "text": [
      "Epoch 40, global step 3731: 'valid_loss' was not in top 1\n"
     ]
    },
    {
     "name": "stdout",
     "output_type": "stream",
     "text": [
      "Epoch 41: 100%|██████████| 91/91 [00:14<00:00,  6.47it/s, v_num=v7zn, lr=0.00025, valid_loss=0.418, valid_acc=0.837, valid_f1=0.821, train_loss=0.269, train_acc=0.899, train_f1=0.900]\n",
      "Valid Confusion Matrix:\n",
      "tensor([[642,   8, 112],\n",
      "        [  0, 102,  12],\n",
      "        [ 48,  22, 292]], device='cuda:0')\n"
     ]
    },
    {
     "name": "stderr",
     "output_type": "stream",
     "text": [
      "Epoch 41, global step 3822: 'valid_loss' was not in top 1\n"
     ]
    },
    {
     "name": "stdout",
     "output_type": "stream",
     "text": [
      "Epoch 42: 100%|██████████| 91/91 [00:14<00:00,  6.47it/s, v_num=v7zn, lr=0.00025, valid_loss=0.417, valid_acc=0.849, valid_f1=0.836, train_loss=0.268, train_acc=0.900, train_f1=0.900]\n"
     ]
    },
    {
     "name": "stderr",
     "output_type": "stream",
     "text": [
      "Epoch 42, global step 3913: 'valid_loss' was not in top 1\n"
     ]
    },
    {
     "name": "stdout",
     "output_type": "stream",
     "text": [
      "Valid Confusion Matrix:\n",
      "tensor([[655,   6, 101],\n",
      "        [  1, 101,  12],\n",
      "        [ 50,  17, 295]], device='cuda:0')\n",
      "Epoch 43: 100%|██████████| 91/91 [00:14<00:00,  6.47it/s, v_num=v7zn, lr=0.00025, valid_loss=0.422, valid_acc=0.851, valid_f1=0.833, train_loss=0.250, train_acc=0.907, train_f1=0.906]"
     ]
    },
    {
     "name": "stderr",
     "output_type": "stream",
     "text": [
      "Epoch 43, global step 4004: 'valid_loss' was not in top 1\n"
     ]
    },
    {
     "name": "stdout",
     "output_type": "stream",
     "text": [
      "\n",
      "Valid Confusion Matrix:\n",
      "tensor([[656,   7,  99],\n",
      "        [  1, 105,   8],\n",
      "        [ 43,  26, 293]], device='cuda:0')\n",
      "Epoch 44: 100%|██████████| 91/91 [00:14<00:00,  6.46it/s, v_num=v7zn, lr=0.00025, valid_loss=0.412, valid_acc=0.851, valid_f1=0.826, train_loss=0.251, train_acc=0.904, train_f1=0.903]"
     ]
    },
    {
     "name": "stderr",
     "output_type": "stream",
     "text": [
      "Epoch 44, global step 4095: 'valid_loss' was not in top 1\n"
     ]
    },
    {
     "name": "stdout",
     "output_type": "stream",
     "text": [
      "\n",
      "Valid Confusion Matrix:\n",
      "tensor([[666,   9,  87],\n",
      "        [  1, 101,  12],\n",
      "        [ 51,  25, 286]], device='cuda:0')\n",
      "Epoch 45: 100%|██████████| 91/91 [00:14<00:00,  6.46it/s, v_num=v7zn, lr=0.00025, valid_loss=0.420, valid_acc=0.848, valid_f1=0.830, train_loss=0.243, train_acc=0.909, train_f1=0.908]"
     ]
    },
    {
     "name": "stderr",
     "output_type": "stream",
     "text": [
      "Epoch 45, global step 4186: 'valid_loss' was not in top 1\n"
     ]
    },
    {
     "name": "stdout",
     "output_type": "stream",
     "text": [
      "\n",
      "Valid Confusion Matrix:\n",
      "tensor([[655,   8,  99],\n",
      "        [  1, 102,  11],\n",
      "        [ 47,  22, 293]], device='cuda:0')\n",
      "Epoch 46: 100%|██████████| 91/91 [00:14<00:00,  6.46it/s, v_num=v7zn, lr=0.00025, valid_loss=0.449, valid_acc=0.840, valid_f1=0.829, train_loss=0.239, train_acc=0.910, train_f1=0.909]\n"
     ]
    },
    {
     "name": "stderr",
     "output_type": "stream",
     "text": [
      "Epoch 46, global step 4277: 'valid_loss' was not in top 1\n"
     ]
    },
    {
     "name": "stdout",
     "output_type": "stream",
     "text": [
      "Valid Confusion Matrix:\n",
      "tensor([[634,   8, 120],\n",
      "        [  1, 105,   8],\n",
      "        [ 39,  22, 301]], device='cuda:0')\n",
      "Epoch 47: 100%|██████████| 91/91 [00:14<00:00,  6.47it/s, v_num=v7zn, lr=0.00025, valid_loss=0.446, valid_acc=0.849, valid_f1=0.827, train_loss=0.248, train_acc=0.909, train_f1=0.909]\n",
      "Valid Confusion Matrix:\n",
      "tensor([[661,   8,  93],\n",
      "        [  1, 104,   9],\n",
      "        [ 49,  27, 286]], device='cuda:0')\n"
     ]
    },
    {
     "name": "stderr",
     "output_type": "stream",
     "text": [
      "Epoch 47, global step 4368: 'valid_loss' was not in top 1\n"
     ]
    },
    {
     "name": "stdout",
     "output_type": "stream",
     "text": [
      "Epoch 48: 100%|██████████| 91/91 [00:14<00:00,  6.47it/s, v_num=v7zn, lr=0.00025, valid_loss=0.438, valid_acc=0.850, valid_f1=0.831, train_loss=0.238, train_acc=0.907, train_f1=0.907]\n",
      "Valid Confusion Matrix:\n",
      "tensor([[651,   8, 103],\n",
      "        [  0, 101,  13],\n",
      "        [ 40,  22, 300]], device='cuda:0')\n"
     ]
    },
    {
     "name": "stderr",
     "output_type": "stream",
     "text": [
      "Epoch 48, global step 4459: 'valid_loss' was not in top 1\n"
     ]
    },
    {
     "name": "stdout",
     "output_type": "stream",
     "text": [
      "Epoch 49: 100%|██████████| 91/91 [00:14<00:00,  6.46it/s, v_num=v7zn, lr=0.00025, valid_loss=0.429, valid_acc=0.857, valid_f1=0.832, train_loss=0.233, train_acc=0.909, train_f1=0.909]\n"
     ]
    },
    {
     "name": "stderr",
     "output_type": "stream",
     "text": [
      "Epoch 49, global step 4550: 'valid_loss' was not in top 1\n"
     ]
    },
    {
     "name": "stdout",
     "output_type": "stream",
     "text": [
      "Valid Confusion Matrix:\n",
      "tensor([[672,   9,  81],\n",
      "        [  0, 101,  13],\n",
      "        [ 51,  23, 288]], device='cuda:0')\n"
     ]
    },
    {
     "name": "stderr",
     "output_type": "stream",
     "text": [
      "`Trainer.fit` stopped: `max_epochs=50` reached.\n"
     ]
    }
   ],
   "source": [
    "trainer.fit(model, datamodule=dm)"
   ]
  },
  {
   "cell_type": "markdown",
   "metadata": {},
   "source": [
    "## Evaluate the Model on the Test Set"
   ]
  },
  {
   "cell_type": "code",
   "execution_count": 7,
   "metadata": {},
   "outputs": [
    {
     "name": "stderr",
     "output_type": "stream",
     "text": [
      "LOCAL_RANK: 0 - CUDA_VISIBLE_DEVICES: [0]\n"
     ]
    },
    {
     "name": "stdout",
     "output_type": "stream",
     "text": [
      "Testing DataLoader 0: 100%|██████████| 20/20 [00:00<00:00, 24.02it/s]\n"
     ]
    },
    {
     "data": {
      "text/html": [
       "<pre style=\"white-space:pre;overflow-x:auto;line-height:normal;font-family:Menlo,'DejaVu Sans Mono',consolas,'Courier New',monospace\">┏━━━━━━━━━━━━━━━━━━━━━━━━━━━┳━━━━━━━━━━━━━━━━━━━━━━━━━━━┓\n",
       "┃<span style=\"font-weight: bold\">        Test metric        </span>┃<span style=\"font-weight: bold\">       DataLoader 0        </span>┃\n",
       "┡━━━━━━━━━━━━━━━━━━━━━━━━━━━╇━━━━━━━━━━━━━━━━━━━━━━━━━━━┩\n",
       "│<span style=\"color: #008080; text-decoration-color: #008080\">         test_acc          </span>│<span style=\"color: #800080; text-decoration-color: #800080\">    0.8368335962295532     </span>│\n",
       "│<span style=\"color: #008080; text-decoration-color: #008080\">          test_f1          </span>│<span style=\"color: #800080; text-decoration-color: #800080\">    0.8073988556861877     </span>│\n",
       "│<span style=\"color: #008080; text-decoration-color: #008080\">         test_loss         </span>│<span style=\"color: #800080; text-decoration-color: #800080\">    0.4861915111541748     </span>│\n",
       "└───────────────────────────┴───────────────────────────┘\n",
       "</pre>\n"
      ],
      "text/plain": [
       "┏━━━━━━━━━━━━━━━━━━━━━━━━━━━┳━━━━━━━━━━━━━━━━━━━━━━━━━━━┓\n",
       "┃\u001b[1m \u001b[0m\u001b[1m       Test metric       \u001b[0m\u001b[1m \u001b[0m┃\u001b[1m \u001b[0m\u001b[1m      DataLoader 0       \u001b[0m\u001b[1m \u001b[0m┃\n",
       "┡━━━━━━━━━━━━━━━━━━━━━━━━━━━╇━━━━━━━━━━━━━━━━━━━━━━━━━━━┩\n",
       "│\u001b[36m \u001b[0m\u001b[36m        test_acc         \u001b[0m\u001b[36m \u001b[0m│\u001b[35m \u001b[0m\u001b[35m   0.8368335962295532    \u001b[0m\u001b[35m \u001b[0m│\n",
       "│\u001b[36m \u001b[0m\u001b[36m         test_f1         \u001b[0m\u001b[36m \u001b[0m│\u001b[35m \u001b[0m\u001b[35m   0.8073988556861877    \u001b[0m\u001b[35m \u001b[0m│\n",
       "│\u001b[36m \u001b[0m\u001b[36m        test_loss        \u001b[0m\u001b[36m \u001b[0m│\u001b[35m \u001b[0m\u001b[35m   0.4861915111541748    \u001b[0m\u001b[35m \u001b[0m│\n",
       "└───────────────────────────┴───────────────────────────┘\n"
      ]
     },
     "metadata": {},
     "output_type": "display_data"
    },
    {
     "name": "stdout",
     "output_type": "stream",
     "text": [
      "              precision    recall  f1-score   support\n",
      "\n",
      "           N       0.91      0.87      0.89       762\n",
      "           A       0.75      0.82      0.79       114\n",
      "           O       0.72      0.77      0.74       362\n",
      "\n",
      "    accuracy                           0.84      1238\n",
      "   macro avg       0.80      0.82      0.81      1238\n",
      "weighted avg       0.84      0.84      0.84      1238\n",
      "\n"
     ]
    },
    {
     "data": {
      "image/png": "[encoded data removed]",
      "text/plain": [
       "<Figure size 640x480 with 1 Axes>"
      ]
     },
     "metadata": {},
     "output_type": "display_data"
    }
   ],
   "source": [
    "model = DenseNetGruEcgModule.load_from_checkpoint(checkpoint_callback.last_model_path)\n",
    "_ = trainer.test(model, dataloaders=dm)\n",
    "\n",
    "# classification report\n",
    "print(classification_report(model.test_y_true_log, model.test_y_hat_log, target_names=dm.test_set.classes))\n",
    "\n",
    "# confusion matrix\n",
    "fig, ax = model.test_cm.plot(\n",
    "    model.test_cm_log, cmap=\"Blues\", labels=dm.test_set.classes\n",
    ")\n",
    "plt.show()\n",
    "\n",
    "if wandb_mode != 'disabled':\n",
    "    wandb.log({\"test_cm\": fig})\n",
    "    "
   ]
  },
  {
   "cell_type": "code",
   "execution_count": 8,
   "metadata": {},
   "outputs": [
    {
     "name": "stderr",
     "output_type": "stream",
     "text": [
      "LOCAL_RANK: 0 - CUDA_VISIBLE_DEVICES: [0]\n"
     ]
    },
    {
     "name": "stdout",
     "output_type": "stream",
     "text": [
      "Testing DataLoader 0: 100%|██████████| 20/20 [00:00<00:00, 24.39it/s]\n"
     ]
    },
    {
     "data": {
      "text/html": [
       "<pre style=\"white-space:pre;overflow-x:auto;line-height:normal;font-family:Menlo,'DejaVu Sans Mono',consolas,'Courier New',monospace\">┏━━━━━━━━━━━━━━━━━━━━━━━━━━━┳━━━━━━━━━━━━━━━━━━━━━━━━━━━┓\n",
       "┃<span style=\"font-weight: bold\">        Test metric        </span>┃<span style=\"font-weight: bold\">       DataLoader 0        </span>┃\n",
       "┡━━━━━━━━━━━━━━━━━━━━━━━━━━━╇━━━━━━━━━━━━━━━━━━━━━━━━━━━┩\n",
       "│<span style=\"color: #008080; text-decoration-color: #008080\">         test_acc          </span>│<span style=\"color: #800080; text-decoration-color: #800080\">    0.8319870829582214     </span>│\n",
       "│<span style=\"color: #008080; text-decoration-color: #008080\">          test_f1          </span>│<span style=\"color: #800080; text-decoration-color: #800080\">    0.7969775199890137     </span>│\n",
       "│<span style=\"color: #008080; text-decoration-color: #008080\">         test_loss         </span>│<span style=\"color: #800080; text-decoration-color: #800080\">     0.431570827960968     </span>│\n",
       "└───────────────────────────┴───────────────────────────┘\n",
       "</pre>\n"
      ],
      "text/plain": [
       "┏━━━━━━━━━━━━━━━━━━━━━━━━━━━┳━━━━━━━━━━━━━━━━━━━━━━━━━━━┓\n",
       "┃\u001b[1m \u001b[0m\u001b[1m       Test metric       \u001b[0m\u001b[1m \u001b[0m┃\u001b[1m \u001b[0m\u001b[1m      DataLoader 0       \u001b[0m\u001b[1m \u001b[0m┃\n",
       "┡━━━━━━━━━━━━━━━━━━━━━━━━━━━╇━━━━━━━━━━━━━━━━━━━━━━━━━━━┩\n",
       "│\u001b[36m \u001b[0m\u001b[36m        test_acc         \u001b[0m\u001b[36m \u001b[0m│\u001b[35m \u001b[0m\u001b[35m   0.8319870829582214    \u001b[0m\u001b[35m \u001b[0m│\n",
       "│\u001b[36m \u001b[0m\u001b[36m         test_f1         \u001b[0m\u001b[36m \u001b[0m│\u001b[35m \u001b[0m\u001b[35m   0.7969775199890137    \u001b[0m\u001b[35m \u001b[0m│\n",
       "│\u001b[36m \u001b[0m\u001b[36m        test_loss        \u001b[0m\u001b[36m \u001b[0m│\u001b[35m \u001b[0m\u001b[35m    0.431570827960968    \u001b[0m\u001b[35m \u001b[0m│\n",
       "└───────────────────────────┴───────────────────────────┘\n"
      ]
     },
     "metadata": {},
     "output_type": "display_data"
    },
    {
     "name": "stdout",
     "output_type": "stream",
     "text": [
      "              precision    recall  f1-score   support\n",
      "\n",
      "           N       0.90      0.89      0.89       762\n",
      "           A       0.77      0.77      0.77       114\n",
      "           O       0.72      0.73      0.73       362\n",
      "\n",
      "    accuracy                           0.83      1238\n",
      "   macro avg       0.80      0.80      0.80      1238\n",
      "weighted avg       0.83      0.83      0.83      1238\n",
      "\n"
     ]
    },
    {
     "data": {
      "image/png": "[encoded data removed]",
      "text/plain": [
       "<Figure size 640x480 with 1 Axes>"
      ]
     },
     "metadata": {},
     "output_type": "display_data"
    }
   ],
   "source": [
    "model = DenseNetGruEcgModule.load_from_checkpoint(checkpoint_callback.best_model_path)\n",
    "_ = trainer.test(model, dataloaders=dm)\n",
    "\n",
    "# classification report\n",
    "print(classification_report(model.test_y_true_log, model.test_y_hat_log, target_names=dm.test_set.classes))\n",
    "\n",
    "# confusion matrix\n",
    "fig, ax = model.test_cm.plot(\n",
    "    model.test_cm_log, cmap=\"Blues\", labels=dm.test_set.classes\n",
    ")\n",
    "plt.show()\n",
    "\n",
    "if wandb_mode != 'disabled':\n",
    "    wandb.log({\"test_cm\": fig})"
   ]
  },
  {
   "cell_type": "code",
   "execution_count": 9,
   "metadata": {},
   "outputs": [
    {
     "data": {
      "text/html": [
       "\n",
       "    <style>\n",
       "        .wandb-row {\n",
       "            display: flex;\n",
       "            flex-direction: row;\n",
       "            flex-wrap: wrap;\n",
       "            justify-content: flex-start;\n",
       "            width: 100%;\n",
       "        }\n",
       "        .wandb-col {\n",
       "            display: flex;\n",
       "            flex-direction: column;\n",
       "            flex-basis: 100%;\n",
       "            flex: 1;\n",
       "            padding: 10px;\n",
       "        }\n",
       "    </style>\n",
       "<div class=\"wandb-row\"><div class=\"wandb-col\"><h3>Run history:</h3><br/><table class=\"wandb\"><tr><td>epoch</td><td>▁▁▁▂▂▂▂▂▂▂▂▂▂▃▃▃▃▄▄▄▄▄▅▅▅▅▅▅▆▆▆▆▇▇▇▇▇▇██</td></tr><tr><td>lr</td><td>████████████████████▃▃▃▃▃▃▃▁▁▁▁▁▁▁▁▁▁▁▁▁</td></tr><tr><td>test_acc</td><td>█▁</td></tr><tr><td>test_f1</td><td>█▁</td></tr><tr><td>test_loss</td><td>█▁</td></tr><tr><td>train_acc</td><td>▁▂▃▅▅▆▆▆▆▇▇▇▇▇▇▇▇▇▇▇▇▇██████████████████</td></tr><tr><td>train_f1</td><td>▁▂▃▄▅▆▆▆▇▇▇▇▇▇▇▇▇▇▇▇▇███████████████████</td></tr><tr><td>train_loss</td><td>█▇▆▅▄▄▄▃▄▃▃▃▃▃▃▂▂▂▂▂▂▂▂▂▂▁▂▂▂▁▁▁▁▁▁▁▁▁▁▁</td></tr><tr><td>trainer/global_step</td><td>▁▁▁▁▁▂▂▂▂▂▂▂▃▃▃▃▄▄▄▅▅▅▅▅▅▅▅▆▆▆▆▆▇▇▇▇████</td></tr><tr><td>valid_acc</td><td>▁▅▆▆▇▇▇▇▇▇▇▇██▇▇█▇▇▇▇███▇██████▇▇███████</td></tr><tr><td>valid_f1</td><td>▁▄▅▆▆▇▇▇▇█▇▇▇▇▇▇▇▇█▇██▇█████▇███████████</td></tr><tr><td>valid_loss</td><td>█▇▅▄▄▃▂▂▂▃▂▃▁▁▃▂▁▂▂▁▁▁▁▂▁▂▂▁▁▂▁▂▂▂▂▁▂▂▂▂</td></tr></table><br/></div><div class=\"wandb-col\"><h3>Run summary:</h3><br/><table class=\"wandb\"><tr><td>epoch</td><td>50</td></tr><tr><td>lr</td><td>0.00025</td></tr><tr><td>test_acc</td><td>0.83199</td></tr><tr><td>test_f1</td><td>0.79698</td></tr><tr><td>test_loss</td><td>0.43157</td></tr><tr><td>train_acc</td><td>0.90906</td></tr><tr><td>train_f1</td><td>0.90889</td></tr><tr><td>train_loss</td><td>0.23315</td></tr><tr><td>trainer/global_step</td><td>4550</td></tr><tr><td>valid_acc</td><td>0.85703</td></tr><tr><td>valid_f1</td><td>0.83235</td></tr><tr><td>valid_loss</td><td>0.42868</td></tr></table><br/></div></div>"
      ],
      "text/plain": [
       "<IPython.core.display.HTML object>"
      ]
     },
     "metadata": {},
     "output_type": "display_data"
    },
    {
     "data": {
      "text/html": [
       " View run <strong style=\"color:#cdcd00\">earthy-plasma-54</strong> at: <a href='https://wandb.ai/devilhyt/ecg-centralized/runs/1rk5v7zn' target=\"_blank\">https://wandb.ai/devilhyt/ecg-centralized/runs/1rk5v7zn</a><br/> View project at: <a href='https://wandb.ai/devilhyt/ecg-centralized' target=\"_blank\">https://wandb.ai/devilhyt/ecg-centralized</a><br/>Synced 5 W&B file(s), 0 media file(s), 4 artifact file(s) and 2 other file(s)"
      ],
      "text/plain": [
       "<IPython.core.display.HTML object>"
      ]
     },
     "metadata": {},
     "output_type": "display_data"
    },
    {
     "data": {
      "text/html": [
       "Find logs at: <code>wandb_logs/wandb/run-20250220_155538-1rk5v7zn/logs</code>"
      ],
      "text/plain": [
       "<IPython.core.display.HTML object>"
      ]
     },
     "metadata": {},
     "output_type": "display_data"
    }
   ],
   "source": [
    "wandb.finish()"
   ]
  }
 ],
 "metadata": {
  "kernelspec": {
   "display_name": "ecg-fl",
   "language": "python",
   "name": "python3"
  },
  "language_info": {
   "codemirror_mode": {
    "name": "ipython",
    "version": 3
   },
   "file_extension": ".py",
   "mimetype": "text/x-python",
   "name": "python",
   "nbconvert_exporter": "python",
   "pygments_lexer": "ipython3",
   "version": "3.11.10"
  }
 },
 "nbformat": 4,
 "nbformat_minor": 2
}
