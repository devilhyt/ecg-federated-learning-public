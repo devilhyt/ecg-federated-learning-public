{
 "cells": [
  {
   "cell_type": "markdown",
   "metadata": {},
   "source": [
    "# Centralized learning for ECG Arrhythmia detection\n"
   ]
  },
  {
   "cell_type": "code",
   "execution_count": 1,
   "metadata": {},
   "outputs": [
    {
     "name": "stderr",
     "output_type": "stream",
     "text": [
      "/home/g113056077/.pyenv/versions/awin-ecg/lib/python3.11/site-packages/tqdm/auto.py:21: TqdmWarning: IProgress not found. Please update jupyter and ipywidgets. See https://ipywidgets.readthedocs.io/en/stable/user_install.html\n",
      "  from .autonotebook import tqdm as notebook_tqdm\n"
     ]
    }
   ],
   "source": [
    "import configparser\n",
    "import os\n",
    "from pathlib import Path\n",
    "\n",
    "import lightning as L\n",
    "import matplotlib.pyplot as plt\n",
    "import wandb\n",
    "from dotenv import load_dotenv\n",
    "from lightning.pytorch.callbacks import EarlyStopping, ModelCheckpoint, TQDMProgressBar\n",
    "from lightning.pytorch.loggers import TensorBoardLogger, WandbLogger\n",
    "\n",
    "from dataset_utils import Cinc2017DataModule\n",
    "from model import DenseNetGruEcgModule"
   ]
  },
  {
   "cell_type": "markdown",
   "metadata": {},
   "source": [
    "## Config\n"
   ]
  },
  {
   "cell_type": "code",
   "execution_count": 2,
   "metadata": {},
   "outputs": [],
   "source": [
    "load_dotenv()\n",
    "wandb_mode = os.getenv(\"WANDB_MODE\")\n",
    "\n",
    "config = configparser.ConfigParser()\n",
    "config.read(\"config.ini\")\n",
    "dst_freq = config.getint(\"data_preprocessing\", \"dst_freq\")\n",
    "seg_time = config.getint(\"data_preprocessing\", \"seg_time\")\n",
    "dst_length = dst_freq * seg_time\n",
    "\n",
    "MAX_EPOCHS = 50"
   ]
  },
  {
   "cell_type": "markdown",
   "metadata": {},
   "source": [
    "## Prepare the Dataset\n"
   ]
  },
  {
   "cell_type": "code",
   "execution_count": 3,
   "metadata": {},
   "outputs": [],
   "source": [
    "dm = Cinc2017DataModule(batch_size=512)"
   ]
  },
  {
   "cell_type": "markdown",
   "metadata": {},
   "source": [
    "## Create the Model\n"
   ]
  },
  {
   "cell_type": "code",
   "execution_count": 4,
   "metadata": {},
   "outputs": [],
   "source": [
    "model = DenseNetGruEcgModule(\n",
    "    max_epochs=MAX_EPOCHS,\n",
    "    num_classes=dm.num_classes,\n",
    "    input_length=dst_length,\n",
    "    lr_scheduler_mode=\"multi_step\",\n",
    "    lr=1e-3,\n",
    "    # min_lr = 1e-4,\n",
    "    show_valid_cm=True,\n",
    "    growth_rate=16,\n",
    "    block_config=(12, 12, 24, 16, 16),\n",
    "    num_init_features=64,\n",
    "    bn_size=4,\n",
    "    db_drop_rate=0.2,\n",
    "    gru_drop_rate=0.2,\n",
    "    fc_drop_rate=0.2,\n",
    "    memory_efficient=False,\n",
    "    compression_factor=0.5,\n",
    ")\n",
    "\n",
    "# the number of features per denseblock:\n",
    "# (64 + 4 * 16) // 2 = 64\n",
    "# (64 + 4 * 16) // 2 = 64\n",
    "# (64 + 12 * 16) // 2 = 128\n",
    "# (128 + 8 * 16) // 2 = 128\n",
    "# (128 + 8 * 16) // 2 = 128\n",
    "# (256 + 8 * 16) // 2 = 128\n",
    "\n",
    "# the number of features per denseblock:\n",
    "# (64 + 12 * 16) // 2 = 128\n",
    "# (64 + 12 * 16) // 2 = 128\n",
    "# (128 + 24 * 16) // 2 = 256\n",
    "# (256 + 16 * 16) // 2 = 256\n",
    "# (256 + 16 * 16) = 512\n"
   ]
  },
  {
   "cell_type": "markdown",
   "metadata": {},
   "source": [
    "## Create the Trainer\n"
   ]
  },
  {
   "cell_type": "code",
   "execution_count": 5,
   "metadata": {},
   "outputs": [
    {
     "name": "stderr",
     "output_type": "stream",
     "text": [
      "GPU available: True (cuda), used: True\n",
      "TPU available: False, using: 0 TPU cores\n",
      "HPU available: False, using: 0 HPUs\n"
     ]
    }
   ],
   "source": [
    "checkpoint_callback = ModelCheckpoint(\n",
    "    monitor=\"valid_auprc\",\n",
    "    verbose=True,\n",
    "    mode=\"max\",\n",
    "    save_top_k=1,\n",
    "    save_last=True,\n",
    ")\n",
    "\n",
    "# early_stopping_callback = EarlyStopping(\n",
    "#     monitor=\"valid_loss\", patience=8, verbose=True, mode=\"min\"\n",
    "# )\n",
    "\n",
    "progress_bar_callback = TQDMProgressBar(leave=True)\n",
    "\n",
    "project_name = \"awin-ecg-centralized\"\n",
    "if wandb_mode == \"disabled\":\n",
    "    logger = TensorBoardLogger(save_dir=Path(\"tb_logs\"), name=project_name)\n",
    "else:\n",
    "    logger = WandbLogger(\n",
    "        project=project_name, save_dir=Path(\"wandb_logs\"), log_model=True, name=project_name\n",
    "    )\n",
    "\n",
    "trainer = L.Trainer(\n",
    "    max_epochs=MAX_EPOCHS,\n",
    "    callbacks=[checkpoint_callback, progress_bar_callback],\n",
    "    logger=logger,\n",
    ")"
   ]
  },
  {
   "cell_type": "markdown",
   "metadata": {},
   "source": [
    "## Train the Model\n"
   ]
  },
  {
   "cell_type": "code",
   "execution_count": 6,
   "metadata": {},
   "outputs": [
    {
     "name": "stderr",
     "output_type": "stream",
     "text": [
      "LOCAL_RANK: 0 - CUDA_VISIBLE_DEVICES: [0]\n",
      "\n",
      "  | Name          | Type                      | Params | Mode  | In sizes    | Out sizes\n",
      "----------------------------------------------------------------------------------------------\n",
      "0 | model         | DenseNetGruEcg            | 2.3 M  | train | [1, 1, 300] | [1, 3]   \n",
      "1 | loss_fn       | CrossEntropyLoss          | 0      | train | ?           | ?        \n",
      "2 | train_metrics | MetricCollection          | 0      | train | ?           | ?        \n",
      "3 | valid_metrics | MetricCollection          | 0      | train | ?           | ?        \n",
      "4 | test_metrics  | MetricCollection          | 0      | train | ?           | ?        \n",
      "5 | valid_cm      | MulticlassConfusionMatrix | 0      | train | ?           | ?        \n",
      "6 | test_cm       | MulticlassConfusionMatrix | 0      | train | ?           | ?        \n",
      "----------------------------------------------------------------------------------------------\n",
      "2.3 M     Trainable params\n",
      "0         Non-trainable params\n",
      "2.3 M     Total params\n",
      "9.157     Total estimated model params size (MB)\n",
      "692       Modules in train mode\n",
      "0         Modules in eval mode\n"
     ]
    },
    {
     "name": "stdout",
     "output_type": "stream",
     "text": [
      "Training: |          | 0/? [00:00<?, ?it/s]                                \n",
      "Epoch 0: 100%|██████████| 112/112 [00:34<00:00,  3.27it/s, v_num=0, lr=0.001, valid_loss=0.720, valid_acc=0.704, valid_auprc=0.646, valid_auroc=0.819, valid_f1=0.628, train_loss=0.888, train_acc=0.568, train_auprc=0.613, train_auroc=0.757, train_f1=0.563]"
     ]
    },
    {
     "name": "stderr",
     "output_type": "stream",
     "text": [
      "Epoch 0, global step 112: 'valid_auprc' reached 0.64622 (best 0.64622), saving model to 'tb_logs/awin-ecg-centralized/version_0/checkpoints/epoch=0-step=112.ckpt' as top 1\n"
     ]
    },
    {
     "name": "stdout",
     "output_type": "stream",
     "text": [
      "\n",
      "Valid Confusion Matrix:\n",
      "tensor([[6049,  372,  893],\n",
      "        [  79,  859,  110],\n",
      "        [1352,  777, 1599]], device='cuda:0')\n",
      "Epoch 1: 100%|██████████| 112/112 [00:34<00:00,  3.24it/s, v_num=0, lr=0.001, valid_loss=0.668, valid_acc=0.721, valid_auprc=0.675, valid_auroc=0.832, valid_f1=0.624, train_loss=0.711, train_acc=0.683, train_auprc=0.727, train_auroc=0.845, train_f1=0.675]"
     ]
    },
    {
     "name": "stderr",
     "output_type": "stream",
     "text": [
      "Epoch 1, global step 224: 'valid_auprc' reached 0.67491 (best 0.67491), saving model to 'tb_logs/awin-ecg-centralized/version_0/checkpoints/epoch=1-step=224.ckpt' as top 1\n"
     ]
    },
    {
     "name": "stdout",
     "output_type": "stream",
     "text": [
      "\n",
      "Valid Confusion Matrix:\n",
      "tensor([[6631,  280,  403],\n",
      "        [ 106,  841,  101],\n",
      "        [1727,  753, 1248]], device='cuda:0')\n",
      "Epoch 2: 100%|██████████| 112/112 [00:34<00:00,  3.23it/s, v_num=0, lr=0.001, valid_loss=0.685, valid_acc=0.724, valid_auprc=0.694, valid_auroc=0.835, valid_f1=0.661, train_loss=0.656, train_acc=0.711, train_auprc=0.765, train_auroc=0.867, train_f1=0.705]"
     ]
    },
    {
     "name": "stderr",
     "output_type": "stream",
     "text": [
      "Epoch 2, global step 336: 'valid_auprc' reached 0.69416 (best 0.69416), saving model to 'tb_logs/awin-ecg-centralized/version_0/checkpoints/epoch=2-step=336.ckpt' as top 1\n"
     ]
    },
    {
     "name": "stdout",
     "output_type": "stream",
     "text": [
      "\n",
      "Valid Confusion Matrix:\n",
      "tensor([[5995,  306, 1013],\n",
      "        [  56,  824,  168],\n",
      "        [1214,  582, 1932]], device='cuda:0')\n",
      "Epoch 3: 100%|██████████| 112/112 [00:34<00:00,  3.21it/s, v_num=0, lr=0.001, valid_loss=0.672, valid_acc=0.728, valid_auprc=0.711, valid_auroc=0.841, valid_f1=0.670, train_loss=0.628, train_acc=0.724, train_auprc=0.779, train_auroc=0.876, train_f1=0.718]"
     ]
    },
    {
     "name": "stderr",
     "output_type": "stream",
     "text": [
      "Epoch 3, global step 448: 'valid_auprc' reached 0.71128 (best 0.71128), saving model to 'tb_logs/awin-ecg-centralized/version_0/checkpoints/epoch=3-step=448.ckpt' as top 1\n"
     ]
    },
    {
     "name": "stdout",
     "output_type": "stream",
     "text": [
      "\n",
      "Valid Confusion Matrix:\n",
      "tensor([[6042,  327,  945],\n",
      "        [  45,  846,  157],\n",
      "        [1292,  517, 1919]], device='cuda:0')\n",
      "Epoch 4: 100%|██████████| 112/112 [00:34<00:00,  3.20it/s, v_num=0, lr=0.001, valid_loss=0.645, valid_acc=0.738, valid_auprc=0.723, valid_auroc=0.847, valid_f1=0.682, train_loss=0.607, train_acc=0.731, train_auprc=0.792, train_auroc=0.883, train_f1=0.726]"
     ]
    },
    {
     "name": "stderr",
     "output_type": "stream",
     "text": [
      "Epoch 4, global step 560: 'valid_auprc' reached 0.72342 (best 0.72342), saving model to 'tb_logs/awin-ecg-centralized/version_0/checkpoints/epoch=4-step=560.ckpt' as top 1\n"
     ]
    },
    {
     "name": "stdout",
     "output_type": "stream",
     "text": [
      "\n",
      "Valid Confusion Matrix:\n",
      "tensor([[6121,  256,  937],\n",
      "        [  63,  830,  155],\n",
      "        [1290,  469, 1969]], device='cuda:0')\n",
      "Epoch 5: 100%|██████████| 112/112 [00:35<00:00,  3.20it/s, v_num=0, lr=0.001, valid_loss=0.622, valid_acc=0.751, valid_auprc=0.733, valid_auroc=0.852, valid_f1=0.692, train_loss=0.582, train_acc=0.746, train_auprc=0.806, train_auroc=0.892, train_f1=0.740]"
     ]
    },
    {
     "name": "stderr",
     "output_type": "stream",
     "text": [
      "Epoch 5, global step 672: 'valid_auprc' reached 0.73302 (best 0.73302), saving model to 'tb_logs/awin-ecg-centralized/version_0/checkpoints/epoch=5-step=672.ckpt' as top 1\n"
     ]
    },
    {
     "name": "stdout",
     "output_type": "stream",
     "text": [
      "\n",
      "Valid Confusion Matrix:\n",
      "tensor([[6282,  180,  852],\n",
      "        [  78,  769,  201],\n",
      "        [1308,  394, 2026]], device='cuda:0')\n",
      "Epoch 6: 100%|██████████| 112/112 [00:35<00:00,  3.18it/s, v_num=0, lr=0.001, valid_loss=0.758, valid_acc=0.679, valid_auprc=0.710, valid_auroc=0.834, valid_f1=0.632, train_loss=0.562, train_acc=0.752, train_auprc=0.816, train_auroc=0.898, train_f1=0.747]"
     ]
    },
    {
     "name": "stderr",
     "output_type": "stream",
     "text": [
      "Epoch 6, global step 784: 'valid_auprc' was not in top 1\n"
     ]
    },
    {
     "name": "stdout",
     "output_type": "stream",
     "text": [
      "\n",
      "Valid Confusion Matrix:\n",
      "tensor([[5166,  558, 1590],\n",
      "        [  30,  860,  158],\n",
      "        [ 913,  630, 2185]], device='cuda:0')\n",
      "Epoch 7: 100%|██████████| 112/112 [00:35<00:00,  3.18it/s, v_num=0, lr=0.001, valid_loss=0.638, valid_acc=0.749, valid_auprc=0.733, valid_auroc=0.852, valid_f1=0.685, train_loss=0.553, train_acc=0.758, train_auprc=0.822, train_auroc=0.901, train_f1=0.755]"
     ]
    },
    {
     "name": "stderr",
     "output_type": "stream",
     "text": [
      "Epoch 7, global step 896: 'valid_auprc' was not in top 1\n"
     ]
    },
    {
     "name": "stdout",
     "output_type": "stream",
     "text": [
      "\n",
      "Valid Confusion Matrix:\n",
      "tensor([[6315,  286,  713],\n",
      "        [  75,  818,  155],\n",
      "        [1345,  460, 1923]], device='cuda:0')\n",
      "Epoch 8: 100%|██████████| 112/112 [00:35<00:00,  3.16it/s, v_num=0, lr=0.001, valid_loss=0.651, valid_acc=0.742, valid_auprc=0.724, valid_auroc=0.842, valid_f1=0.678, train_loss=0.528, train_acc=0.768, train_auprc=0.834, train_auroc=0.909, train_f1=0.764]"
     ]
    },
    {
     "name": "stderr",
     "output_type": "stream",
     "text": [
      "Epoch 8, global step 1008: 'valid_auprc' was not in top 1\n"
     ]
    },
    {
     "name": "stdout",
     "output_type": "stream",
     "text": [
      "\n",
      "Valid Confusion Matrix:\n",
      "tensor([[6332,  257,  725],\n",
      "        [  77,  827,  144],\n",
      "        [1435,  478, 1815]], device='cuda:0')\n",
      "Epoch 9: 100%|██████████| 112/112 [00:35<00:00,  3.15it/s, v_num=0, lr=0.001, valid_loss=0.752, valid_acc=0.735, valid_auprc=0.724, valid_auroc=0.844, valid_f1=0.648, train_loss=0.520, train_acc=0.771, train_auprc=0.837, train_auroc=0.910, train_f1=0.766]"
     ]
    },
    {
     "name": "stderr",
     "output_type": "stream",
     "text": [
      "Epoch 9, global step 1120: 'valid_auprc' was not in top 1\n"
     ]
    },
    {
     "name": "stdout",
     "output_type": "stream",
     "text": [
      "\n",
      "Valid Confusion Matrix:\n",
      "tensor([[6468,  483,  363],\n",
      "        [  50,  909,   89],\n",
      "        [1473,  751, 1504]], device='cuda:0')\n",
      "Epoch 10: 100%|██████████| 112/112 [00:35<00:00,  3.15it/s, v_num=0, lr=0.001, valid_loss=0.681, valid_acc=0.734, valid_auprc=0.734, valid_auroc=0.845, valid_f1=0.665, train_loss=0.498, train_acc=0.782, train_auprc=0.847, train_auroc=0.917, train_f1=0.778]"
     ]
    },
    {
     "name": "stderr",
     "output_type": "stream",
     "text": [
      "Epoch 10, global step 1232: 'valid_auprc' reached 0.73385 (best 0.73385), saving model to 'tb_logs/awin-ecg-centralized/version_0/checkpoints/epoch=10-step=1232.ckpt' as top 1\n"
     ]
    },
    {
     "name": "stdout",
     "output_type": "stream",
     "text": [
      "\n",
      "Valid Confusion Matrix:\n",
      "tensor([[6226,  380,  708],\n",
      "        [  71,  848,  129],\n",
      "        [1362,  565, 1801]], device='cuda:0')\n",
      "Epoch 11: 100%|██████████| 112/112 [00:35<00:00,  3.15it/s, v_num=0, lr=0.001, valid_loss=0.641, valid_acc=0.756, valid_auprc=0.743, valid_auroc=0.853, valid_f1=0.691, train_loss=0.476, train_acc=0.791, train_auprc=0.857, train_auroc=0.923, train_f1=0.787]"
     ]
    },
    {
     "name": "stderr",
     "output_type": "stream",
     "text": [
      "Epoch 11, global step 1344: 'valid_auprc' reached 0.74271 (best 0.74271), saving model to 'tb_logs/awin-ecg-centralized/version_0/checkpoints/epoch=11-step=1344.ckpt' as top 1\n"
     ]
    },
    {
     "name": "stdout",
     "output_type": "stream",
     "text": [
      "\n",
      "Valid Confusion Matrix:\n",
      "tensor([[6557,  232,  525],\n",
      "        [  81,  799,  168],\n",
      "        [1578,  366, 1784]], device='cuda:0')\n",
      "Epoch 12: 100%|██████████| 112/112 [00:35<00:00,  3.14it/s, v_num=0, lr=0.001, valid_loss=0.626, valid_acc=0.758, valid_auprc=0.743, valid_auroc=0.852, valid_f1=0.698, train_loss=0.468, train_acc=0.794, train_auprc=0.861, train_auroc=0.925, train_f1=0.791]"
     ]
    },
    {
     "name": "stderr",
     "output_type": "stream",
     "text": [
      "Epoch 12, global step 1456: 'valid_auprc' was not in top 1\n"
     ]
    },
    {
     "name": "stdout",
     "output_type": "stream",
     "text": [
      "\n",
      "Valid Confusion Matrix:\n",
      "tensor([[6501,  190,  623],\n",
      "        [  98,  756,  194],\n",
      "        [1509,  306, 1913]], device='cuda:0')\n",
      "Epoch 13: 100%|██████████| 112/112 [00:35<00:00,  3.14it/s, v_num=0, lr=0.001, valid_loss=0.695, valid_acc=0.736, valid_auprc=0.741, valid_auroc=0.849, valid_f1=0.670, train_loss=0.457, train_acc=0.799, train_auprc=0.867, train_auroc=0.928, train_f1=0.797]"
     ]
    },
    {
     "name": "stderr",
     "output_type": "stream",
     "text": [
      "Epoch 13, global step 1568: 'valid_auprc' was not in top 1\n"
     ]
    },
    {
     "name": "stdout",
     "output_type": "stream",
     "text": [
      "\n",
      "Valid Confusion Matrix:\n",
      "tensor([[6186,  384,  744],\n",
      "        [  44,  892,  112],\n",
      "        [1303,  608, 1817]], device='cuda:0')\n",
      "Epoch 14: 100%|██████████| 112/112 [00:35<00:00,  3.14it/s, v_num=0, lr=0.001, valid_loss=0.684, valid_acc=0.747, valid_auprc=0.741, valid_auroc=0.849, valid_f1=0.689, train_loss=0.445, train_acc=0.805, train_auprc=0.873, train_auroc=0.932, train_f1=0.803]"
     ]
    },
    {
     "name": "stderr",
     "output_type": "stream",
     "text": [
      "Epoch 14, global step 1680: 'valid_auprc' was not in top 1\n"
     ]
    },
    {
     "name": "stdout",
     "output_type": "stream",
     "text": [
      "\n",
      "Valid Confusion Matrix:\n",
      "tensor([[6292,  230,  792],\n",
      "        [  74,  827,  147],\n",
      "        [1374,  439, 1915]], device='cuda:0')\n",
      "Epoch 15: 100%|██████████| 112/112 [00:35<00:00,  3.14it/s, v_num=0, lr=0.001, valid_loss=0.711, valid_acc=0.742, valid_auprc=0.734, valid_auroc=0.845, valid_f1=0.679, train_loss=0.430, train_acc=0.811, train_auprc=0.878, train_auroc=0.935, train_f1=0.809]"
     ]
    },
    {
     "name": "stderr",
     "output_type": "stream",
     "text": [
      "Epoch 15, global step 1792: 'valid_auprc' was not in top 1\n"
     ]
    },
    {
     "name": "stdout",
     "output_type": "stream",
     "text": [
      "\n",
      "Valid Confusion Matrix:\n",
      "tensor([[6285,  255,  774],\n",
      "        [  83,  845,  120],\n",
      "        [1372,  518, 1838]], device='cuda:0')\n",
      "Epoch 16: 100%|██████████| 112/112 [00:35<00:00,  3.14it/s, v_num=0, lr=0.001, valid_loss=0.719, valid_acc=0.734, valid_auprc=0.738, valid_auroc=0.845, valid_f1=0.669, train_loss=0.417, train_acc=0.818, train_auprc=0.886, train_auroc=0.939, train_f1=0.816]"
     ]
    },
    {
     "name": "stderr",
     "output_type": "stream",
     "text": [
      "Epoch 16, global step 1904: 'valid_auprc' was not in top 1\n"
     ]
    },
    {
     "name": "stdout",
     "output_type": "stream",
     "text": [
      "\n",
      "Valid Confusion Matrix:\n",
      "tensor([[6134,  409,  771],\n",
      "        [  48,  882,  118],\n",
      "        [1291,  580, 1857]], device='cuda:0')\n",
      "Epoch 17: 100%|██████████| 112/112 [00:35<00:00,  3.14it/s, v_num=0, lr=0.001, valid_loss=0.696, valid_acc=0.742, valid_auprc=0.740, valid_auroc=0.849, valid_f1=0.700, train_loss=0.413, train_acc=0.819, train_auprc=0.887, train_auroc=0.940, train_f1=0.817]"
     ]
    },
    {
     "name": "stderr",
     "output_type": "stream",
     "text": [
      "Epoch 17, global step 2016: 'valid_auprc' was not in top 1\n"
     ]
    },
    {
     "name": "stdout",
     "output_type": "stream",
     "text": [
      "\n",
      "Valid Confusion Matrix:\n",
      "tensor([[5967,  194, 1153],\n",
      "        [  48,  807,  193],\n",
      "        [1187,  344, 2197]], device='cuda:0')\n",
      "Epoch 18: 100%|██████████| 112/112 [00:35<00:00,  3.15it/s, v_num=0, lr=0.001, valid_loss=0.680, valid_acc=0.751, valid_auprc=0.741, valid_auroc=0.851, valid_f1=0.697, train_loss=0.398, train_acc=0.827, train_auprc=0.892, train_auroc=0.943, train_f1=0.826]"
     ]
    },
    {
     "name": "stderr",
     "output_type": "stream",
     "text": [
      "Epoch 18, global step 2128: 'valid_auprc' was not in top 1\n"
     ]
    },
    {
     "name": "stdout",
     "output_type": "stream",
     "text": [
      "\n",
      "Valid Confusion Matrix:\n",
      "tensor([[6265,  238,  811],\n",
      "        [  71,  810,  167],\n",
      "        [1373,  356, 1999]], device='cuda:0')\n",
      "Epoch 19: 100%|██████████| 112/112 [00:35<00:00,  3.15it/s, v_num=0, lr=0.001, valid_loss=0.716, valid_acc=0.725, valid_auprc=0.736, valid_auroc=0.845, valid_f1=0.685, train_loss=0.390, train_acc=0.830, train_auprc=0.897, train_auroc=0.945, train_f1=0.829]"
     ]
    },
    {
     "name": "stderr",
     "output_type": "stream",
     "text": [
      "Epoch 19, global step 2240: 'valid_auprc' was not in top 1\n"
     ]
    },
    {
     "name": "stdout",
     "output_type": "stream",
     "text": [
      "\n",
      "Valid Confusion Matrix:\n",
      "tensor([[5764,  217, 1333],\n",
      "        [  62,  786,  200],\n",
      "        [1177,  341, 2210]], device='cuda:0')\n",
      "Epoch 20: 100%|██████████| 112/112 [00:35<00:00,  3.15it/s, v_num=0, lr=0.001, valid_loss=0.836, valid_acc=0.658, valid_auprc=0.728, valid_auroc=0.842, valid_f1=0.653, train_loss=0.381, train_acc=0.833, train_auprc=0.901, train_auroc=0.947, train_f1=0.832]"
     ]
    },
    {
     "name": "stderr",
     "output_type": "stream",
     "text": [
      "Epoch 20, global step 2352: 'valid_auprc' was not in top 1\n"
     ]
    },
    {
     "name": "stdout",
     "output_type": "stream",
     "text": [
      "\n",
      "Valid Confusion Matrix:\n",
      "tensor([[4547,  146, 2621],\n",
      "        [  40,  748,  260],\n",
      "        [ 774,  295, 2659]], device='cuda:0')\n",
      "Epoch 21: 100%|██████████| 112/112 [00:35<00:00,  3.16it/s, v_num=0, lr=0.001, valid_loss=0.707, valid_acc=0.757, valid_auprc=0.741, valid_auroc=0.851, valid_f1=0.699, train_loss=0.372, train_acc=0.837, train_auprc=0.905, train_auroc=0.950, train_f1=0.836]"
     ]
    },
    {
     "name": "stderr",
     "output_type": "stream",
     "text": [
      "Epoch 21, global step 2464: 'valid_auprc' was not in top 1\n"
     ]
    },
    {
     "name": "stdout",
     "output_type": "stream",
     "text": [
      "\n",
      "Valid Confusion Matrix:\n",
      "tensor([[6438,  171,  705],\n",
      "        [  84,  803,  161],\n",
      "        [1423,  393, 1912]], device='cuda:0')\n",
      "Epoch 22: 100%|██████████| 112/112 [00:35<00:00,  3.16it/s, v_num=0, lr=0.001, valid_loss=0.748, valid_acc=0.736, valid_auprc=0.736, valid_auroc=0.846, valid_f1=0.679, train_loss=0.361, train_acc=0.844, train_auprc=0.910, train_auroc=0.952, train_f1=0.842]"
     ]
    },
    {
     "name": "stderr",
     "output_type": "stream",
     "text": [
      "Epoch 22, global step 2576: 'valid_auprc' was not in top 1\n"
     ]
    },
    {
     "name": "stdout",
     "output_type": "stream",
     "text": [
      "\n",
      "Valid Confusion Matrix:\n",
      "tensor([[6061,  319,  934],\n",
      "        [  42,  819,  187],\n",
      "        [1256,  449, 2023]], device='cuda:0')\n",
      "Epoch 23: 100%|██████████| 112/112 [00:35<00:00,  3.16it/s, v_num=0, lr=0.001, valid_loss=0.760, valid_acc=0.716, valid_auprc=0.734, valid_auroc=0.843, valid_f1=0.678, train_loss=0.354, train_acc=0.847, train_auprc=0.914, train_auroc=0.954, train_f1=0.846]"
     ]
    },
    {
     "name": "stderr",
     "output_type": "stream",
     "text": [
      "Epoch 23, global step 2688: 'valid_auprc' was not in top 1\n"
     ]
    },
    {
     "name": "stdout",
     "output_type": "stream",
     "text": [
      "\n",
      "Valid Confusion Matrix:\n",
      "tensor([[5624,  231, 1459],\n",
      "        [  45,  810,  193],\n",
      "        [1099,  405, 2224]], device='cuda:0')\n",
      "Epoch 24: 100%|██████████| 112/112 [00:35<00:00,  3.16it/s, v_num=0, lr=0.001, valid_loss=0.706, valid_acc=0.762, valid_auprc=0.750, valid_auroc=0.852, valid_f1=0.707, train_loss=0.346, train_acc=0.852, train_auprc=0.916, train_auroc=0.956, train_f1=0.851]"
     ]
    },
    {
     "name": "stderr",
     "output_type": "stream",
     "text": [
      "Epoch 24, global step 2800: 'valid_auprc' reached 0.75011 (best 0.75011), saving model to 'tb_logs/awin-ecg-centralized/version_0/checkpoints/epoch=24-step=2800.ckpt' as top 1\n"
     ]
    },
    {
     "name": "stdout",
     "output_type": "stream",
     "text": [
      "\n",
      "Valid Confusion Matrix:\n",
      "tensor([[6552,  155,  607],\n",
      "        [  80,  818,  150],\n",
      "        [1547,  338, 1843]], device='cuda:0')\n",
      "Epoch 25: 100%|██████████| 112/112 [00:35<00:00,  3.16it/s, v_num=0, lr=0.0005, valid_loss=0.744, valid_acc=0.736, valid_auprc=0.744, valid_auroc=0.851, valid_f1=0.701, train_loss=0.316, train_acc=0.864, train_auprc=0.929, train_auroc=0.963, train_f1=0.863]"
     ]
    },
    {
     "name": "stderr",
     "output_type": "stream",
     "text": [
      "Epoch 25, global step 2912: 'valid_auprc' was not in top 1\n"
     ]
    },
    {
     "name": "stdout",
     "output_type": "stream",
     "text": [
      "\n",
      "Valid Confusion Matrix:\n",
      "tensor([[5841,  133, 1340],\n",
      "        [  56,  752,  240],\n",
      "        [1155,  264, 2309]], device='cuda:0')\n",
      "Epoch 26: 100%|██████████| 112/112 [00:35<00:00,  3.16it/s, v_num=0, lr=0.0005, valid_loss=0.782, valid_acc=0.733, valid_auprc=0.739, valid_auroc=0.844, valid_f1=0.694, train_loss=0.309, train_acc=0.868, train_auprc=0.932, train_auroc=0.964, train_f1=0.868]"
     ]
    },
    {
     "name": "stderr",
     "output_type": "stream",
     "text": [
      "Epoch 26, global step 3024: 'valid_auprc' was not in top 1\n"
     ]
    },
    {
     "name": "stdout",
     "output_type": "stream",
     "text": [
      "\n",
      "Valid Confusion Matrix:\n",
      "tensor([[5887,  201, 1226],\n",
      "        [  66,  818,  164],\n",
      "        [1216,  356, 2156]], device='cuda:0')\n",
      "Epoch 27: 100%|██████████| 112/112 [00:35<00:00,  3.15it/s, v_num=0, lr=0.0005, valid_loss=0.769, valid_acc=0.748, valid_auprc=0.737, valid_auroc=0.846, valid_f1=0.703, train_loss=0.296, train_acc=0.874, train_auprc=0.937, train_auroc=0.967, train_f1=0.874]"
     ]
    },
    {
     "name": "stderr",
     "output_type": "stream",
     "text": [
      "Epoch 27, global step 3136: 'valid_auprc' was not in top 1\n"
     ]
    },
    {
     "name": "stdout",
     "output_type": "stream",
     "text": [
      "\n",
      "Valid Confusion Matrix:\n",
      "tensor([[6245,  147,  922],\n",
      "        [  76,  797,  175],\n",
      "        [1414,  312, 2002]], device='cuda:0')\n",
      "Epoch 28: 100%|██████████| 112/112 [00:35<00:00,  3.15it/s, v_num=0, lr=0.0005, valid_loss=0.815, valid_acc=0.730, valid_auprc=0.730, valid_auroc=0.841, valid_f1=0.689, train_loss=0.287, train_acc=0.878, train_auprc=0.939, train_auroc=0.968, train_f1=0.878]"
     ]
    },
    {
     "name": "stderr",
     "output_type": "stream",
     "text": [
      "Epoch 28, global step 3248: 'valid_auprc' was not in top 1\n"
     ]
    },
    {
     "name": "stdout",
     "output_type": "stream",
     "text": [
      "\n",
      "Valid Confusion Matrix:\n",
      "tensor([[5883,  223, 1208],\n",
      "        [  56,  817,  175],\n",
      "        [1243,  358, 2127]], device='cuda:0')\n",
      "Epoch 29: 100%|██████████| 112/112 [00:35<00:00,  3.15it/s, v_num=0, lr=0.0005, valid_loss=0.815, valid_acc=0.734, valid_auprc=0.727, valid_auroc=0.840, valid_f1=0.698, train_loss=0.285, train_acc=0.879, train_auprc=0.941, train_auroc=0.969, train_f1=0.878]"
     ]
    },
    {
     "name": "stderr",
     "output_type": "stream",
     "text": [
      "Epoch 29, global step 3360: 'valid_auprc' was not in top 1\n"
     ]
    },
    {
     "name": "stdout",
     "output_type": "stream",
     "text": [
      "\n",
      "Valid Confusion Matrix:\n",
      "tensor([[5917,  123, 1274],\n",
      "        [  72,  750,  226],\n",
      "        [1250,  267, 2211]], device='cuda:0')\n",
      "Epoch 30: 100%|██████████| 112/112 [00:35<00:00,  3.16it/s, v_num=0, lr=0.0005, valid_loss=0.832, valid_acc=0.735, valid_auprc=0.738, valid_auroc=0.850, valid_f1=0.701, train_loss=0.280, train_acc=0.882, train_auprc=0.943, train_auroc=0.970, train_f1=0.881]"
     ]
    },
    {
     "name": "stderr",
     "output_type": "stream",
     "text": [
      "Epoch 30, global step 3472: 'valid_auprc' was not in top 1\n"
     ]
    },
    {
     "name": "stdout",
     "output_type": "stream",
     "text": [
      "\n",
      "Valid Confusion Matrix:\n",
      "tensor([[5829,  123, 1362],\n",
      "        [  60,  749,  239],\n",
      "        [1146,  269, 2313]], device='cuda:0')\n",
      "Epoch 31: 100%|██████████| 112/112 [00:35<00:00,  3.15it/s, v_num=0, lr=0.0005, valid_loss=0.801, valid_acc=0.726, valid_auprc=0.738, valid_auroc=0.843, valid_f1=0.692, train_loss=0.273, train_acc=0.886, train_auprc=0.947, train_auroc=0.972, train_f1=0.886]"
     ]
    },
    {
     "name": "stderr",
     "output_type": "stream",
     "text": [
      "Epoch 31, global step 3584: 'valid_auprc' was not in top 1\n"
     ]
    },
    {
     "name": "stdout",
     "output_type": "stream",
     "text": [
      "\n",
      "Valid Confusion Matrix:\n",
      "tensor([[5723,  139, 1452],\n",
      "        [  65,  728,  255],\n",
      "        [1167,  238, 2323]], device='cuda:0')\n",
      "Epoch 32: 100%|██████████| 112/112 [00:35<00:00,  3.15it/s, v_num=0, lr=0.0005, valid_loss=0.815, valid_acc=0.743, valid_auprc=0.737, valid_auroc=0.844, valid_f1=0.700, train_loss=0.270, train_acc=0.886, train_auprc=0.948, train_auroc=0.973, train_f1=0.886]"
     ]
    },
    {
     "name": "stderr",
     "output_type": "stream",
     "text": [
      "Epoch 32, global step 3696: 'valid_auprc' was not in top 1\n"
     ]
    },
    {
     "name": "stdout",
     "output_type": "stream",
     "text": [
      "\n",
      "Valid Confusion Matrix:\n",
      "tensor([[6081,  158, 1075],\n",
      "        [  66,  775,  207],\n",
      "        [1308,  293, 2127]], device='cuda:0')\n",
      "Epoch 33: 100%|██████████| 112/112 [00:35<00:00,  3.15it/s, v_num=0, lr=0.0005, valid_loss=0.831, valid_acc=0.745, valid_auprc=0.738, valid_auroc=0.844, valid_f1=0.698, train_loss=0.268, train_acc=0.888, train_auprc=0.949, train_auroc=0.973, train_f1=0.888]"
     ]
    },
    {
     "name": "stderr",
     "output_type": "stream",
     "text": [
      "Epoch 33, global step 3808: 'valid_auprc' was not in top 1\n"
     ]
    },
    {
     "name": "stdout",
     "output_type": "stream",
     "text": [
      "\n",
      "Valid Confusion Matrix:\n",
      "tensor([[6193,  146,  975],\n",
      "        [  83,  767,  198],\n",
      "        [1378,  302, 2048]], device='cuda:0')\n",
      "Epoch 34: 100%|██████████| 112/112 [00:35<00:00,  3.15it/s, v_num=0, lr=0.0005, valid_loss=0.843, valid_acc=0.740, valid_auprc=0.737, valid_auroc=0.845, valid_f1=0.699, train_loss=0.256, train_acc=0.893, train_auprc=0.953, train_auroc=0.975, train_f1=0.893]"
     ]
    },
    {
     "name": "stderr",
     "output_type": "stream",
     "text": [
      "Epoch 34, global step 3920: 'valid_auprc' was not in top 1\n"
     ]
    },
    {
     "name": "stdout",
     "output_type": "stream",
     "text": [
      "\n",
      "Valid Confusion Matrix:\n",
      "tensor([[6055,  164, 1095],\n",
      "        [  60,  790,  198],\n",
      "        [1324,  303, 2101]], device='cuda:0')\n",
      "Epoch 35: 100%|██████████| 112/112 [00:35<00:00,  3.16it/s, v_num=0, lr=0.0005, valid_loss=0.917, valid_acc=0.705, valid_auprc=0.728, valid_auroc=0.838, valid_f1=0.680, train_loss=0.256, train_acc=0.893, train_auprc=0.953, train_auroc=0.975, train_f1=0.892]"
     ]
    },
    {
     "name": "stderr",
     "output_type": "stream",
     "text": [
      "Epoch 35, global step 4032: 'valid_auprc' was not in top 1\n"
     ]
    },
    {
     "name": "stdout",
     "output_type": "stream",
     "text": [
      "\n",
      "Valid Confusion Matrix:\n",
      "tensor([[5407,  135, 1772],\n",
      "        [  61,  752,  235],\n",
      "        [1065,  295, 2368]], device='cuda:0')\n",
      "Epoch 36: 100%|██████████| 112/112 [00:35<00:00,  3.15it/s, v_num=0, lr=0.0005, valid_loss=0.869, valid_acc=0.744, valid_auprc=0.736, valid_auroc=0.842, valid_f1=0.695, train_loss=0.249, train_acc=0.896, train_auprc=0.955, train_auroc=0.976, train_f1=0.896]"
     ]
    },
    {
     "name": "stderr",
     "output_type": "stream",
     "text": [
      "Epoch 36, global step 4144: 'valid_auprc' was not in top 1\n"
     ]
    },
    {
     "name": "stdout",
     "output_type": "stream",
     "text": [
      "\n",
      "Valid Confusion Matrix:\n",
      "tensor([[6197,  156,  961],\n",
      "        [  83,  779,  186],\n",
      "        [1372,  337, 2019]], device='cuda:0')\n",
      "Epoch 37: 100%|██████████| 112/112 [00:35<00:00,  3.15it/s, v_num=0, lr=0.00025, valid_loss=0.869, valid_acc=0.740, valid_auprc=0.737, valid_auroc=0.843, valid_f1=0.701, train_loss=0.235, train_acc=0.903, train_auprc=0.960, train_auroc=0.979, train_f1=0.903]"
     ]
    },
    {
     "name": "stderr",
     "output_type": "stream",
     "text": [
      "Epoch 37, global step 4256: 'valid_auprc' was not in top 1\n"
     ]
    },
    {
     "name": "stdout",
     "output_type": "stream",
     "text": [
      "\n",
      "Valid Confusion Matrix:\n",
      "tensor([[6016,  114, 1184],\n",
      "        [  73,  760,  215],\n",
      "        [1279,  280, 2169]], device='cuda:0')\n",
      "Epoch 38: 100%|██████████| 112/112 [00:35<00:00,  3.16it/s, v_num=0, lr=0.00025, valid_loss=0.891, valid_acc=0.746, valid_auprc=0.741, valid_auroc=0.846, valid_f1=0.707, train_loss=0.229, train_acc=0.906, train_auprc=0.961, train_auroc=0.980, train_f1=0.906]"
     ]
    },
    {
     "name": "stderr",
     "output_type": "stream",
     "text": [
      "Epoch 38, global step 4368: 'valid_auprc' was not in top 1\n"
     ]
    },
    {
     "name": "stdout",
     "output_type": "stream",
     "text": [
      "\n",
      "Valid Confusion Matrix:\n",
      "tensor([[6124,  128, 1062],\n",
      "        [  73,  788,  187],\n",
      "        [1326,  289, 2113]], device='cuda:0')\n",
      "Epoch 39: 100%|██████████| 112/112 [00:35<00:00,  3.16it/s, v_num=0, lr=0.00025, valid_loss=0.890, valid_acc=0.734, valid_auprc=0.736, valid_auroc=0.843, valid_f1=0.696, train_loss=0.223, train_acc=0.908, train_auprc=0.964, train_auroc=0.981, train_f1=0.907]"
     ]
    },
    {
     "name": "stderr",
     "output_type": "stream",
     "text": [
      "Epoch 39, global step 4480: 'valid_auprc' was not in top 1\n"
     ]
    },
    {
     "name": "stdout",
     "output_type": "stream",
     "text": [
      "\n",
      "Valid Confusion Matrix:\n",
      "tensor([[5955,  133, 1226],\n",
      "        [  68,  769,  211],\n",
      "        [1270,  302, 2156]], device='cuda:0')\n",
      "Epoch 40: 100%|██████████| 112/112 [00:35<00:00,  3.16it/s, v_num=0, lr=0.00025, valid_loss=0.896, valid_acc=0.740, valid_auprc=0.731, valid_auroc=0.839, valid_f1=0.699, train_loss=0.217, train_acc=0.912, train_auprc=0.966, train_auroc=0.982, train_f1=0.912]"
     ]
    },
    {
     "name": "stderr",
     "output_type": "stream",
     "text": [
      "Epoch 40, global step 4592: 'valid_auprc' was not in top 1\n"
     ]
    },
    {
     "name": "stdout",
     "output_type": "stream",
     "text": [
      "\n",
      "Valid Confusion Matrix:\n",
      "tensor([[6096,  140, 1078],\n",
      "        [  72,  794,  182],\n",
      "        [1367,  307, 2054]], device='cuda:0')\n",
      "Epoch 41: 100%|██████████| 112/112 [00:35<00:00,  3.15it/s, v_num=0, lr=0.00025, valid_loss=0.929, valid_acc=0.748, valid_auprc=0.733, valid_auroc=0.843, valid_f1=0.701, train_loss=0.214, train_acc=0.913, train_auprc=0.966, train_auroc=0.982, train_f1=0.913]"
     ]
    },
    {
     "name": "stderr",
     "output_type": "stream",
     "text": [
      "Epoch 41, global step 4704: 'valid_auprc' was not in top 1\n"
     ]
    },
    {
     "name": "stdout",
     "output_type": "stream",
     "text": [
      "\n",
      "Valid Confusion Matrix:\n",
      "tensor([[6249,  112,  953],\n",
      "        [  89,  737,  222],\n",
      "        [1399,  269, 2060]], device='cuda:0')\n",
      "Epoch 42: 100%|██████████| 112/112 [00:35<00:00,  3.16it/s, v_num=0, lr=0.00025, valid_loss=0.911, valid_acc=0.743, valid_auprc=0.738, valid_auroc=0.845, valid_f1=0.699, train_loss=0.212, train_acc=0.912, train_auprc=0.967, train_auroc=0.983, train_f1=0.912]"
     ]
    },
    {
     "name": "stderr",
     "output_type": "stream",
     "text": [
      "Epoch 42, global step 4816: 'valid_auprc' was not in top 1\n"
     ]
    },
    {
     "name": "stdout",
     "output_type": "stream",
     "text": [
      "\n",
      "Valid Confusion Matrix:\n",
      "tensor([[6151,  139, 1024],\n",
      "        [  72,  767,  209],\n",
      "        [1371,  288, 2069]], device='cuda:0')\n",
      "Epoch 43: 100%|██████████| 112/112 [00:35<00:00,  3.15it/s, v_num=0, lr=0.00025, valid_loss=0.942, valid_acc=0.734, valid_auprc=0.734, valid_auroc=0.843, valid_f1=0.692, train_loss=0.212, train_acc=0.913, train_auprc=0.968, train_auroc=0.983, train_f1=0.913]"
     ]
    },
    {
     "name": "stderr",
     "output_type": "stream",
     "text": [
      "Epoch 43, global step 4928: 'valid_auprc' was not in top 1\n"
     ]
    },
    {
     "name": "stdout",
     "output_type": "stream",
     "text": [
      "\n",
      "Valid Confusion Matrix:\n",
      "tensor([[5987,  156, 1171],\n",
      "        [  68,  782,  198],\n",
      "        [1278,  341, 2109]], device='cuda:0')\n",
      "Epoch 44: 100%|██████████| 112/112 [00:35<00:00,  3.15it/s, v_num=0, lr=0.00025, valid_loss=0.926, valid_acc=0.748, valid_auprc=0.740, valid_auroc=0.844, valid_f1=0.703, train_loss=0.205, train_acc=0.917, train_auprc=0.969, train_auroc=0.984, train_f1=0.917]"
     ]
    },
    {
     "name": "stderr",
     "output_type": "stream",
     "text": [
      "Epoch 44, global step 5040: 'valid_auprc' was not in top 1\n"
     ]
    },
    {
     "name": "stdout",
     "output_type": "stream",
     "text": [
      "\n",
      "Valid Confusion Matrix:\n",
      "tensor([[6195,  154,  965],\n",
      "        [  83,  807,  158],\n",
      "        [1352,  337, 2039]], device='cuda:0')\n",
      "Epoch 45: 100%|██████████| 112/112 [00:35<00:00,  3.15it/s, v_num=0, lr=0.00025, valid_loss=0.945, valid_acc=0.737, valid_auprc=0.730, valid_auroc=0.839, valid_f1=0.695, train_loss=0.203, train_acc=0.918, train_auprc=0.970, train_auroc=0.984, train_f1=0.918]"
     ]
    },
    {
     "name": "stderr",
     "output_type": "stream",
     "text": [
      "Epoch 45, global step 5152: 'valid_auprc' was not in top 1\n"
     ]
    },
    {
     "name": "stdout",
     "output_type": "stream",
     "text": [
      "\n",
      "Valid Confusion Matrix:\n",
      "tensor([[6044,  142, 1128],\n",
      "        [  75,  776,  197],\n",
      "        [1314,  319, 2095]], device='cuda:0')\n",
      "Epoch 46: 100%|██████████| 112/112 [00:35<00:00,  3.16it/s, v_num=0, lr=0.00025, valid_loss=0.941, valid_acc=0.740, valid_auprc=0.737, valid_auroc=0.843, valid_f1=0.700, train_loss=0.200, train_acc=0.919, train_auprc=0.971, train_auroc=0.985, train_f1=0.919]"
     ]
    },
    {
     "name": "stderr",
     "output_type": "stream",
     "text": [
      "Epoch 46, global step 5264: 'valid_auprc' was not in top 1\n"
     ]
    },
    {
     "name": "stdout",
     "output_type": "stream",
     "text": [
      "\n",
      "Valid Confusion Matrix:\n",
      "tensor([[6076,  133, 1105],\n",
      "        [  79,  782,  187],\n",
      "        [1342,  298, 2088]], device='cuda:0')\n",
      "Epoch 47: 100%|██████████| 112/112 [00:35<00:00,  3.16it/s, v_num=0, lr=0.00025, valid_loss=0.951, valid_acc=0.739, valid_auprc=0.736, valid_auroc=0.842, valid_f1=0.696, train_loss=0.195, train_acc=0.922, train_auprc=0.972, train_auroc=0.985, train_f1=0.922]"
     ]
    },
    {
     "name": "stderr",
     "output_type": "stream",
     "text": [
      "Epoch 47, global step 5376: 'valid_auprc' was not in top 1\n"
     ]
    },
    {
     "name": "stdout",
     "output_type": "stream",
     "text": [
      "\n",
      "Valid Confusion Matrix:\n",
      "tensor([[6096,  155, 1063],\n",
      "        [  85,  794,  169],\n",
      "        [1342,  337, 2049]], device='cuda:0')\n",
      "Epoch 48: 100%|██████████| 112/112 [00:35<00:00,  3.16it/s, v_num=0, lr=0.00025, valid_loss=0.967, valid_acc=0.749, valid_auprc=0.738, valid_auroc=0.844, valid_f1=0.699, train_loss=0.198, train_acc=0.920, train_auprc=0.971, train_auroc=0.985, train_f1=0.920]"
     ]
    },
    {
     "name": "stderr",
     "output_type": "stream",
     "text": [
      "Epoch 48, global step 5488: 'valid_auprc' was not in top 1\n"
     ]
    },
    {
     "name": "stdout",
     "output_type": "stream",
     "text": [
      "\n",
      "Valid Confusion Matrix:\n",
      "tensor([[6330,  150,  834],\n",
      "        [  87,  787,  174],\n",
      "        [1465,  322, 1941]], device='cuda:0')\n",
      "Epoch 49: 100%|██████████| 112/112 [00:35<00:00,  3.16it/s, v_num=0, lr=0.00025, valid_loss=0.962, valid_acc=0.735, valid_auprc=0.733, valid_auroc=0.841, valid_f1=0.688, train_loss=0.192, train_acc=0.924, train_auprc=0.973, train_auroc=0.986, train_f1=0.924]"
     ]
    },
    {
     "name": "stderr",
     "output_type": "stream",
     "text": [
      "Epoch 49, global step 5600: 'valid_auprc' was not in top 1\n"
     ]
    },
    {
     "name": "stdout",
     "output_type": "stream",
     "text": [
      "\n",
      "Valid Confusion Matrix:\n",
      "tensor([[6100,  161, 1053],\n",
      "        [  79,  773,  196],\n",
      "        [1384,  331, 2013]], device='cuda:0')\n"
     ]
    },
    {
     "name": "stderr",
     "output_type": "stream",
     "text": [
      "`Trainer.fit` stopped: `max_epochs=50` reached.\n"
     ]
    }
   ],
   "source": [
    "trainer.fit(model, datamodule=dm)"
   ]
  },
  {
   "cell_type": "markdown",
   "metadata": {},
   "source": [
    "## Evaluate on the Test Set\n"
   ]
  },
  {
   "cell_type": "code",
   "execution_count": 7,
   "metadata": {},
   "outputs": [],
   "source": [
    "import torch\n",
    "from sklearn.metrics import (\n",
    "    ConfusionMatrixDisplay,\n",
    "    accuracy_score,\n",
    "    classification_report,\n",
    "    confusion_matrix,\n",
    "    f1_score,\n",
    ")\n",
    "from torchmetrics.aggregation import CatMetric, MeanMetric\n",
    "from torchmetrics.functional.classification import (\n",
    "    multiclass_auroc,\n",
    "    multiclass_average_precision,\n",
    ")\n",
    "\n",
    "\n",
    "def aggregate_metrics(results):\n",
    "    loss_metric = MeanMetric()\n",
    "    y_pred_metric = CatMetric()\n",
    "    y_metric = CatMetric()\n",
    "\n",
    "    for result in results:\n",
    "        loss_metric.update(result[\"loss\"])\n",
    "        y_pred_metric.update(result[\"y_pred\"])\n",
    "        y_metric.update(result[\"y\"])\n",
    "    loss = loss_metric.compute()\n",
    "    y_pred = y_pred_metric.compute()\n",
    "    y = y_metric.compute().to(torch.long)\n",
    "    y_hat = y_pred.argmax(dim=1).to(torch.long)\n",
    "\n",
    "    return loss, y_pred, y, y_hat"
   ]
  },
  {
   "cell_type": "markdown",
   "metadata": {},
   "source": [
    "### Last model"
   ]
  },
  {
   "cell_type": "code",
   "execution_count": 8,
   "metadata": {},
   "outputs": [
    {
     "name": "stderr",
     "output_type": "stream",
     "text": [
      "LOCAL_RANK: 0 - CUDA_VISIBLE_DEVICES: [0]\n"
     ]
    },
    {
     "name": "stdout",
     "output_type": "stream",
     "text": [
      "Predicting DataLoader 0: 100%|██████████| 25/25 [00:02<00:00, 12.14it/s]\n",
      "test_loss: 1.0888060331344604\n",
      "test_auprc: 0.694657027721405\n",
      "test_auroc: 0.8259744644165039\n",
      "              precision    recall  f1-score   support\n",
      "\n",
      "           N       0.81      0.81      0.81      7495\n",
      "           A       0.58      0.66      0.62      1175\n",
      "           O       0.57      0.54      0.55      3671\n",
      "\n",
      "    accuracy                           0.72     12341\n",
      "   macro avg       0.65      0.67      0.66     12341\n",
      "weighted avg       0.72      0.72      0.72     12341\n",
      "\n"
     ]
    },
    {
     "data": {
      "image/png": "[encoded data removed]",
      "text/plain": [
       "<Figure size 640x480 with 2 Axes>"
      ]
     },
     "metadata": {},
     "output_type": "display_data"
    }
   ],
   "source": [
    "model = DenseNetGruEcgModule.load_from_checkpoint(checkpoint_callback.last_model_path)\n",
    "results = trainer.predict(model, dataloaders=dm)\n",
    "test_loss, test_y_pred, test_y, test_y_hat = aggregate_metrics(results)\n",
    "\n",
    "# loss\n",
    "print(f\"test_loss: {test_loss}\")\n",
    "\n",
    "# auprc\n",
    "test_auprc = multiclass_average_precision(test_y_pred, test_y, num_classes=dm.num_classes)\n",
    "print(f\"test_auprc: {test_auprc}\")\n",
    "\n",
    "# auroc\n",
    "test_auroc = multiclass_auroc(test_y_pred, test_y, num_classes=dm.num_classes)\n",
    "print(f\"test_auroc: {test_auroc}\")\n",
    "\n",
    "# classification report\n",
    "print(classification_report(test_y, test_y_hat, target_names=dm.test_set.classes))\n",
    "\n",
    "# confusion matrix\n",
    "test_cm = confusion_matrix(test_y, test_y_hat)\n",
    "test_cm_disp = ConfusionMatrixDisplay(\n",
    "    confusion_matrix=test_cm, display_labels=dm.test_set.classes\n",
    ")\n",
    "test_cm_disp.plot(cmap=\"Blues\")\n",
    "plt.show()\n",
    "\n",
    "# logger\n",
    "if wandb_mode != \"disabled\":\n",
    "    wandb.log({\"last_test_loss\": test_loss.item()})\n",
    "    wandb.log({\"last_test_auprc\": test_auprc.item()})\n",
    "    wandb.log({\"last_test_auroc\": test_auroc.item()})\n",
    "    wandb.log({\"last_test_f1\": f1_score(test_y, test_y_hat, average=\"macro\")})\n",
    "    wandb.log({\"last_test_accuracy\": accuracy_score(test_y, test_y_hat)})\n",
    "    wandb.log({\"last_test_cm\": test_cm_disp.figure_})"
   ]
  },
  {
   "cell_type": "markdown",
   "metadata": {},
   "source": [
    "### Best model"
   ]
  },
  {
   "cell_type": "code",
   "execution_count": 9,
   "metadata": {},
   "outputs": [
    {
     "name": "stderr",
     "output_type": "stream",
     "text": [
      "LOCAL_RANK: 0 - CUDA_VISIBLE_DEVICES: [0]\n"
     ]
    },
    {
     "name": "stdout",
     "output_type": "stream",
     "text": [
      "Predicting DataLoader 0: 100%|██████████| 25/25 [00:02<00:00, 12.38it/s]\n",
      "test_loss: 0.7805128693580627\n",
      "test_auprc: 0.7143346667289734\n",
      "test_auroc: 0.8356711268424988\n",
      "              precision    recall  f1-score   support\n",
      "\n",
      "           N       0.80      0.88      0.84      7495\n",
      "           A       0.60      0.72      0.65      1175\n",
      "           O       0.65      0.48      0.55      3671\n",
      "\n",
      "    accuracy                           0.75     12341\n",
      "   macro avg       0.68      0.69      0.68     12341\n",
      "weighted avg       0.74      0.75      0.74     12341\n",
      "\n"
     ]
    },
    {
     "data": {
      "image/png": "[encoded data removed]",
      "text/plain": [
       "<Figure size 640x480 with 2 Axes>"
      ]
     },
     "metadata": {},
     "output_type": "display_data"
    }
   ],
   "source": [
    "model = DenseNetGruEcgModule.load_from_checkpoint(checkpoint_callback.best_model_path)\n",
    "results = trainer.predict(model, dataloaders=dm)\n",
    "test_loss, test_y_pred, test_y, test_y_hat = aggregate_metrics(results)\n",
    "\n",
    "# loss\n",
    "print(f\"test_loss: {test_loss}\")\n",
    "\n",
    "# auprc\n",
    "test_auprc = multiclass_average_precision(test_y_pred, test_y, num_classes=dm.num_classes)\n",
    "print(f\"test_auprc: {test_auprc}\")\n",
    "\n",
    "# auroc\n",
    "test_auroc = multiclass_auroc(test_y_pred, test_y, num_classes=dm.num_classes)\n",
    "print(f\"test_auroc: {test_auroc}\")\n",
    "\n",
    "# classification report\n",
    "print(classification_report(test_y, test_y_hat, target_names=dm.test_set.classes))\n",
    "\n",
    "# confusion matrix\n",
    "test_cm = confusion_matrix(test_y, test_y_hat)\n",
    "test_cm_disp = ConfusionMatrixDisplay(\n",
    "    confusion_matrix=test_cm, display_labels=dm.test_set.classes\n",
    ")\n",
    "test_cm_disp.plot(cmap=\"Blues\")\n",
    "plt.show()\n",
    "\n",
    "# logger\n",
    "if wandb_mode != \"disabled\":\n",
    "    wandb.log({\"best_test_loss\": test_loss.item()})\n",
    "    wandb.log({\"best_test_auprc\": test_auprc.item()})\n",
    "    wandb.log({\"best_test_auroc\": test_auroc.item()})\n",
    "    wandb.log({\"best_test_f1\": f1_score(test_y, test_y_hat, average=\"macro\")})\n",
    "    wandb.log({\"best_test_accuracy\": accuracy_score(test_y, test_y_hat)})\n",
    "    wandb.log({\"best_test_cm\": test_cm_disp.figure_})"
   ]
  },
  {
   "cell_type": "code",
   "execution_count": 10,
   "metadata": {},
   "outputs": [],
   "source": [
    "wandb.finish()"
   ]
  }
 ],
 "metadata": {
  "kernelspec": {
   "display_name": "awin-ecg",
   "language": "python",
   "name": "python3"
  },
  "language_info": {
   "codemirror_mode": {
    "name": "ipython",
    "version": 3
   },
   "file_extension": ".py",
   "mimetype": "text/x-python",
   "name": "python",
   "nbconvert_exporter": "python",
   "pygments_lexer": "ipython3",
   "version": "3.11.11"
  }
 },
 "nbformat": 4,
 "nbformat_minor": 2
}
