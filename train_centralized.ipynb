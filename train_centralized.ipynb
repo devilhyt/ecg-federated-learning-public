{
 "cells": [
  {
   "cell_type": "markdown",
   "metadata": {},
   "source": [
    "# Centralized learning for ECG Arrhythmia detection\n"
   ]
  },
  {
   "cell_type": "code",
   "execution_count": 1,
   "metadata": {},
   "outputs": [
    {
     "name": "stderr",
     "output_type": "stream",
     "text": [
      "/home/g113056077/.pyenv/versions/awin-ecg/lib/python3.11/site-packages/tqdm/auto.py:21: TqdmWarning: IProgress not found. Please update jupyter and ipywidgets. See https://ipywidgets.readthedocs.io/en/stable/user_install.html\n",
      "  from .autonotebook import tqdm as notebook_tqdm\n"
     ]
    }
   ],
   "source": [
    "import configparser\n",
    "import os\n",
    "from pathlib import Path\n",
    "\n",
    "import lightning as L\n",
    "import matplotlib.pyplot as plt\n",
    "import wandb\n",
    "from dotenv import load_dotenv\n",
    "from lightning.pytorch.callbacks import EarlyStopping, ModelCheckpoint, TQDMProgressBar\n",
    "from lightning.pytorch.loggers import TensorBoardLogger, WandbLogger\n",
    "\n",
    "from dataset_utils import Cinc2017DataModule\n",
    "from model import DenseNetEcgModule"
   ]
  },
  {
   "cell_type": "markdown",
   "metadata": {},
   "source": [
    "## Config\n"
   ]
  },
  {
   "cell_type": "code",
   "execution_count": 2,
   "metadata": {},
   "outputs": [],
   "source": [
    "load_dotenv()\n",
    "wandb_mode = os.getenv(\"WANDB_MODE\")\n",
    "\n",
    "config = configparser.ConfigParser()\n",
    "config.read(\"config.ini\")\n",
    "dst_freq = config.getint(\"data_preprocessing\", \"dst_freq\")\n",
    "dst_time = config.getint(\"data_preprocessing\", \"dst_time\")\n",
    "dst_length = dst_freq * dst_time\n",
    "\n",
    "MAX_EPOCHS = 50"
   ]
  },
  {
   "cell_type": "markdown",
   "metadata": {},
   "source": [
    "## Prepare the Dataset\n"
   ]
  },
  {
   "cell_type": "code",
   "execution_count": 3,
   "metadata": {},
   "outputs": [],
   "source": [
    "dm = Cinc2017DataModule(batch_size=64)"
   ]
  },
  {
   "cell_type": "markdown",
   "metadata": {},
   "source": [
    "## Create the Model\n"
   ]
  },
  {
   "cell_type": "code",
   "execution_count": 4,
   "metadata": {},
   "outputs": [],
   "source": [
    "model = DenseNetEcgModule(\n",
    "    max_epochs=MAX_EPOCHS,\n",
    "    num_classes=dm.num_classes,\n",
    "    input_length=dst_length,\n",
    "    lr_scheduler_mode=\"multi_step\",\n",
    "    lr=1e-3,\n",
    "    # min_lr = 1e-4,\n",
    "    show_valid_cm=True,\n",
    "    growth_rate=16,\n",
    "    block_config=(4, 12, 8, 8, 24, 16, 16),\n",
    "    num_init_features=64,\n",
    "    bn_size=4,\n",
    "    db_drop_rate=0.2,\n",
    "    memory_efficient=False,\n",
    "    compression_factor=0.5,\n",
    ")\n",
    "\n",
    "# the number of features per denseblock:\n",
    "# (64 + 4 * 16) // 2 = 64\n",
    "# (64 + 4 * 16) // 2 = 64\n",
    "# (64 + 12 * 16) // 2 = 128\n",
    "# (128 + 8 * 16) // 2 = 128\n",
    "# (128 + 8 * 16) // 2 = 128\n",
    "# (256 + 8 * 16) // 2 = 128"
   ]
  },
  {
   "cell_type": "markdown",
   "metadata": {},
   "source": [
    "## Create the Trainer\n"
   ]
  },
  {
   "cell_type": "code",
   "execution_count": 5,
   "metadata": {},
   "outputs": [
    {
     "name": "stderr",
     "output_type": "stream",
     "text": [
      "GPU available: True (cuda), used: True\n",
      "TPU available: False, using: 0 TPU cores\n",
      "HPU available: False, using: 0 HPUs\n"
     ]
    }
   ],
   "source": [
    "checkpoint_callback = ModelCheckpoint(\n",
    "    monitor=\"valid_auprc\",\n",
    "    verbose=True,\n",
    "    mode=\"max\",\n",
    "    save_top_k=1,\n",
    "    save_last=True,\n",
    ")\n",
    "\n",
    "# early_stopping_callback = EarlyStopping(\n",
    "#     monitor=\"valid_loss\", patience=8, verbose=True, mode=\"min\"\n",
    "# )\n",
    "\n",
    "progress_bar_callback = TQDMProgressBar(leave=True)\n",
    "\n",
    "project_name = \"awin-densenet-ecg-centralized\"\n",
    "if wandb_mode == \"disabled\":\n",
    "    logger = TensorBoardLogger(save_dir=Path(\"tb_logs\"), name=project_name)\n",
    "else:\n",
    "    logger = WandbLogger(\n",
    "        project=project_name, save_dir=Path(\"wandb_logs\"), log_model=True, name=project_name\n",
    "    )\n",
    "\n",
    "trainer = L.Trainer(\n",
    "    max_epochs=MAX_EPOCHS,\n",
    "    callbacks=[checkpoint_callback, progress_bar_callback],\n",
    "    logger=logger,\n",
    ")"
   ]
  },
  {
   "cell_type": "markdown",
   "metadata": {},
   "source": [
    "## Train the Model\n"
   ]
  },
  {
   "cell_type": "code",
   "execution_count": 6,
   "metadata": {},
   "outputs": [
    {
     "name": "stderr",
     "output_type": "stream",
     "text": [
      "\u001b[34m\u001b[1mwandb\u001b[0m: Using wandb-core as the SDK backend.  Please refer to https://wandb.me/wandb-core for more information.\n",
      "\u001b[34m\u001b[1mwandb\u001b[0m: Currently logged in as: \u001b[33mdevilhyt\u001b[0m to \u001b[32mhttps://api.wandb.ai\u001b[0m. Use \u001b[1m`wandb login --relogin`\u001b[0m to force relogin\n"
     ]
    },
    {
     "data": {
      "text/html": [
       "Tracking run with wandb version 0.19.7"
      ],
      "text/plain": [
       "<IPython.core.display.HTML object>"
      ]
     },
     "metadata": {},
     "output_type": "display_data"
    },
    {
     "data": {
      "text/html": [
       "Run data is saved locally in <code>wandb_logs/wandb/run-20250307_065828-iky02apx</code>"
      ],
      "text/plain": [
       "<IPython.core.display.HTML object>"
      ]
     },
     "metadata": {},
     "output_type": "display_data"
    },
    {
     "data": {
      "text/html": [
       "Syncing run <strong><a href='https://wandb.ai/devilhyt/awin-densenet-ecg-centralized/runs/iky02apx' target=\"_blank\">awin-densenet-ecg-centralized</a></strong> to <a href='https://wandb.ai/devilhyt/awin-densenet-ecg-centralized' target=\"_blank\">Weights & Biases</a> (<a href='https://wandb.me/developer-guide' target=\"_blank\">docs</a>)<br>"
      ],
      "text/plain": [
       "<IPython.core.display.HTML object>"
      ]
     },
     "metadata": {},
     "output_type": "display_data"
    },
    {
     "data": {
      "text/html": [
       " View project at <a href='https://wandb.ai/devilhyt/awin-densenet-ecg-centralized' target=\"_blank\">https://wandb.ai/devilhyt/awin-densenet-ecg-centralized</a>"
      ],
      "text/plain": [
       "<IPython.core.display.HTML object>"
      ]
     },
     "metadata": {},
     "output_type": "display_data"
    },
    {
     "data": {
      "text/html": [
       " View run at <a href='https://wandb.ai/devilhyt/awin-densenet-ecg-centralized/runs/iky02apx' target=\"_blank\">https://wandb.ai/devilhyt/awin-densenet-ecg-centralized/runs/iky02apx</a>"
      ],
      "text/plain": [
       "<IPython.core.display.HTML object>"
      ]
     },
     "metadata": {},
     "output_type": "display_data"
    },
    {
     "name": "stderr",
     "output_type": "stream",
     "text": [
      "LOCAL_RANK: 0 - CUDA_VISIBLE_DEVICES: [0]\n",
      "\n",
      "  | Name          | Type                      | Params | Mode  | In sizes     | Out sizes\n",
      "-----------------------------------------------------------------------------------------------\n",
      "0 | model         | DenseNetEcg               | 2.4 M  | train | [1, 1, 5800] | [1, 3]   \n",
      "1 | loss_fn       | CrossEntropyLoss          | 0      | train | ?            | ?        \n",
      "2 | train_metrics | MetricCollection          | 0      | train | ?            | ?        \n",
      "3 | valid_metrics | MetricCollection          | 0      | train | ?            | ?        \n",
      "4 | test_metrics  | MetricCollection          | 0      | train | ?            | ?        \n",
      "5 | valid_cm      | MulticlassConfusionMatrix | 0      | train | ?            | ?        \n",
      "6 | test_cm       | MulticlassConfusionMatrix | 0      | train | ?            | ?        \n",
      "-----------------------------------------------------------------------------------------------\n",
      "2.4 M     Trainable params\n",
      "0         Non-trainable params\n",
      "2.4 M     Total params\n",
      "9.657     Total estimated model params size (MB)\n",
      "776       Modules in train mode\n",
      "0         Modules in eval mode\n"
     ]
    },
    {
     "name": "stdout",
     "output_type": "stream",
     "text": [
      "Training: |          | 0/? [00:00<?, ?it/s]                                \n",
      "Epoch 0: 100%|██████████| 91/91 [00:09<00:00,  9.44it/s, v_num=2apx, lr=0.001, valid_loss=1.190, valid_acc=0.530, valid_auprc=0.461, valid_auroc=0.664, valid_f1=0.398, train_loss=1.070, train_acc=0.408, train_auprc=0.418, train_auroc=0.591, train_f1=0.404]"
     ]
    },
    {
     "name": "stderr",
     "output_type": "stream",
     "text": [
      "Epoch 0, global step 91: 'valid_auprc' reached 0.46110 (best 0.46110), saving model to 'wandb_logs/awin-densenet-ecg-centralized/iky02apx/checkpoints/epoch=0-step=91.ckpt' as top 1\n"
     ]
    },
    {
     "name": "stdout",
     "output_type": "stream",
     "text": [
      "\n",
      "Valid Confusion Matrix:\n",
      "tensor([[539, 188,  35],\n",
      "        [ 32,  70,  12],\n",
      "        [179, 136,  47]], device='cuda:0')\n",
      "Epoch 1: 100%|██████████| 91/91 [00:09<00:00,  9.60it/s, v_num=2apx, lr=0.001, valid_loss=0.790, valid_acc=0.682, valid_auprc=0.653, valid_auroc=0.816, valid_f1=0.575, train_loss=0.951, train_acc=0.533, train_auprc=0.549, train_auroc=0.713, train_f1=0.524]\n",
      "Valid Confusion Matrix:\n",
      "tensor([[637,  52,  73],\n",
      "        [ 17,  84,  13],\n",
      "        [133, 106, 123]], device='cuda:0')\n"
     ]
    },
    {
     "name": "stderr",
     "output_type": "stream",
     "text": [
      "Epoch 1, global step 182: 'valid_auprc' reached 0.65322 (best 0.65322), saving model to 'wandb_logs/awin-densenet-ecg-centralized/iky02apx/checkpoints/epoch=1-step=182.ckpt' as top 1\n"
     ]
    },
    {
     "name": "stdout",
     "output_type": "stream",
     "text": [
      "Epoch 2: 100%|██████████| 91/91 [00:09<00:00,  9.35it/s, v_num=2apx, lr=0.001, valid_loss=0.596, valid_acc=0.769, valid_auprc=0.719, valid_auroc=0.867, valid_f1=0.696, train_loss=0.775, train_acc=0.638, train_auprc=0.694, train_auroc=0.819, train_f1=0.628]"
     ]
    },
    {
     "name": "stderr",
     "output_type": "stream",
     "text": [
      "Epoch 2, global step 273: 'valid_auprc' reached 0.71919 (best 0.71919), saving model to 'wandb_logs/awin-densenet-ecg-centralized/iky02apx/checkpoints/epoch=2-step=273.ckpt' as top 1\n"
     ]
    },
    {
     "name": "stdout",
     "output_type": "stream",
     "text": [
      "\n",
      "Valid Confusion Matrix:\n",
      "tensor([[680,  19,  63],\n",
      "        [ 12,  82,  20],\n",
      "        [126,  46, 190]], device='cuda:0')\n",
      "Epoch 3: 100%|██████████| 91/91 [00:09<00:00,  9.22it/s, v_num=2apx, lr=0.001, valid_loss=0.677, valid_acc=0.746, valid_auprc=0.730, valid_auroc=0.872, valid_f1=0.667, train_loss=0.624, train_acc=0.731, train_auprc=0.791, train_auroc=0.885, train_f1=0.725]\n",
      "Valid Confusion Matrix:\n",
      "tensor([[648,  47,  67],\n",
      "        [  5,  95,  14],\n",
      "        [102,  79, 181]], device='cuda:0')\n"
     ]
    },
    {
     "name": "stderr",
     "output_type": "stream",
     "text": [
      "Epoch 3, global step 364: 'valid_auprc' reached 0.73001 (best 0.73001), saving model to 'wandb_logs/awin-densenet-ecg-centralized/iky02apx/checkpoints/epoch=3-step=364.ckpt' as top 1\n"
     ]
    },
    {
     "name": "stdout",
     "output_type": "stream",
     "text": [
      "Epoch 4: 100%|██████████| 91/91 [00:09<00:00,  9.53it/s, v_num=2apx, lr=0.001, valid_loss=0.600, valid_acc=0.769, valid_auprc=0.783, valid_auroc=0.884, valid_f1=0.691, train_loss=0.596, train_acc=0.745, train_auprc=0.814, train_auroc=0.896, train_f1=0.741]"
     ]
    },
    {
     "name": "stderr",
     "output_type": "stream",
     "text": [
      "Epoch 4, global step 455: 'valid_auprc' reached 0.78295 (best 0.78295), saving model to 'wandb_logs/awin-densenet-ecg-centralized/iky02apx/checkpoints/epoch=4-step=455.ckpt' as top 1\n"
     ]
    },
    {
     "name": "stdout",
     "output_type": "stream",
     "text": [
      "\n",
      "Valid Confusion Matrix:\n",
      "tensor([[667,  51,  44],\n",
      "        [  5, 102,   7],\n",
      "        [100,  79, 183]], device='cuda:0')\n",
      "Epoch 5: 100%|██████████| 91/91 [00:09<00:00,  9.41it/s, v_num=2apx, lr=0.001, valid_loss=0.615, valid_acc=0.794, valid_auprc=0.813, valid_auroc=0.896, valid_f1=0.727, train_loss=0.531, train_acc=0.784, train_auprc=0.845, train_auroc=0.917, train_f1=0.783]"
     ]
    },
    {
     "name": "stderr",
     "output_type": "stream",
     "text": [
      "Epoch 5, global step 546: 'valid_auprc' reached 0.81348 (best 0.81348), saving model to 'wandb_logs/awin-densenet-ecg-centralized/iky02apx/checkpoints/epoch=5-step=546.ckpt' as top 1\n"
     ]
    },
    {
     "name": "stdout",
     "output_type": "stream",
     "text": [
      "\n",
      "Valid Confusion Matrix:\n",
      "tensor([[669,  34,  59],\n",
      "        [  5, 103,   6],\n",
      "        [ 79,  72, 211]], device='cuda:0')\n",
      "Epoch 6: 100%|██████████| 91/91 [00:09<00:00,  9.47it/s, v_num=2apx, lr=0.001, valid_loss=0.542, valid_acc=0.800, valid_auprc=0.840, valid_auroc=0.914, valid_f1=0.750, train_loss=0.527, train_acc=0.783, train_auprc=0.846, train_auroc=0.916, train_f1=0.782]\n",
      "Valid Confusion Matrix:\n",
      "tensor([[655,  24,  83],\n",
      "        [  4, 106,   4],\n",
      "        [ 74,  59, 229]], device='cuda:0')\n"
     ]
    },
    {
     "name": "stderr",
     "output_type": "stream",
     "text": [
      "Epoch 6, global step 637: 'valid_auprc' reached 0.83996 (best 0.83996), saving model to 'wandb_logs/awin-densenet-ecg-centralized/iky02apx/checkpoints/epoch=6-step=637.ckpt' as top 1\n"
     ]
    },
    {
     "name": "stdout",
     "output_type": "stream",
     "text": [
      "Epoch 7: 100%|██████████| 91/91 [00:09<00:00,  9.49it/s, v_num=2apx, lr=0.001, valid_loss=0.493, valid_acc=0.821, valid_auprc=0.852, valid_auroc=0.924, valid_f1=0.763, train_loss=0.481, train_acc=0.800, train_auprc=0.872, train_auroc=0.930, train_f1=0.797]"
     ]
    },
    {
     "name": "stderr",
     "output_type": "stream",
     "text": [
      "Epoch 7, global step 728: 'valid_auprc' reached 0.85198 (best 0.85198), saving model to 'wandb_logs/awin-densenet-ecg-centralized/iky02apx/checkpoints/epoch=7-step=728.ckpt' as top 1\n"
     ]
    },
    {
     "name": "stdout",
     "output_type": "stream",
     "text": [
      "\n",
      "Valid Confusion Matrix:\n",
      "tensor([[709,  16,  37],\n",
      "        [  2, 106,   6],\n",
      "        [106,  55, 201]], device='cuda:0')\n",
      "Epoch 8: 100%|██████████| 91/91 [00:09<00:00,  9.30it/s, v_num=2apx, lr=0.001, valid_loss=0.450, valid_acc=0.826, valid_auprc=0.859, valid_auroc=0.928, valid_f1=0.781, train_loss=0.481, train_acc=0.807, train_auprc=0.870, train_auroc=0.931, train_f1=0.805]"
     ]
    },
    {
     "name": "stderr",
     "output_type": "stream",
     "text": [
      "Epoch 8, global step 819: 'valid_auprc' reached 0.85861 (best 0.85861), saving model to 'wandb_logs/awin-densenet-ecg-centralized/iky02apx/checkpoints/epoch=8-step=819.ckpt' as top 1\n"
     ]
    },
    {
     "name": "stdout",
     "output_type": "stream",
     "text": [
      "\n",
      "Valid Confusion Matrix:\n",
      "tensor([[688,  14,  60],\n",
      "        [  3, 102,   9],\n",
      "        [ 88,  42, 232]], device='cuda:0')\n",
      "Epoch 9: 100%|██████████| 91/91 [00:09<00:00,  9.21it/s, v_num=2apx, lr=0.001, valid_loss=0.445, valid_acc=0.843, valid_auprc=0.852, valid_auroc=0.927, valid_f1=0.797, train_loss=0.428, train_acc=0.827, train_auprc=0.892, train_auroc=0.942, train_f1=0.824]"
     ]
    },
    {
     "name": "stderr",
     "output_type": "stream",
     "text": [
      "Epoch 9, global step 910: 'valid_auprc' was not in top 1\n"
     ]
    },
    {
     "name": "stdout",
     "output_type": "stream",
     "text": [
      "\n",
      "Valid Confusion Matrix:\n",
      "tensor([[715,   9,  38],\n",
      "        [  5,  97,  12],\n",
      "        [ 96,  34, 232]], device='cuda:0')\n",
      "Epoch 10: 100%|██████████| 91/91 [00:09<00:00,  9.33it/s, v_num=2apx, lr=0.001, valid_loss=0.425, valid_acc=0.839, valid_auprc=0.866, valid_auroc=0.934, valid_f1=0.797, train_loss=0.433, train_acc=0.823, train_auprc=0.892, train_auroc=0.943, train_f1=0.822]\n"
     ]
    },
    {
     "name": "stderr",
     "output_type": "stream",
     "text": [
      "Epoch 10, global step 1001: 'valid_auprc' reached 0.86647 (best 0.86647), saving model to 'wandb_logs/awin-densenet-ecg-centralized/iky02apx/checkpoints/epoch=10-step=1001.ckpt' as top 1\n"
     ]
    },
    {
     "name": "stdout",
     "output_type": "stream",
     "text": [
      "Valid Confusion Matrix:\n",
      "tensor([[699,  16,  47],\n",
      "        [  3, 102,   9],\n",
      "        [ 89,  35, 238]], device='cuda:0')\n",
      "Epoch 11: 100%|██████████| 91/91 [00:09<00:00,  9.21it/s, v_num=2apx, lr=0.001, valid_loss=0.517, valid_acc=0.806, valid_auprc=0.849, valid_auroc=0.926, valid_f1=0.757, train_loss=0.432, train_acc=0.829, train_auprc=0.893, train_auroc=0.942, train_f1=0.826]\n",
      "Valid Confusion Matrix:\n",
      "tensor([[658,  23,  81],\n",
      "        [  1, 108,   5],\n",
      "        [ 69,  61, 232]], device='cuda:0')\n"
     ]
    },
    {
     "name": "stderr",
     "output_type": "stream",
     "text": [
      "Epoch 11, global step 1092: 'valid_auprc' was not in top 1\n"
     ]
    },
    {
     "name": "stdout",
     "output_type": "stream",
     "text": [
      "Epoch 12: 100%|██████████| 91/91 [00:09<00:00,  9.58it/s, v_num=2apx, lr=0.001, valid_loss=0.443, valid_acc=0.844, valid_auprc=0.868, valid_auroc=0.936, valid_f1=0.811, train_loss=0.410, train_acc=0.832, train_auprc=0.897, train_auroc=0.946, train_f1=0.831]"
     ]
    },
    {
     "name": "stderr",
     "output_type": "stream",
     "text": [
      "Epoch 12, global step 1183: 'valid_auprc' reached 0.86766 (best 0.86766), saving model to 'wandb_logs/awin-densenet-ecg-centralized/iky02apx/checkpoints/epoch=12-step=1183.ckpt' as top 1\n"
     ]
    },
    {
     "name": "stdout",
     "output_type": "stream",
     "text": [
      "\n",
      "Valid Confusion Matrix:\n",
      "tensor([[684,   9,  69],\n",
      "        [  2,  96,  16],\n",
      "        [ 73,  24, 265]], device='cuda:0')\n",
      "Epoch 13: 100%|██████████| 91/91 [00:09<00:00,  9.60it/s, v_num=2apx, lr=0.001, valid_loss=0.442, valid_acc=0.840, valid_auprc=0.862, valid_auroc=0.930, valid_f1=0.797, train_loss=0.388, train_acc=0.848, train_auprc=0.906, train_auroc=0.952, train_f1=0.846]"
     ]
    },
    {
     "name": "stderr",
     "output_type": "stream",
     "text": [
      "Epoch 13, global step 1274: 'valid_auprc' was not in top 1\n"
     ]
    },
    {
     "name": "stdout",
     "output_type": "stream",
     "text": [
      "\n",
      "Valid Confusion Matrix:\n",
      "tensor([[704,   6,  52],\n",
      "        [  3, 104,   7],\n",
      "        [ 86,  44, 232]], device='cuda:0')\n",
      "Epoch 14: 100%|██████████| 91/91 [00:09<00:00,  9.45it/s, v_num=2apx, lr=0.001, valid_loss=0.513, valid_acc=0.821, valid_auprc=0.854, valid_auroc=0.925, valid_f1=0.771, train_loss=0.366, train_acc=0.855, train_auprc=0.919, train_auroc=0.957, train_f1=0.854]"
     ]
    },
    {
     "name": "stderr",
     "output_type": "stream",
     "text": [
      "Epoch 14, global step 1365: 'valid_auprc' was not in top 1\n"
     ]
    },
    {
     "name": "stdout",
     "output_type": "stream",
     "text": [
      "\n",
      "Valid Confusion Matrix:\n",
      "tensor([[700,  15,  47],\n",
      "        [  5, 104,   5],\n",
      "        [103,  47, 212]], device='cuda:0')\n",
      "Epoch 15: 100%|██████████| 91/91 [00:09<00:00,  9.44it/s, v_num=2apx, lr=0.001, valid_loss=0.420, valid_acc=0.855, valid_auprc=0.881, valid_auroc=0.942, valid_f1=0.824, train_loss=0.365, train_acc=0.856, train_auprc=0.923, train_auroc=0.958, train_f1=0.855]"
     ]
    },
    {
     "name": "stderr",
     "output_type": "stream",
     "text": [
      "Epoch 15, global step 1456: 'valid_auprc' reached 0.88096 (best 0.88096), saving model to 'wandb_logs/awin-densenet-ecg-centralized/iky02apx/checkpoints/epoch=15-step=1456.ckpt' as top 1\n"
     ]
    },
    {
     "name": "stdout",
     "output_type": "stream",
     "text": [
      "\n",
      "Valid Confusion Matrix:\n",
      "tensor([[684,   2,  76],\n",
      "        [  4,  81,  29],\n",
      "        [ 63,   6, 293]], device='cuda:0')\n",
      "Epoch 16: 100%|██████████| 91/91 [00:09<00:00,  9.32it/s, v_num=2apx, lr=0.001, valid_loss=0.452, valid_acc=0.840, valid_auprc=0.874, valid_auroc=0.939, valid_f1=0.796, train_loss=0.376, train_acc=0.852, train_auprc=0.911, train_auroc=0.954, train_f1=0.850]"
     ]
    },
    {
     "name": "stderr",
     "output_type": "stream",
     "text": [
      "Epoch 16, global step 1547: 'valid_auprc' was not in top 1\n"
     ]
    },
    {
     "name": "stdout",
     "output_type": "stream",
     "text": [
      "\n",
      "Valid Confusion Matrix:\n",
      "tensor([[733,   5,  24],\n",
      "        [  3, 100,  11],\n",
      "        [123,  32, 207]], device='cuda:0')\n",
      "Epoch 17: 100%|██████████| 91/91 [00:09<00:00,  9.49it/s, v_num=2apx, lr=0.001, valid_loss=0.424, valid_acc=0.846, valid_auprc=0.864, valid_auroc=0.937, valid_f1=0.808, train_loss=0.344, train_acc=0.865, train_auprc=0.929, train_auroc=0.962, train_f1=0.865]\n",
      "Valid Confusion Matrix:\n",
      "tensor([[693,  10,  59],\n",
      "        [  3,  98,  13],\n",
      "        [ 76,  30, 256]], device='cuda:0')\n"
     ]
    },
    {
     "name": "stderr",
     "output_type": "stream",
     "text": [
      "Epoch 17, global step 1638: 'valid_auprc' was not in top 1\n"
     ]
    },
    {
     "name": "stdout",
     "output_type": "stream",
     "text": [
      "Epoch 18: 100%|██████████| 91/91 [00:09<00:00,  9.50it/s, v_num=2apx, lr=0.001, valid_loss=0.439, valid_acc=0.845, valid_auprc=0.859, valid_auroc=0.934, valid_f1=0.805, train_loss=0.372, train_acc=0.851, train_auprc=0.919, train_auroc=0.956, train_f1=0.850]"
     ]
    },
    {
     "name": "stderr",
     "output_type": "stream",
     "text": [
      "Epoch 18, global step 1729: 'valid_auprc' was not in top 1\n"
     ]
    },
    {
     "name": "stdout",
     "output_type": "stream",
     "text": [
      "\n",
      "Valid Confusion Matrix:\n",
      "tensor([[705,   4,  53],\n",
      "        [  3,  95,  16],\n",
      "        [ 86,  30, 246]], device='cuda:0')\n",
      "Epoch 19: 100%|██████████| 91/91 [00:09<00:00,  9.46it/s, v_num=2apx, lr=0.001, valid_loss=0.486, valid_acc=0.821, valid_auprc=0.846, valid_auroc=0.926, valid_f1=0.782, train_loss=0.335, train_acc=0.866, train_auprc=0.929, train_auroc=0.963, train_f1=0.864]"
     ]
    },
    {
     "name": "stderr",
     "output_type": "stream",
     "text": [
      "Epoch 19, global step 1820: 'valid_auprc' was not in top 1\n"
     ]
    },
    {
     "name": "stdout",
     "output_type": "stream",
     "text": [
      "\n",
      "Valid Confusion Matrix:\n",
      "tensor([[693,   5,  64],\n",
      "        [  3,  97,  14],\n",
      "        [101,  34, 227]], device='cuda:0')\n",
      "Epoch 20: 100%|██████████| 91/91 [00:09<00:00,  9.39it/s, v_num=2apx, lr=0.001, valid_loss=0.468, valid_acc=0.851, valid_auprc=0.855, valid_auroc=0.933, valid_f1=0.802, train_loss=0.328, train_acc=0.867, train_auprc=0.931, train_auroc=0.964, train_f1=0.864]\n"
     ]
    },
    {
     "name": "stderr",
     "output_type": "stream",
     "text": [
      "Epoch 20, global step 1911: 'valid_auprc' was not in top 1\n"
     ]
    },
    {
     "name": "stdout",
     "output_type": "stream",
     "text": [
      "Valid Confusion Matrix:\n",
      "tensor([[712,  11,  39],\n",
      "        [  4,  95,  15],\n",
      "        [ 83,  33, 246]], device='cuda:0')\n",
      "Epoch 21: 100%|██████████| 91/91 [00:09<00:00,  9.38it/s, v_num=2apx, lr=0.001, valid_loss=0.419, valid_acc=0.855, valid_auprc=0.879, valid_auroc=0.943, valid_f1=0.823, train_loss=0.336, train_acc=0.868, train_auprc=0.925, train_auroc=0.962, train_f1=0.865]"
     ]
    },
    {
     "name": "stderr",
     "output_type": "stream",
     "text": [
      "Epoch 21, global step 2002: 'valid_auprc' was not in top 1\n"
     ]
    },
    {
     "name": "stdout",
     "output_type": "stream",
     "text": [
      "\n",
      "Valid Confusion Matrix:\n",
      "tensor([[702,   4,  56],\n",
      "        [  2,  94,  18],\n",
      "        [ 78,  21, 263]], device='cuda:0')\n",
      "Epoch 22: 100%|██████████| 91/91 [00:09<00:00,  9.60it/s, v_num=2apx, lr=0.001, valid_loss=0.447, valid_acc=0.847, valid_auprc=0.867, valid_auroc=0.939, valid_f1=0.803, train_loss=0.344, train_acc=0.870, train_auprc=0.928, train_auroc=0.961, train_f1=0.869]"
     ]
    },
    {
     "name": "stderr",
     "output_type": "stream",
     "text": [
      "Epoch 22, global step 2093: 'valid_auprc' was not in top 1\n"
     ]
    },
    {
     "name": "stdout",
     "output_type": "stream",
     "text": [
      "\n",
      "Valid Confusion Matrix:\n",
      "tensor([[721,   3,  38],\n",
      "        [  6,  99,   9],\n",
      "        [ 95,  38, 229]], device='cuda:0')\n",
      "Epoch 23: 100%|██████████| 91/91 [00:09<00:00,  9.53it/s, v_num=2apx, lr=0.001, valid_loss=0.408, valid_acc=0.859, valid_auprc=0.889, valid_auroc=0.945, valid_f1=0.828, train_loss=0.314, train_acc=0.880, train_auprc=0.939, train_auroc=0.968, train_f1=0.878]\n"
     ]
    },
    {
     "name": "stderr",
     "output_type": "stream",
     "text": [
      "Epoch 23, global step 2184: 'valid_auprc' reached 0.88944 (best 0.88944), saving model to 'wandb_logs/awin-densenet-ecg-centralized/iky02apx/checkpoints/epoch=23-step=2184.ckpt' as top 1\n"
     ]
    },
    {
     "name": "stdout",
     "output_type": "stream",
     "text": [
      "Valid Confusion Matrix:\n",
      "tensor([[716,   4,  42],\n",
      "        [  4,  94,  16],\n",
      "        [ 92,  17, 253]], device='cuda:0')\n",
      "Epoch 24: 100%|██████████| 91/91 [00:09<00:00,  9.29it/s, v_num=2apx, lr=0.001, valid_loss=0.535, valid_acc=0.813, valid_auprc=0.854, valid_auroc=0.924, valid_f1=0.779, train_loss=0.313, train_acc=0.879, train_auprc=0.939, train_auroc=0.967, train_f1=0.879]\n",
      "Valid Confusion Matrix:\n",
      "tensor([[643,  17, 102],\n",
      "        [  3, 105,   6],\n",
      "        [ 61,  43, 258]], device='cuda:0')\n"
     ]
    },
    {
     "name": "stderr",
     "output_type": "stream",
     "text": [
      "Epoch 24, global step 2275: 'valid_auprc' was not in top 1\n"
     ]
    },
    {
     "name": "stdout",
     "output_type": "stream",
     "text": [
      "Epoch 25: 100%|██████████| 91/91 [00:09<00:00,  9.32it/s, v_num=2apx, lr=0.0005, valid_loss=0.443, valid_acc=0.841, valid_auprc=0.882, valid_auroc=0.942, valid_f1=0.813, train_loss=0.284, train_acc=0.888, train_auprc=0.947, train_auroc=0.972, train_f1=0.887]\n",
      "Valid Confusion Matrix:\n",
      "tensor([[673,   5,  84],\n",
      "        [  2,  97,  15],\n",
      "        [ 65,  26, 271]], device='cuda:0')\n"
     ]
    },
    {
     "name": "stderr",
     "output_type": "stream",
     "text": [
      "Epoch 25, global step 2366: 'valid_auprc' was not in top 1\n"
     ]
    },
    {
     "name": "stdout",
     "output_type": "stream",
     "text": [
      "Epoch 26: 100%|██████████| 91/91 [00:09<00:00,  9.47it/s, v_num=2apx, lr=0.0005, valid_loss=0.462, valid_acc=0.841, valid_auprc=0.876, valid_auroc=0.941, valid_f1=0.799, train_loss=0.268, train_acc=0.896, train_auprc=0.954, train_auroc=0.976, train_f1=0.896]"
     ]
    },
    {
     "name": "stderr",
     "output_type": "stream",
     "text": [
      "Epoch 26, global step 2457: 'valid_auprc' was not in top 1\n"
     ]
    },
    {
     "name": "stdout",
     "output_type": "stream",
     "text": [
      "\n",
      "Valid Confusion Matrix:\n",
      "tensor([[689,   9,  64],\n",
      "        [  1, 104,   9],\n",
      "        [ 69,  45, 248]], device='cuda:0')\n",
      "Epoch 27: 100%|██████████| 91/91 [00:09<00:00,  9.42it/s, v_num=2apx, lr=0.0005, valid_loss=0.445, valid_acc=0.845, valid_auprc=0.880, valid_auroc=0.944, valid_f1=0.799, train_loss=0.273, train_acc=0.896, train_auprc=0.952, train_auroc=0.974, train_f1=0.894]"
     ]
    },
    {
     "name": "stderr",
     "output_type": "stream",
     "text": [
      "Epoch 27, global step 2548: 'valid_auprc' was not in top 1\n"
     ]
    },
    {
     "name": "stdout",
     "output_type": "stream",
     "text": [
      "\n",
      "Valid Confusion Matrix:\n",
      "tensor([[709,   7,  46],\n",
      "        [  2, 101,  11],\n",
      "        [ 84,  42, 236]], device='cuda:0')\n",
      "Epoch 28: 100%|██████████| 91/91 [00:09<00:00,  9.59it/s, v_num=2apx, lr=0.0005, valid_loss=0.448, valid_acc=0.847, valid_auprc=0.875, valid_auroc=0.940, valid_f1=0.812, train_loss=0.252, train_acc=0.903, train_auprc=0.956, train_auroc=0.978, train_f1=0.903]\n",
      "Valid Confusion Matrix:\n",
      "tensor([[706,   5,  51],\n",
      "        [  3, 101,  10],\n",
      "        [ 88,  32, 242]], device='cuda:0')\n"
     ]
    },
    {
     "name": "stderr",
     "output_type": "stream",
     "text": [
      "Epoch 28, global step 2639: 'valid_auprc' was not in top 1\n"
     ]
    },
    {
     "name": "stdout",
     "output_type": "stream",
     "text": [
      "Epoch 29: 100%|██████████| 91/91 [00:09<00:00,  9.58it/s, v_num=2apx, lr=0.0005, valid_loss=0.432, valid_acc=0.856, valid_auprc=0.882, valid_auroc=0.944, valid_f1=0.831, train_loss=0.253, train_acc=0.903, train_auprc=0.957, train_auroc=0.978, train_f1=0.902]\n",
      "Valid Confusion Matrix:\n",
      "tensor([[693,   7,  62],\n",
      "        [  2,  97,  15],\n",
      "        [ 75,  17, 270]], device='cuda:0')\n"
     ]
    },
    {
     "name": "stderr",
     "output_type": "stream",
     "text": [
      "Epoch 29, global step 2730: 'valid_auprc' was not in top 1\n"
     ]
    },
    {
     "name": "stdout",
     "output_type": "stream",
     "text": [
      "Epoch 30: 100%|██████████| 91/91 [00:09<00:00,  9.53it/s, v_num=2apx, lr=0.0005, valid_loss=0.442, valid_acc=0.854, valid_auprc=0.885, valid_auroc=0.945, valid_f1=0.825, train_loss=0.240, train_acc=0.910, train_auprc=0.957, train_auroc=0.979, train_f1=0.908]\n",
      "Valid Confusion Matrix:\n",
      "tensor([[701,   5,  56],\n",
      "        [  3, 102,   9],\n",
      "        [ 81,  27, 254]], device='cuda:0')\n"
     ]
    },
    {
     "name": "stderr",
     "output_type": "stream",
     "text": [
      "Epoch 30, global step 2821: 'valid_auprc' was not in top 1\n"
     ]
    },
    {
     "name": "stdout",
     "output_type": "stream",
     "text": [
      "Epoch 31: 100%|██████████| 91/91 [00:09<00:00,  9.43it/s, v_num=2apx, lr=0.0005, valid_loss=0.482, valid_acc=0.842, valid_auprc=0.867, valid_auroc=0.934, valid_f1=0.811, train_loss=0.242, train_acc=0.906, train_auprc=0.959, train_auroc=0.979, train_f1=0.906]\n",
      "Valid Confusion Matrix:\n",
      "tensor([[680,   7,  75],\n",
      "        [  3,  99,  12],\n",
      "        [ 71,  28, 263]], device='cuda:0')\n"
     ]
    },
    {
     "name": "stderr",
     "output_type": "stream",
     "text": [
      "Epoch 31, global step 2912: 'valid_auprc' was not in top 1\n"
     ]
    },
    {
     "name": "stdout",
     "output_type": "stream",
     "text": [
      "Epoch 32: 100%|██████████| 91/91 [00:09<00:00,  9.46it/s, v_num=2apx, lr=0.0005, valid_loss=0.473, valid_acc=0.854, valid_auprc=0.877, valid_auroc=0.936, valid_f1=0.839, train_loss=0.260, train_acc=0.897, train_auprc=0.955, train_auroc=0.976, train_f1=0.896]\n",
      "Valid Confusion Matrix:\n",
      "tensor([[688,   4,  70],\n",
      "        [  3, 101,  10],\n",
      "        [ 79,  15, 268]], device='cuda:0')\n"
     ]
    },
    {
     "name": "stderr",
     "output_type": "stream",
     "text": [
      "Epoch 32, global step 3003: 'valid_auprc' was not in top 1\n"
     ]
    },
    {
     "name": "stdout",
     "output_type": "stream",
     "text": [
      "Epoch 33: 100%|██████████| 91/91 [00:09<00:00,  9.34it/s, v_num=2apx, lr=0.0005, valid_loss=0.435, valid_acc=0.857, valid_auprc=0.881, valid_auroc=0.943, valid_f1=0.825, train_loss=0.248, train_acc=0.901, train_auprc=0.958, train_auroc=0.978, train_f1=0.901]\n",
      "Valid Confusion Matrix:\n",
      "tensor([[701,   5,  56],\n",
      "        [  2,  95,  17],\n",
      "        [ 76,  21, 265]], device='cuda:0')\n"
     ]
    },
    {
     "name": "stderr",
     "output_type": "stream",
     "text": [
      "Epoch 33, global step 3094: 'valid_auprc' was not in top 1\n"
     ]
    },
    {
     "name": "stdout",
     "output_type": "stream",
     "text": [
      "Epoch 34: 100%|██████████| 91/91 [00:09<00:00,  9.59it/s, v_num=2apx, lr=0.0005, valid_loss=0.461, valid_acc=0.859, valid_auprc=0.877, valid_auroc=0.943, valid_f1=0.828, train_loss=0.250, train_acc=0.902, train_auprc=0.957, train_auroc=0.978, train_f1=0.901]"
     ]
    },
    {
     "name": "stderr",
     "output_type": "stream",
     "text": [
      "Epoch 34, global step 3185: 'valid_auprc' was not in top 1\n"
     ]
    },
    {
     "name": "stdout",
     "output_type": "stream",
     "text": [
      "\n",
      "Valid Confusion Matrix:\n",
      "tensor([[696,   5,  61],\n",
      "        [  3,  97,  14],\n",
      "        [ 68,  24, 270]], device='cuda:0')\n",
      "Epoch 35: 100%|██████████| 91/91 [00:09<00:00,  9.60it/s, v_num=2apx, lr=0.0005, valid_loss=0.486, valid_acc=0.849, valid_auprc=0.878, valid_auroc=0.944, valid_f1=0.813, train_loss=0.228, train_acc=0.912, train_auprc=0.965, train_auroc=0.982, train_f1=0.912]"
     ]
    },
    {
     "name": "stderr",
     "output_type": "stream",
     "text": [
      "Epoch 35, global step 3276: 'valid_auprc' was not in top 1\n"
     ]
    },
    {
     "name": "stdout",
     "output_type": "stream",
     "text": [
      "\n",
      "Valid Confusion Matrix:\n",
      "tensor([[710,   5,  47],\n",
      "        [  5,  98,  11],\n",
      "        [ 91,  28, 243]], device='cuda:0')\n",
      "Epoch 36: 100%|██████████| 91/91 [00:09<00:00,  9.58it/s, v_num=2apx, lr=0.0005, valid_loss=0.451, valid_acc=0.860, valid_auprc=0.887, valid_auroc=0.944, valid_f1=0.832, train_loss=0.246, train_acc=0.906, train_auprc=0.956, train_auroc=0.978, train_f1=0.906]"
     ]
    },
    {
     "name": "stderr",
     "output_type": "stream",
     "text": [
      "Epoch 36, global step 3367: 'valid_auprc' was not in top 1\n"
     ]
    },
    {
     "name": "stdout",
     "output_type": "stream",
     "text": [
      "\n",
      "Valid Confusion Matrix:\n",
      "tensor([[697,   5,  60],\n",
      "        [  3,  99,  12],\n",
      "        [ 70,  23, 269]], device='cuda:0')\n",
      "Epoch 37: 100%|██████████| 91/91 [00:09<00:00,  9.56it/s, v_num=2apx, lr=0.00025, valid_loss=0.446, valid_acc=0.856, valid_auprc=0.887, valid_auroc=0.947, valid_f1=0.828, train_loss=0.215, train_acc=0.921, train_auprc=0.967, train_auroc=0.983, train_f1=0.921]"
     ]
    },
    {
     "name": "stderr",
     "output_type": "stream",
     "text": [
      "Epoch 37, global step 3458: 'valid_auprc' was not in top 1\n"
     ]
    },
    {
     "name": "stdout",
     "output_type": "stream",
     "text": [
      "\n",
      "Valid Confusion Matrix:\n",
      "tensor([[702,   3,  57],\n",
      "        [  4,  97,  13],\n",
      "        [ 79,  22, 261]], device='cuda:0')\n",
      "Epoch 38: 100%|██████████| 91/91 [00:09<00:00,  9.53it/s, v_num=2apx, lr=0.00025, valid_loss=0.449, valid_acc=0.863, valid_auprc=0.885, valid_auroc=0.945, valid_f1=0.834, train_loss=0.215, train_acc=0.919, train_auprc=0.968, train_auroc=0.984, train_f1=0.918]"
     ]
    },
    {
     "name": "stderr",
     "output_type": "stream",
     "text": [
      "Epoch 38, global step 3549: 'valid_auprc' was not in top 1\n"
     ]
    },
    {
     "name": "stdout",
     "output_type": "stream",
     "text": [
      "\n",
      "Valid Confusion Matrix:\n",
      "tensor([[698,   5,  59],\n",
      "        [  3,  96,  15],\n",
      "        [ 68,  20, 274]], device='cuda:0')\n",
      "Epoch 39: 100%|██████████| 91/91 [00:09<00:00,  9.53it/s, v_num=2apx, lr=0.00025, valid_loss=0.466, valid_acc=0.858, valid_auprc=0.880, valid_auroc=0.942, valid_f1=0.825, train_loss=0.192, train_acc=0.927, train_auprc=0.974, train_auroc=0.987, train_f1=0.927]\n",
      "Valid Confusion Matrix:\n",
      "tensor([[699,   7,  56],\n",
      "        [  3,  96,  15],\n",
      "        [ 73,  22, 267]], device='cuda:0')\n"
     ]
    },
    {
     "name": "stderr",
     "output_type": "stream",
     "text": [
      "Epoch 39, global step 3640: 'valid_auprc' was not in top 1\n"
     ]
    },
    {
     "name": "stdout",
     "output_type": "stream",
     "text": [
      "Epoch 40: 100%|██████████| 91/91 [00:09<00:00,  9.41it/s, v_num=2apx, lr=0.00025, valid_loss=0.460, valid_acc=0.855, valid_auprc=0.881, valid_auroc=0.942, valid_f1=0.837, train_loss=0.201, train_acc=0.928, train_auprc=0.971, train_auroc=0.985, train_f1=0.928]"
     ]
    },
    {
     "name": "stderr",
     "output_type": "stream",
     "text": [
      "Epoch 40, global step 3731: 'valid_auprc' was not in top 1\n"
     ]
    },
    {
     "name": "stdout",
     "output_type": "stream",
     "text": [
      "\n",
      "Valid Confusion Matrix:\n",
      "tensor([[687,   3,  72],\n",
      "        [  2, 100,  12],\n",
      "        [ 72,  18, 272]], device='cuda:0')\n",
      "Epoch 41: 100%|██████████| 91/91 [00:09<00:00,  9.60it/s, v_num=2apx, lr=0.00025, valid_loss=0.462, valid_acc=0.858, valid_auprc=0.883, valid_auroc=0.946, valid_f1=0.828, train_loss=0.200, train_acc=0.928, train_auprc=0.969, train_auroc=0.985, train_f1=0.928]"
     ]
    },
    {
     "name": "stderr",
     "output_type": "stream",
     "text": [
      "Epoch 41, global step 3822: 'valid_auprc' was not in top 1\n"
     ]
    },
    {
     "name": "stdout",
     "output_type": "stream",
     "text": [
      "\n",
      "Valid Confusion Matrix:\n",
      "tensor([[708,   3,  51],\n",
      "        [  4,  95,  15],\n",
      "        [ 84,  19, 259]], device='cuda:0')\n",
      "Epoch 42: 100%|██████████| 91/91 [00:09<00:00,  9.37it/s, v_num=2apx, lr=0.00025, valid_loss=0.485, valid_acc=0.847, valid_auprc=0.878, valid_auroc=0.938, valid_f1=0.823, train_loss=0.191, train_acc=0.929, train_auprc=0.973, train_auroc=0.986, train_f1=0.928]"
     ]
    },
    {
     "name": "stderr",
     "output_type": "stream",
     "text": [
      "Epoch 42, global step 3913: 'valid_auprc' was not in top 1\n"
     ]
    },
    {
     "name": "stdout",
     "output_type": "stream",
     "text": [
      "\n",
      "Valid Confusion Matrix:\n",
      "tensor([[679,   2,  81],\n",
      "        [  4,  97,  13],\n",
      "        [ 68,  22, 272]], device='cuda:0')\n",
      "Epoch 43: 100%|██████████| 91/91 [00:09<00:00,  9.54it/s, v_num=2apx, lr=0.00025, valid_loss=0.472, valid_acc=0.859, valid_auprc=0.885, valid_auroc=0.945, valid_f1=0.830, train_loss=0.190, train_acc=0.932, train_auprc=0.973, train_auroc=0.986, train_f1=0.932]"
     ]
    },
    {
     "name": "stderr",
     "output_type": "stream",
     "text": [
      "Epoch 43, global step 4004: 'valid_auprc' was not in top 1\n"
     ]
    },
    {
     "name": "stdout",
     "output_type": "stream",
     "text": [
      "\n",
      "Valid Confusion Matrix:\n",
      "tensor([[694,   6,  62],\n",
      "        [  3,  99,  12],\n",
      "        [ 68,  24, 270]], device='cuda:0')\n",
      "Epoch 44: 100%|██████████| 91/91 [00:09<00:00,  9.57it/s, v_num=2apx, lr=0.00025, valid_loss=0.467, valid_acc=0.856, valid_auprc=0.887, valid_auroc=0.945, valid_f1=0.835, train_loss=0.203, train_acc=0.925, train_auprc=0.971, train_auroc=0.985, train_f1=0.926]"
     ]
    },
    {
     "name": "stderr",
     "output_type": "stream",
     "text": [
      "Epoch 44, global step 4095: 'valid_auprc' was not in top 1\n"
     ]
    },
    {
     "name": "stdout",
     "output_type": "stream",
     "text": [
      "\n",
      "Valid Confusion Matrix:\n",
      "tensor([[679,   5,  78],\n",
      "        [  3,  95,  16],\n",
      "        [ 62,  14, 286]], device='cuda:0')\n",
      "Epoch 45: 100%|██████████| 91/91 [00:09<00:00,  9.61it/s, v_num=2apx, lr=0.00025, valid_loss=0.458, valid_acc=0.857, valid_auprc=0.887, valid_auroc=0.946, valid_f1=0.834, train_loss=0.200, train_acc=0.924, train_auprc=0.972, train_auroc=0.985, train_f1=0.924]\n",
      "Valid Confusion Matrix:\n",
      "tensor([[683,   4,  75],\n",
      "        [  4,  91,  19],\n",
      "        [ 64,  11, 287]], device='cuda:0')\n"
     ]
    },
    {
     "name": "stderr",
     "output_type": "stream",
     "text": [
      "Epoch 45, global step 4186: 'valid_auprc' was not in top 1\n"
     ]
    },
    {
     "name": "stdout",
     "output_type": "stream",
     "text": [
      "Epoch 46: 100%|██████████| 91/91 [00:09<00:00,  9.42it/s, v_num=2apx, lr=0.00025, valid_loss=0.460, valid_acc=0.863, valid_auprc=0.891, valid_auroc=0.945, valid_f1=0.839, train_loss=0.189, train_acc=0.930, train_auprc=0.972, train_auroc=0.986, train_f1=0.930]\n",
      "Valid Confusion Matrix:\n",
      "tensor([[700,   2,  60],\n",
      "        [  3,  95,  16],\n",
      "        [ 72,  16, 274]], device='cuda:0')\n"
     ]
    },
    {
     "name": "stderr",
     "output_type": "stream",
     "text": [
      "Epoch 46, global step 4277: 'valid_auprc' reached 0.89138 (best 0.89138), saving model to 'wandb_logs/awin-densenet-ecg-centralized/iky02apx/checkpoints/epoch=46-step=4277.ckpt' as top 1\n"
     ]
    },
    {
     "name": "stdout",
     "output_type": "stream",
     "text": [
      "Epoch 47: 100%|██████████| 91/91 [00:09<00:00,  9.39it/s, v_num=2apx, lr=0.00025, valid_loss=0.469, valid_acc=0.859, valid_auprc=0.883, valid_auroc=0.945, valid_f1=0.829, train_loss=0.180, train_acc=0.932, train_auprc=0.977, train_auroc=0.988, train_f1=0.931]"
     ]
    },
    {
     "name": "stderr",
     "output_type": "stream",
     "text": [
      "Epoch 47, global step 4368: 'valid_auprc' was not in top 1\n"
     ]
    },
    {
     "name": "stdout",
     "output_type": "stream",
     "text": [
      "\n",
      "Valid Confusion Matrix:\n",
      "tensor([[697,   3,  62],\n",
      "        [  3,  95,  16],\n",
      "        [ 70,  21, 271]], device='cuda:0')\n",
      "Epoch 48: 100%|██████████| 91/91 [00:09<00:00,  9.54it/s, v_num=2apx, lr=0.00025, valid_loss=0.482, valid_acc=0.858, valid_auprc=0.884, valid_auroc=0.945, valid_f1=0.828, train_loss=0.178, train_acc=0.931, train_auprc=0.977, train_auroc=0.988, train_f1=0.931]\n",
      "Valid Confusion Matrix:\n",
      "tensor([[701,   3,  58],\n",
      "        [  3,  95,  16],\n",
      "        [ 75,  21, 266]], device='cuda:0')\n"
     ]
    },
    {
     "name": "stderr",
     "output_type": "stream",
     "text": [
      "Epoch 48, global step 4459: 'valid_auprc' was not in top 1\n"
     ]
    },
    {
     "name": "stdout",
     "output_type": "stream",
     "text": [
      "Epoch 49: 100%|██████████| 91/91 [00:09<00:00,  9.59it/s, v_num=2apx, lr=0.00025, valid_loss=0.476, valid_acc=0.863, valid_auprc=0.885, valid_auroc=0.945, valid_f1=0.830, train_loss=0.172, train_acc=0.935, train_auprc=0.978, train_auroc=0.989, train_f1=0.934]"
     ]
    },
    {
     "name": "stderr",
     "output_type": "stream",
     "text": [
      "Epoch 49, global step 4550: 'valid_auprc' was not in top 1\n"
     ]
    },
    {
     "name": "stdout",
     "output_type": "stream",
     "text": [
      "\n",
      "Valid Confusion Matrix:\n",
      "tensor([[704,   2,  56],\n",
      "        [  3,  96,  15],\n",
      "        [ 69,  25, 268]], device='cuda:0')\n"
     ]
    },
    {
     "name": "stderr",
     "output_type": "stream",
     "text": [
      "`Trainer.fit` stopped: `max_epochs=50` reached.\n"
     ]
    }
   ],
   "source": [
    "trainer.fit(model, datamodule=dm)"
   ]
  },
  {
   "cell_type": "markdown",
   "metadata": {},
   "source": [
    "## Evaluate on the Test Set\n"
   ]
  },
  {
   "cell_type": "code",
   "execution_count": 7,
   "metadata": {},
   "outputs": [],
   "source": [
    "import torch\n",
    "from sklearn.metrics import (\n",
    "    ConfusionMatrixDisplay,\n",
    "    accuracy_score,\n",
    "    classification_report,\n",
    "    confusion_matrix,\n",
    "    f1_score,\n",
    ")\n",
    "from torchmetrics.aggregation import CatMetric, MeanMetric\n",
    "from torchmetrics.functional.classification import (\n",
    "    multiclass_auroc,\n",
    "    multiclass_average_precision,\n",
    ")\n",
    "\n",
    "\n",
    "def aggregate_metrics(results):\n",
    "    loss_metric = MeanMetric()\n",
    "    y_pred_metric = CatMetric()\n",
    "    y_metric = CatMetric()\n",
    "\n",
    "    for result in results:\n",
    "        loss_metric.update(result[\"loss\"])\n",
    "        y_pred_metric.update(result[\"y_pred\"])\n",
    "        y_metric.update(result[\"y\"])\n",
    "    loss = loss_metric.compute()\n",
    "    y_pred = y_pred_metric.compute()\n",
    "    y = y_metric.compute().to(torch.long)\n",
    "    y_hat = y_pred.argmax(dim=1).to(torch.long)\n",
    "\n",
    "    return loss, y_pred, y, y_hat"
   ]
  },
  {
   "cell_type": "markdown",
   "metadata": {},
   "source": [
    "### Last model"
   ]
  },
  {
   "cell_type": "code",
   "execution_count": 8,
   "metadata": {},
   "outputs": [
    {
     "name": "stderr",
     "output_type": "stream",
     "text": [
      "LOCAL_RANK: 0 - CUDA_VISIBLE_DEVICES: [0]\n"
     ]
    },
    {
     "name": "stdout",
     "output_type": "stream",
     "text": [
      "Predicting DataLoader 0: 100%|██████████| 20/20 [00:00<00:00, 35.87it/s]\n",
      "test_loss: 0.5201166868209839\n",
      "test_auprc: 0.8753899931907654\n",
      "test_auroc: 0.9369685649871826\n",
      "              precision    recall  f1-score   support\n",
      "\n",
      "           N       0.90      0.91      0.91       762\n",
      "           A       0.75      0.77      0.76       114\n",
      "           O       0.77      0.73      0.75       362\n",
      "\n",
      "    accuracy                           0.85      1238\n",
      "   macro avg       0.81      0.81      0.81      1238\n",
      "weighted avg       0.85      0.85      0.85      1238\n",
      "\n"
     ]
    },
    {
     "data": {
      "image/png": "[encoded data removed]",
      "text/plain": [
       "<Figure size 640x480 with 2 Axes>"
      ]
     },
     "metadata": {},
     "output_type": "display_data"
    }
   ],
   "source": [
    "model = DenseNetEcgModule.load_from_checkpoint(checkpoint_callback.last_model_path)\n",
    "results = trainer.predict(model, dataloaders=dm)\n",
    "test_loss, test_y_pred, test_y, test_y_hat = aggregate_metrics(results)\n",
    "\n",
    "# loss\n",
    "print(f\"test_loss: {test_loss}\")\n",
    "\n",
    "# auprc\n",
    "test_auprc = multiclass_average_precision(test_y_pred, test_y, num_classes=dm.num_classes)\n",
    "print(f\"test_auprc: {test_auprc}\")\n",
    "\n",
    "# auroc\n",
    "test_auroc = multiclass_auroc(test_y_pred, test_y, num_classes=dm.num_classes)\n",
    "print(f\"test_auroc: {test_auroc}\")\n",
    "\n",
    "# classification report\n",
    "print(classification_report(test_y, test_y_hat, target_names=dm.test_set.classes))\n",
    "\n",
    "# confusion matrix\n",
    "test_cm = confusion_matrix(test_y, test_y_hat)\n",
    "test_cm_disp = ConfusionMatrixDisplay(\n",
    "    confusion_matrix=test_cm, display_labels=dm.test_set.classes\n",
    ")\n",
    "test_cm_disp.plot(cmap=\"Blues\")\n",
    "plt.show()\n",
    "\n",
    "# logger\n",
    "if wandb_mode != \"disabled\":\n",
    "    wandb.log({\"last_test_loss\": test_loss.item()})\n",
    "    wandb.log({\"last_test_auprc\": test_auprc.item()})\n",
    "    wandb.log({\"last_test_auroc\": test_auroc.item()})\n",
    "    wandb.log({\"last_test_f1\": f1_score(test_y, test_y_hat, average=\"macro\")})\n",
    "    wandb.log({\"last_test_accuracy\": accuracy_score(test_y, test_y_hat)})\n",
    "    wandb.log({\"last_test_cm\": test_cm_disp.figure_})"
   ]
  },
  {
   "cell_type": "markdown",
   "metadata": {},
   "source": [
    "### Best model"
   ]
  },
  {
   "cell_type": "code",
   "execution_count": 9,
   "metadata": {},
   "outputs": [
    {
     "name": "stderr",
     "output_type": "stream",
     "text": [
      "LOCAL_RANK: 0 - CUDA_VISIBLE_DEVICES: [0]\n"
     ]
    },
    {
     "name": "stdout",
     "output_type": "stream",
     "text": [
      "Predicting DataLoader 0: 100%|██████████| 20/20 [00:00<00:00, 36.87it/s]\n",
      "test_loss: 0.47033315896987915\n",
      "test_auprc: 0.8915941119194031\n",
      "test_auroc: 0.9421892166137695\n",
      "              precision    recall  f1-score   support\n",
      "\n",
      "           N       0.90      0.91      0.90       762\n",
      "           A       0.79      0.82      0.81       114\n",
      "           O       0.77      0.75      0.76       362\n",
      "\n",
      "    accuracy                           0.85      1238\n",
      "   macro avg       0.82      0.83      0.82      1238\n",
      "weighted avg       0.85      0.85      0.85      1238\n",
      "\n"
     ]
    },
    {
     "data": {
      "image/png": "[encoded data removed]",
      "text/plain": [
       "<Figure size 640x480 with 2 Axes>"
      ]
     },
     "metadata": {},
     "output_type": "display_data"
    }
   ],
   "source": [
    "model = DenseNetEcgModule.load_from_checkpoint(checkpoint_callback.best_model_path)\n",
    "results = trainer.predict(model, dataloaders=dm)\n",
    "test_loss, test_y_pred, test_y, test_y_hat = aggregate_metrics(results)\n",
    "\n",
    "# loss\n",
    "print(f\"test_loss: {test_loss}\")\n",
    "\n",
    "# auprc\n",
    "test_auprc = multiclass_average_precision(test_y_pred, test_y, num_classes=dm.num_classes)\n",
    "print(f\"test_auprc: {test_auprc}\")\n",
    "\n",
    "# auroc\n",
    "test_auroc = multiclass_auroc(test_y_pred, test_y, num_classes=dm.num_classes)\n",
    "print(f\"test_auroc: {test_auroc}\")\n",
    "\n",
    "# classification report\n",
    "print(classification_report(test_y, test_y_hat, target_names=dm.test_set.classes))\n",
    "\n",
    "# confusion matrix\n",
    "test_cm = confusion_matrix(test_y, test_y_hat)\n",
    "test_cm_disp = ConfusionMatrixDisplay(\n",
    "    confusion_matrix=test_cm, display_labels=dm.test_set.classes\n",
    ")\n",
    "test_cm_disp.plot(cmap=\"Blues\")\n",
    "plt.show()\n",
    "\n",
    "# logger\n",
    "if wandb_mode != \"disabled\":\n",
    "    wandb.log({\"best_test_loss\": test_loss.item()})\n",
    "    wandb.log({\"best_test_auprc\": test_auprc.item()})\n",
    "    wandb.log({\"best_test_auroc\": test_auroc.item()})\n",
    "    wandb.log({\"best_test_f1\": f1_score(test_y, test_y_hat, average=\"macro\")})\n",
    "    wandb.log({\"best_test_accuracy\": accuracy_score(test_y, test_y_hat)})\n",
    "    wandb.log({\"best_test_cm\": test_cm_disp.figure_})"
   ]
  },
  {
   "cell_type": "code",
   "execution_count": 10,
   "metadata": {},
   "outputs": [
    {
     "data": {
      "text/html": [],
      "text/plain": [
       "<IPython.core.display.HTML object>"
      ]
     },
     "metadata": {},
     "output_type": "display_data"
    },
    {
     "data": {
      "text/html": [
       "<br>    <style><br>        .wandb-row {<br>            display: flex;<br>            flex-direction: row;<br>            flex-wrap: wrap;<br>            justify-content: flex-start;<br>            width: 100%;<br>        }<br>        .wandb-col {<br>            display: flex;<br>            flex-direction: column;<br>            flex-basis: 100%;<br>            flex: 1;<br>            padding: 10px;<br>        }<br>    </style><br><div class=\"wandb-row\"><div class=\"wandb-col\"><h3>Run history:</h3><br/><table class=\"wandb\"><tr><td>best_test_accuracy</td><td>▁</td></tr><tr><td>best_test_auprc</td><td>▁</td></tr><tr><td>best_test_auroc</td><td>▁</td></tr><tr><td>best_test_f1</td><td>▁</td></tr><tr><td>best_test_loss</td><td>▁</td></tr><tr><td>epoch</td><td>▁▁▁▂▂▂▂▂▂▃▃▃▄▄▄▄▅▅▅▅▆▆▆▆▆▆▇▇▇▇▇▇▇███████</td></tr><tr><td>last_test_accuracy</td><td>▁</td></tr><tr><td>last_test_auprc</td><td>▁</td></tr><tr><td>last_test_auroc</td><td>▁</td></tr><tr><td>last_test_f1</td><td>▁</td></tr><tr><td>last_test_loss</td><td>▁</td></tr><tr><td>lr</td><td>████████████████████▃▃▃▃▃▃▃▃▃▃▁▁▁▁▁▁▁▁▁▁</td></tr><tr><td>train_acc</td><td>▁▃▄▅▅▆▆▆▇▇▇▇▇▇▇▇▇▇▇▇▇▇▇▇████████████████</td></tr><tr><td>train_auprc</td><td>▁▃▄▆▆▇▇▇▇▇▇▇▇▇▇▇▇▇▇█████████████████████</td></tr><tr><td>train_auroc</td><td>▁▃▅▆▆▇▇▇▇▇▇▇▇▇██████████████████████████</td></tr><tr><td>train_f1</td><td>▁▃▄▅▅▆▆▆▇▇▇▇▇▇▇▇▇▇▇▇▇███████████████████</td></tr><tr><td>train_loss</td><td>█▇▆▄▄▃▃▃▃▃▃▃▂▃▂▂▂▂▂▂▂▂▂▂▂▂▂▂▁▂▁▁▁▁▁▁▁▁▁▁</td></tr><tr><td>trainer/global_step</td><td>▁▁▁▁▁▂▂▂▂▂▂▂▂▃▄▄▄▄▄▅▅▅▅▅▅▆▆▆▆▆▆▇▇▇▇▇████</td></tr><tr><td>valid_acc</td><td>▁▄▆▆▆▇▇█▇▇█▇███▇████████████████████████</td></tr><tr><td>valid_auprc</td><td>▁▄▅▅▆▇▇▇▇███▇██▇▇███████████████████████</td></tr><tr><td>valid_auroc</td><td>▁▅▆▆▆▇▇█████▇███▇███▇███████████████████</td></tr><tr><td>valid_f1</td><td>▁▄▆▅▆▇▇▇▇▇█▇▇█▇▇▇█▇██▇▇█████████████████</td></tr><tr><td>valid_loss</td><td>█▄▃▃▃▂▁▁▁▂▁▂▁▁▁▂▂▁▁▁▁▁▁▁▁▂▂▁▁▂▁▁▁▁▂▂▁▁▂▂</td></tr></table><br/></div><div class=\"wandb-col\"><h3>Run summary:</h3><br/><table class=\"wandb\"><tr><td>best_test_accuracy</td><td>0.85137</td></tr><tr><td>best_test_auprc</td><td>0.89159</td></tr><tr><td>best_test_auroc</td><td>0.94219</td></tr><tr><td>best_test_f1</td><td>0.82222</td></tr><tr><td>best_test_loss</td><td>0.47033</td></tr><tr><td>epoch</td><td>49</td></tr><tr><td>last_test_accuracy</td><td>0.84895</td></tr><tr><td>last_test_auprc</td><td>0.87539</td></tr><tr><td>last_test_auroc</td><td>0.93697</td></tr><tr><td>last_test_f1</td><td>0.80692</td></tr><tr><td>last_test_loss</td><td>0.52012</td></tr><tr><td>lr</td><td>0.00025</td></tr><tr><td>train_acc</td><td>0.9347</td></tr><tr><td>train_auprc</td><td>0.97767</td></tr><tr><td>train_auroc</td><td>0.98878</td></tr><tr><td>train_f1</td><td>0.93427</td></tr><tr><td>train_loss</td><td>0.1717</td></tr><tr><td>trainer/global_step</td><td>4549</td></tr><tr><td>valid_acc</td><td>0.86268</td></tr><tr><td>valid_auprc</td><td>0.88504</td></tr><tr><td>valid_auroc</td><td>0.94517</td></tr><tr><td>valid_f1</td><td>0.83007</td></tr><tr><td>valid_loss</td><td>0.47575</td></tr></table><br/></div></div>"
      ],
      "text/plain": [
       "<IPython.core.display.HTML object>"
      ]
     },
     "metadata": {},
     "output_type": "display_data"
    },
    {
     "data": {
      "text/html": [
       " View run <strong style=\"color:#cdcd00\">awin-densenet-ecg-centralized</strong> at: <a href='https://wandb.ai/devilhyt/awin-densenet-ecg-centralized/runs/iky02apx' target=\"_blank\">https://wandb.ai/devilhyt/awin-densenet-ecg-centralized/runs/iky02apx</a><br> View project at: <a href='https://wandb.ai/devilhyt/awin-densenet-ecg-centralized' target=\"_blank\">https://wandb.ai/devilhyt/awin-densenet-ecg-centralized</a><br>Synced 5 W&B file(s), 2 media file(s), 4 artifact file(s) and 0 other file(s)"
      ],
      "text/plain": [
       "<IPython.core.display.HTML object>"
      ]
     },
     "metadata": {},
     "output_type": "display_data"
    },
    {
     "data": {
      "text/html": [
       "Find logs at: <code>wandb_logs/wandb/run-20250307_065828-iky02apx/logs</code>"
      ],
      "text/plain": [
       "<IPython.core.display.HTML object>"
      ]
     },
     "metadata": {},
     "output_type": "display_data"
    }
   ],
   "source": [
    "wandb.finish()"
   ]
  }
 ],
 "metadata": {
  "kernelspec": {
   "display_name": "awin-ecg",
   "language": "python",
   "name": "python3"
  },
  "language_info": {
   "codemirror_mode": {
    "name": "ipython",
    "version": 3
   },
   "file_extension": ".py",
   "mimetype": "text/x-python",
   "name": "python",
   "nbconvert_exporter": "python",
   "pygments_lexer": "ipython3",
   "version": "3.11.11"
  }
 },
 "nbformat": 4,
 "nbformat_minor": 2
}
