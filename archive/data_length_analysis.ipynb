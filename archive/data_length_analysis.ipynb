{
 "cells": [
  {
   "cell_type": "markdown",
   "metadata": {},
   "source": [
    "## Create a csv file containing the signal lengths"
   ]
  },
  {
   "cell_type": "code",
   "execution_count": 1,
   "metadata": {},
   "outputs": [
    {
     "name": "stdout",
     "output_type": "stream",
     "text": [
      "signal_length\n",
      "9000     5977\n",
      "18000     809\n",
      "5834        4\n",
      "4174        4\n",
      "5364        4\n",
      "         ... \n",
      "3992        1\n",
      "6282        1\n",
      "8784        1\n",
      "10988       1\n",
      "17938       1\n",
      "Name: count, Length: 1487, dtype: int64\n"
     ]
    }
   ],
   "source": [
    "import wfdb\n",
    "from pathlib import Path\n",
    "import pandas as pd\n",
    "\n",
    "dataset_df = pd.read_csv(\n",
    "    Path(\"dataset/REFERENCE-v3.csv\"), header=None, names=[\"record_name\", \"label\"]\n",
    ")\n",
    "\n",
    "sig_lens = []\n",
    "for record_name in dataset_df[\"record_name\"]:\n",
    "    h = wfdb.rdheader(Path(\"dataset/training2017\", record_name))\n",
    "    sig_len = h.sig_len\n",
    "    sig_lens.append(sig_len)\n",
    "dataset_df[\"signal_length\"] = sig_lens\n",
    "\n",
    "# Analyze the signal length distribution\n",
    "sig_lens_counts = dataset_df[\"signal_length\"].value_counts()\n",
    "print(sig_lens_counts)\n",
    "\n",
    "dataset_df.to_csv(Path(\"dataset/signal_length.csv\"), index=False)"
   ]
  }
 ],
 "metadata": {
  "kernelspec": {
   "display_name": "ecg-fl",
   "language": "python",
   "name": "python3"
  },
  "language_info": {
   "codemirror_mode": {
    "name": "ipython",
    "version": 3
   },
   "file_extension": ".py",
   "mimetype": "text/x-python",
   "name": "python",
   "nbconvert_exporter": "python",
   "pygments_lexer": "ipython3",
   "version": "3.11.10"
  }
 },
 "nbformat": 4,
 "nbformat_minor": 2
}
