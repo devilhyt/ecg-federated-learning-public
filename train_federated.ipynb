{
 "cells": [
  {
   "cell_type": "markdown",
   "metadata": {},
   "source": [
    "# Federated learning for ECG Arrhythmia detection"
   ]
  },
  {
   "cell_type": "code",
   "execution_count": 1,
   "metadata": {},
   "outputs": [
    {
     "name": "stderr",
     "output_type": "stream",
     "text": [
      "/home/g113056077/.pyenv/versions/ecg-fl/lib/python3.11/site-packages/tqdm/auto.py:21: TqdmWarning: IProgress not found. Please update jupyter and ipywidgets. See https://ipywidgets.readthedocs.io/en/stable/user_install.html\n",
      "  from .autonotebook import tqdm as notebook_tqdm\n",
      "2024-12-12 10:29:03,234\tINFO util.py:154 -- Missing packages: ['ipywidgets']. Run `pip install -U ipywidgets`, then restart the notebook server for rich notebook output.\n"
     ]
    }
   ],
   "source": [
    "import logging\n",
    "from collections import OrderedDict\n",
    "from pathlib import Path\n",
    "from typing import Dict, Optional, Tuple\n",
    "\n",
    "import lightning as L\n",
    "import matplotlib.pyplot as plt\n",
    "import torch\n",
    "from datasets.utils.logging import disable_progress_bar\n",
    "from dotenv import load_dotenv\n",
    "from flwr.client import Client, ClientApp, NumPyClient\n",
    "from flwr.common import Context, NDArrays, Scalar, log, ndarrays_to_parameters\n",
    "from flwr.server import ServerApp, ServerAppComponents, ServerConfig\n",
    "from flwr.server.strategy import FedAvg\n",
    "from flwr.simulation import run_simulation\n",
    "from flwr_datasets.visualization import plot_label_distributions\n",
    "from lightning.pytorch.callbacks import TQDMProgressBar\n",
    "from torch.utils.data import DataLoader\n",
    "\n",
    "import wandb\n",
    "from dataset_utils import Cinc2017DataModuleFL\n",
    "from model import DenseNet1dModule"
   ]
  },
  {
   "cell_type": "code",
   "execution_count": 2,
   "metadata": {},
   "outputs": [],
   "source": [
    "# disable unnecessary logging on the server side\n",
    "logging.getLogger(\"lightning.pytorch.utilities.rank_zero\").disabled = True\n",
    "logging.getLogger(\"lightning.pytorch.accelerators.cuda\").disabled = True\n",
    "disable_progress_bar()"
   ]
  },
  {
   "cell_type": "markdown",
   "metadata": {},
   "source": [
    "## Config"
   ]
  },
  {
   "cell_type": "code",
   "execution_count": 3,
   "metadata": {},
   "outputs": [],
   "source": [
    "# .env\n",
    "load_dotenv()\n",
    "\n",
    "# server side\n",
    "NUM_CLIENTS = 5\n",
    "NUM_ROUNDS = 10\n",
    "\n",
    "# client side\n",
    "MAX_EPOCHS = 10\n",
    "BATCH_SIZE = 64\n",
    "INIT_LR = 2e-3\n",
    "DROP_RATE = 0.2\n",
    "\n",
    "# dataset\n",
    "NON_IID = True\n",
    "DIRICHLET_ALPHA = 0.5"
   ]
  },
  {
   "cell_type": "markdown",
   "metadata": {},
   "source": [
    "## Logging to Wandb"
   ]
  },
  {
   "cell_type": "code",
   "execution_count": 4,
   "metadata": {},
   "outputs": [
    {
     "name": "stderr",
     "output_type": "stream",
     "text": [
      "\u001b[34m\u001b[1mwandb\u001b[0m: Using wandb-core as the SDK backend.  Please refer to https://wandb.me/wandb-core for more information.\n"
     ]
    },
    {
     "name": "stderr",
     "output_type": "stream",
     "text": [
      "\u001b[34m\u001b[1mwandb\u001b[0m: Currently logged in as: \u001b[33mdevilhyt\u001b[0m. Use \u001b[1m`wandb login --relogin`\u001b[0m to force relogin\n",
      "/home/g113056077/.pyenv/versions/ecg-fl/lib/python3.11/site-packages/wandb/sdk/lib/ipython.py:84: DeprecationWarning: Importing display from IPython.core.display is deprecated since IPython 7.14, please import from IPython.display\n",
      "  from IPython.core.display import HTML, display  # type: ignore\n"
     ]
    },
    {
     "data": {
      "text/html": [
       "Tracking run with wandb version 0.18.7"
      ],
      "text/plain": [
       "<IPython.core.display.HTML object>"
      ]
     },
     "metadata": {},
     "output_type": "display_data"
    },
    {
     "data": {
      "text/html": [
       "Run data is saved locally in <code>wandb_logs/wandb/run-20241212_102904-durm1360</code>"
      ],
      "text/plain": [
       "<IPython.core.display.HTML object>"
      ]
     },
     "metadata": {},
     "output_type": "display_data"
    },
    {
     "data": {
      "text/html": [
       "Syncing run <strong><a href='https://wandb.ai/devilhyt/ecg-federated/runs/durm1360' target=\"_blank\">ecg-federated</a></strong> to <a href='https://wandb.ai/devilhyt/ecg-federated' target=\"_blank\">Weights & Biases</a> (<a href='https://wandb.me/developer-guide' target=\"_blank\">docs</a>)<br/>"
      ],
      "text/plain": [
       "<IPython.core.display.HTML object>"
      ]
     },
     "metadata": {},
     "output_type": "display_data"
    },
    {
     "data": {
      "text/html": [
       " View project at <a href='https://wandb.ai/devilhyt/ecg-federated' target=\"_blank\">https://wandb.ai/devilhyt/ecg-federated</a>"
      ],
      "text/plain": [
       "<IPython.core.display.HTML object>"
      ]
     },
     "metadata": {},
     "output_type": "display_data"
    },
    {
     "data": {
      "text/html": [
       " View run at <a href='https://wandb.ai/devilhyt/ecg-federated/runs/durm1360' target=\"_blank\">https://wandb.ai/devilhyt/ecg-federated/runs/durm1360</a>"
      ],
      "text/plain": [
       "<IPython.core.display.HTML object>"
      ]
     },
     "metadata": {},
     "output_type": "display_data"
    },
    {
     "data": {
      "text/html": [
       "<button onClick=\"this.nextSibling.style.display='block';this.style.display='none';\">Display W&B run</button><iframe src='https://wandb.ai/devilhyt/ecg-federated/runs/durm1360?jupyter=true' style='border:none;width:100%;height:420px;display:none;'></iframe>"
      ],
      "text/plain": [
       "<wandb.sdk.wandb_run.Run at 0x7b2018fc3390>"
      ]
     },
     "execution_count": 4,
     "metadata": {},
     "output_type": "execute_result"
    }
   ],
   "source": [
    "wandb.init(\n",
    "    project=\"ecg-federated\",\n",
    "    name=\"ecg-federated\",\n",
    "    dir=\"wandb_logs\",\n",
    "    config={\n",
    "        \"NUM_CLIENTS\": NUM_CLIENTS,\n",
    "        \"NUM_ROUNDS\": NUM_ROUNDS,\n",
    "        \"MAX_EPOCHS\": MAX_EPOCHS,\n",
    "        \"BATCH_SIZE\": BATCH_SIZE,\n",
    "        \"INIT_LR\": INIT_LR,\n",
    "        \"DROP_RATE\": DROP_RATE,\n",
    "        \"NON_IID\": NON_IID,\n",
    "        \"DIRICHLET_ALPHA\": DIRICHLET_ALPHA,\n",
    "    },\n",
    ")"
   ]
  },
  {
   "cell_type": "markdown",
   "metadata": {},
   "source": [
    "## Prepare the Dataset and Dataloader"
   ]
  },
  {
   "cell_type": "code",
   "execution_count": 5,
   "metadata": {},
   "outputs": [],
   "source": [
    "dm = Cinc2017DataModuleFL(batch_size=BATCH_SIZE, num_partitions=NUM_CLIENTS)\n",
    "dm.setup(\"client\", NON_IID, DIRICHLET_ALPHA)\n",
    "\n",
    "# dataloaders for server side evaluation\n",
    "dm.setup(\"train_eval\")\n",
    "train_loader = dm.train_eval_dataloader()\n",
    "dm.setup(\"validate\")\n",
    "valid_loader = dm.val_dataloader()"
   ]
  },
  {
   "cell_type": "markdown",
   "metadata": {},
   "source": [
    "## Observe the data distribution of each client."
   ]
  },
  {
   "cell_type": "code",
   "execution_count": 6,
   "metadata": {},
   "outputs": [
    {
     "data": {
      "image/png": "[encoded data removed]",
      "text/plain": [
       "<Figure size 640x480 with 1 Axes>"
      ]
     },
     "metadata": {},
     "output_type": "display_data"
    }
   ],
   "source": [
    "fig, ax, df = plot_label_distributions(\n",
    "    dm.client_set_partitioner,\n",
    "    label_name=\"label\",\n",
    "    plot_type=\"bar\",\n",
    "    size_unit=\"absolute\",\n",
    "    partition_id_axis=\"x\",\n",
    "    legend=True,\n",
    "    verbose_labels=True,\n",
    "    title=\"Per Partition Labels Distribution\",\n",
    ")\n",
    "plt.show()\n",
    "\n",
    "wandb.log({\"label_distribution\": fig}, step=0)"
   ]
  },
  {
   "cell_type": "markdown",
   "metadata": {},
   "source": [
    "## Flower Client App"
   ]
  },
  {
   "cell_type": "code",
   "execution_count": 7,
   "metadata": {},
   "outputs": [],
   "source": [
    "def get_parameters(model: DenseNet1dModule) -> list:\n",
    "    return [val.cpu().numpy() for _, val in model.state_dict().items()]\n",
    "\n",
    "\n",
    "def set_parameters(model: DenseNet1dModule, parameters):\n",
    "    params_dict = zip(model.state_dict().keys(), parameters)\n",
    "    state_dict = OrderedDict({k: torch.tensor(v) for k, v in params_dict})\n",
    "    model.load_state_dict(state_dict, strict=True)"
   ]
  },
  {
   "cell_type": "code",
   "execution_count": 8,
   "metadata": {},
   "outputs": [],
   "source": [
    "class FlowerClient(NumPyClient):\n",
    "    def __init__(\n",
    "        self,\n",
    "        train_dataloader: DataLoader,\n",
    "        valid_dataloader: DataLoader,\n",
    "        max_epochs: int,\n",
    "    ):\n",
    "        # disable unnecessary logging for each client\n",
    "        logging.getLogger(\"lightning.pytorch.utilities.rank_zero\").disabled = True\n",
    "        logging.getLogger(\"lightning.pytorch.accelerators.cuda\").disabled = True\n",
    "\n",
    "        self.model = None\n",
    "        self.max_epochs = max_epochs\n",
    "        self.train_dataloader = train_dataloader\n",
    "        self.valid_dataloader = valid_dataloader\n",
    "\n",
    "    def get_parameters(self, config):\n",
    "        return get_parameters(self.model)\n",
    "\n",
    "    def fit(self, parameters, config):\n",
    "        # create a model\n",
    "        self.model = DenseNet1dModule(\n",
    "            num_classes=dm.num_classes,\n",
    "            show_valid_cm=False,\n",
    "            memory_efficient=False,\n",
    "            lr=config[\"lr\"],\n",
    "            drop_rate=DROP_RATE\n",
    "        )\n",
    "\n",
    "        # get the global model from the server\n",
    "        set_parameters(self.model, parameters)\n",
    "\n",
    "        # define trainer\n",
    "        trainer = L.Trainer(\n",
    "            max_epochs=self.max_epochs,\n",
    "            enable_progress_bar=False,\n",
    "            enable_model_summary=False,\n",
    "            enable_checkpointing=False,\n",
    "            logger=False,\n",
    "        )\n",
    "\n",
    "        # train the model\n",
    "        trainer.fit(self.model, self.train_dataloader, self.valid_dataloader)\n",
    "\n",
    "        return get_parameters(self.model), len(self.train_dataloader.dataset), {}\n",
    "\n",
    "\n",
    "def client_fn(context: Context) -> Client:\n",
    "    partition_id = context.node_config[\"partition-id\"]\n",
    "    train_dataloader, valid_dataloader = dm.client_dataloaders(partition_id)\n",
    "\n",
    "    return FlowerClient(train_dataloader, valid_dataloader, MAX_EPOCHS).to_client()"
   ]
  },
  {
   "cell_type": "markdown",
   "metadata": {},
   "source": [
    "## Flower Server App"
   ]
  },
  {
   "cell_type": "code",
   "execution_count": 9,
   "metadata": {},
   "outputs": [],
   "source": [
    "best_valid_loss = float(\"inf\")\n",
    "checkpoint_path = Path(f\"wandb_logs/ecg-federated/{wandb.run.id}\")\n",
    "\n",
    "\n",
    "def evaluate(\n",
    "    server_round: int,\n",
    "    parameters: NDArrays,\n",
    "    config: Dict[str, Scalar],\n",
    ") -> Optional[Tuple[float, Dict[str, Scalar]]]:\n",
    "    \"\"\"Server-side parameter evaluation\"\"\"\n",
    "    model = DenseNet1dModule(num_classes=dm.num_classes, memory_efficient=False)\n",
    "    set_parameters(model, parameters)\n",
    "\n",
    "    trainer = L.Trainer(\n",
    "        enable_progress_bar=False, enable_model_summary=False, logger=False\n",
    "    )\n",
    "\n",
    "    # Evaluate on the train set\n",
    "    # We place train evaluation on the server side for convenience.\n",
    "    # In a real-world scenario, this should be done on the client side.\n",
    "    train_result = trainer.validate(model, train_loader, verbose=False)[0]\n",
    "    for key in [\"loss\", \"acc\", \"f1\"]:\n",
    "        train_result[f\"train_{key}\"] = train_result.pop(f\"valid_{key}\")\n",
    "    wandb.log(train_result, step=server_round)\n",
    "\n",
    "    # Evaluate on the valid set\n",
    "    valid_result = trainer.validate(model, valid_loader, verbose=False)[0]\n",
    "    wandb.log(valid_result, step=server_round)\n",
    "\n",
    "    # Save the checkpoint\n",
    "    global best_valid_loss\n",
    "    valid_loss = valid_result[\"valid_loss\"]\n",
    "    if valid_loss < best_valid_loss:\n",
    "        best_valid_loss = valid_loss\n",
    "        trainer.save_checkpoint(checkpoint_path / \"best.ckpt\", model)\n",
    "        log(logging.INFO, \"Best model updated and saved.\")\n",
    "    trainer.save_checkpoint(checkpoint_path / \"latest.ckpt\", model)\n",
    "\n",
    "    return valid_loss, {**train_result, **valid_result}\n",
    "\n",
    "\n",
    "def fit_config(server_round: int):\n",
    "    # Learning rate schedule\n",
    "    # Reduce learning rate by 0.5 every 1/5 of the total rounds\n",
    "    step = max(1, NUM_ROUNDS // 5)\n",
    "    lr = INIT_LR * 0.5 ** ((server_round - 1) // step)\n",
    "    config = {\"lr\": lr}\n",
    "\n",
    "    log(logging.INFO, f\"Learning rate: {lr}\")\n",
    "    wandb.log(config, step=server_round)\n",
    "    return config\n",
    "\n",
    "\n",
    "def server_fn(context: Context) -> ServerAppComponents:\n",
    "    # Convert model parameters to flwr.common.Parameters\n",
    "    init_model = DenseNet1dModule(num_classes=dm.num_classes, memory_efficient=False)\n",
    "    ndarrays = get_parameters(init_model)\n",
    "    initial_parameters = ndarrays_to_parameters(ndarrays)\n",
    "\n",
    "    # Define strategy\n",
    "    strategy = FedAvg(\n",
    "        fraction_fit=1.0,\n",
    "        fraction_evaluate=0,\n",
    "        min_fit_clients=NUM_CLIENTS,\n",
    "        min_available_clients=NUM_CLIENTS,\n",
    "        initial_parameters=initial_parameters,\n",
    "        evaluate_fn=evaluate,\n",
    "        on_fit_config_fn=fit_config,\n",
    "    )\n",
    "\n",
    "    # Construct ServerConfig\n",
    "    config = ServerConfig(num_rounds=NUM_ROUNDS)\n",
    "\n",
    "    return ServerAppComponents(strategy=strategy, config=config)"
   ]
  },
  {
   "cell_type": "markdown",
   "metadata": {},
   "source": [
    "## Run Simulation"
   ]
  },
  {
   "cell_type": "code",
   "execution_count": 10,
   "metadata": {},
   "outputs": [
    {
     "name": "stderr",
     "output_type": "stream",
     "text": [
      "\u001b[92mINFO \u001b[0m:      Starting Flower ServerApp, config: num_rounds=10, no round_timeout\n",
      "\u001b[92mINFO \u001b[0m:      \n",
      "\u001b[92mINFO \u001b[0m:      [INIT]\n",
      "\u001b[92mINFO \u001b[0m:      Using initial global parameters provided by strategy\n",
      "\u001b[92mINFO \u001b[0m:      Starting evaluation of initial global parameters\n"
     ]
    },
    {
     "name": "stderr",
     "output_type": "stream",
     "text": [
      "\u001b[92mINFO \u001b[0m:      Best model updated and saved.\n",
      "\u001b[92mINFO \u001b[0m:      initial parameters (loss, other metrics): 1.1186931133270264, {'train_loss': 1.11922287940979, 'train_acc': 0.3334154486656189, 'train_f1': 0.05625961348414421, 'valid_loss': 1.1186931133270264, 'valid_acc': 0.3333333432674408, 'valid_f1': 0.056233812123537064}\n",
      "\u001b[92mINFO \u001b[0m:      \n",
      "\u001b[92mINFO \u001b[0m:      [ROUND 1]\n",
      "\u001b[92mINFO \u001b[0m:      Learning rate: 0.002\n",
      "\u001b[92mINFO \u001b[0m:      configure_fit: strategy sampled 5 clients (out of 5)\n",
      "\u001b[92mINFO \u001b[0m:      aggregate_fit: received 5 results and 0 failures\n",
      "\u001b[93mWARNING \u001b[0m:   No fit_metrics_aggregation_fn provided\n",
      "\u001b[92mINFO \u001b[0m:      Best model updated and saved.\n",
      "\u001b[92mINFO \u001b[0m:      fit progress: (1, 0.8440360426902771, {'train_loss': 0.8303060531616211, 'train_acc': 0.3764592707157135, 'train_f1': 0.3265005350112915, 'valid_loss': 0.8440360426902771, 'valid_acc': 0.35833677649497986, 'valid_f1': 0.29882773756980896}, 68.48290027299663)\n",
      "\u001b[92mINFO \u001b[0m:      configure_evaluate: no clients selected, skipping evaluation\n",
      "\u001b[92mINFO \u001b[0m:      \n",
      "\u001b[92mINFO \u001b[0m:      [ROUND 2]\n",
      "\u001b[92mINFO \u001b[0m:      Learning rate: 0.002\n",
      "\u001b[92mINFO \u001b[0m:      configure_fit: strategy sampled 5 clients (out of 5)\n",
      "\u001b[92mINFO \u001b[0m:      aggregate_fit: received 5 results and 0 failures\n",
      "\u001b[92mINFO \u001b[0m:      Best model updated and saved.\n",
      "\u001b[92mINFO \u001b[0m:      fit progress: (2, 0.58953857421875, {'train_loss': 0.5302415490150452, 'train_acc': 0.6769518852233887, 'train_f1': 0.7108803391456604, 'valid_loss': 0.58953857421875, 'valid_acc': 0.6486386060714722, 'valid_f1': 0.684651255607605}, 128.64087634599855)\n",
      "\u001b[92mINFO \u001b[0m:      configure_evaluate: no clients selected, skipping evaluation\n",
      "\u001b[92mINFO \u001b[0m:      \n",
      "\u001b[92mINFO \u001b[0m:      [ROUND 3]\n",
      "\u001b[92mINFO \u001b[0m:      Learning rate: 0.001\n",
      "\u001b[92mINFO \u001b[0m:      configure_fit: strategy sampled 5 clients (out of 5)\n",
      "\u001b[92mINFO \u001b[0m:      aggregate_fit: received 5 results and 0 failures\n",
      "\u001b[92mINFO \u001b[0m:      Best model updated and saved.\n",
      "\u001b[92mINFO \u001b[0m:      fit progress: (3, 0.4734799563884735, {'train_loss': 0.40500006079673767, 'train_acc': 0.7986289262771606, 'train_f1': 0.8162288665771484, 'valid_loss': 0.4734799563884735, 'valid_acc': 0.753892719745636, 'valid_f1': 0.7843022346496582}, 188.81520915799774)\n",
      "\u001b[92mINFO \u001b[0m:      configure_evaluate: no clients selected, skipping evaluation\n",
      "\u001b[92mINFO \u001b[0m:      \n",
      "\u001b[92mINFO \u001b[0m:      [ROUND 4]\n",
      "\u001b[92mINFO \u001b[0m:      Learning rate: 0.001\n",
      "\u001b[92mINFO \u001b[0m:      configure_fit: strategy sampled 5 clients (out of 5)\n",
      "\u001b[92mINFO \u001b[0m:      aggregate_fit: received 5 results and 0 failures\n",
      "\u001b[92mINFO \u001b[0m:      Best model updated and saved.\n",
      "\u001b[92mINFO \u001b[0m:      fit progress: (4, 0.4680142104625702, {'train_loss': 0.3849020302295685, 'train_acc': 0.8137783408164978, 'train_f1': 0.8349308967590332, 'valid_loss': 0.4680142104625702, 'valid_acc': 0.7841212749481201, 'valid_f1': 0.8060039281845093}, 250.82636482499947)\n",
      "\u001b[92mINFO \u001b[0m:      configure_evaluate: no clients selected, skipping evaluation\n",
      "\u001b[92mINFO \u001b[0m:      \n",
      "\u001b[92mINFO \u001b[0m:      [ROUND 5]\n",
      "\u001b[92mINFO \u001b[0m:      Learning rate: 0.0005\n",
      "\u001b[92mINFO \u001b[0m:      configure_fit: strategy sampled 5 clients (out of 5)\n",
      "\u001b[92mINFO \u001b[0m:      aggregate_fit: received 5 results and 0 failures\n",
      "\u001b[92mINFO \u001b[0m:      Best model updated and saved.\n",
      "\u001b[92mINFO \u001b[0m:      fit progress: (5, 0.45278653502464294, {'train_loss': 0.35901403427124023, 'train_acc': 0.8440115451812744, 'train_f1': 0.8550933599472046, 'valid_loss': 0.45278653502464294, 'valid_acc': 0.7979819774627686, 'valid_f1': 0.8103805780410767}, 311.42250257400156)\n",
      "\u001b[92mINFO \u001b[0m:      configure_evaluate: no clients selected, skipping evaluation\n",
      "\u001b[92mINFO \u001b[0m:      \n",
      "\u001b[92mINFO \u001b[0m:      [ROUND 6]\n",
      "\u001b[92mINFO \u001b[0m:      Learning rate: 0.0005\n",
      "\u001b[92mINFO \u001b[0m:      configure_fit: strategy sampled 5 clients (out of 5)\n",
      "\u001b[92mINFO \u001b[0m:      aggregate_fit: received 5 results and 0 failures\n",
      "\u001b[92mINFO \u001b[0m:      fit progress: (6, 0.45827245712280273, {'train_loss': 0.3452366292476654, 'train_acc': 0.8481341600418091, 'train_f1': 0.8636794090270996, 'valid_loss': 0.45827245712280273, 'valid_acc': 0.7780914306640625, 'valid_f1': 0.7982195019721985}, 372.99255172599806)\n",
      "\u001b[92mINFO \u001b[0m:      configure_evaluate: no clients selected, skipping evaluation\n",
      "\u001b[92mINFO \u001b[0m:      \n",
      "\u001b[92mINFO \u001b[0m:      [ROUND 7]\n",
      "\u001b[92mINFO \u001b[0m:      Learning rate: 0.00025\n",
      "\u001b[92mINFO \u001b[0m:      configure_fit: strategy sampled 5 clients (out of 5)\n",
      "\u001b[92mINFO \u001b[0m:      aggregate_fit: received 5 results and 0 failures\n",
      "\u001b[92mINFO \u001b[0m:      Best model updated and saved.\n",
      "\u001b[92mINFO \u001b[0m:      fit progress: (7, 0.44254910945892334, {'train_loss': 0.3191525340080261, 'train_acc': 0.8502445816993713, 'train_f1': 0.8655858039855957, 'valid_loss': 0.44254910945892334, 'valid_acc': 0.7914859056472778, 'valid_f1': 0.8057739734649658}, 434.03188342299836)\n",
      "\u001b[92mINFO \u001b[0m:      configure_evaluate: no clients selected, skipping evaluation\n",
      "\u001b[92mINFO \u001b[0m:      \n",
      "\u001b[92mINFO \u001b[0m:      [ROUND 8]\n",
      "\u001b[92mINFO \u001b[0m:      Learning rate: 0.00025\n",
      "\u001b[92mINFO \u001b[0m:      configure_fit: strategy sampled 5 clients (out of 5)\n",
      "\u001b[92mINFO \u001b[0m:      aggregate_fit: received 5 results and 0 failures\n",
      "\u001b[92mINFO \u001b[0m:      fit progress: (8, 0.4513108432292938, {'train_loss': 0.31058716773986816, 'train_acc': 0.8529626131057739, 'train_f1': 0.8711832761764526, 'valid_loss': 0.4513108432292938, 'valid_acc': 0.7740128636360168, 'valid_f1': 0.7914427518844604}, 495.09659852500045)\n",
      "\u001b[92mINFO \u001b[0m:      configure_evaluate: no clients selected, skipping evaluation\n",
      "\u001b[92mINFO \u001b[0m:      \n",
      "\u001b[92mINFO \u001b[0m:      [ROUND 9]\n",
      "\u001b[92mINFO \u001b[0m:      Learning rate: 0.000125\n",
      "\u001b[92mINFO \u001b[0m:      configure_fit: strategy sampled 5 clients (out of 5)\n",
      "\u001b[92mINFO \u001b[0m:      aggregate_fit: received 5 results and 0 failures\n",
      "\u001b[92mINFO \u001b[0m:      fit progress: (9, 0.4453940689563751, {'train_loss': 0.2921207845211029, 'train_acc': 0.8659268617630005, 'train_f1': 0.8770737051963806, 'valid_loss': 0.4453940689563751, 'valid_acc': 0.7992528676986694, 'valid_f1': 0.8064948320388794}, 556.7814643169986)\n",
      "\u001b[92mINFO \u001b[0m:      configure_evaluate: no clients selected, skipping evaluation\n",
      "\u001b[92mINFO \u001b[0m:      \n",
      "\u001b[92mINFO \u001b[0m:      [ROUND 10]\n",
      "\u001b[92mINFO \u001b[0m:      Learning rate: 0.000125\n",
      "\u001b[92mINFO \u001b[0m:      configure_fit: strategy sampled 5 clients (out of 5)\n",
      "\u001b[92mINFO \u001b[0m:      aggregate_fit: received 5 results and 0 failures\n",
      "\u001b[92mINFO \u001b[0m:      fit progress: (10, 0.4569513201713562, {'train_loss': 0.29225531220436096, 'train_acc': 0.8688992261886597, 'train_f1': 0.8811652660369873, 'valid_loss': 0.4569513201713562, 'valid_acc': 0.8120325803756714, 'valid_f1': 0.8189285397529602}, 617.3892312690004)\n",
      "\u001b[92mINFO \u001b[0m:      configure_evaluate: no clients selected, skipping evaluation\n",
      "\u001b[92mINFO \u001b[0m:      \n",
      "\u001b[92mINFO \u001b[0m:      [SUMMARY]\n",
      "\u001b[92mINFO \u001b[0m:      Run finished 10 round(s) in 617.39s\n",
      "\u001b[92mINFO \u001b[0m:      \tHistory (loss, centralized):\n",
      "\u001b[92mINFO \u001b[0m:      \t\tround 0: 1.1186931133270264\n",
      "\u001b[92mINFO \u001b[0m:      \t\tround 1: 0.8440360426902771\n",
      "\u001b[92mINFO \u001b[0m:      \t\tround 2: 0.58953857421875\n",
      "\u001b[92mINFO \u001b[0m:      \t\tround 3: 0.4734799563884735\n",
      "\u001b[92mINFO \u001b[0m:      \t\tround 4: 0.4680142104625702\n",
      "\u001b[92mINFO \u001b[0m:      \t\tround 5: 0.45278653502464294\n",
      "\u001b[92mINFO \u001b[0m:      \t\tround 6: 0.45827245712280273\n",
      "\u001b[92mINFO \u001b[0m:      \t\tround 7: 0.44254910945892334\n",
      "\u001b[92mINFO \u001b[0m:      \t\tround 8: 0.4513108432292938\n",
      "\u001b[92mINFO \u001b[0m:      \t\tround 9: 0.4453940689563751\n",
      "\u001b[92mINFO \u001b[0m:      \t\tround 10: 0.4569513201713562\n",
      "\u001b[92mINFO \u001b[0m:      \tHistory (metrics, centralized):\n",
      "\u001b[92mINFO \u001b[0m:      \t{'train_acc': [(0, 0.3334154486656189),\n",
      "\u001b[92mINFO \u001b[0m:      \t               (1, 0.3764592707157135),\n",
      "\u001b[92mINFO \u001b[0m:      \t               (2, 0.6769518852233887),\n",
      "\u001b[92mINFO \u001b[0m:      \t               (3, 0.7986289262771606),\n",
      "\u001b[92mINFO \u001b[0m:      \t               (4, 0.8137783408164978),\n",
      "\u001b[92mINFO \u001b[0m:      \t               (5, 0.8440115451812744),\n",
      "\u001b[92mINFO \u001b[0m:      \t               (6, 0.8481341600418091),\n",
      "\u001b[92mINFO \u001b[0m:      \t               (7, 0.8502445816993713),\n",
      "\u001b[92mINFO \u001b[0m:      \t               (8, 0.8529626131057739),\n",
      "\u001b[92mINFO \u001b[0m:      \t               (9, 0.8659268617630005),\n",
      "\u001b[92mINFO \u001b[0m:      \t               (10, 0.8688992261886597)],\n",
      "\u001b[92mINFO \u001b[0m:      \t 'train_f1': [(0, 0.05625961348414421),\n",
      "\u001b[92mINFO \u001b[0m:      \t              (1, 0.3265005350112915),\n",
      "\u001b[92mINFO \u001b[0m:      \t              (2, 0.7108803391456604),\n",
      "\u001b[92mINFO \u001b[0m:      \t              (3, 0.8162288665771484),\n",
      "\u001b[92mINFO \u001b[0m:      \t              (4, 0.8349308967590332),\n",
      "\u001b[92mINFO \u001b[0m:      \t              (5, 0.8550933599472046),\n",
      "\u001b[92mINFO \u001b[0m:      \t              (6, 0.8636794090270996),\n",
      "\u001b[92mINFO \u001b[0m:      \t              (7, 0.8655858039855957),\n",
      "\u001b[92mINFO \u001b[0m:      \t              (8, 0.8711832761764526),\n",
      "\u001b[92mINFO \u001b[0m:      \t              (9, 0.8770737051963806),\n",
      "\u001b[92mINFO \u001b[0m:      \t              (10, 0.8811652660369873)],\n",
      "\u001b[92mINFO \u001b[0m:      \t 'train_loss': [(0, 1.11922287940979),\n",
      "\u001b[92mINFO \u001b[0m:      \t                (1, 0.8303060531616211),\n",
      "\u001b[92mINFO \u001b[0m:      \t                (2, 0.5302415490150452),\n",
      "\u001b[92mINFO \u001b[0m:      \t                (3, 0.40500006079673767),\n",
      "\u001b[92mINFO \u001b[0m:      \t                (4, 0.3849020302295685),\n",
      "\u001b[92mINFO \u001b[0m:      \t                (5, 0.35901403427124023),\n",
      "\u001b[92mINFO \u001b[0m:      \t                (6, 0.3452366292476654),\n",
      "\u001b[92mINFO \u001b[0m:      \t                (7, 0.3191525340080261),\n",
      "\u001b[92mINFO \u001b[0m:      \t                (8, 0.31058716773986816),\n",
      "\u001b[92mINFO \u001b[0m:      \t                (9, 0.2921207845211029),\n",
      "\u001b[92mINFO \u001b[0m:      \t                (10, 0.29225531220436096)],\n",
      "\u001b[92mINFO \u001b[0m:      \t 'valid_acc': [(0, 0.3333333432674408),\n",
      "\u001b[92mINFO \u001b[0m:      \t               (1, 0.35833677649497986),\n",
      "\u001b[92mINFO \u001b[0m:      \t               (2, 0.6486386060714722),\n",
      "\u001b[92mINFO \u001b[0m:      \t               (3, 0.753892719745636),\n",
      "\u001b[92mINFO \u001b[0m:      \t               (4, 0.7841212749481201),\n",
      "\u001b[92mINFO \u001b[0m:      \t               (5, 0.7979819774627686),\n",
      "\u001b[92mINFO \u001b[0m:      \t               (6, 0.7780914306640625),\n",
      "\u001b[92mINFO \u001b[0m:      \t               (7, 0.7914859056472778),\n",
      "\u001b[92mINFO \u001b[0m:      \t               (8, 0.7740128636360168),\n",
      "\u001b[92mINFO \u001b[0m:      \t               (9, 0.7992528676986694),\n",
      "\u001b[92mINFO \u001b[0m:      \t               (10, 0.8120325803756714)],\n",
      "\u001b[92mINFO \u001b[0m:      \t 'valid_f1': [(0, 0.056233812123537064),\n",
      "\u001b[92mINFO \u001b[0m:      \t              (1, 0.29882773756980896),\n",
      "\u001b[92mINFO \u001b[0m:      \t              (2, 0.684651255607605),\n",
      "\u001b[92mINFO \u001b[0m:      \t              (3, 0.7843022346496582),\n",
      "\u001b[92mINFO \u001b[0m:      \t              (4, 0.8060039281845093),\n",
      "\u001b[92mINFO \u001b[0m:      \t              (5, 0.8103805780410767),\n",
      "\u001b[92mINFO \u001b[0m:      \t              (6, 0.7982195019721985),\n",
      "\u001b[92mINFO \u001b[0m:      \t              (7, 0.8057739734649658),\n",
      "\u001b[92mINFO \u001b[0m:      \t              (8, 0.7914427518844604),\n",
      "\u001b[92mINFO \u001b[0m:      \t              (9, 0.8064948320388794),\n",
      "\u001b[92mINFO \u001b[0m:      \t              (10, 0.8189285397529602)],\n",
      "\u001b[92mINFO \u001b[0m:      \t 'valid_loss': [(0, 1.1186931133270264),\n",
      "\u001b[92mINFO \u001b[0m:      \t                (1, 0.8440360426902771),\n",
      "\u001b[92mINFO \u001b[0m:      \t                (2, 0.58953857421875),\n",
      "\u001b[92mINFO \u001b[0m:      \t                (3, 0.4734799563884735),\n",
      "\u001b[92mINFO \u001b[0m:      \t                (4, 0.4680142104625702),\n",
      "\u001b[92mINFO \u001b[0m:      \t                (5, 0.45278653502464294),\n",
      "\u001b[92mINFO \u001b[0m:      \t                (6, 0.45827245712280273),\n",
      "\u001b[92mINFO \u001b[0m:      \t                (7, 0.44254910945892334),\n",
      "\u001b[92mINFO \u001b[0m:      \t                (8, 0.4513108432292938),\n",
      "\u001b[92mINFO \u001b[0m:      \t                (9, 0.4453940689563751),\n",
      "\u001b[92mINFO \u001b[0m:      \t                (10, 0.4569513201713562)]}\n",
      "\u001b[92mINFO \u001b[0m:      \n"
     ]
    }
   ],
   "source": [
    "backend_config = {\n",
    "    \"client_resources\": {\"num_cpus\": 1, \"num_gpus\": 1 / (NUM_CLIENTS + 1)}\n",
    "}\n",
    "\n",
    "run_simulation(\n",
    "    server_app=ServerApp(server_fn=server_fn),\n",
    "    client_app=ClientApp(client_fn=client_fn),\n",
    "    num_supernodes=NUM_CLIENTS,\n",
    "    backend_config=backend_config,\n",
    ")"
   ]
  },
  {
   "cell_type": "markdown",
   "metadata": {},
   "source": [
    "## Evaluation and Visualization on the Test set."
   ]
  },
  {
   "cell_type": "code",
   "execution_count": 11,
   "metadata": {},
   "outputs": [],
   "source": [
    "progress_bar_callback = TQDMProgressBar(leave=True)\n",
    "\n",
    "trainer = L.Trainer(\n",
    "    callbacks=[progress_bar_callback],\n",
    "    logger=False,\n",
    ")"
   ]
  },
  {
   "cell_type": "code",
   "execution_count": 12,
   "metadata": {},
   "outputs": [
    {
     "name": "stdout",
     "output_type": "stream",
     "text": [
      "Testing DataLoader 0: 100%|██████████| 13/13 [00:00<00:00, 39.47it/s]\n"
     ]
    },
    {
     "data": {
      "text/html": [
       "<pre style=\"white-space:pre;overflow-x:auto;line-height:normal;font-family:Menlo,'DejaVu Sans Mono',consolas,'Courier New',monospace\">┏━━━━━━━━━━━━━━━━━━━━━━━━━━━┳━━━━━━━━━━━━━━━━━━━━━━━━━━━┓\n",
       "┃<span style=\"font-weight: bold\">        Test metric        </span>┃<span style=\"font-weight: bold\">       DataLoader 0        </span>┃\n",
       "┡━━━━━━━━━━━━━━━━━━━━━━━━━━━╇━━━━━━━━━━━━━━━━━━━━━━━━━━━┩\n",
       "│<span style=\"color: #008080; text-decoration-color: #008080\">         test_acc          </span>│<span style=\"color: #800080; text-decoration-color: #800080\">    0.7888146638870239     </span>│\n",
       "│<span style=\"color: #008080; text-decoration-color: #008080\">          test_f1          </span>│<span style=\"color: #800080; text-decoration-color: #800080\">    0.8070391416549683     </span>│\n",
       "│<span style=\"color: #008080; text-decoration-color: #008080\">         test_loss         </span>│<span style=\"color: #800080; text-decoration-color: #800080\">    0.5440403819084167     </span>│\n",
       "└───────────────────────────┴───────────────────────────┘\n",
       "</pre>\n"
      ],
      "text/plain": [
       "┏━━━━━━━━━━━━━━━━━━━━━━━━━━━┳━━━━━━━━━━━━━━━━━━━━━━━━━━━┓\n",
       "┃\u001b[1m \u001b[0m\u001b[1m       Test metric       \u001b[0m\u001b[1m \u001b[0m┃\u001b[1m \u001b[0m\u001b[1m      DataLoader 0       \u001b[0m\u001b[1m \u001b[0m┃\n",
       "┡━━━━━━━━━━━━━━━━━━━━━━━━━━━╇━━━━━━━━━━━━━━━━━━━━━━━━━━━┩\n",
       "│\u001b[36m \u001b[0m\u001b[36m        test_acc         \u001b[0m\u001b[36m \u001b[0m│\u001b[35m \u001b[0m\u001b[35m   0.7888146638870239    \u001b[0m\u001b[35m \u001b[0m│\n",
       "│\u001b[36m \u001b[0m\u001b[36m         test_f1         \u001b[0m\u001b[36m \u001b[0m│\u001b[35m \u001b[0m\u001b[35m   0.8070391416549683    \u001b[0m\u001b[35m \u001b[0m│\n",
       "│\u001b[36m \u001b[0m\u001b[36m        test_loss        \u001b[0m\u001b[36m \u001b[0m│\u001b[35m \u001b[0m\u001b[35m   0.5440403819084167    \u001b[0m\u001b[35m \u001b[0m│\n",
       "└───────────────────────────┴───────────────────────────┘\n"
      ]
     },
     "metadata": {},
     "output_type": "display_data"
    }
   ],
   "source": [
    "model = DenseNet1dModule.load_from_checkpoint(checkpoint_path / \"best.ckpt\")\n",
    "result = trainer.test(model, datamodule=dm)\n",
    "wandb.log(result[0], step=NUM_ROUNDS+1)"
   ]
  },
  {
   "cell_type": "code",
   "execution_count": 13,
   "metadata": {},
   "outputs": [
    {
     "data": {
      "image/png": "[encoded data removed]",
      "text/plain": [
       "<Figure size 640x480 with 1 Axes>"
      ]
     },
     "metadata": {},
     "output_type": "display_data"
    }
   ],
   "source": [
    "fig, ax = model.test_cm.plot(\n",
    "    model.test_cm_log, cmap=\"Blues\", labels=dm.test_set.classes\n",
    ")\n",
    "plt.show()\n",
    "wandb.log({\"test_cm\": fig}, step=NUM_ROUNDS + 1)"
   ]
  },
  {
   "cell_type": "markdown",
   "metadata": {},
   "source": [
    "## Save the Latest and Best Models"
   ]
  },
  {
   "cell_type": "code",
   "execution_count": 14,
   "metadata": {},
   "outputs": [],
   "source": [
    "for model_type in [\"best\", \"latest\"]:\n",
    "    model_artifact = wandb.Artifact(name=f\"model-{wandb.run.id}\", type=\"model\")\n",
    "    model_artifact.add_file(checkpoint_path / f\"{model_type}.ckpt\")\n",
    "    wandb.log_artifact(model_artifact, aliases=[model_type])"
   ]
  },
  {
   "cell_type": "code",
   "execution_count": 15,
   "metadata": {},
   "outputs": [
    {
     "name": "stderr",
     "output_type": "stream",
     "text": [
      "/home/g113056077/.pyenv/versions/ecg-fl/lib/python3.11/site-packages/wandb/sdk/lib/ipython.py:84: DeprecationWarning:\n",
      "\n",
      "Importing display from IPython.core.display is deprecated since IPython 7.14, please import from IPython.display\n",
      "\n"
     ]
    },
    {
     "data": {
      "text/html": [
       "\n",
       "    <style>\n",
       "        .wandb-row {\n",
       "            display: flex;\n",
       "            flex-direction: row;\n",
       "            flex-wrap: wrap;\n",
       "            justify-content: flex-start;\n",
       "            width: 100%;\n",
       "        }\n",
       "        .wandb-col {\n",
       "            display: flex;\n",
       "            flex-direction: column;\n",
       "            flex-basis: 100%;\n",
       "            flex: 1;\n",
       "            padding: 10px;\n",
       "        }\n",
       "    </style>\n",
       "<div class=\"wandb-row\"><div class=\"wandb-col\"><h3>Run history:</h3><br/><table class=\"wandb\"><tr><td>lr</td><td>██▄▄▂▂▁▁▁▁</td></tr><tr><td>test_acc</td><td>▁</td></tr><tr><td>test_f1</td><td>▁</td></tr><tr><td>test_loss</td><td>▁</td></tr><tr><td>train_acc</td><td>▁▂▅▇▇██████</td></tr><tr><td>train_f1</td><td>▁▃▇▇███████</td></tr><tr><td>train_loss</td><td>█▆▃▂▂▂▁▁▁▁▁</td></tr><tr><td>valid_acc</td><td>▁▁▆▇████▇██</td></tr><tr><td>valid_f1</td><td>▁▃▇████████</td></tr><tr><td>valid_loss</td><td>█▅▃▁▁▁▁▁▁▁▁</td></tr></table><br/></div><div class=\"wandb-col\"><h3>Run summary:</h3><br/><table class=\"wandb\"><tr><td>lr</td><td>0.00013</td></tr><tr><td>test_acc</td><td>0.78881</td></tr><tr><td>test_f1</td><td>0.80704</td></tr><tr><td>test_loss</td><td>0.54404</td></tr><tr><td>train_acc</td><td>0.8689</td></tr><tr><td>train_f1</td><td>0.88117</td></tr><tr><td>train_loss</td><td>0.29226</td></tr><tr><td>valid_acc</td><td>0.81203</td></tr><tr><td>valid_f1</td><td>0.81893</td></tr><tr><td>valid_loss</td><td>0.45695</td></tr></table><br/></div></div>"
      ],
      "text/plain": [
       "<IPython.core.display.HTML object>"
      ]
     },
     "metadata": {},
     "output_type": "display_data"
    },
    {
     "data": {
      "text/html": [
       " View run <strong style=\"color:#cdcd00\">ecg-federated</strong> at: <a href='https://wandb.ai/devilhyt/ecg-federated/runs/durm1360' target=\"_blank\">https://wandb.ai/devilhyt/ecg-federated/runs/durm1360</a><br/> View project at: <a href='https://wandb.ai/devilhyt/ecg-federated' target=\"_blank\">https://wandb.ai/devilhyt/ecg-federated</a><br/>Synced 5 W&B file(s), 0 media file(s), 4 artifact file(s) and 2 other file(s)"
      ],
      "text/plain": [
       "<IPython.core.display.HTML object>"
      ]
     },
     "metadata": {},
     "output_type": "display_data"
    },
    {
     "data": {
      "text/html": [
       "Find logs at: <code>wandb_logs/wandb/run-20241212_102904-durm1360/logs</code>"
      ],
      "text/plain": [
       "<IPython.core.display.HTML object>"
      ]
     },
     "metadata": {},
     "output_type": "display_data"
    }
   ],
   "source": [
    "wandb.finish()"
   ]
  }
 ],
 "metadata": {
  "kernelspec": {
   "display_name": "ecg-fl",
   "language": "python",
   "name": "python3"
  },
  "language_info": {
   "codemirror_mode": {
    "name": "ipython",
    "version": 3
   },
   "file_extension": ".py",
   "mimetype": "text/x-python",
   "name": "python",
   "nbconvert_exporter": "python",
   "pygments_lexer": "ipython3",
   "version": "3.11.10"
  }
 },
 "nbformat": 4,
 "nbformat_minor": 2
}
