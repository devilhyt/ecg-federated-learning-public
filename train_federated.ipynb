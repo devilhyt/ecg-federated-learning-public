{
 "cells": [
  {
   "cell_type": "markdown",
   "metadata": {},
   "source": [
    "# Federated learning for ECG Arrhythmia detection"
   ]
  },
  {
   "cell_type": "code",
   "execution_count": null,
   "metadata": {},
   "outputs": [
    {
     "name": "stderr",
     "output_type": "stream",
     "text": [
      "/home/g113056077/.pyenv/versions/ecg-fl/lib/python3.11/site-packages/tqdm/auto.py:21: TqdmWarning: IProgress not found. Please update jupyter and ipywidgets. See https://ipywidgets.readthedocs.io/en/stable/user_install.html\n",
      "  from .autonotebook import tqdm as notebook_tqdm\n",
      "2024-12-01 21:37:13,899\tINFO util.py:154 -- Missing packages: ['ipywidgets']. Run `pip install -U ipywidgets`, then restart the notebook server for rich notebook output.\n"
     ]
    }
   ],
   "source": [
    "import logging\n",
    "from collections import OrderedDict\n",
    "from pathlib import Path\n",
    "from typing import Dict, Optional, Tuple\n",
    "\n",
    "import lightning as L\n",
    "import matplotlib.pyplot as plt\n",
    "import torch\n",
    "from datasets.utils.logging import disable_progress_bar\n",
    "from dotenv import load_dotenv\n",
    "from flwr.client import Client, ClientApp, NumPyClient\n",
    "from flwr.common import Context, NDArrays, Scalar, log, ndarrays_to_parameters\n",
    "from flwr.server import ServerApp, ServerAppComponents, ServerConfig\n",
    "from flwr.server.strategy import FedAvg\n",
    "from flwr.simulation import run_simulation\n",
    "from flwr_datasets.visualization import plot_label_distributions\n",
    "from lightning.pytorch.callbacks import TQDMProgressBar\n",
    "from torch.utils.data import DataLoader\n",
    "\n",
    "import wandb\n",
    "from dataset_utils import Cinc2017DataModuleFL\n",
    "from model import DenseNet1dModule"
   ]
  },
  {
   "cell_type": "code",
   "execution_count": 2,
   "metadata": {},
   "outputs": [],
   "source": [
    "# disable unnecessary logging on the server side\n",
    "logging.getLogger(\"lightning.pytorch.utilities.rank_zero\").disabled = True\n",
    "logging.getLogger(\"lightning.pytorch.accelerators.cuda\").disabled = True\n",
    "disable_progress_bar()"
   ]
  },
  {
   "cell_type": "markdown",
   "metadata": {},
   "source": [
    "## Config"
   ]
  },
  {
   "cell_type": "code",
   "execution_count": null,
   "metadata": {},
   "outputs": [],
   "source": [
    "# .env\n",
    "load_dotenv()\n",
    "\n",
    "# server side\n",
    "NUM_CLIENTS = 5\n",
    "NUM_ROUNDS = 10\n",
    "\n",
    "# client side\n",
    "MAX_EPOCHS = 10\n",
    "BATCH_SIZE = 64\n",
    "INIT_LR = 2e-3\n",
    "\n",
    "# dataset\n",
    "NON_IID = True\n",
    "DIRICHLET_ALPHA = 0.5"
   ]
  },
  {
   "cell_type": "markdown",
   "metadata": {},
   "source": [
    "## Logging to Wandb"
   ]
  },
  {
   "cell_type": "code",
   "execution_count": 4,
   "metadata": {},
   "outputs": [
    {
     "name": "stderr",
     "output_type": "stream",
     "text": [
      "\u001b[34m\u001b[1mwandb\u001b[0m: Using wandb-core as the SDK backend.  Please refer to https://wandb.me/wandb-core for more information.\n"
     ]
    },
    {
     "name": "stderr",
     "output_type": "stream",
     "text": [
      "\u001b[34m\u001b[1mwandb\u001b[0m: Currently logged in as: \u001b[33mdevilhyt\u001b[0m. Use \u001b[1m`wandb login --relogin`\u001b[0m to force relogin\n",
      "/home/g113056077/.pyenv/versions/ecg-fl/lib/python3.11/site-packages/wandb/sdk/lib/ipython.py:84: DeprecationWarning: Importing display from IPython.core.display is deprecated since IPython 7.14, please import from IPython.display\n",
      "  from IPython.core.display import HTML, display  # type: ignore\n"
     ]
    },
    {
     "data": {
      "text/html": [
       "Tracking run with wandb version 0.18.7"
      ],
      "text/plain": [
       "<IPython.core.display.HTML object>"
      ]
     },
     "metadata": {},
     "output_type": "display_data"
    },
    {
     "data": {
      "text/html": [
       "Run data is saved locally in <code>wandb_logs/wandb/run-20241201_213715-8owcpfkk</code>"
      ],
      "text/plain": [
       "<IPython.core.display.HTML object>"
      ]
     },
     "metadata": {},
     "output_type": "display_data"
    },
    {
     "data": {
      "text/html": [
       "Syncing run <strong><a href='https://wandb.ai/devilhyt/ecg-federated/runs/8owcpfkk' target=\"_blank\">ecg-federated</a></strong> to <a href='https://wandb.ai/devilhyt/ecg-federated' target=\"_blank\">Weights & Biases</a> (<a href='https://wandb.me/developer-guide' target=\"_blank\">docs</a>)<br/>"
      ],
      "text/plain": [
       "<IPython.core.display.HTML object>"
      ]
     },
     "metadata": {},
     "output_type": "display_data"
    },
    {
     "data": {
      "text/html": [
       " View project at <a href='https://wandb.ai/devilhyt/ecg-federated' target=\"_blank\">https://wandb.ai/devilhyt/ecg-federated</a>"
      ],
      "text/plain": [
       "<IPython.core.display.HTML object>"
      ]
     },
     "metadata": {},
     "output_type": "display_data"
    },
    {
     "data": {
      "text/html": [
       " View run at <a href='https://wandb.ai/devilhyt/ecg-federated/runs/8owcpfkk' target=\"_blank\">https://wandb.ai/devilhyt/ecg-federated/runs/8owcpfkk</a>"
      ],
      "text/plain": [
       "<IPython.core.display.HTML object>"
      ]
     },
     "metadata": {},
     "output_type": "display_data"
    },
    {
     "data": {
      "text/html": [
       "<button onClick=\"this.nextSibling.style.display='block';this.style.display='none';\">Display W&B run</button><iframe src='https://wandb.ai/devilhyt/ecg-federated/runs/8owcpfkk?jupyter=true' style='border:none;width:100%;height:420px;display:none;'></iframe>"
      ],
      "text/plain": [
       "<wandb.sdk.wandb_run.Run at 0x78371493ff50>"
      ]
     },
     "execution_count": 4,
     "metadata": {},
     "output_type": "execute_result"
    }
   ],
   "source": [
    "wandb.init(\n",
    "    project=\"ecg-federated\",\n",
    "    name=\"ecg-federated\",\n",
    "    dir=\"wandb_logs\",\n",
    "    config={\n",
    "        \"NUM_CLIENTS\": NUM_CLIENTS,\n",
    "        \"NUM_ROUNDS\": NUM_ROUNDS,\n",
    "        \"MAX_EPOCHS\": MAX_EPOCHS,\n",
    "        \"BATCH_SIZE\": BATCH_SIZE,\n",
    "        \"INIT_LR\": INIT_LR,\n",
    "        \"NON_IID\": NON_IID,\n",
    "        \"DIRICHLET_ALPHA\": DIRICHLET_ALPHA,\n",
    "    },\n",
    ")"
   ]
  },
  {
   "cell_type": "markdown",
   "metadata": {},
   "source": [
    "## Prepare the Dataset and Dataloader"
   ]
  },
  {
   "cell_type": "code",
   "execution_count": 5,
   "metadata": {},
   "outputs": [],
   "source": [
    "dm = Cinc2017DataModuleFL(batch_size=BATCH_SIZE, num_partitions=NUM_CLIENTS)\n",
    "dm.setup(\"client\", NON_IID, DIRICHLET_ALPHA)\n",
    "\n",
    "# dataloaders for server side evaluation\n",
    "dm.setup(\"train_eval\")\n",
    "train_loader = dm.train_eval_dataloader()\n",
    "dm.setup(\"validate\")\n",
    "valid_loader = dm.val_dataloader()"
   ]
  },
  {
   "cell_type": "markdown",
   "metadata": {},
   "source": [
    "## Observe the data distribution of each client."
   ]
  },
  {
   "cell_type": "code",
   "execution_count": 6,
   "metadata": {},
   "outputs": [
    {
     "data": {
      "image/png": "[encoded data removed]",
      "text/plain": [
       "<Figure size 640x480 with 1 Axes>"
      ]
     },
     "metadata": {},
     "output_type": "display_data"
    }
   ],
   "source": [
    "fig, ax, df = plot_label_distributions(\n",
    "    dm.client_set_partitioner,\n",
    "    label_name=\"label\",\n",
    "    plot_type=\"bar\",\n",
    "    size_unit=\"absolute\",\n",
    "    partition_id_axis=\"x\",\n",
    "    legend=True,\n",
    "    verbose_labels=True,\n",
    "    title=\"Per Partition Labels Distribution\",\n",
    ")\n",
    "plt.show()\n",
    "\n",
    "wandb.log({\"label_distribution\": fig}, step=0)"
   ]
  },
  {
   "cell_type": "markdown",
   "metadata": {},
   "source": [
    "## Flower Client App"
   ]
  },
  {
   "cell_type": "code",
   "execution_count": 7,
   "metadata": {},
   "outputs": [],
   "source": [
    "def get_parameters(model: DenseNet1dModule) -> list:\n",
    "    return [val.cpu().numpy() for _, val in model.state_dict().items()]\n",
    "\n",
    "\n",
    "def set_parameters(model: DenseNet1dModule, parameters):\n",
    "    params_dict = zip(model.state_dict().keys(), parameters)\n",
    "    state_dict = OrderedDict({k: torch.tensor(v) for k, v in params_dict})\n",
    "    model.load_state_dict(state_dict, strict=True)"
   ]
  },
  {
   "cell_type": "code",
   "execution_count": 8,
   "metadata": {},
   "outputs": [],
   "source": [
    "class FlowerClient(NumPyClient):\n",
    "    def __init__(\n",
    "        self,\n",
    "        train_dataloader: DataLoader,\n",
    "        valid_dataloader: DataLoader,\n",
    "        max_epochs: int,\n",
    "    ):\n",
    "        # disable unnecessary logging for each client\n",
    "        logging.getLogger(\"lightning.pytorch.utilities.rank_zero\").disabled = True\n",
    "        logging.getLogger(\"lightning.pytorch.accelerators.cuda\").disabled = True\n",
    "\n",
    "        self.model = None\n",
    "        self.max_epochs = max_epochs\n",
    "        self.train_dataloader = train_dataloader\n",
    "        self.valid_dataloader = valid_dataloader\n",
    "\n",
    "    def get_parameters(self, config):\n",
    "        return get_parameters(self.model)\n",
    "\n",
    "    def fit(self, parameters, config):\n",
    "        # create a model\n",
    "        self.model = DenseNet1dModule(\n",
    "            num_classes=dm.num_classes,\n",
    "            show_valid_cm=False,\n",
    "            memory_efficient=False,\n",
    "            lr=config[\"lr\"],\n",
    "        )\n",
    "\n",
    "        # get the global model from the server\n",
    "        set_parameters(self.model, parameters)\n",
    "\n",
    "        # define trainer\n",
    "        trainer = L.Trainer(\n",
    "            max_epochs=self.max_epochs,\n",
    "            enable_progress_bar=False,\n",
    "            enable_model_summary=False,\n",
    "            enable_checkpointing=False,\n",
    "            logger=False,\n",
    "        )\n",
    "\n",
    "        # train the model\n",
    "        trainer.fit(self.model, self.train_dataloader, self.valid_dataloader)\n",
    "\n",
    "        return get_parameters(self.model), len(self.train_dataloader.dataset), {}\n",
    "\n",
    "\n",
    "def client_fn(context: Context) -> Client:\n",
    "    partition_id = context.node_config[\"partition-id\"]\n",
    "    train_dataloader, valid_dataloader = dm.client_dataloaders(partition_id)\n",
    "\n",
    "    return FlowerClient(train_dataloader, valid_dataloader, MAX_EPOCHS).to_client()"
   ]
  },
  {
   "cell_type": "markdown",
   "metadata": {},
   "source": [
    "## Flower Server App"
   ]
  },
  {
   "cell_type": "code",
   "execution_count": 9,
   "metadata": {},
   "outputs": [],
   "source": [
    "best_valid_loss = float(\"inf\")\n",
    "checkpoint_path = Path(f\"wandb_logs/ecg-federated/{wandb.run.id}\")\n",
    "\n",
    "\n",
    "def evaluate(\n",
    "    server_round: int,\n",
    "    parameters: NDArrays,\n",
    "    config: Dict[str, Scalar],\n",
    ") -> Optional[Tuple[float, Dict[str, Scalar]]]:\n",
    "    \"\"\"Server-side parameter evaluation\"\"\"\n",
    "    model = DenseNet1dModule(num_classes=dm.num_classes, memory_efficient=False)\n",
    "    set_parameters(model, parameters)\n",
    "\n",
    "    trainer = L.Trainer(\n",
    "        enable_progress_bar=False, enable_model_summary=False, logger=False\n",
    "    )\n",
    "\n",
    "    # Evaluate on the train set\n",
    "    # We place train evaluation on the server side for convenience.\n",
    "    # In a real-world scenario, this should be done on the client side.\n",
    "    train_result = trainer.validate(model, train_loader, verbose=False)[0]\n",
    "    for key in [\"loss\", \"acc\", \"f1\"]:\n",
    "        train_result[f\"train_{key}\"] = train_result.pop(f\"valid_{key}\")\n",
    "    wandb.log(train_result, step=server_round)\n",
    "\n",
    "    # Evaluate on the valid set\n",
    "    valid_result = trainer.validate(model, valid_loader, verbose=False)[0]\n",
    "    wandb.log(valid_result, step=server_round)\n",
    "\n",
    "    # Save the checkpoint\n",
    "    global best_valid_loss\n",
    "    valid_loss = valid_result[\"valid_loss\"]\n",
    "    if valid_loss < best_valid_loss:\n",
    "        best_valid_loss = valid_loss\n",
    "        trainer.save_checkpoint(checkpoint_path / \"best.ckpt\", model)\n",
    "        log(logging.INFO, \"Best model updated and saved.\")\n",
    "    trainer.save_checkpoint(checkpoint_path / \"latest.ckpt\", model)\n",
    "\n",
    "    return valid_loss, {**train_result, **valid_result}\n",
    "\n",
    "\n",
    "def fit_config(server_round: int):\n",
    "    # Learning rate schedule\n",
    "    # Reduce learning rate by 0.5 every 1/3 of the total rounds\n",
    "    step = max(1, NUM_ROUNDS // 3)\n",
    "    lr = INIT_LR * 0.5 ** ((server_round - 1) // step)\n",
    "    config = {\"lr\": lr}\n",
    "\n",
    "    log(logging.INFO, f\"Learning rate: {lr}\")\n",
    "    wandb.log(config, step=server_round)\n",
    "    return config\n",
    "\n",
    "\n",
    "def server_fn(context: Context) -> ServerAppComponents:\n",
    "    # Convert model parameters to flwr.common.Parameters\n",
    "    init_model = DenseNet1dModule(num_classes=dm.num_classes, memory_efficient=False)\n",
    "    ndarrays = get_parameters(init_model)\n",
    "    initial_parameters = ndarrays_to_parameters(ndarrays)\n",
    "\n",
    "    # Define strategy\n",
    "    strategy = FedAvg(\n",
    "        fraction_fit=1.0,\n",
    "        fraction_evaluate=0,\n",
    "        min_fit_clients=NUM_CLIENTS,\n",
    "        min_available_clients=NUM_CLIENTS,\n",
    "        initial_parameters=initial_parameters,\n",
    "        evaluate_fn=evaluate,\n",
    "        on_fit_config_fn=fit_config,\n",
    "    )\n",
    "\n",
    "    # Construct ServerConfig\n",
    "    config = ServerConfig(num_rounds=NUM_ROUNDS)\n",
    "\n",
    "    return ServerAppComponents(strategy=strategy, config=config)"
   ]
  },
  {
   "cell_type": "markdown",
   "metadata": {},
   "source": [
    "## Run Simulation"
   ]
  },
  {
   "cell_type": "code",
   "execution_count": 10,
   "metadata": {},
   "outputs": [
    {
     "name": "stderr",
     "output_type": "stream",
     "text": [
      "\u001b[92mINFO \u001b[0m:      Starting Flower ServerApp, config: num_rounds=10, no round_timeout\n",
      "\u001b[92mINFO \u001b[0m:      \n",
      "\u001b[92mINFO \u001b[0m:      [INIT]\n",
      "\u001b[92mINFO \u001b[0m:      Using initial global parameters provided by strategy\n",
      "\u001b[92mINFO \u001b[0m:      Starting evaluation of initial global parameters\n",
      "\u001b[92mINFO \u001b[0m:      Best model updated and saved.\n",
      "\u001b[92mINFO \u001b[0m:      initial parameters (loss, other metrics): 1.137862205505371, {'train_loss': 1.137991189956665, 'train_acc': 0.3333333432674408, 'train_f1': 0.1510392278432846, 'valid_loss': 1.137862205505371, 'valid_acc': 0.3333333432674408, 'valid_f1': 0.15071919560432434}\n",
      "\u001b[92mINFO \u001b[0m:      \n",
      "\u001b[92mINFO \u001b[0m:      [ROUND 1]\n",
      "\u001b[92mINFO \u001b[0m:      Learning rate: 0.002\n",
      "\u001b[92mINFO \u001b[0m:      configure_fit: strategy sampled 5 clients (out of 5)\n",
      "\u001b[92mINFO \u001b[0m:      aggregate_fit: received 5 results and 0 failures\n",
      "\u001b[93mWARNING \u001b[0m:   No fit_metrics_aggregation_fn provided\n",
      "\u001b[92mINFO \u001b[0m:      Best model updated and saved.\n",
      "\u001b[92mINFO \u001b[0m:      fit progress: (1, 0.8462121486663818, {'train_loss': 0.8273081183433533, 'train_acc': 0.3862413763999939, 'train_f1': 0.3539204001426697, 'valid_loss': 0.8462121486663818, 'valid_acc': 0.3650866150856018, 'valid_f1': 0.31820252537727356}, 69.68964944101754)\n",
      "\u001b[92mINFO \u001b[0m:      configure_evaluate: no clients selected, skipping evaluation\n",
      "\u001b[92mINFO \u001b[0m:      \n",
      "\u001b[92mINFO \u001b[0m:      [ROUND 2]\n",
      "\u001b[92mINFO \u001b[0m:      Learning rate: 0.002\n",
      "\u001b[92mINFO \u001b[0m:      configure_fit: strategy sampled 5 clients (out of 5)\n",
      "\u001b[92mINFO \u001b[0m:      aggregate_fit: received 5 results and 0 failures\n",
      "\u001b[92mINFO \u001b[0m:      Best model updated and saved.\n",
      "\u001b[92mINFO \u001b[0m:      fit progress: (2, 0.541450023651123, {'train_loss': 0.4915313720703125, 'train_acc': 0.7132046222686768, 'train_f1': 0.7499184608459473, 'valid_loss': 0.541450023651123, 'valid_acc': 0.6964282393455505, 'valid_f1': 0.7328423857688904}, 131.23098053399008)\n",
      "\u001b[92mINFO \u001b[0m:      configure_evaluate: no clients selected, skipping evaluation\n",
      "\u001b[92mINFO \u001b[0m:      \n",
      "\u001b[92mINFO \u001b[0m:      [ROUND 3]\n",
      "\u001b[92mINFO \u001b[0m:      Learning rate: 0.002\n",
      "\u001b[92mINFO \u001b[0m:      configure_fit: strategy sampled 5 clients (out of 5)\n",
      "\u001b[92mINFO \u001b[0m:      aggregate_fit: received 5 results and 0 failures\n",
      "\u001b[92mINFO \u001b[0m:      Best model updated and saved.\n",
      "\u001b[92mINFO \u001b[0m:      fit progress: (3, 0.508174479007721, {'train_loss': 0.4321143925189972, 'train_acc': 0.7638769149780273, 'train_f1': 0.7970395088195801, 'valid_loss': 0.508174479007721, 'valid_acc': 0.7344753742218018, 'valid_f1': 0.772189199924469}, 192.98361787901376)\n",
      "\u001b[92mINFO \u001b[0m:      configure_evaluate: no clients selected, skipping evaluation\n",
      "\u001b[92mINFO \u001b[0m:      \n",
      "\u001b[92mINFO \u001b[0m:      [ROUND 4]\n",
      "\u001b[92mINFO \u001b[0m:      Learning rate: 0.001\n",
      "\u001b[92mINFO \u001b[0m:      configure_fit: strategy sampled 5 clients (out of 5)\n",
      "\u001b[92mINFO \u001b[0m:      aggregate_fit: received 5 results and 0 failures\n",
      "\u001b[92mINFO \u001b[0m:      Best model updated and saved.\n",
      "\u001b[92mINFO \u001b[0m:      fit progress: (4, 0.47127190232276917, {'train_loss': 0.39966368675231934, 'train_acc': 0.8045526742935181, 'train_f1': 0.8316929936408997, 'valid_loss': 0.47127190232276917, 'valid_acc': 0.7654774785041809, 'valid_f1': 0.7914398908615112}, 255.65424967100262)\n",
      "\u001b[92mINFO \u001b[0m:      configure_evaluate: no clients selected, skipping evaluation\n",
      "\u001b[92mINFO \u001b[0m:      \n",
      "\u001b[92mINFO \u001b[0m:      [ROUND 5]\n",
      "\u001b[92mINFO \u001b[0m:      Learning rate: 0.001\n",
      "\u001b[92mINFO \u001b[0m:      configure_fit: strategy sampled 5 clients (out of 5)\n",
      "\u001b[92mINFO \u001b[0m:      aggregate_fit: received 5 results and 0 failures\n",
      "\u001b[92mINFO \u001b[0m:      Best model updated and saved.\n",
      "\u001b[92mINFO \u001b[0m:      fit progress: (5, 0.4495631754398346, {'train_loss': 0.3741959035396576, 'train_acc': 0.8241186738014221, 'train_f1': 0.8460396528244019, 'valid_loss': 0.4495631754398346, 'valid_acc': 0.7963622808456421, 'valid_f1': 0.8199821710586548}, 318.2443337140139)\n",
      "\u001b[92mINFO \u001b[0m:      configure_evaluate: no clients selected, skipping evaluation\n",
      "\u001b[92mINFO \u001b[0m:      \n",
      "\u001b[92mINFO \u001b[0m:      [ROUND 6]\n",
      "\u001b[92mINFO \u001b[0m:      Learning rate: 0.001\n",
      "\u001b[92mINFO \u001b[0m:      configure_fit: strategy sampled 5 clients (out of 5)\n",
      "\u001b[92mINFO \u001b[0m:      aggregate_fit: received 5 results and 0 failures\n",
      "\u001b[92mINFO \u001b[0m:      Best model updated and saved.\n",
      "\u001b[92mINFO \u001b[0m:      fit progress: (6, 0.4439890384674072, {'train_loss': 0.361604243516922, 'train_acc': 0.8278225660324097, 'train_f1': 0.8524428606033325, 'valid_loss': 0.4439890384674072, 'valid_acc': 0.7798941135406494, 'valid_f1': 0.8096523880958557}, 379.9271719279932)\n",
      "\u001b[92mINFO \u001b[0m:      configure_evaluate: no clients selected, skipping evaluation\n",
      "\u001b[92mINFO \u001b[0m:      \n",
      "\u001b[92mINFO \u001b[0m:      [ROUND 7]\n",
      "\u001b[92mINFO \u001b[0m:      Learning rate: 0.0005\n",
      "\u001b[92mINFO \u001b[0m:      configure_fit: strategy sampled 5 clients (out of 5)\n",
      "\u001b[92mINFO \u001b[0m:      aggregate_fit: received 5 results and 0 failures\n",
      "\u001b[92mINFO \u001b[0m:      Best model updated and saved.\n",
      "\u001b[92mINFO \u001b[0m:      fit progress: (7, 0.43038055300712585, {'train_loss': 0.32156631350517273, 'train_acc': 0.8509761095046997, 'train_f1': 0.8677011728286743, 'valid_loss': 0.43038055300712585, 'valid_acc': 0.8163650035858154, 'valid_f1': 0.8292850255966187}, 442.022143159993)\n",
      "\u001b[92mINFO \u001b[0m:      configure_evaluate: no clients selected, skipping evaluation\n",
      "\u001b[92mINFO \u001b[0m:      \n",
      "\u001b[92mINFO \u001b[0m:      [ROUND 8]\n",
      "\u001b[92mINFO \u001b[0m:      Learning rate: 0.0005\n",
      "\u001b[92mINFO \u001b[0m:      configure_fit: strategy sampled 5 clients (out of 5)\n",
      "\u001b[92mINFO \u001b[0m:      aggregate_fit: received 5 results and 0 failures\n",
      "\u001b[92mINFO \u001b[0m:      fit progress: (8, 0.44625672698020935, {'train_loss': 0.3242841958999634, 'train_acc': 0.8561345338821411, 'train_f1': 0.8732395768165588, 'valid_loss': 0.44625672698020935, 'valid_acc': 0.8009777665138245, 'valid_f1': 0.8203048706054688}, 504.0958651980036)\n",
      "\u001b[92mINFO \u001b[0m:      configure_evaluate: no clients selected, skipping evaluation\n",
      "\u001b[92mINFO \u001b[0m:      \n",
      "\u001b[92mINFO \u001b[0m:      [ROUND 9]\n",
      "\u001b[92mINFO \u001b[0m:      Learning rate: 0.0005\n",
      "\u001b[92mINFO \u001b[0m:      configure_fit: strategy sampled 5 clients (out of 5)\n",
      "\u001b[92mINFO \u001b[0m:      aggregate_fit: received 5 results and 0 failures\n",
      "\u001b[92mINFO \u001b[0m:      fit progress: (9, 0.4527750313282013, {'train_loss': 0.31341123580932617, 'train_acc': 0.854822039604187, 'train_f1': 0.8750892877578735, 'valid_loss': 0.4527750313282013, 'valid_acc': 0.7891321778297424, 'valid_f1': 0.8148342967033386}, 565.182297930005)\n",
      "\u001b[92mINFO \u001b[0m:      configure_evaluate: no clients selected, skipping evaluation\n",
      "\u001b[92mINFO \u001b[0m:      \n",
      "\u001b[92mINFO \u001b[0m:      [ROUND 10]\n",
      "\u001b[92mINFO \u001b[0m:      Learning rate: 0.00025\n",
      "\u001b[92mINFO \u001b[0m:      configure_fit: strategy sampled 5 clients (out of 5)\n",
      "\u001b[92mINFO \u001b[0m:      aggregate_fit: received 5 results and 0 failures\n",
      "\u001b[92mINFO \u001b[0m:      fit progress: (10, 0.46068263053894043, {'train_loss': 0.29697272181510925, 'train_acc': 0.8574329614639282, 'train_f1': 0.8782968521118164, 'valid_loss': 0.46068263053894043, 'valid_acc': 0.7875366806983948, 'valid_f1': 0.8140174150466919}, 627.0857211800176)\n",
      "\u001b[92mINFO \u001b[0m:      configure_evaluate: no clients selected, skipping evaluation\n",
      "\u001b[92mINFO \u001b[0m:      \n",
      "\u001b[92mINFO \u001b[0m:      [SUMMARY]\n",
      "\u001b[92mINFO \u001b[0m:      Run finished 10 round(s) in 627.09s\n",
      "\u001b[92mINFO \u001b[0m:      \tHistory (loss, centralized):\n",
      "\u001b[92mINFO \u001b[0m:      \t\tround 0: 1.137862205505371\n",
      "\u001b[92mINFO \u001b[0m:      \t\tround 1: 0.8462121486663818\n",
      "\u001b[92mINFO \u001b[0m:      \t\tround 2: 0.541450023651123\n",
      "\u001b[92mINFO \u001b[0m:      \t\tround 3: 0.508174479007721\n",
      "\u001b[92mINFO \u001b[0m:      \t\tround 4: 0.47127190232276917\n",
      "\u001b[92mINFO \u001b[0m:      \t\tround 5: 0.4495631754398346\n",
      "\u001b[92mINFO \u001b[0m:      \t\tround 6: 0.4439890384674072\n",
      "\u001b[92mINFO \u001b[0m:      \t\tround 7: 0.43038055300712585\n",
      "\u001b[92mINFO \u001b[0m:      \t\tround 8: 0.44625672698020935\n",
      "\u001b[92mINFO \u001b[0m:      \t\tround 9: 0.4527750313282013\n",
      "\u001b[92mINFO \u001b[0m:      \t\tround 10: 0.46068263053894043\n",
      "\u001b[92mINFO \u001b[0m:      \tHistory (metrics, centralized):\n",
      "\u001b[92mINFO \u001b[0m:      \t{'train_acc': [(0, 0.3333333432674408),\n",
      "\u001b[92mINFO \u001b[0m:      \t               (1, 0.3862413763999939),\n",
      "\u001b[92mINFO \u001b[0m:      \t               (2, 0.7132046222686768),\n",
      "\u001b[92mINFO \u001b[0m:      \t               (3, 0.7638769149780273),\n",
      "\u001b[92mINFO \u001b[0m:      \t               (4, 0.8045526742935181),\n",
      "\u001b[92mINFO \u001b[0m:      \t               (5, 0.8241186738014221),\n",
      "\u001b[92mINFO \u001b[0m:      \t               (6, 0.8278225660324097),\n",
      "\u001b[92mINFO \u001b[0m:      \t               (7, 0.8509761095046997),\n",
      "\u001b[92mINFO \u001b[0m:      \t               (8, 0.8561345338821411),\n",
      "\u001b[92mINFO \u001b[0m:      \t               (9, 0.854822039604187),\n",
      "\u001b[92mINFO \u001b[0m:      \t               (10, 0.8574329614639282)],\n",
      "\u001b[92mINFO \u001b[0m:      \t 'train_f1': [(0, 0.1510392278432846),\n",
      "\u001b[92mINFO \u001b[0m:      \t              (1, 0.3539204001426697),\n",
      "\u001b[92mINFO \u001b[0m:      \t              (2, 0.7499184608459473),\n",
      "\u001b[92mINFO \u001b[0m:      \t              (3, 0.7970395088195801),\n",
      "\u001b[92mINFO \u001b[0m:      \t              (4, 0.8316929936408997),\n",
      "\u001b[92mINFO \u001b[0m:      \t              (5, 0.8460396528244019),\n",
      "\u001b[92mINFO \u001b[0m:      \t              (6, 0.8524428606033325),\n",
      "\u001b[92mINFO \u001b[0m:      \t              (7, 0.8677011728286743),\n",
      "\u001b[92mINFO \u001b[0m:      \t              (8, 0.8732395768165588),\n",
      "\u001b[92mINFO \u001b[0m:      \t              (9, 0.8750892877578735),\n",
      "\u001b[92mINFO \u001b[0m:      \t              (10, 0.8782968521118164)],\n",
      "\u001b[92mINFO \u001b[0m:      \t 'train_loss': [(0, 1.137991189956665),\n",
      "\u001b[92mINFO \u001b[0m:      \t                (1, 0.8273081183433533),\n",
      "\u001b[92mINFO \u001b[0m:      \t                (2, 0.4915313720703125),\n",
      "\u001b[92mINFO \u001b[0m:      \t                (3, 0.4321143925189972),\n",
      "\u001b[92mINFO \u001b[0m:      \t                (4, 0.39966368675231934),\n",
      "\u001b[92mINFO \u001b[0m:      \t                (5, 0.3741959035396576),\n",
      "\u001b[92mINFO \u001b[0m:      \t                (6, 0.361604243516922),\n",
      "\u001b[92mINFO \u001b[0m:      \t                (7, 0.32156631350517273),\n",
      "\u001b[92mINFO \u001b[0m:      \t                (8, 0.3242841958999634),\n",
      "\u001b[92mINFO \u001b[0m:      \t                (9, 0.31341123580932617),\n",
      "\u001b[92mINFO \u001b[0m:      \t                (10, 0.29697272181510925)],\n",
      "\u001b[92mINFO \u001b[0m:      \t 'valid_acc': [(0, 0.3333333432674408),\n",
      "\u001b[92mINFO \u001b[0m:      \t               (1, 0.3650866150856018),\n",
      "\u001b[92mINFO \u001b[0m:      \t               (2, 0.6964282393455505),\n",
      "\u001b[92mINFO \u001b[0m:      \t               (3, 0.7344753742218018),\n",
      "\u001b[92mINFO \u001b[0m:      \t               (4, 0.7654774785041809),\n",
      "\u001b[92mINFO \u001b[0m:      \t               (5, 0.7963622808456421),\n",
      "\u001b[92mINFO \u001b[0m:      \t               (6, 0.7798941135406494),\n",
      "\u001b[92mINFO \u001b[0m:      \t               (7, 0.8163650035858154),\n",
      "\u001b[92mINFO \u001b[0m:      \t               (8, 0.8009777665138245),\n",
      "\u001b[92mINFO \u001b[0m:      \t               (9, 0.7891321778297424),\n",
      "\u001b[92mINFO \u001b[0m:      \t               (10, 0.7875366806983948)],\n",
      "\u001b[92mINFO \u001b[0m:      \t 'valid_f1': [(0, 0.15071919560432434),\n",
      "\u001b[92mINFO \u001b[0m:      \t              (1, 0.31820252537727356),\n",
      "\u001b[92mINFO \u001b[0m:      \t              (2, 0.7328423857688904),\n",
      "\u001b[92mINFO \u001b[0m:      \t              (3, 0.772189199924469),\n",
      "\u001b[92mINFO \u001b[0m:      \t              (4, 0.7914398908615112),\n",
      "\u001b[92mINFO \u001b[0m:      \t              (5, 0.8199821710586548),\n",
      "\u001b[92mINFO \u001b[0m:      \t              (6, 0.8096523880958557),\n",
      "\u001b[92mINFO \u001b[0m:      \t              (7, 0.8292850255966187),\n",
      "\u001b[92mINFO \u001b[0m:      \t              (8, 0.8203048706054688),\n",
      "\u001b[92mINFO \u001b[0m:      \t              (9, 0.8148342967033386),\n",
      "\u001b[92mINFO \u001b[0m:      \t              (10, 0.8140174150466919)],\n",
      "\u001b[92mINFO \u001b[0m:      \t 'valid_loss': [(0, 1.137862205505371),\n",
      "\u001b[92mINFO \u001b[0m:      \t                (1, 0.8462121486663818),\n",
      "\u001b[92mINFO \u001b[0m:      \t                (2, 0.541450023651123),\n",
      "\u001b[92mINFO \u001b[0m:      \t                (3, 0.508174479007721),\n",
      "\u001b[92mINFO \u001b[0m:      \t                (4, 0.47127190232276917),\n",
      "\u001b[92mINFO \u001b[0m:      \t                (5, 0.4495631754398346),\n",
      "\u001b[92mINFO \u001b[0m:      \t                (6, 0.4439890384674072),\n",
      "\u001b[92mINFO \u001b[0m:      \t                (7, 0.43038055300712585),\n",
      "\u001b[92mINFO \u001b[0m:      \t                (8, 0.44625672698020935),\n",
      "\u001b[92mINFO \u001b[0m:      \t                (9, 0.4527750313282013),\n",
      "\u001b[92mINFO \u001b[0m:      \t                (10, 0.46068263053894043)]}\n",
      "\u001b[92mINFO \u001b[0m:      \n"
     ]
    }
   ],
   "source": [
    "backend_config = {\n",
    "    \"client_resources\": {\"num_cpus\": 1, \"num_gpus\": 1 / (NUM_CLIENTS + 1)}\n",
    "}\n",
    "\n",
    "run_simulation(\n",
    "    server_app=ServerApp(server_fn=server_fn),\n",
    "    client_app=ClientApp(client_fn=client_fn),\n",
    "    num_supernodes=NUM_CLIENTS,\n",
    "    backend_config=backend_config,\n",
    ")"
   ]
  },
  {
   "cell_type": "markdown",
   "metadata": {},
   "source": [
    "## Evaluation and Visualization on the Test set."
   ]
  },
  {
   "cell_type": "code",
   "execution_count": 11,
   "metadata": {},
   "outputs": [],
   "source": [
    "progress_bar_callback = TQDMProgressBar(leave=True)\n",
    "\n",
    "trainer = L.Trainer(\n",
    "    callbacks=[progress_bar_callback],\n",
    "    logger=False,\n",
    ")"
   ]
  },
  {
   "cell_type": "code",
   "execution_count": 12,
   "metadata": {},
   "outputs": [
    {
     "name": "stdout",
     "output_type": "stream",
     "text": [
      "Testing DataLoader 0: 100%|██████████| 13/13 [00:00<00:00, 40.00it/s]\n"
     ]
    },
    {
     "data": {
      "text/html": [
       "<pre style=\"white-space:pre;overflow-x:auto;line-height:normal;font-family:Menlo,'DejaVu Sans Mono',consolas,'Courier New',monospace\">┏━━━━━━━━━━━━━━━━━━━━━━━━━━━┳━━━━━━━━━━━━━━━━━━━━━━━━━━━┓\n",
       "┃<span style=\"font-weight: bold\">        Test metric        </span>┃<span style=\"font-weight: bold\">       DataLoader 0        </span>┃\n",
       "┡━━━━━━━━━━━━━━━━━━━━━━━━━━━╇━━━━━━━━━━━━━━━━━━━━━━━━━━━┩\n",
       "│<span style=\"color: #008080; text-decoration-color: #008080\">         test_acc          </span>│<span style=\"color: #800080; text-decoration-color: #800080\">    0.7824188470840454     </span>│\n",
       "│<span style=\"color: #008080; text-decoration-color: #008080\">          test_f1          </span>│<span style=\"color: #800080; text-decoration-color: #800080\">    0.7971699237823486     </span>│\n",
       "│<span style=\"color: #008080; text-decoration-color: #008080\">         test_loss         </span>│<span style=\"color: #800080; text-decoration-color: #800080\">     0.558036208152771     </span>│\n",
       "└───────────────────────────┴───────────────────────────┘\n",
       "</pre>\n"
      ],
      "text/plain": [
       "┏━━━━━━━━━━━━━━━━━━━━━━━━━━━┳━━━━━━━━━━━━━━━━━━━━━━━━━━━┓\n",
       "┃\u001b[1m \u001b[0m\u001b[1m       Test metric       \u001b[0m\u001b[1m \u001b[0m┃\u001b[1m \u001b[0m\u001b[1m      DataLoader 0       \u001b[0m\u001b[1m \u001b[0m┃\n",
       "┡━━━━━━━━━━━━━━━━━━━━━━━━━━━╇━━━━━━━━━━━━━━━━━━━━━━━━━━━┩\n",
       "│\u001b[36m \u001b[0m\u001b[36m        test_acc         \u001b[0m\u001b[36m \u001b[0m│\u001b[35m \u001b[0m\u001b[35m   0.7824188470840454    \u001b[0m\u001b[35m \u001b[0m│\n",
       "│\u001b[36m \u001b[0m\u001b[36m         test_f1         \u001b[0m\u001b[36m \u001b[0m│\u001b[35m \u001b[0m\u001b[35m   0.7971699237823486    \u001b[0m\u001b[35m \u001b[0m│\n",
       "│\u001b[36m \u001b[0m\u001b[36m        test_loss        \u001b[0m\u001b[36m \u001b[0m│\u001b[35m \u001b[0m\u001b[35m    0.558036208152771    \u001b[0m\u001b[35m \u001b[0m│\n",
       "└───────────────────────────┴───────────────────────────┘\n"
      ]
     },
     "metadata": {},
     "output_type": "display_data"
    }
   ],
   "source": [
    "model = DenseNet1dModule.load_from_checkpoint(checkpoint_path / \"best.ckpt\")\n",
    "result = trainer.test(model, datamodule=dm)\n",
    "wandb.log(result[0], step=NUM_ROUNDS+1)"
   ]
  },
  {
   "cell_type": "code",
   "execution_count": 14,
   "metadata": {},
   "outputs": [
    {
     "data": {
      "image/png": "[encoded data removed]",
      "text/plain": [
       "<Figure size 640x480 with 1 Axes>"
      ]
     },
     "metadata": {},
     "output_type": "display_data"
    }
   ],
   "source": [
    "fig, ax = model.test_cm.plot(\n",
    "    model.test_cm_log, cmap=\"Blues\", labels=dm.test_set.classes\n",
    ")\n",
    "plt.show()\n",
    "wandb.log({\"test_cm\": fig}, step=NUM_ROUNDS + 1)"
   ]
  },
  {
   "cell_type": "markdown",
   "metadata": {},
   "source": [
    "## Save the Latest and Best Models"
   ]
  },
  {
   "cell_type": "code",
   "execution_count": 13,
   "metadata": {},
   "outputs": [],
   "source": [
    "for model_type in [\"best\", \"latest\"]:\n",
    "    model_artifact = wandb.Artifact(name=f\"model-{wandb.run.id}\", type=\"model\")\n",
    "    model_artifact.add_file(checkpoint_path / f\"{model_type}.ckpt\")\n",
    "    wandb.log_artifact(model_artifact, aliases=[model_type])"
   ]
  },
  {
   "cell_type": "code",
   "execution_count": 15,
   "metadata": {},
   "outputs": [
    {
     "name": "stderr",
     "output_type": "stream",
     "text": [
      "/home/g113056077/.pyenv/versions/ecg-fl/lib/python3.11/site-packages/wandb/sdk/lib/ipython.py:84: DeprecationWarning:\n",
      "\n",
      "Importing display from IPython.core.display is deprecated since IPython 7.14, please import from IPython.display\n",
      "\n"
     ]
    },
    {
     "data": {
      "text/html": [
       "\n",
       "    <style>\n",
       "        .wandb-row {\n",
       "            display: flex;\n",
       "            flex-direction: row;\n",
       "            flex-wrap: wrap;\n",
       "            justify-content: flex-start;\n",
       "            width: 100%;\n",
       "        }\n",
       "        .wandb-col {\n",
       "            display: flex;\n",
       "            flex-direction: column;\n",
       "            flex-basis: 100%;\n",
       "            flex: 1;\n",
       "            padding: 10px;\n",
       "        }\n",
       "    </style>\n",
       "<div class=\"wandb-row\"><div class=\"wandb-col\"><h3>Run history:</h3><br/><table class=\"wandb\"><tr><td>lr</td><td>███▄▄▄▂▂▂▁</td></tr><tr><td>test_acc</td><td>▁</td></tr><tr><td>test_f1</td><td>▁</td></tr><tr><td>test_loss</td><td>▁</td></tr><tr><td>train_acc</td><td>▁▂▆▇▇██████</td></tr><tr><td>train_f1</td><td>▁▃▇▇███████</td></tr><tr><td>train_loss</td><td>█▅▃▂▂▂▂▁▁▁▁</td></tr><tr><td>valid_acc</td><td>▁▁▆▇▇█▇████</td></tr><tr><td>valid_f1</td><td>▁▃▇▇███████</td></tr><tr><td>valid_loss</td><td>█▅▂▂▁▁▁▁▁▁▁</td></tr></table><br/></div><div class=\"wandb-col\"><h3>Run summary:</h3><br/><table class=\"wandb\"><tr><td>lr</td><td>0.00025</td></tr><tr><td>test_acc</td><td>0.78242</td></tr><tr><td>test_f1</td><td>0.79717</td></tr><tr><td>test_loss</td><td>0.55804</td></tr><tr><td>train_acc</td><td>0.85743</td></tr><tr><td>train_f1</td><td>0.8783</td></tr><tr><td>train_loss</td><td>0.29697</td></tr><tr><td>valid_acc</td><td>0.78754</td></tr><tr><td>valid_f1</td><td>0.81402</td></tr><tr><td>valid_loss</td><td>0.46068</td></tr></table><br/></div></div>"
      ],
      "text/plain": [
       "<IPython.core.display.HTML object>"
      ]
     },
     "metadata": {},
     "output_type": "display_data"
    },
    {
     "data": {
      "text/html": [
       " View run <strong style=\"color:#cdcd00\">ecg-federated</strong> at: <a href='https://wandb.ai/devilhyt/ecg-federated/runs/8owcpfkk' target=\"_blank\">https://wandb.ai/devilhyt/ecg-federated/runs/8owcpfkk</a><br/> View project at: <a href='https://wandb.ai/devilhyt/ecg-federated' target=\"_blank\">https://wandb.ai/devilhyt/ecg-federated</a><br/>Synced 5 W&B file(s), 0 media file(s), 4 artifact file(s) and 2 other file(s)"
      ],
      "text/plain": [
       "<IPython.core.display.HTML object>"
      ]
     },
     "metadata": {},
     "output_type": "display_data"
    },
    {
     "data": {
      "text/html": [
       "Find logs at: <code>wandb_logs/wandb/run-20241201_213715-8owcpfkk/logs</code>"
      ],
      "text/plain": [
       "<IPython.core.display.HTML object>"
      ]
     },
     "metadata": {},
     "output_type": "display_data"
    }
   ],
   "source": [
    "wandb.finish()"
   ]
  }
 ],
 "metadata": {
  "kernelspec": {
   "display_name": "ecg-fl",
   "language": "python",
   "name": "python3"
  },
  "language_info": {
   "codemirror_mode": {
    "name": "ipython",
    "version": 3
   },
   "file_extension": ".py",
   "mimetype": "text/x-python",
   "name": "python",
   "nbconvert_exporter": "python",
   "pygments_lexer": "ipython3",
   "version": "3.11.10"
  }
 },
 "nbformat": 4,
 "nbformat_minor": 2
}
