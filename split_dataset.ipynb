{
 "cells": [
  {
   "cell_type": "markdown",
   "metadata": {},
   "source": [
    "# Split Dataset"
   ]
  },
  {
   "cell_type": "markdown",
   "metadata": {},
   "source": [
    "## Split the dataset into Train, Valid and Test sets\n",
    "- Train : Valid : Test = 80 : 10 : 10"
   ]
  },
  {
   "cell_type": "code",
   "execution_count": 1,
   "metadata": {},
   "outputs": [],
   "source": [
    "import configparser\n",
    "from sklearn.model_selection import train_test_split\n",
    "import pandas as pd\n",
    "from pathlib import Path\n",
    "\n",
    "config = configparser.ConfigParser()\n",
    "config.read(\"config.ini\")\n",
    "random_seed = config[\"data_preprocessing\"].getint(\"random_seed\")\n",
    "label_file = Path(config[\"data_preprocessing\"][\"label_file\"])\n",
    "dataset_dir = Path(config[\"data_preprocessing\"][\"dataset_dir\"])\n",
    "\n",
    "dataset_df = pd.read_csv(label_file, header=None, names=[\"record_name\", \"label\"])\n",
    "\n",
    "temp_df, test_df = train_test_split(\n",
    "    dataset_df, test_size=0.1, stratify=dataset_df[\"label\"], random_state=random_seed\n",
    ")\n",
    "\n",
    "train_df, valid_df = train_test_split(\n",
    "    temp_df, test_size=0.1 / 0.9, stratify=temp_df[\"label\"], random_state=random_seed\n",
    ")\n",
    "\n",
    "# Save the splitted dataset\n",
    "train_df.sort_index().to_csv(dataset_dir / \"train.csv\", index=False)\n",
    "valid_df.sort_index().to_csv(dataset_dir / \"valid.csv\", index=False)\n",
    "test_df.sort_index().to_csv(dataset_dir / \"test.csv\", index=False)"
   ]
  },
  {
   "cell_type": "markdown",
   "metadata": {},
   "source": [
    "## Analyze the label distribution"
   ]
  },
  {
   "cell_type": "code",
   "execution_count": 2,
   "metadata": {},
   "outputs": [
    {
     "name": "stdout",
     "output_type": "stream",
     "text": [
      "Dataset:\n",
      "       count  proportion\n",
      "label                   \n",
      "N       5076    0.595216\n",
      "O       2415    0.283185\n",
      "A        758    0.088884\n",
      "~        279    0.032716\n",
      "\n",
      "Train set:\n",
      "       count  proportion\n",
      "label                   \n",
      "N       4060    0.595133\n",
      "O       1933    0.283348\n",
      "A        606    0.088830\n",
      "~        223    0.032688\n",
      "\n",
      "Valid set:\n",
      "       count  proportion\n",
      "label                   \n",
      "N        508    0.595545\n",
      "O        241    0.282532\n",
      "A         76    0.089097\n",
      "~         28    0.032825\n",
      "\n",
      "Test set:\n",
      "       count  proportion\n",
      "label                   \n",
      "N        508    0.595545\n",
      "O        241    0.282532\n",
      "A         76    0.089097\n",
      "~         28    0.032825\n"
     ]
    }
   ],
   "source": [
    "def calculate_label_stats(subset_df):\n",
    "    label_counts = subset_df[\"label\"].value_counts()\n",
    "    label_proportions = subset_df[\"label\"].value_counts(normalize=True)\n",
    "\n",
    "    label_stats = pd.DataFrame({\"count\": label_counts, \"proportion\": label_proportions})\n",
    "    \n",
    "    return label_stats\n",
    "\n",
    "\n",
    "dataset_label_stats = calculate_label_stats(dataset_df)\n",
    "train_label_stats = calculate_label_stats(train_df)\n",
    "valid_label_stats = calculate_label_stats(valid_df)\n",
    "test_label_stats = calculate_label_stats(test_df)\n",
    "\n",
    "print(\"Dataset:\")\n",
    "print(dataset_label_stats)\n",
    "print(\"\\nTrain set:\")\n",
    "print(train_label_stats)\n",
    "print(\"\\nValid set:\")\n",
    "print(valid_label_stats)\n",
    "print(\"\\nTest set:\")\n",
    "print(test_label_stats)"
   ]
  }
 ],
 "metadata": {
  "kernelspec": {
   "display_name": "ecg-fl",
   "language": "python",
   "name": "python3"
  },
  "language_info": {
   "codemirror_mode": {
    "name": "ipython",
    "version": 3
   },
   "file_extension": ".py",
   "mimetype": "text/x-python",
   "name": "python",
   "nbconvert_exporter": "python",
   "pygments_lexer": "ipython3",
   "version": "3.11.10"
  }
 },
 "nbformat": 4,
 "nbformat_minor": 2
}
