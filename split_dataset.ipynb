{
 "cells": [
  {
   "cell_type": "markdown",
   "metadata": {},
   "source": [
    "# Split Dataset"
   ]
  },
  {
   "cell_type": "markdown",
   "metadata": {},
   "source": [
    "## Split the dataset into Train, Valid and Test sets\n",
    "- Train : Valid : Test = 70 : 15 : 15"
   ]
  },
  {
   "cell_type": "code",
   "execution_count": 1,
   "metadata": {},
   "outputs": [],
   "source": [
    "import configparser\n",
    "from sklearn.model_selection import train_test_split\n",
    "import pandas as pd\n",
    "from pathlib import Path\n",
    "\n",
    "config = configparser.ConfigParser()\n",
    "config.read(\"config.ini\")\n",
    "random_seed = config[\"data_preprocessing\"].getint(\"random_seed\")\n",
    "label_file = Path(config[\"data_preprocessing\"][\"label_file\"])\n",
    "dataset_dir = Path(config[\"data_preprocessing\"][\"dataset_dir\"])\n",
    "\n",
    "dataset_df = pd.read_csv(label_file, header=None, names=[\"record_name\", \"label\"])\n",
    "\n",
    "temp_df, test_df = train_test_split(\n",
    "    dataset_df, test_size=0.15, stratify=dataset_df[\"label\"], random_state=random_seed\n",
    ")\n",
    "\n",
    "train_df, valid_df = train_test_split(\n",
    "    temp_df, test_size=0.15 / 0.85, stratify=temp_df[\"label\"], random_state=random_seed\n",
    ")\n",
    "\n",
    "# Save the splitted dataset\n",
    "train_df.sort_index().to_csv(dataset_dir / \"train.csv\", index=False)\n",
    "valid_df.sort_index().to_csv(dataset_dir / \"valid.csv\", index=False)\n",
    "test_df.sort_index().to_csv(dataset_dir / \"test.csv\", index=False)"
   ]
  },
  {
   "cell_type": "markdown",
   "metadata": {},
   "source": [
    "## Analyze the label distribution"
   ]
  },
  {
   "cell_type": "code",
   "execution_count": 2,
   "metadata": {},
   "outputs": [
    {
     "name": "stdout",
     "output_type": "stream",
     "text": [
      "Dataset:\n",
      "       count  proportion\n",
      "label                   \n",
      "N       5076    0.595216\n",
      "O       2415    0.283185\n",
      "A        758    0.088884\n",
      "~        279    0.032716\n",
      "\n",
      "Train set:\n",
      "       count  proportion\n",
      "label                   \n",
      "N       3552    0.595174\n",
      "O       1691    0.283345\n",
      "A        530    0.088807\n",
      "~        195    0.032674\n",
      "\n",
      "Valid set:\n",
      "       count  proportion\n",
      "label                   \n",
      "N        762    0.595313\n",
      "O        362    0.282813\n",
      "A        114    0.089063\n",
      "~         42    0.032813\n",
      "\n",
      "Test set:\n",
      "       count  proportion\n",
      "label                   \n",
      "N        762    0.595313\n",
      "O        362    0.282813\n",
      "A        114    0.089063\n",
      "~         42    0.032813\n"
     ]
    }
   ],
   "source": [
    "def calculate_label_stats(subset_df):\n",
    "    label_counts = subset_df[\"label\"].value_counts()\n",
    "    label_proportions = subset_df[\"label\"].value_counts(normalize=True)\n",
    "\n",
    "    label_stats = pd.DataFrame({\"count\": label_counts, \"proportion\": label_proportions})\n",
    "    \n",
    "    return label_stats\n",
    "\n",
    "\n",
    "dataset_label_stats = calculate_label_stats(dataset_df)\n",
    "train_label_stats = calculate_label_stats(train_df)\n",
    "valid_label_stats = calculate_label_stats(valid_df)\n",
    "test_label_stats = calculate_label_stats(test_df)\n",
    "\n",
    "print(\"Dataset:\")\n",
    "print(dataset_label_stats)\n",
    "print(\"\\nTrain set:\")\n",
    "print(train_label_stats)\n",
    "print(\"\\nValid set:\")\n",
    "print(valid_label_stats)\n",
    "print(\"\\nTest set:\")\n",
    "print(test_label_stats)"
   ]
  }
 ],
 "metadata": {
  "kernelspec": {
   "display_name": "ecg-fl",
   "language": "python",
   "name": "python3"
  },
  "language_info": {
   "codemirror_mode": {
    "name": "ipython",
    "version": 3
   },
   "file_extension": ".py",
   "mimetype": "text/x-python",
   "name": "python",
   "nbconvert_exporter": "python",
   "pygments_lexer": "ipython3",
   "version": "3.11.10"
  }
 },
 "nbformat": 4,
 "nbformat_minor": 2
}
